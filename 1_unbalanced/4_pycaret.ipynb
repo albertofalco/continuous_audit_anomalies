{
 "cells": [
  {
   "cell_type": "markdown",
   "id": "45178782-ce4f-4e19-a9ef-b842b61111b0",
   "metadata": {
    "tags": []
   },
   "source": [
    "# Detección de anomalías en un marco de auditoría continua"
   ]
  },
  {
   "cell_type": "markdown",
   "id": "8aa9ea91-8f16-4e5c-8326-1ff762c6c9e9",
   "metadata": {
    "tags": []
   },
   "source": [
    "## 9. Datos desbalanceados - Modelos no supervisados - PyCaret"
   ]
  },
  {
   "cell_type": "markdown",
   "id": "d6871f95-f395-4f0e-b52b-9702a1797220",
   "metadata": {
    "tags": []
   },
   "source": [
    "### 9.1. Split del dataset"
   ]
  },
  {
   "cell_type": "markdown",
   "id": "0706273a-4fd4-4c7a-9ef2-a107adadc1ca",
   "metadata": {},
   "source": [
    "Split del dataset para reservar un conjunto de datos para validación posterior al entrenamiento y desarrollo de los modelos."
   ]
  },
  {
   "cell_type": "code",
   "execution_count": 1,
   "id": "089d4e65-f4d0-4c07-aaa4-c87f20bd9df4",
   "metadata": {
    "tags": []
   },
   "outputs": [],
   "source": [
    "# Importación de librerías\n",
    "import pandas as pd\n",
    "import numpy as np\n",
    "import os\n",
    "import time\n",
    "import joblib\n",
    "\n",
    "# ! pip install pandas\n",
    "# ! pip install numpy\n",
    "# ! pip install pycaret==2.3.5\n",
    "# ! pip install scipy==1.4.1\n",
    "# ! pip install joblib\n",
    "# ! pip install sklearn\n",
    "# ! pip install hyperopt"
   ]
  },
  {
   "cell_type": "code",
   "execution_count": 2,
   "id": "e15b1be9-f2ed-405f-9757-4efe9227e916",
   "metadata": {
    "tags": []
   },
   "outputs": [],
   "source": [
    "# Filtro de warnings.\n",
    "import warnings\n",
    "warnings.filterwarnings(\"ignore\")"
   ]
  },
  {
   "cell_type": "code",
   "execution_count": 3,
   "id": "b98dc28e-86a9-49b3-ae30-cab9e16aa0f1",
   "metadata": {
    "tags": []
   },
   "outputs": [
    {
     "data": {
      "text/html": [
       "<div>\n",
       "<style scoped>\n",
       "    .dataframe tbody tr th:only-of-type {\n",
       "        vertical-align: middle;\n",
       "    }\n",
       "\n",
       "    .dataframe tbody tr th {\n",
       "        vertical-align: top;\n",
       "    }\n",
       "\n",
       "    .dataframe thead th {\n",
       "        text-align: right;\n",
       "    }\n",
       "</style>\n",
       "<table border=\"1\" class=\"dataframe\">\n",
       "  <thead>\n",
       "    <tr style=\"text-align: right;\">\n",
       "      <th></th>\n",
       "      <th>day</th>\n",
       "      <th>hour</th>\n",
       "      <th>amount</th>\n",
       "      <th>idOrig</th>\n",
       "      <th>oldbalanceOrig</th>\n",
       "      <th>newbalanceOrig</th>\n",
       "      <th>idDest</th>\n",
       "      <th>oldbalanceDest</th>\n",
       "      <th>newbalanceDest</th>\n",
       "      <th>Cash_in</th>\n",
       "      <th>Cash_out</th>\n",
       "      <th>Debit</th>\n",
       "      <th>Payment</th>\n",
       "      <th>Transfer</th>\n",
       "      <th>isFraud</th>\n",
       "      <th>isFlaggedFraud</th>\n",
       "    </tr>\n",
       "  </thead>\n",
       "  <tbody>\n",
       "    <tr>\n",
       "      <th>0</th>\n",
       "      <td>1</td>\n",
       "      <td>1</td>\n",
       "      <td>9839.64</td>\n",
       "      <td>0</td>\n",
       "      <td>170136.0</td>\n",
       "      <td>160296.36</td>\n",
       "      <td>6353307</td>\n",
       "      <td>0.0</td>\n",
       "      <td>0.0</td>\n",
       "      <td>0</td>\n",
       "      <td>0</td>\n",
       "      <td>0</td>\n",
       "      <td>1</td>\n",
       "      <td>0</td>\n",
       "      <td>0</td>\n",
       "      <td>0</td>\n",
       "    </tr>\n",
       "    <tr>\n",
       "      <th>1</th>\n",
       "      <td>1</td>\n",
       "      <td>1</td>\n",
       "      <td>1864.28</td>\n",
       "      <td>1</td>\n",
       "      <td>21249.0</td>\n",
       "      <td>19384.72</td>\n",
       "      <td>6353308</td>\n",
       "      <td>0.0</td>\n",
       "      <td>0.0</td>\n",
       "      <td>0</td>\n",
       "      <td>0</td>\n",
       "      <td>0</td>\n",
       "      <td>1</td>\n",
       "      <td>0</td>\n",
       "      <td>0</td>\n",
       "      <td>0</td>\n",
       "    </tr>\n",
       "    <tr>\n",
       "      <th>2</th>\n",
       "      <td>1</td>\n",
       "      <td>1</td>\n",
       "      <td>181.00</td>\n",
       "      <td>2</td>\n",
       "      <td>181.0</td>\n",
       "      <td>0.00</td>\n",
       "      <td>6353309</td>\n",
       "      <td>0.0</td>\n",
       "      <td>0.0</td>\n",
       "      <td>0</td>\n",
       "      <td>0</td>\n",
       "      <td>0</td>\n",
       "      <td>0</td>\n",
       "      <td>1</td>\n",
       "      <td>1</td>\n",
       "      <td>0</td>\n",
       "    </tr>\n",
       "    <tr>\n",
       "      <th>3</th>\n",
       "      <td>1</td>\n",
       "      <td>1</td>\n",
       "      <td>181.00</td>\n",
       "      <td>3</td>\n",
       "      <td>181.0</td>\n",
       "      <td>0.00</td>\n",
       "      <td>6353310</td>\n",
       "      <td>21182.0</td>\n",
       "      <td>0.0</td>\n",
       "      <td>0</td>\n",
       "      <td>1</td>\n",
       "      <td>0</td>\n",
       "      <td>0</td>\n",
       "      <td>0</td>\n",
       "      <td>1</td>\n",
       "      <td>0</td>\n",
       "    </tr>\n",
       "    <tr>\n",
       "      <th>4</th>\n",
       "      <td>1</td>\n",
       "      <td>1</td>\n",
       "      <td>11668.14</td>\n",
       "      <td>4</td>\n",
       "      <td>41554.0</td>\n",
       "      <td>29885.86</td>\n",
       "      <td>6353311</td>\n",
       "      <td>0.0</td>\n",
       "      <td>0.0</td>\n",
       "      <td>0</td>\n",
       "      <td>0</td>\n",
       "      <td>0</td>\n",
       "      <td>1</td>\n",
       "      <td>0</td>\n",
       "      <td>0</td>\n",
       "      <td>0</td>\n",
       "    </tr>\n",
       "  </tbody>\n",
       "</table>\n",
       "</div>"
      ],
      "text/plain": [
       "   day  hour    amount  idOrig  oldbalanceOrig  newbalanceOrig   idDest  \\\n",
       "0    1     1   9839.64       0        170136.0       160296.36  6353307   \n",
       "1    1     1   1864.28       1         21249.0        19384.72  6353308   \n",
       "2    1     1    181.00       2           181.0            0.00  6353309   \n",
       "3    1     1    181.00       3           181.0            0.00  6353310   \n",
       "4    1     1  11668.14       4         41554.0        29885.86  6353311   \n",
       "\n",
       "   oldbalanceDest  newbalanceDest  Cash_in  Cash_out  Debit  Payment  \\\n",
       "0             0.0             0.0        0         0      0        1   \n",
       "1             0.0             0.0        0         0      0        1   \n",
       "2             0.0             0.0        0         0      0        0   \n",
       "3         21182.0             0.0        0         1      0        0   \n",
       "4             0.0             0.0        0         0      0        1   \n",
       "\n",
       "   Transfer  isFraud  isFlaggedFraud  \n",
       "0         0        0               0  \n",
       "1         0        0               0  \n",
       "2         1        1               0  \n",
       "3         0        1               0  \n",
       "4         0        0               0  "
      ]
     },
     "execution_count": 3,
     "metadata": {},
     "output_type": "execute_result"
    }
   ],
   "source": [
    "# Carga del dataset.\n",
    "os.chdir('..')\n",
    "df = pd.read_csv('df_preprocessed.csv')\n",
    "df.head()"
   ]
  },
  {
   "cell_type": "code",
   "execution_count": 4,
   "id": "d38b8494-4428-4d92-b105-efbc680fe313",
   "metadata": {
    "tags": []
   },
   "outputs": [],
   "source": [
    "# Split del dataset para reservar un conjunto de validación.\n",
    "from sklearn.model_selection import train_test_split\n",
    "df_training, df_validation = train_test_split(df, test_size = 0.2, random_state = 42, shuffle = True, stratify = np.array(df['isFraud']))"
   ]
  },
  {
   "cell_type": "code",
   "execution_count": 5,
   "id": "b878eb09-cff3-4736-98f5-5b81ca9c6806",
   "metadata": {
    "tags": []
   },
   "outputs": [
    {
     "name": "stdout",
     "output_type": "stream",
     "text": [
      "Proporcion de clases para dataset de training: 0.0013\n",
      "Proporcion de clases para dataset de validación: 0.0013\n"
     ]
    }
   ],
   "source": [
    "# Control de frecuencias de clases.\n",
    "print('Proporcion de clases para dataset de training: %.4f' % (df_training['isFraud'].value_counts()[1] / df_training['isFraud'].value_counts()[0]))\n",
    "print('Proporcion de clases para dataset de validación: %.4f' % (df_validation['isFraud'].value_counts()[1] / df_validation['isFraud'].value_counts()[0]))"
   ]
  },
  {
   "cell_type": "markdown",
   "id": "ee5d0018-f759-4879-989b-59253a149d66",
   "metadata": {
    "tags": []
   },
   "source": [
    "### 9.2. Detección de anomalías utilizando la librería PyCaret"
   ]
  },
  {
   "cell_type": "markdown",
   "id": "1bc8c680-f0e2-4bbb-bf59-a7a508bed44c",
   "metadata": {},
   "source": [
    "https://towardsdatascience.com/unsupervised-anomaly-detection-in-python-f2e61be17c2b\n",
    "\n",
    "https://www.oreilly.com/library/view/hands-on-unsupervised-learning/9781492035633/ch04.html\n",
    "\n",
    "https://pycaret.org/"
   ]
  },
  {
   "cell_type": "code",
   "execution_count": 7,
   "id": "bc8dbc88-4967-44a3-a673-62e024c1ce95",
   "metadata": {
    "tags": []
   },
   "outputs": [],
   "source": [
    "# Importación de librerías.\n",
    "from sklearn.model_selection import StratifiedKFold\n",
    "from sklearn.metrics import f1_score, recall_score, precision_score, roc_auc_score, accuracy_score\n",
    "from hyperopt import fmin, hp, tpe, space_eval, Trials\n",
    "from pycaret.anomaly import *\n",
    "\n",
    "# Definición de la función objetivo.\n",
    "def objective_func(search_space):\n",
    "\n",
    "    global counter, scorings, df_subset\n",
    "    \n",
    "    start_time = time.time()\n",
    "    counter += 1    \n",
    "      \n",
    "    kfold = StratifiedKFold(n_splits = 4, shuffle = True, random_state = 42)\n",
    "    \n",
    "    scores = {'accuracy' : [],\n",
    "              'recall' : [],\n",
    "              'precision' : [],\n",
    "              'f1_score' : [],\n",
    "              'roc_auc' : []\n",
    "             }\n",
    "    \n",
    "    scorings_trial = {}\n",
    "\n",
    "    for train, test in kfold.split(df_subset, y = df_subset.iloc[:, -2]):\n",
    "\n",
    "        anom = setup(data = df_subset.iloc[train, :],\n",
    "                     ignore_features = ['isFraud', 'isFlaggedFraud'], \n",
    "                     categorical_features = ['Cash_in', 'Cash_out', 'Debit', 'Payment', 'Transfer'],\n",
    "                     normalize = True,\n",
    "                     normalize_method = search_space['scaler'],\n",
    "                     silent = True,\n",
    "                     use_gpu = True,\n",
    "                     verbose = False,\n",
    "                     session_id = 42, \n",
    "                    )\n",
    "        \n",
    "        iforest = create_model(model = search_space['model'], fraction = search_space['fraction'], verbose = False)\n",
    "        \n",
    "        predictions = predict_model(iforest, data = df_subset.iloc[test, :])\n",
    "        \n",
    "        y_true = df_subset.iloc[test, -2]\n",
    "        y_pred = predictions.loc[:, 'Anomaly']\n",
    "        \n",
    "        scores['accuracy'].append(accuracy_score(y_true = y_true, y_pred = y_pred))\n",
    "        scores['recall'].append(recall_score(y_true = y_true, y_pred = y_pred))\n",
    "        scores['precision'].append(precision_score(y_true = y_true, y_pred = y_pred))\n",
    "        scores['f1_score'].append(f1_score(y_true = y_true, y_pred = y_pred))\n",
    "        scores['roc_auc'].append(roc_auc_score(y_true = y_true, y_score = y_pred))\n",
    "    \n",
    "    scorings_trial['trial'] = counter\n",
    "    scorings_trial['search_space'] = str(search_space)\n",
    "\n",
    "    for score in scores:\n",
    "        scorings_trial[score + '_mean'] = np.mean(scores[score])\n",
    "        scorings_trial[score + '_std'] = np.std(scores[score])\n",
    "\n",
    "    loss = 1 - scorings_trial['f1_score_mean'] + scorings_trial['f1_score_std']\n",
    "\n",
    "    scorings.append(scorings_trial)\n",
    "    \n",
    "    elapsed_time = time.time() - start_time\n",
    "    \n",
    "    print('Trial: %i | Loss: %.4f | Elapsed_time: %.4f seconds | Model: %s' % (counter, loss, elapsed_time, search_space['model']))\n",
    "\n",
    "    return loss\n",
    "\n",
    "# Función para la impresión de resultados.\n",
    "def hyperopt_printer(trials):\n",
    "    print('\\nBest Trial:')\n",
    "    print('Trial ID :', trials.best_trial['tid'])\n",
    "    print('Loss :', trials.best_trial['result']['loss'])\n",
    "    print('Params :', space_eval(search_space, best_params), end = '\\n\\n')\n",
    "\n",
    "# Función para exportación de resultados a formato JSON.\n",
    "def json_export(scorings):\n",
    "    try:\n",
    "        os.mkdir('hyperopt_optimizations')\n",
    "    except:\n",
    "        None\n",
    "\n",
    "    now = datetime.now()\n",
    "    dt_string = now.strftime(\"%Y%m%d_%H%M%S\")\n",
    "    path = os.getcwd() + '\\hyperopt_optimizations\\\\'\n",
    "    filename = 'Opt_' + dt_string + '.json'\n",
    "\n",
    "    f = open(path + filename, 'w')\n",
    "    json.dump(scorings, f)\n",
    "    f.close()\n",
    "    print('Json file: ' + dt_string + '.json', end = '\\n\\n')\n",
    "\n",
    "# Función para la obtención de resultados en formato tabla para visualizar scorings y desvios estándar.\n",
    "def scorings_to_df(scorings):\n",
    "    scorings_df = pd.DataFrame(columns = list(scorings[0].keys()))\n",
    "    for scoring in scorings:\n",
    "        scorings_df = scorings_df.append(scoring, ignore_index = True)\n",
    "\n",
    "    print('Scoring details:', end = '\\n\\n')\n",
    "    with pd.option_context('display.max_rows', None, 'display.max_columns', None, 'display.width', 1000):  # more options can be specified also\n",
    "        print(scorings_df)\n",
    "\n",
    "    return scorings_df"
   ]
  },
  {
   "cell_type": "code",
   "execution_count": 9,
   "id": "94eb252a-2d9d-4987-85c2-996ee09deaea",
   "metadata": {
    "tags": []
   },
   "outputs": [
    {
     "name": "stdout",
     "output_type": "stream",
     "text": [
      "Trial: 0 | Loss: 0.9936 | Elapsed_time: 6.9283 seconds | Model: pca\n",
      "Trial: 1 | Loss: 0.9896 | Elapsed_time: 6.4910 seconds | Model: histogram        \n",
      "Trial: 2 | Loss: 0.9863 | Elapsed_time: 23.6950 seconds | Model: iforest         \n",
      "Trial: 3 | Loss: 0.9871 | Elapsed_time: 7.0536 seconds | Model: histogram        \n",
      "Trial: 4 | Loss: 0.9917 | Elapsed_time: 31.9851 seconds | Model: knn             \n",
      "Trial: 5 | Loss: 0.9903 | Elapsed_time: 6.4406 seconds | Model: pca              \n",
      "Trial: 6 | Loss: 0.9752 | Elapsed_time: 25.6134 seconds | Model: lof             \n",
      "Trial: 7 | Loss: 0.9951 | Elapsed_time: 9.3292 seconds | Model: cluster          \n",
      "Trial: 8 | Loss: 0.9896 | Elapsed_time: 6.5088 seconds | Model: pca              \n",
      "Trial: 9 | Loss: 0.9921 | Elapsed_time: 6.4320 seconds | Model: histogram        \n",
      "Trial: 10 | Loss: 0.9929 | Elapsed_time: 10.8509 seconds | Model: cluster         \n",
      "Trial: 11 | Loss: 0.9855 | Elapsed_time: 6.5266 seconds | Model: pca              \n",
      "Trial: 12 | Loss: 0.9875 | Elapsed_time: 19.8804 seconds | Model: iforest         \n",
      "Trial: 13 | Loss: 0.9941 | Elapsed_time: 9.4174 seconds | Model: cluster          \n",
      "Trial: 14 | Loss: 0.9711 | Elapsed_time: 19.9214 seconds | Model: iforest         \n",
      "Trial: 15 | Loss: 0.9930 | Elapsed_time: 17.9639 seconds | Model: mcd             \n",
      "Trial: 16 | Loss: 0.9947 | Elapsed_time: 17.6782 seconds | Model: mcd             \n",
      "Trial: 17 | Loss: 0.9952 | Elapsed_time: 6.4168 seconds | Model: histogram        \n",
      "Trial: 18 | Loss: 0.9815 | Elapsed_time: 19.9346 seconds | Model: iforest         \n",
      "Trial: 19 | Loss: 0.9919 | Elapsed_time: 24.2209 seconds | Model: knn             \n",
      "Trial: 20 | Loss: 0.9752 | Elapsed_time: 24.0575 seconds | Model: lof             \n",
      "Trial: 21 | Loss: 0.9960 | Elapsed_time: 24.2616 seconds | Model: lof             \n",
      "Trial: 22 | Loss: 0.9946 | Elapsed_time: 24.4469 seconds | Model: lof             \n",
      "Trial: 23 | Loss: 0.9711 | Elapsed_time: 19.7456 seconds | Model: iforest         \n",
      "Trial: 24 | Loss: 0.9711 | Elapsed_time: 19.6438 seconds | Model: iforest         \n",
      "Trial: 25 | Loss: 0.9711 | Elapsed_time: 19.7252 seconds | Model: iforest         \n",
      "Trial: 26 | Loss: 0.9711 | Elapsed_time: 20.2353 seconds | Model: iforest         \n",
      "Trial: 27 | Loss: 0.9935 | Elapsed_time: 19.9593 seconds | Model: iforest         \n",
      "Trial: 28 | Loss: 0.9927 | Elapsed_time: 20.2441 seconds | Model: iforest         \n",
      "Trial: 29 | Loss: 0.9688 | Elapsed_time: 20.1864 seconds | Model: iforest         \n",
      "Trial: 30 | Loss: 0.9849 | Elapsed_time: 35.4848 seconds | Model: knn             \n",
      "Trial: 31 | Loss: 0.9949 | Elapsed_time: 18.9030 seconds | Model: mcd             \n",
      "Trial: 32 | Loss: 0.9728 | Elapsed_time: 20.0348 seconds | Model: iforest         \n",
      "Trial: 33 | Loss: 0.9688 | Elapsed_time: 19.8848 seconds | Model: iforest         \n",
      "Trial: 34 | Loss: 0.9720 | Elapsed_time: 43.0575 seconds | Model: knn             \n",
      "Trial: 35 | Loss: 0.9586 | Elapsed_time: 6.6083 seconds | Model: histogram        \n",
      "Trial: 36 | Loss: 0.9915 | Elapsed_time: 6.5674 seconds | Model: histogram        \n",
      "Trial: 37 | Loss: 0.9586 | Elapsed_time: 6.5558 seconds | Model: histogram        \n",
      "Trial: 38 | Loss: 0.9958 | Elapsed_time: 6.4847 seconds | Model: histogram        \n",
      "Trial: 39 | Loss: 0.9859 | Elapsed_time: 6.5925 seconds | Model: histogram        \n",
      "Trial: 40 | Loss: 0.9958 | Elapsed_time: 7.2377 seconds | Model: histogram        \n",
      "Trial: 41 | Loss: 0.9954 | Elapsed_time: 6.8407 seconds | Model: histogram        \n",
      "Trial: 42 | Loss: 0.9861 | Elapsed_time: 7.1261 seconds | Model: histogram        \n",
      "Trial: 43 | Loss: 0.9943 | Elapsed_time: 6.9298 seconds | Model: pca              \n",
      "Trial: 44 | Loss: 0.9934 | Elapsed_time: 10.6102 seconds | Model: cluster         \n",
      "Trial: 45 | Loss: 0.9745 | Elapsed_time: 6.9135 seconds | Model: histogram        \n",
      "Trial: 46 | Loss: 0.9923 | Elapsed_time: 6.7769 seconds | Model: histogram        \n",
      "Trial: 47 | Loss: 0.9882 | Elapsed_time: 6.7822 seconds | Model: pca              \n",
      "Trial: 48 | Loss: 0.9945 | Elapsed_time: 6.6308 seconds | Model: histogram        \n",
      "Trial: 49 | Loss: 0.9947 | Elapsed_time: 10.9990 seconds | Model: cluster         \n",
      "Trial: 50 | Loss: 0.9928 | Elapsed_time: 17.8365 seconds | Model: mcd             \n",
      "Trial: 51 | Loss: 0.9946 | Elapsed_time: 6.4757 seconds | Model: histogram        \n",
      "Trial: 52 | Loss: 0.9894 | Elapsed_time: 12.4526 seconds | Model: lof             \n",
      "Trial: 53 | Loss: 0.9928 | Elapsed_time: 24.2106 seconds | Model: knn             \n",
      "Trial: 54 | Loss: 0.9947 | Elapsed_time: 6.6864 seconds | Model: pca              \n",
      "Trial: 55 | Loss: 0.9937 | Elapsed_time: 6.4927 seconds | Model: histogram        \n",
      "Trial: 56 | Loss: 0.9943 | Elapsed_time: 9.4952 seconds | Model: cluster          \n",
      "Trial: 57 | Loss: 0.9916 | Elapsed_time: 17.9257 seconds | Model: mcd             \n",
      "Trial: 58 | Loss: 0.9773 | Elapsed_time: 13.1356 seconds | Model: lof             \n",
      "Trial: 59 | Loss: 0.9936 | Elapsed_time: 6.8060 seconds | Model: histogram        \n",
      "Trial: 60 | Loss: 0.9920 | Elapsed_time: 7.4631 seconds | Model: histogram        \n",
      "Trial: 61 | Loss: 0.9769 | Elapsed_time: 25.2126 seconds | Model: knn             \n",
      "Trial: 62 | Loss: 0.9886 | Elapsed_time: 7.0476 seconds | Model: pca              \n",
      "Trial: 63 | Loss: 0.9950 | Elapsed_time: 20.2152 seconds | Model: mcd             \n",
      "Trial: 64 | Loss: 0.9945 | Elapsed_time: 9.8437 seconds | Model: cluster          \n",
      "Trial: 65 | Loss: 0.9688 | Elapsed_time: 21.9245 seconds | Model: iforest         \n",
      "Trial: 66 | Loss: 0.9769 | Elapsed_time: 22.8253 seconds | Model: iforest         \n",
      "Trial: 67 | Loss: 0.9888 | Elapsed_time: 26.4512 seconds | Model: lof             \n",
      "Trial: 68 | Loss: 0.9908 | Elapsed_time: 6.8998 seconds | Model: histogram        \n",
      "Trial: 69 | Loss: 0.9688 | Elapsed_time: 21.0410 seconds | Model: iforest         \n",
      "Trial: 70 | Loss: 0.9957 | Elapsed_time: 6.8737 seconds | Model: histogram        \n",
      "Trial: 71 | Loss: 0.9939 | Elapsed_time: 20.7233 seconds | Model: iforest         \n",
      "Trial: 72 | Loss: 0.9957 | Elapsed_time: 6.9669 seconds | Model: histogram        \n",
      "Trial: 73 | Loss: 0.9946 | Elapsed_time: 27.9381 seconds | Model: knn             \n",
      "Trial: 74 | Loss: 0.9928 | Elapsed_time: 21.0132 seconds | Model: mcd             \n",
      "Trial: 75 | Loss: 0.9815 | Elapsed_time: 21.1855 seconds | Model: iforest         \n",
      "Trial: 76 | Loss: 0.9910 | Elapsed_time: 7.2573 seconds | Model: pca              \n",
      "Trial: 77 | Loss: 0.9952 | Elapsed_time: 7.4640 seconds | Model: histogram        \n",
      "Trial: 78 | Loss: 0.9932 | Elapsed_time: 10.1928 seconds | Model: cluster         \n",
      "Trial: 79 | Loss: 0.9749 | Elapsed_time: 25.8991 seconds | Model: lof             \n",
      "Trial: 80 | Loss: 0.9875 | Elapsed_time: 21.8150 seconds | Model: iforest         \n",
      "Trial: 81 | Loss: 0.9747 | Elapsed_time: 7.0422 seconds | Model: histogram        \n",
      "Trial: 82 | Loss: 0.9927 | Elapsed_time: 22.8470 seconds | Model: knn             \n",
      "Trial: 83 | Loss: 0.9885 | Elapsed_time: 6.7968 seconds | Model: histogram        \n",
      "Trial: 84 | Loss: 0.9929 | Elapsed_time: 21.1414 seconds | Model: iforest         \n",
      "Trial: 85 | Loss: 0.9928 | Elapsed_time: 7.0332 seconds | Model: histogram        \n",
      "Trial: 86 | Loss: 0.9952 | Elapsed_time: 7.2037 seconds | Model: pca              \n",
      "Trial: 87 | Loss: 0.9834 | Elapsed_time: 19.5346 seconds | Model: mcd             \n",
      "Trial: 88 | Loss: 0.9915 | Elapsed_time: 11.7770 seconds | Model: cluster         \n",
      "Trial: 89 | Loss: 0.9950 | Elapsed_time: 13.7294 seconds | Model: lof             \n",
      "Trial: 90 | Loss: 0.9944 | Elapsed_time: 7.2767 seconds | Model: histogram        \n",
      "Trial: 91 | Loss: 0.9827 | Elapsed_time: 20.8332 seconds | Model: iforest         \n",
      "Trial: 92 | Loss: 0.9909 | Elapsed_time: 22.9170 seconds | Model: knn             \n",
      "Trial: 93 | Loss: 0.9919 | Elapsed_time: 7.3614 seconds | Model: histogram        \n",
      "Trial: 94 | Loss: 0.9954 | Elapsed_time: 7.0758 seconds | Model: histogram        \n",
      "Trial: 95 | Loss: 0.9688 | Elapsed_time: 21.6233 seconds | Model: iforest         \n",
      "Trial: 96 | Loss: 0.9871 | Elapsed_time: 7.2927 seconds | Model: pca              \n",
      "Trial: 97 | Loss: 0.9959 | Elapsed_time: 9.9322 seconds | Model: cluster          \n",
      "Trial: 98 | Loss: 0.9936 | Elapsed_time: 20.3461 seconds | Model: mcd             \n",
      "Trial: 99 | Loss: 0.9872 | Elapsed_time: 13.8234 seconds | Model: lof             \n",
      "100%|██████████| 100/100 [24:27<00:00, 14.67s/trial, best loss: 0.9586407181073524]\n"
     ]
    }
   ],
   "source": [
    "# Importación de librerías.\n",
    "from sklearn.model_selection import StratifiedShuffleSplit\n",
    "\n",
    "# Espacio de búsqueda.\n",
    "sss = StratifiedShuffleSplit(n_splits = 1, random_state = 42, train_size = 0.01)\n",
    "for a, b in sss.split(df_training, df_training.iloc[:, -2]):\n",
    "    df_subset = df_training.iloc[a, :]\n",
    "scaler = ['zscore', 'minmax', 'maxabs', 'robust']\n",
    "models = ['cluster', 'iforest', 'histogram', 'knn', 'lof', 'pca', 'mcd'] # abod, svm, cof, sos\n",
    "search_space = {'scaler' : hp.choice('scaler', scaler),\n",
    "                'model' : hp.choice('model', models),\n",
    "                'fraction' : hp.randint('fraction', 1 , 50) / 100\n",
    "               }\n",
    "\n",
    "# Ejecución del optimizador.\n",
    "counter = -1\n",
    "scorings = []\n",
    "rstate = np.random.default_rng(42)\n",
    "trials = Trials() # Para el logging de resultados.\n",
    "best_params = fmin(fn = objective_func, space = search_space, algo = tpe.suggest, max_evals = 100, trials = trials, rstate = rstate)"
   ]
  },
  {
   "cell_type": "code",
   "execution_count": 10,
   "id": "d1107fb9-a9b5-41ad-b4c2-edbbfe61a5ae",
   "metadata": {
    "tags": []
   },
   "outputs": [
    {
     "name": "stdout",
     "output_type": "stream",
     "text": [
      "\n",
      "Best Trial:\n",
      "Trial ID : 35\n",
      "Loss : 0.9586407181073524\n",
      "Params : {'fraction': 0.02, 'model': 'histogram', 'scaler': 'robust'}\n",
      "\n",
      "Json file: 20220515_194832.json\n",
      "\n",
      "Scoring details:\n",
      "\n",
      "   trial                                       search_space accuracy_mean accuracy_std recall_mean recall_std precision_mean precision_std f1_score_mean f1_score_std roc_auc_mean roc_auc_std\n",
      "0      0  {'fraction': 0.32, 'model': 'pca', 'scaler': '...      0.680864     0.004872    0.877757   0.074414       0.003557      0.000335      0.007085     0.000667     0.779182    0.036328\n",
      "1      1  {'fraction': 0.17, 'model': 'histogram', 'scal...      0.831139     0.004583    0.786765   0.090951       0.006024      0.000783      0.011956     0.001553      0.80898    0.045656\n",
      "2      2  {'fraction': 0.15, 'model': 'iforest', 'scaler...      0.850963     0.004399    0.832721   0.029007       0.007204       0.00029      0.014285     0.000574     0.841853     0.01346\n",
      "3      3  {'fraction': 0.07, 'model': 'histogram', 'scal...      0.929646     0.002445    0.394301   0.032612       0.007311      0.000761      0.014356     0.001488     0.662322    0.017376\n",
      "4      4  {'fraction': 0.26, 'model': 'knn', 'scaler': '...      0.741336     0.004651    0.878676   0.041757       0.004387      0.000209       0.00873     0.000416     0.809917    0.019279\n",
      "5      5  {'fraction': 0.19, 'model': 'pca', 'scaler': '...      0.811002     0.002481     0.80239   0.088632       0.005481      0.000619      0.010887     0.001229     0.806701    0.043688\n",
      "6      6  {'fraction': 0.03, 'model': 'lof', 'scaler': '...      0.969882      0.00175    0.377757   0.058094       0.016645      0.003772      0.031877     0.007114     0.674203    0.029624\n",
      "7      7  {'fraction': 0.39, 'model': 'cluster', 'scaler...      0.610904     0.006499    0.803309   0.063065        0.00267      0.000207      0.005323     0.000413     0.706981    0.031954\n",
      "8      8  {'fraction': 0.17, 'model': 'pca', 'scaler': '...       0.83057     0.004501    0.786765    0.10112       0.005989      0.000726      0.011887     0.001441     0.808695    0.049064\n",
      "9      9  {'fraction': 0.24, 'model': 'histogram', 'scal...      0.765658     0.004142    0.816176   0.078163       0.004509      0.000532      0.008968     0.001057     0.790883    0.038614\n",
      "10    10  {'fraction': 0.26, 'model': 'cluster', 'scaler...      0.739961     0.000938    0.742647   0.022059       0.003693      0.000131       0.00735      0.00026     0.741302    0.011187\n",
      "11    11  {'fraction': 0.09, 'model': 'pca', 'scaler': '...      0.910059     0.004539    0.590993   0.078309        0.00851      0.001177      0.016779     0.002319     0.750733    0.039463\n",
      "12    12  {'fraction': 0.17, 'model': 'iforest', 'scaler...      0.830314     0.003915    0.863051    0.02934       0.006558       0.00024      0.013017     0.000476     0.846661    0.013123\n",
      "13    13  {'fraction': 0.32, 'model': 'cluster', 'scaler...      0.680688     0.008513    0.787684   0.066501       0.003188      0.000236      0.006351     0.000471     0.734116    0.031265\n",
      "14    14  {'fraction': 0.01, 'model': 'iforest', 'scaler...      0.989411     0.000597     0.19761    0.06958       0.026422      0.010109      0.046606     0.017664     0.594025     0.03501\n",
      "15    15  {'fraction': 0.21, 'model': 'mcd', 'scaler': '...      0.790766      0.00153    0.650735   0.067491       0.004033      0.000511      0.008016     0.001014     0.720841    0.034221\n",
      "16    16  {'fraction': 0.45, 'model': 'mcd', 'scaler': '...      0.550373     0.003436    0.984375   0.027063       0.002833      0.000154      0.005649     0.000307     0.767092    0.013448\n",
      "17    17  {'fraction': 0.43, 'model': 'histogram', 'scal...      0.571945     0.002921    0.877757   0.074414       0.002656      0.000272      0.005295     0.000542     0.724652    0.037395\n",
      "18    18  {'fraction': 0.1, 'model': 'iforest', 'scaler'...      0.901572     0.003944    0.741728   0.031879       0.009709      0.000327      0.019168     0.000648     0.821753    0.014452\n",
      "19    19  {'fraction': 0.25, 'model': 'knn', 'scaler': '...      0.749941     0.007427    0.803309   0.022738       0.004152      0.000091      0.008261     0.000181      0.77659    0.009442\n",
      "20    20  {'fraction': 0.03, 'model': 'lof', 'scaler': '...      0.969882      0.00175    0.377757   0.058094       0.016645      0.003772      0.031877     0.007114     0.674203    0.029624\n",
      "21    21  {'fraction': 0.41, 'model': 'lof', 'scaler': '...      0.564695     0.007006    0.847426    0.16037       0.002528       0.00052       0.00504     0.001037     0.705877    0.082152\n",
      "22    22  {'fraction': 0.27, 'model': 'lof', 'scaler': '...      0.719234     0.006789    0.727022   0.127154       0.003362      0.000645      0.006694     0.001284     0.723123    0.065419\n",
      "23    23  {'fraction': 0.01, 'model': 'iforest', 'scaler...      0.989411     0.000597     0.19761    0.06958       0.026422      0.010109      0.046606     0.017664     0.594025     0.03501\n",
      "24    24  {'fraction': 0.01, 'model': 'iforest', 'scaler...      0.989411     0.000597     0.19761    0.06958       0.026422      0.010109      0.046606     0.017664     0.594025     0.03501\n",
      "25    25  {'fraction': 0.01, 'model': 'iforest', 'scaler...      0.989411     0.000597     0.19761    0.06958       0.026422      0.010109      0.046606     0.017664     0.594025     0.03501\n",
      "26    26  {'fraction': 0.01, 'model': 'iforest', 'scaler...      0.989411     0.000597     0.19761    0.06958       0.026422      0.010109      0.046606     0.017664     0.594025     0.03501\n",
      "27    27  {'fraction': 0.36, 'model': 'iforest', 'scaler...      0.639548      0.00444    0.954044   0.026575       0.003421      0.000145      0.006818     0.000288     0.796592    0.011782\n",
      "28    28  {'fraction': 0.31, 'model': 'iforest', 'scaler...      0.690648     0.003479    0.938419   0.044223       0.003921      0.000242      0.007809     0.000482     0.814372    0.020366\n",
      "29    29  {'fraction': 0.02, 'model': 'iforest', 'scaler...       0.97998     0.001597    0.397059   0.139536       0.026481      0.009899      0.049648     0.018493       0.6889    0.070465\n",
      "30    30  {'fraction': 0.08, 'model': 'knn', 'scaler': '...      0.919784     0.000849    0.544118   0.062446       0.008796      0.001142      0.017312     0.002243     0.732194    0.030948\n",
      "31    31  {'fraction': 0.47, 'model': 'mcd', 'scaler': '...      0.531454     0.003431    0.984375   0.027063       0.002719      0.000148      0.005422     0.000295      0.75762    0.013521\n",
      "32    32  {'fraction': 0.04, 'model': 'iforest', 'scaler...      0.960157     0.001825    0.517463     0.0821       0.016859      0.002817      0.032653     0.005448     0.739099    0.041852\n",
      "33    33  {'fraction': 0.02, 'model': 'iforest', 'scaler...       0.97998     0.001597    0.397059   0.139536       0.026481      0.009899      0.049648     0.018493       0.6889    0.070465\n",
      "34    34  {'fraction': 0.02, 'model': 'knn', 'scaler': '...      0.979155     0.000453     0.30239   0.072622       0.019217      0.004308      0.036134     0.008125     0.641211    0.036084\n",
      "35    35  {'fraction': 0.02, 'model': 'histogram', 'scal...      0.979921     0.001253    0.363971   0.043032       0.023857      0.001767      0.044768     0.003409     0.672346     0.02105\n",
      "36    36  {'fraction': 0.22, 'model': 'histogram', 'scal...      0.781532     0.004485    0.816176   0.078163       0.004832      0.000539      0.009608     0.001071     0.798831    0.037987\n",
      "37    37  {'fraction': 0.02, 'model': 'histogram', 'scal...      0.979921     0.001253    0.363971   0.043032       0.023857      0.001767      0.044768     0.003409     0.672346     0.02105\n",
      "38    38  {'fraction': 0.46, 'model': 'histogram', 'scal...      0.543969      0.00199    0.846507   0.092949       0.002407      0.000315        0.0048     0.000627      0.69504    0.046001\n",
      "39    39  {'fraction': 0.11, 'model': 'histogram', 'scal...      0.891572     0.002655    0.710478   0.101732       0.008465      0.001313      0.016731     0.002592     0.801141     0.05064\n",
      "40    40  {'fraction': 0.49, 'model': 'histogram', 'scal...      0.511984     0.001774    0.877757   0.074414        0.00233      0.000238      0.004647     0.000474     0.694633    0.037034\n",
      "41    41  {'fraction': 0.44, 'model': 'histogram', 'scal...      0.587269     0.002196    0.846507   0.092949       0.002659      0.000348      0.005301     0.000694     0.716719     0.04615\n",
      "42    42  {'fraction': 0.12, 'model': 'histogram', 'scal...      0.883576     0.002791    0.726103   0.091709       0.008045      0.001021      0.015914      0.00202     0.804941    0.045199\n",
      "43    43  {'fraction': 0.38, 'model': 'pca', 'scaler': '...      0.621591     0.005451    0.908088    0.05315       0.003104      0.000224      0.006188     0.000446     0.764653    0.025453\n",
      "44    44  {'fraction': 0.2, 'model': 'cluster', 'scaler'...      0.799312     0.003961    0.607537   0.103248       0.003902      0.000557      0.007753     0.001108      0.70355    0.050153\n",
      "45    45  {'fraction': 0.05, 'model': 'histogram', 'scal...      0.952358     0.000378    0.485294   0.014706       0.013208      0.000106      0.025715     0.000199     0.719129    0.007327\n",
      "46    46  {'fraction': 0.23, 'model': 'histogram', 'scal...      0.771415     0.005149    0.816176   0.115121       0.004622       0.00073      0.009192     0.001452     0.793765    0.057279\n",
      "47    47  {'fraction': 0.14, 'model': 'pca', 'scaler': '...      0.860334     0.004585    0.727022   0.091409       0.006714      0.000779      0.013305     0.001545     0.793764    0.044925\n",
      "48    48  {'fraction': 0.35, 'model': 'histogram', 'scal...       0.65664     0.006242    0.846507   0.092949       0.003195      0.000412      0.006365     0.000821     0.751449    0.046157\n",
      "49    49  {'fraction': 0.4, 'model': 'cluster', 'scaler'...      0.599804     0.003064    0.908088   0.069124       0.002936      0.000257      0.005853     0.000511     0.753745    0.033026\n",
      "50    50  {'fraction': 0.16, 'model': 'mcd', 'scaler': '...      0.840216     0.001584    0.545037   0.092072       0.004422      0.000768      0.008772     0.001523     0.692818    0.045768\n",
      "51    51  {'fraction': 0.37, 'model': 'histogram', 'scal...      0.637191     0.002868    0.862132   0.079725       0.003078      0.000348      0.006134     0.000692     0.749514    0.039737\n",
      "52    52  {'fraction': 0.18, 'model': 'lof', 'scaler': '...      0.812534     0.003774    0.847426   0.056329       0.005842      0.000504      0.011603     0.000999     0.829957    0.028513\n",
      "53    53  {'fraction': 0.28, 'model': 'knn', 'scaler': '...      0.720786     0.008567    0.818015   0.005515       0.003792      0.000173      0.007548     0.000343     0.769337    0.004868\n",
      "54    54  {'fraction': 0.42, 'model': 'pca', 'scaler': '...      0.581061     0.004487    0.923713   0.050233       0.002853      0.000202      0.005689     0.000402     0.752164    0.025817\n",
      "55    55  {'fraction': 0.3, 'model': 'histogram', 'scale...      0.708782     0.003449    0.830882    0.10215       0.003698      0.000538      0.007363      0.00107     0.769751    0.050712\n",
      "56    56  {'fraction': 0.33, 'model': 'cluster', 'scaler...      0.671159     0.007742    0.787684   0.066501       0.003097      0.000242      0.006169     0.000482     0.729346    0.031801\n",
      "57    57  {'fraction': 0.13, 'model': 'mcd', 'scaler': '...      0.870295      0.00133    0.530331   0.106376        0.00529      0.001041      0.010476     0.002062     0.700533    0.052747\n",
      "58    58  {'fraction': 0.06, 'model': 'lof', 'scaler': '...      0.937839     0.001002    0.650735   0.080673       0.013519      0.001945      0.026486     0.003797     0.794473    0.040488\n",
      "59    59  {'fraction': 0.29, 'model': 'histogram', 'scal...      0.714519     0.005928    0.830882    0.10215       0.003771      0.000539      0.007507     0.001072     0.772623    0.050376\n",
      "60    60  {'fraction': 0.24, 'model': 'histogram', 'scal...      0.761336     0.005895    0.846507   0.092949       0.004589      0.000582      0.009129     0.001158     0.803865    0.045802\n",
      "61    61  {'fraction': 0.02, 'model': 'knn', 'scaler': '...      0.979646     0.001116    0.256434    0.06032       0.017029      0.004762      0.031933     0.008837     0.618509    0.030358\n",
      "62    62  {'fraction': 0.15, 'model': 'pca', 'scaler': '...       0.85057     0.005061    0.756434   0.098526       0.006524      0.000761      0.012937     0.001511     0.803562    0.047445\n",
      "63    63  {'fraction': 0.48, 'model': 'mcd', 'scaler': '...      0.520904     0.003779    0.984375   0.027063       0.002659      0.000145      0.005304     0.000288     0.752338    0.013425\n",
      "64    64  {'fraction': 0.34, 'model': 'cluster', 'scaler...      0.660668     0.007396    0.787684   0.066501       0.003001      0.000236      0.005979     0.000471     0.724093    0.031784\n",
      "65    65  {'fraction': 0.02, 'model': 'iforest', 'scaler...       0.97998     0.001597    0.397059   0.139536       0.026481      0.009899      0.049648     0.018493       0.6889    0.070465\n",
      "66    66  {'fraction': 0.07, 'model': 'iforest', 'scaler...      0.930059     0.002999     0.66636   0.031985        0.01228      0.000498      0.024115     0.000981     0.798381     0.01543\n",
      "67    67  {'fraction': 0.09, 'model': 'lof', 'scaler': '...      0.908271     0.001165     0.46875   0.057985       0.006649      0.000959      0.013112     0.001887     0.688795    0.029262\n",
      "68    68  {'fraction': 0.19, 'model': 'histogram', 'scal...      0.813124     0.001786    0.756434   0.076165       0.005238      0.000627      0.010404     0.001244     0.784815    0.038275\n",
      "69    69  {'fraction': 0.02, 'model': 'iforest', 'scaler...       0.97998     0.001597    0.397059   0.139536       0.026481      0.009899      0.049648     0.018493       0.6889    0.070465\n",
      "70    70  {'fraction': 0.02, 'model': 'histogram', 'scal...        0.9789     0.000791    0.119485    0.08325       0.007572       0.00526       0.01424     0.009893     0.549749    0.041216\n",
      "71    71  {'fraction': 0.39, 'model': 'iforest', 'scaler...      0.610491     0.005098    0.954044   0.026575       0.003166      0.000126      0.006312      0.00025     0.782044    0.010855\n",
      "72    72  {'fraction': 0.45, 'model': 'histogram', 'scal...      0.554145     0.002631    0.846507   0.092949       0.002462      0.000324       0.00491     0.000647     0.700135    0.046289\n",
      "73    73  {'fraction': 0.43, 'model': 'knn', 'scaler': '...      0.571238      0.00672    0.954044   0.026575        0.00288      0.000173      0.005743     0.000345     0.762392    0.013595\n",
      "74    74  {'fraction': 0.26, 'model': 'mcd', 'scaler': '...      0.741139     0.001082    0.786765   0.036765       0.003935      0.000303      0.007831     0.000601     0.763922    0.018405\n",
      "75    75  {'fraction': 0.1, 'model': 'iforest', 'scaler'...      0.901572     0.003944    0.741728   0.031879       0.009709      0.000327      0.019168     0.000648     0.821753    0.014452\n",
      "76    76  {'fraction': 0.21, 'model': 'pca', 'scaler': '...      0.790904     0.002925    0.817096   0.075272        0.00505      0.000516      0.010038     0.001026     0.803982    0.037091\n",
      "77    77  {'fraction': 0.41, 'model': 'histogram', 'scal...      0.595933     0.007635    0.846507   0.092949       0.002713      0.000331      0.005409     0.000659     0.721056    0.044713\n",
      "78    78  {'fraction': 0.25, 'model': 'cluster', 'scaler...      0.750275     0.007034    0.758272   0.108763       0.003917      0.000503      0.007795     0.001002     0.754269    0.053197\n",
      "79    79  {'fraction': 0.02, 'model': 'lof', 'scaler': '...      0.979352     0.001169    0.316176   0.090951       0.020714      0.007409       0.03887     0.013731     0.648193    0.045882\n",
      "80    80  {'fraction': 0.17, 'model': 'iforest', 'scaler...      0.830314     0.003915    0.863051    0.02934       0.006558       0.00024      0.013017     0.000476     0.846661    0.013123\n",
      "81    81  {'fraction': 0.03, 'model': 'histogram', 'scal...      0.969843     0.002162     0.36489   0.051298       0.015986      0.002779      0.030629      0.00528      0.66776    0.026498\n",
      "82    82  {'fraction': 0.31, 'model': 'knn', 'scaler': '...      0.690766      0.00478    0.909926   0.052091       0.003798       0.00015      0.007565     0.000298     0.800205    0.024587\n",
      "83    83  {'fraction': 0.08, 'model': 'histogram', 'scal...      0.920727     0.003027    0.394301   0.032612       0.006486      0.000666      0.012762     0.001305     0.657856    0.017392\n",
      "84    84  {'fraction': 0.32, 'model': 'iforest', 'scaler...       0.68057     0.003657    0.938419   0.044223       0.003797      0.000233      0.007564     0.000464     0.809326    0.020266\n",
      "85    85  {'fraction': 0.27, 'model': 'histogram', 'scal...      0.732475     0.005423    0.846507   0.092949       0.004091      0.000473      0.008142     0.000942     0.789416     0.04438\n",
      "86    86  {'fraction': 0.46, 'model': 'pca', 'scaler': '...      0.541218     0.005345    0.923713   0.050233       0.002606      0.000179      0.005197     0.000356     0.732217    0.025505\n",
      "87    87  {'fraction': 0.04, 'model': 'mcd', 'scaler': '...      0.959784     0.001472    0.317096   0.059189       0.010328      0.001777      0.020004     0.003448     0.638856    0.028939\n",
      "88    88  {'fraction': 0.2, 'model': 'cluster', 'scaler'...      0.799568     0.002312    0.667279   0.020221       0.004304      0.000049      0.008553     0.000097      0.73351    0.010657\n",
      "89    89  {'fraction': 0.47, 'model': 'lof', 'scaler': '...      0.500766     0.004685         1.0        0.0        0.00259      0.000071      0.005168     0.000141     0.750059     0.00235\n",
      "90    90  {'fraction': 0.36, 'model': 'histogram', 'scal...      0.648507      0.00717    0.862132   0.079725       0.003179      0.000381      0.006335     0.000758      0.75518    0.041071\n",
      "91    91  {'fraction': 0.11, 'model': 'iforest', 'scaler...      0.890864     0.004985    0.772978   0.023595       0.009134      0.000382      0.018054     0.000752     0.831998    0.013051\n",
      "92    92  {'fraction': 0.22, 'model': 'knn', 'scaler': '...       0.78002     0.003995    0.818015   0.041959       0.004802      0.000236      0.009547     0.000469     0.798992    0.019505\n",
      "93    93  {'fraction': 0.23, 'model': 'histogram', 'scal...      0.773281     0.004666    0.831801   0.099821       0.004749      0.000671      0.009445     0.001333     0.802502    0.050345\n",
      "94    94  {'fraction': 0.44, 'model': 'histogram', 'scal...      0.575462      0.01085    0.862132   0.079725       0.002636      0.000333      0.005256     0.000664      0.71861    0.042608\n",
      "95    95  {'fraction': 0.02, 'model': 'iforest', 'scaler...       0.97998     0.001597    0.397059   0.139536       0.026481      0.009899      0.049648     0.018493       0.6889    0.070465\n",
      "96    96  {'fraction': 0.12, 'model': 'pca', 'scaler': '...      0.880747     0.004043     0.69761   0.093457       0.007555      0.001028      0.014949     0.002034     0.789298    0.047319\n",
      "97    97  {'fraction': 0.49, 'model': 'cluster', 'scaler...      0.510806     0.007023     0.83364   0.048173       0.002205      0.000132      0.004399     0.000263     0.672013    0.025321\n",
      "98    98  {'fraction': 0.35, 'model': 'mcd', 'scaler': '...      0.651395     0.003988    0.938419   0.044223       0.003484       0.00026      0.006941     0.000518      0.79472    0.022208\n",
      "99    99  {'fraction': 0.14, 'model': 'lof', 'scaler': '...      0.855285     0.002605    0.786765   0.055513       0.007017       0.00057       0.01391     0.001129     0.821069    0.026978\n"
     ]
    }
   ],
   "source": [
    "# Importación de librerías.\n",
    "import os\n",
    "import json\n",
    "from datetime import datetime\n",
    "\n",
    "hyperopt_printer(trials)\n",
    "json_export(scorings)\n",
    "scorings_df = scorings_to_df(scorings)"
   ]
  },
  {
   "cell_type": "markdown",
   "id": "c0de801e-9891-4fd2-91a2-26c4b1bbbfb8",
   "metadata": {
    "tags": []
   },
   "source": [
    "### 9.3. Evaluación sobre el conjunto de validación"
   ]
  },
  {
   "cell_type": "markdown",
   "id": "5cfdd992-6f85-433e-8a74-040c8166fd8c",
   "metadata": {},
   "source": [
    "Best Trial:\n",
    "Trial ID : 35\n",
    "Loss : 0.9586407181073524\n",
    "Params : {'fraction': 0.02, 'model': 'histogram', 'scaler': 'robust'}"
   ]
  },
  {
   "cell_type": "code",
   "execution_count": 16,
   "id": "2b9e4ebb-f7fa-451a-8297-fbe003515b01",
   "metadata": {
    "tags": []
   },
   "outputs": [
    {
     "data": {
      "text/html": [
       "<style type=\"text/css\">\n",
       "#T_8eda3_row7_col1 {\n",
       "  background-color: lightgreen;\n",
       "}\n",
       "</style>\n",
       "<table id=\"T_8eda3\">\n",
       "  <thead>\n",
       "    <tr>\n",
       "      <th class=\"blank level0\" >&nbsp;</th>\n",
       "      <th id=\"T_8eda3_level0_col0\" class=\"col_heading level0 col0\" >Description</th>\n",
       "      <th id=\"T_8eda3_level0_col1\" class=\"col_heading level0 col1\" >Value</th>\n",
       "    </tr>\n",
       "  </thead>\n",
       "  <tbody>\n",
       "    <tr>\n",
       "      <th id=\"T_8eda3_level0_row0\" class=\"row_heading level0 row0\" >0</th>\n",
       "      <td id=\"T_8eda3_row0_col0\" class=\"data row0 col0\" >session_id</td>\n",
       "      <td id=\"T_8eda3_row0_col1\" class=\"data row0 col1\" >42</td>\n",
       "    </tr>\n",
       "    <tr>\n",
       "      <th id=\"T_8eda3_level0_row1\" class=\"row_heading level0 row1\" >1</th>\n",
       "      <td id=\"T_8eda3_row1_col0\" class=\"data row1 col0\" >Original Data</td>\n",
       "      <td id=\"T_8eda3_row1_col1\" class=\"data row1 col1\" >(5090096, 16)</td>\n",
       "    </tr>\n",
       "    <tr>\n",
       "      <th id=\"T_8eda3_level0_row2\" class=\"row_heading level0 row2\" >2</th>\n",
       "      <td id=\"T_8eda3_row2_col0\" class=\"data row2 col0\" >Missing Values</td>\n",
       "      <td id=\"T_8eda3_row2_col1\" class=\"data row2 col1\" >False</td>\n",
       "    </tr>\n",
       "    <tr>\n",
       "      <th id=\"T_8eda3_level0_row3\" class=\"row_heading level0 row3\" >3</th>\n",
       "      <td id=\"T_8eda3_row3_col0\" class=\"data row3 col0\" >Numeric Features</td>\n",
       "      <td id=\"T_8eda3_row3_col1\" class=\"data row3 col1\" >9</td>\n",
       "    </tr>\n",
       "    <tr>\n",
       "      <th id=\"T_8eda3_level0_row4\" class=\"row_heading level0 row4\" >4</th>\n",
       "      <td id=\"T_8eda3_row4_col0\" class=\"data row4 col0\" >Categorical Features</td>\n",
       "      <td id=\"T_8eda3_row4_col1\" class=\"data row4 col1\" >5</td>\n",
       "    </tr>\n",
       "    <tr>\n",
       "      <th id=\"T_8eda3_level0_row5\" class=\"row_heading level0 row5\" >5</th>\n",
       "      <td id=\"T_8eda3_row5_col0\" class=\"data row5 col0\" >Transformed Data</td>\n",
       "      <td id=\"T_8eda3_row5_col1\" class=\"data row5 col1\" >(5090096, 14)</td>\n",
       "    </tr>\n",
       "    <tr>\n",
       "      <th id=\"T_8eda3_level0_row6\" class=\"row_heading level0 row6\" >6</th>\n",
       "      <td id=\"T_8eda3_row6_col0\" class=\"data row6 col0\" >CPU Jobs</td>\n",
       "      <td id=\"T_8eda3_row6_col1\" class=\"data row6 col1\" >-1</td>\n",
       "    </tr>\n",
       "    <tr>\n",
       "      <th id=\"T_8eda3_level0_row7\" class=\"row_heading level0 row7\" >7</th>\n",
       "      <td id=\"T_8eda3_row7_col0\" class=\"data row7 col0\" >Use GPU</td>\n",
       "      <td id=\"T_8eda3_row7_col1\" class=\"data row7 col1\" >True</td>\n",
       "    </tr>\n",
       "    <tr>\n",
       "      <th id=\"T_8eda3_level0_row8\" class=\"row_heading level0 row8\" >8</th>\n",
       "      <td id=\"T_8eda3_row8_col0\" class=\"data row8 col0\" >Log Experiment</td>\n",
       "      <td id=\"T_8eda3_row8_col1\" class=\"data row8 col1\" >False</td>\n",
       "    </tr>\n",
       "    <tr>\n",
       "      <th id=\"T_8eda3_level0_row9\" class=\"row_heading level0 row9\" >9</th>\n",
       "      <td id=\"T_8eda3_row9_col0\" class=\"data row9 col0\" >Experiment Name</td>\n",
       "      <td id=\"T_8eda3_row9_col1\" class=\"data row9 col1\" >anomaly-default-name</td>\n",
       "    </tr>\n",
       "    <tr>\n",
       "      <th id=\"T_8eda3_level0_row10\" class=\"row_heading level0 row10\" >10</th>\n",
       "      <td id=\"T_8eda3_row10_col0\" class=\"data row10 col0\" >USI</td>\n",
       "      <td id=\"T_8eda3_row10_col1\" class=\"data row10 col1\" >294e</td>\n",
       "    </tr>\n",
       "  </tbody>\n",
       "</table>\n"
      ],
      "text/plain": [
       "<pandas.io.formats.style.Styler at 0x14d0f342e50>"
      ]
     },
     "metadata": {},
     "output_type": "display_data"
    },
    {
     "name": "stdout",
     "output_type": "stream",
     "text": [
      "CPU times: total: 2min 29s\n",
      "Wall time: 2min 34s\n"
     ]
    }
   ],
   "source": [
    "%%time\n",
    "# Evaluación con el conjunto de validación.\n",
    "from sklearn.metrics import f1_score, accuracy_score, precision_score, recall_score, roc_auc_score\n",
    "from pycaret.anomaly import *\n",
    "from sklearn.preprocessing import RobustScaler\n",
    "\n",
    "scaler = RobustScaler()\n",
    "\n",
    "df_training_preprocessed = df_training\n",
    "train_index = df_training_preprocessed.index\n",
    "train_columns = df_training_preprocessed.columns\n",
    "df_training_preprocessed = pd.DataFrame(scaler.fit_transform(df_training_preprocessed))\n",
    "df_training_preprocessed.index = train_index\n",
    "df_training_preprocessed.columns = train_columns\n",
    "\n",
    "anom = setup(data = df_training_preprocessed,\n",
    "             ignore_features = ['isFraud', 'isFlaggedFraud'], \n",
    "             categorical_features = ['Cash_in', 'Cash_out', 'Debit', 'Payment', 'Transfer'],\n",
    "             silent = True,\n",
    "             use_gpu = True,\n",
    "             verbose = True,\n",
    "             session_id = 42,\n",
    "             n_jobs = -1,\n",
    "             preprocess = False\n",
    "            )"
   ]
  },
  {
   "cell_type": "code",
   "execution_count": 17,
   "id": "e275d98f-ae20-4ede-abed-612a515f828d",
   "metadata": {},
   "outputs": [],
   "source": [
    "# Entrenamiento del modelo.\n",
    "model = create_model(model = 'histogram', fraction = 0.02, verbose = True)"
   ]
  },
  {
   "cell_type": "code",
   "execution_count": 18,
   "id": "689cce2c-eea1-440b-97cb-cfd0b2e962e9",
   "metadata": {
    "tags": []
   },
   "outputs": [],
   "source": [
    "# Aplicación sobre el conjunto de validación.\n",
    "df_validation_preprocessed = df_validation\n",
    "validation_index = df_validation_preprocessed.index\n",
    "validation_columns = df_validation_preprocessed.columns\n",
    "df_validation_preprocessed = pd.DataFrame(scaler.fit_transform(df_validation_preprocessed))\n",
    "df_validation_preprocessed.index = validation_index\n",
    "df_validation_preprocessed.columns = validation_columns\n",
    "\n",
    "predictions = predict_model(model, data = df_validation_preprocessed)"
   ]
  },
  {
   "cell_type": "code",
   "execution_count": 19,
   "id": "70b6aa4e-7de0-4514-86de-1c6621e67fe1",
   "metadata": {},
   "outputs": [
    {
     "name": "stdout",
     "output_type": "stream",
     "text": [
      "Recall: 0.2678\n",
      "Precision: 0.0135\n",
      "AUC: 0.6213\n",
      "Accuracy: 0.9739\n",
      "F1-Score: 0.0258\n"
     ]
    }
   ],
   "source": [
    "# Obtención de metricas.\n",
    "y_test = df_validation.iloc[:, -2]\n",
    "y_pred = predictions.loc[:, 'Anomaly']\n",
    "\n",
    "print('Recall: %.4f' % recall_score(y_true = y_test, y_pred = y_pred))\n",
    "print('Precision: %.4f' % precision_score(y_true = y_test, y_pred = y_pred))\n",
    "print('AUC: %.4f' % roc_auc_score(y_true = y_test, y_score = y_pred))\n",
    "print('Accuracy: %.4f' % accuracy_score(y_true = y_test, y_pred = y_pred))\n",
    "print('F1-Score: %.4f' % f1_score(y_true = y_test, y_pred = y_pred))"
   ]
  },
  {
   "cell_type": "code",
   "execution_count": 20,
   "id": "181549bb-d65a-4522-a426-0c38e42ae5f1",
   "metadata": {
    "tags": []
   },
   "outputs": [
    {
     "data": {
      "image/png": "[encoded data removed]",
      "text/plain": [
       "<Figure size 720x432 with 2 Axes>"
      ]
     },
     "metadata": {
      "needs_background": "light"
     },
     "output_type": "display_data"
    },
    {
     "data": {
      "image/png": "[encoded data removed]",
      "text/plain": [
       "<Figure size 720x432 with 1 Axes>"
      ]
     },
     "metadata": {
      "needs_background": "light"
     },
     "output_type": "display_data"
    },
    {
     "data": {
      "image/png": "[encoded data removed]",
      "text/plain": [
       "<Figure size 720x432 with 1 Axes>"
      ]
     },
     "metadata": {
      "needs_background": "light"
     },
     "output_type": "display_data"
    }
   ],
   "source": [
    "# Exportación a png.\n",
    "from export import export_png_2\n",
    "export_png_2(filename = 'pycaret', y_test = y_test, y_pred = y_pred)"
   ]
  },
  {
   "cell_type": "code",
   "execution_count": 26,
   "id": "abb5ada8-97a8-4802-a344-5c7626d377f2",
   "metadata": {},
   "outputs": [
    {
     "name": "stdout",
     "output_type": "stream",
     "text": [
      "CPU times: total: 7.17 s\n",
      "Wall time: 7.32 s\n"
     ]
    }
   ],
   "source": [
    "%%time\n",
    "# Exportación a csv.\n",
    "y_test.to_csv('pycaret_ytest_unbalanced.csv')\n",
    "y_pred.to_csv('pycaret_ypred_unbalanced.csv')"
   ]
  }
 ],
 "metadata": {
  "kernelspec": {
   "display_name": "Python 3 (ipykernel)",
   "language": "python",
   "name": "python3"
  },
  "language_info": {
   "codemirror_mode": {
    "name": "ipython",
    "version": 3
   },
   "file_extension": ".py",
   "mimetype": "text/x-python",
   "name": "python",
   "nbconvert_exporter": "python",
   "pygments_lexer": "ipython3",
   "version": "3.9.7"
  },
  "toc-autonumbering": false
 },
 "nbformat": 4,
 "nbformat_minor": 5
}
