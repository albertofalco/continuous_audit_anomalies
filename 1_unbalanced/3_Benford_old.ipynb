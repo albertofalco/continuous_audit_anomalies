{
 "cells": [
  {
   "cell_type": "markdown",
   "id": "45178782-ce4f-4e19-a9ef-b842b61111b0",
   "metadata": {
    "tags": []
   },
   "source": [
    "# Detección de anomalías en un marco de auditoría continua"
   ]
  },
  {
   "cell_type": "markdown",
   "id": "fed88766-bab0-4f25-8a57-a39ee3aafe62",
   "metadata": {
    "tags": []
   },
   "source": [
    "## 6.3. Modelos no supervisados"
   ]
  },
  {
   "cell_type": "markdown",
   "id": "f60a48bc-39e0-4c20-9fa4-bd837e36ef05",
   "metadata": {
    "tags": []
   },
   "source": [
    "### 6.3.3. Detección de anomalías utilizando la Ley de Benford"
   ]
  },
  {
   "cell_type": "markdown",
   "id": "1bc8c680-f0e2-4bbb-bf59-a7a508bed44c",
   "metadata": {},
   "source": [
    "https://towardsdatascience.com/frawd-detection-using-benfords-law-python-code-9db8db474cf8"
   ]
  },
  {
   "cell_type": "markdown",
   "id": "e26baba3-ee4f-4fcf-b9f9-56c768339e04",
   "metadata": {},
   "source": [
    "Split del dataset para reservar un conjunto de datos para validación posterior al entrenamiento y desarrollo de los modelos."
   ]
  },
  {
   "cell_type": "code",
   "execution_count": 3,
   "id": "34abc86a-3934-43e5-81e3-fc7572f6efe2",
   "metadata": {
    "tags": []
   },
   "outputs": [
    {
     "name": "stdout",
     "output_type": "stream",
     "text": [
      "Proporcion de clases para dataset de training: 0.0013\n",
      "Proporcion de clases para dataset de validación: 0.0013\n"
     ]
    }
   ],
   "source": [
    "# Importación de librerías\n",
    "import pandas as pd\n",
    "import numpy as np\n",
    "import sys\n",
    "import math\n",
    "import matplotlib.pyplot as plt\n",
    "\n",
    "# Carga del dataset.\n",
    "df = pd.read_csv('df_preprocessed.csv')\n",
    "\n",
    "# Split del dataset para reservar un conjunto de validación.\n",
    "from sklearn.model_selection import train_test_split\n",
    "df_training, df_validation = train_test_split(df, test_size = 0.2, random_state = 42, shuffle = True, stratify = np.array(df['isFraud']))\n",
    "\n",
    "# Control de frecuencias de clases.\n",
    "print('Proporcion de clases para dataset de training: %.4f' % (df_training['isFraud'].value_counts()[1] / df_training['isFraud'].value_counts()[0]))\n",
    "print('Proporcion de clases para dataset de validación: %.4f' % (df_validation['isFraud'].value_counts()[1] / df_validation['isFraud'].value_counts()[0]))"
   ]
  },
  {
   "cell_type": "code",
   "execution_count": 24,
   "id": "8e23bfc7-f603-4a68-9ab9-501797964b8f",
   "metadata": {},
   "outputs": [
    {
     "name": "stdout",
     "output_type": "stream",
     "text": [
      "                    count       mean        std    min        25%        50%        75%          max\n",
      "day            6362620.00      10.49       5.92   1.00       7.00      10.00      14.00        31.00\n",
      "hour           6362620.00       8.37       4.56   1.00       6.00       8.00      11.00        24.00\n",
      "amount         6362620.00  179861.90  603858.23   0.00   13389.57   74871.94  208721.48  92445516.64\n",
      "idOrig         6362620.00 3175068.41 1834059.22   0.00 1586504.75 3174301.50 4763206.25   6353306.00\n",
      "oldbalanceOrig 6362620.00  833883.10 2888242.67   0.00       0.00   14208.00  107315.18  59585040.37\n",
      "newbalanceOrig 6362620.00  855113.67 2924048.50   0.00       0.00       0.00  144258.41  49585040.37\n",
      "idDest         6362620.00 7275614.81  795239.09 571.00 6611227.00 7083926.00 7842574.25   9073899.00\n",
      "oldbalanceDest 6362620.00 1100701.67 3399180.11   0.00       0.00  132705.66  943036.71 356015889.35\n",
      "newbalanceDest 6362620.00 1224996.40 3674128.94   0.00       0.00  214661.44 1111909.25 356179278.92\n",
      "Cash_in        6362620.00       0.22       0.41   0.00       0.00       0.00       0.00         1.00\n",
      "Cash_out       6362620.00       0.35       0.48   0.00       0.00       0.00       1.00         1.00\n",
      "Debit          6362620.00       0.01       0.08   0.00       0.00       0.00       0.00         1.00\n",
      "Payment        6362620.00       0.34       0.47   0.00       0.00       0.00       1.00         1.00\n",
      "Transfer       6362620.00       0.08       0.28   0.00       0.00       0.00       0.00         1.00\n",
      "isFraud        6362620.00       0.00       0.04   0.00       0.00       0.00       0.00         1.00\n",
      "isFlaggedFraud 6362620.00       0.00       0.00   0.00       0.00       0.00       0.00         1.00\n",
      "\n",
      "<class 'pandas.core.frame.DataFrame'>\n",
      "RangeIndex: 6362620 entries, 0 to 6362619\n",
      "Data columns (total 16 columns):\n",
      " #   Column          Dtype  \n",
      "---  ------          -----  \n",
      " 0   day             int64  \n",
      " 1   hour            int64  \n",
      " 2   amount          float64\n",
      " 3   idOrig          int64  \n",
      " 4   oldbalanceOrig  float64\n",
      " 5   newbalanceOrig  float64\n",
      " 6   idDest          int64  \n",
      " 7   oldbalanceDest  float64\n",
      " 8   newbalanceDest  float64\n",
      " 9   Cash_in         int64  \n",
      " 10  Cash_out        int64  \n",
      " 11  Debit           int64  \n",
      " 12  Payment         int64  \n",
      " 13  Transfer        int64  \n",
      " 14  isFraud         int64  \n",
      " 15  isFlaggedFraud  int64  \n",
      "dtypes: float64(5), int64(11)\n",
      "memory usage: 776.7 MB\n",
      "None\n",
      "\n",
      "day               0\n",
      "hour              0\n",
      "amount            0\n",
      "idOrig            0\n",
      "oldbalanceOrig    0\n",
      "newbalanceOrig    0\n",
      "idDest            0\n",
      "oldbalanceDest    0\n",
      "newbalanceDest    0\n",
      "Cash_in           0\n",
      "Cash_out          0\n",
      "Debit             0\n",
      "Payment           0\n",
      "Transfer          0\n",
      "isFraud           0\n",
      "isFlaggedFraud    0\n",
      "dtype: int64\n"
     ]
    }
   ],
   "source": [
    "# Configuración de número de decimales.\n",
    "pd.options.display.float_format = '{:.2f}'.format\n",
    "\n",
    "# Analisis exploratorio de datos.      \n",
    "with pd.option_context('display.max_rows', None, 'display.max_columns', 10, 'display.width', 1000):\n",
    "    print(df.describe().transpose())\n",
    "print()\n",
    "print(df.info())\n",
    "print()\n",
    "print(df.isnull().sum())"
   ]
  },
  {
   "cell_type": "code",
   "execution_count": 42,
   "id": "ccff7097-7281-40ad-9f2b-277712a105c4",
   "metadata": {},
   "outputs": [],
   "source": [
    "# Función para el cálculo de frecuencias relativas.\n",
    "def count_first_digit(data_str):\n",
    "    mask=df[data_str]>1.\n",
    "    data=list(df[mask][data_str])\n",
    "    for i in range(len(data)):\n",
    "        while data[i]>10:\n",
    "            data[i]=data[i]/10\n",
    "    first_digits=[int(x) for x in sorted(data)]\n",
    "    unique=(set(first_digits))#a list with unique values of     first_digit list\n",
    "    data_count=[]\n",
    "    for i in unique:\n",
    "        count=first_digits.count(i)\n",
    "        data_count.append(count)\n",
    "    total_count=sum(data_count)\n",
    "    data_percentage=[(i/total_count)*100 for i in data_count]\n",
    "    return  total_count,data_count, data_percentage"
   ]
  },
  {
   "cell_type": "code",
   "execution_count": 46,
   "id": "5c166880-fffe-4f64-9670-4a68df5ca2cb",
   "metadata": {},
   "outputs": [],
   "source": [
    "# Benford's Law percentages for leading digits 1-9\n",
    "BENFORD = [30.1, 17.6, 12.5, 9.7, 7.9, 6.7, 5.8, 5.1, 4.6]"
   ]
  },
  {
   "cell_type": "code",
   "execution_count": 47,
   "id": "b49ae489-f354-431a-a9dd-74ace3f5aefb",
   "metadata": {},
   "outputs": [],
   "source": [
    "def get_expected_counts(total_count):\n",
    "    \"\"\"Return list of expected Benford's Law counts for total sample count.\"\"\"\n",
    "    return [round(p * total_count / 100) for p in BENFORD]\n",
    "expected_counts=get_expected_counts(total_count)"
   ]
  },
  {
   "cell_type": "code",
   "execution_count": null,
   "id": "efac86ed-55bc-4506-b744-b845df99efff",
   "metadata": {},
   "outputs": [
    {
     "data": {
      "text/plain": [
       "[1915109, 1119798, 795311, 617161, 502636, 426287, 369024, 324487, 292674]"
      ]
     },
     "execution_count": 48,
     "metadata": {},
     "output_type": "execute_result"
    }
   ],
   "source": [
    "expected_counts"
   ]
  },
  {
   "cell_type": "code",
   "execution_count": 49,
   "id": "8ed37b22-05eb-424a-a1bd-91ba393cd07f",
   "metadata": {},
   "outputs": [
    {
     "name": "stdout",
     "output_type": "stream",
     "text": [
      "\n",
      "Chi-squared Test Statistic = 126770.925\n",
      "Critical value at a P-value of 0.05 is 15.51.\n"
     ]
    },
    {
     "data": {
      "text/plain": [
       "False"
      ]
     },
     "execution_count": 49,
     "metadata": {},
     "output_type": "execute_result"
    }
   ],
   "source": [
    "def chi_square_test(data_count,expected_counts):\n",
    "    \"\"\"Return boolean on chi-square test (8 degrees of freedom & P-val=0.05).\"\"\"\n",
    "    chi_square_stat = 0  # chi square test statistic\n",
    "    for data, expected in zip(data_count,expected_counts):\n",
    "\n",
    "        chi_square = math.pow(data - expected, 2)\n",
    "\n",
    "        chi_square_stat += chi_square / expected\n",
    "\n",
    "    print(\"\\nChi-squared Test Statistic = {:.3f}\".format(chi_square_stat))\n",
    "    print(\"Critical value at a P-value of 0.05 is 15.51.\")    \n",
    "    return chi_square_stat < 15.51\n",
    "\n",
    "chi_square_test(data_count,expected_counts)"
   ]
  },
  {
   "cell_type": "code",
   "execution_count": null,
   "id": "2ad87f5b-0a1f-45cc-8558-42d25f1ba8c4",
   "metadata": {},
   "outputs": [],
   "source": []
  },
  {
   "cell_type": "code",
   "execution_count": null,
   "id": "1cdf07e3-4b9c-4543-bc75-1482f4dbf661",
   "metadata": {},
   "outputs": [],
   "source": []
  },
  {
   "cell_type": "code",
   "execution_count": null,
   "id": "8d7f036f-2a0f-4bdc-b50b-2000ea8e3c9c",
   "metadata": {},
   "outputs": [],
   "source": []
  },
  {
   "cell_type": "code",
   "execution_count": null,
   "id": "42e94a64-b26f-4230-b0a9-3810bf328f87",
   "metadata": {},
   "outputs": [],
   "source": []
  },
  {
   "cell_type": "markdown",
   "id": "35a37119-37f3-41b9-98b5-d5d5a34bfb2b",
   "metadata": {},
   "source": [
    "Ejecución del optimizador"
   ]
  },
  {
   "cell_type": "code",
   "execution_count": null,
   "id": "4eaae520-3e7d-4fd0-80c3-5f4a8545dc5c",
   "metadata": {
    "jupyter": {
     "source_hidden": true
    },
    "tags": []
   },
   "outputs": [],
   "source": [
    "# ! pip install hyperopt"
   ]
  },
  {
   "cell_type": "code",
   "execution_count": null,
   "id": "8b842439-dac7-45fd-ad80-830af2adc6fd",
   "metadata": {
    "jupyter": {
     "source_hidden": true
    },
    "tags": []
   },
   "outputs": [],
   "source": [
    "from sklearn.model_selection import StratifiedKFold\n",
    "from sklearn.metrics import f1_score, recall_score, precision_score, roc_auc_score, accuracy_score\n",
    "from hyperopt import fmin, hp, tpe, space_eval, Trials\n",
    "\n",
    "kfold = StratifiedKFold(n_splits = 2, shuffle = True, random_state = 42)\n",
    "scores = {'accuracy' : [],\n",
    "          'recall' : [],\n",
    "          'precision' : [],\n",
    "          'f1_score' : [],\n",
    "          'roc_auc' : []\n",
    "         }\n",
    "scorings = {}\n",
    "\n",
    "for train, test in kfold.split(df_train, y = df_train.isFlaggedFraud):\n",
    "    \n",
    "    anom = setup(data = df_train.iloc[train, :], \n",
    "             ignore_features = ['isFraud', 'isFlaggedFraud'], \n",
    "             categorical_features = ['Cash_in', 'Cash_out', 'Debit', 'Payment', 'Transfer'],\n",
    "             normalize = True,\n",
    "             normalize_method = 'minmax',\n",
    "             silent = True,\n",
    "             use_gpu = True,\n",
    "             verbose = False\n",
    "            )\n",
    "    iforest = create_model(model = 'iforest', fraction = 0.05, verbose = False)\n",
    "    \n",
    "    predictions = predict_model(iforest, data = df_train.iloc[test, :])\n",
    "    \n",
    "    y_true = df_train.iloc[test, -2]\n",
    "    y_pred = predictions.loc[:, 'Anomaly']\n",
    "\n",
    "    scores['accuracy'].append(accuracy_score(y_true = y_true, y_pred = y_pred))\n",
    "    scores['recall'].append(recall_score(y_true = y_true, y_pred = y_pred))\n",
    "    scores['precision'].append(precision_score(y_true = y_true, y_pred = y_pred))\n",
    "    scores['f1_score'].append(f1_score(y_true = y_true, y_pred = y_pred))\n",
    "    scores['roc_auc'].append(roc_auc_score(y_true = y_true, y_score = y_pred))\n",
    "\n",
    "for score in scores:\n",
    "    scorings[score + '_mean'] = np.mean(scores[score])\n",
    "    scorings[score + '_std'] = np.std(scores[score])\n",
    "    \n",
    "scorings"
   ]
  },
  {
   "cell_type": "code",
   "execution_count": 3,
   "id": "bc8dbc88-4967-44a3-a673-62e024c1ce95",
   "metadata": {
    "tags": []
   },
   "outputs": [],
   "source": [
    "from sklearn.model_selection import StratifiedKFold\n",
    "from sklearn.metrics import f1_score, recall_score, precision_score, roc_auc_score, accuracy_score\n",
    "from hyperopt import fmin, hp, tpe, space_eval, Trials\n",
    "\n",
    "# Definición de la función objetivo.\n",
    "def objective_func(search_space):\n",
    "\n",
    "    global counter, scorings\n",
    "    start_time = time.time()\n",
    "    counter += 1    \n",
    "    \n",
    "    kfold = StratifiedKFold(n_splits = 2, shuffle = True, random_state = 42)\n",
    "    scores = {'accuracy' : [],\n",
    "              'recall' : [],\n",
    "              'precision' : [],\n",
    "              'f1_score' : [],\n",
    "              'roc_auc' : []\n",
    "             }\n",
    "    scorings_trial = {}\n",
    "\n",
    "    for train, test in kfold.split(df_train, y = df_train.isFlaggedFraud):\n",
    "\n",
    "        anom = setup(data = df_train.iloc[train, :], \n",
    "                     ignore_features = ['isFraud', 'isFlaggedFraud'], \n",
    "                     categorical_features = ['Cash_in', 'Cash_out', 'Debit', 'Payment', 'Transfer'],\n",
    "                     normalize = True,\n",
    "                     normalize_method = search_space['scaler'],\n",
    "                     silent = True,\n",
    "                     use_gpu = True,\n",
    "                     verbose = False\n",
    "                )\n",
    "        \n",
    "        iforest = create_model(model = 'iforest', fraction = search_space['fraction'], verbose = False)\n",
    "        \n",
    "        predictions = predict_model(iforest, data = df_train.iloc[test, :])\n",
    "        \n",
    "        y_true = df_train.iloc[test, -2]\n",
    "        y_pred = predictions.loc[:, 'Anomaly']\n",
    "\n",
    "        scores['accuracy'].append(accuracy_score(y_true = y_true, y_pred = y_pred))\n",
    "        scores['recall'].append(recall_score(y_true = y_true, y_pred = y_pred))\n",
    "        scores['precision'].append(precision_score(y_true = y_true, y_pred = y_pred))\n",
    "        scores['f1_score'].append(f1_score(y_true = y_true, y_pred = y_pred))\n",
    "        scores['roc_auc'].append(roc_auc_score(y_true = y_true, y_score = y_pred))\n",
    "    \n",
    "    scorings_trial['trial'] = counter\n",
    "    scorings_trial['search_space'] = str(search_space)\n",
    "\n",
    "    for score in scores:\n",
    "        scorings_trial[score + '_mean'] = np.mean(scores[score])\n",
    "        scorings_trial[score + '_std'] = np.std(scores[score])\n",
    "\n",
    "    loss = 1 - scorings_trial['f1_score_mean'] + scorings_trial['f1_score_std']\n",
    "\n",
    "    scorings.append(scorings_trial)\n",
    "    \n",
    "    elapsed_time = time.time() - start_time\n",
    "    \n",
    "    print('Trial: %i | Loss: %.4f | Elapsed_time: %.4f seconds' % (counter, loss, elapsed_time))\n",
    "    \n",
    "    return loss"
   ]
  },
  {
   "cell_type": "code",
   "execution_count": 4,
   "id": "0cf6a0b0-08b7-4fd8-b36d-d0bca21ac781",
   "metadata": {},
   "outputs": [
    {
     "name": "stdout",
     "output_type": "stream",
     "text": [
      "Trial: 0 | Loss: 0.9960 | Elapsed_time: 18.5950 seconds\n",
      "Trial: 1 | Loss: 0.9936 | Elapsed_time: 16.8268 seconds                          \n",
      "Trial: 2 | Loss: 0.9927 | Elapsed_time: 17.8957 seconds                          \n",
      "Trial: 3 | Loss: 0.9879 | Elapsed_time: 17.4905 seconds                          \n",
      "Trial: 4 | Loss: 0.9955 | Elapsed_time: 17.2743 seconds                          \n",
      "Trial: 5 | Loss: 0.9940 | Elapsed_time: 16.5974 seconds                          \n",
      "Trial: 6 | Loss: 0.9767 | Elapsed_time: 16.6526 seconds                          \n",
      "Trial: 7 | Loss: 0.9966 | Elapsed_time: 16.8212 seconds                          \n",
      "Trial: 8 | Loss: 0.9934 | Elapsed_time: 17.0364 seconds                          \n",
      "Trial: 9 | Loss: 0.9950 | Elapsed_time: 16.8877 seconds                          \n",
      "Trial: 10 | Loss: 0.9956 | Elapsed_time: 17.2701 seconds                          \n",
      "Trial: 11 | Loss: 0.9888 | Elapsed_time: 17.4749 seconds                          \n",
      "Trial: 12 | Loss: 0.9933 | Elapsed_time: 17.4792 seconds                          \n",
      "Trial: 13 | Loss: 0.9960 | Elapsed_time: 16.8728 seconds                          \n",
      "Trial: 14 | Loss: 0.9643 | Elapsed_time: 18.1106 seconds                          \n",
      "Trial: 15 | Loss: 0.9945 | Elapsed_time: 19.1401 seconds                          \n",
      "Trial: 16 | Loss: 0.9969 | Elapsed_time: 17.0342 seconds                          \n",
      "Trial: 17 | Loss: 0.9968 | Elapsed_time: 16.4785 seconds                          \n",
      "Trial: 18 | Loss: 0.9892 | Elapsed_time: 16.3141 seconds                          \n",
      "Trial: 19 | Loss: 0.9954 | Elapsed_time: 16.4393 seconds                          \n",
      "Trial: 20 | Loss: 0.9623 | Elapsed_time: 16.3500 seconds                          \n",
      "Trial: 21 | Loss: 0.9932 | Elapsed_time: 16.3968 seconds                          \n",
      "Trial: 22 | Loss: 0.9961 | Elapsed_time: 16.3549 seconds                          \n",
      "Trial: 23 | Loss: 0.9967 | Elapsed_time: 16.3591 seconds                          \n",
      "Trial: 24 | Loss: 0.9677 | Elapsed_time: 16.3257 seconds                          \n",
      "Trial: 25 | Loss: 0.9700 | Elapsed_time: 16.3702 seconds                          \n",
      "Trial: 26 | Loss: 0.9970 | Elapsed_time: 16.3448 seconds                          \n",
      "Trial: 27 | Loss: 0.9873 | Elapsed_time: 16.3707 seconds                          \n",
      "Trial: 28 | Loss: 0.9687 | Elapsed_time: 16.4082 seconds                          \n",
      "Trial: 29 | Loss: 0.9894 | Elapsed_time: 16.4253 seconds                          \n",
      "Trial: 30 | Loss: 0.9955 | Elapsed_time: 16.4003 seconds                          \n",
      "Trial: 31 | Loss: 0.9956 | Elapsed_time: 16.3284 seconds                          \n",
      "Trial: 32 | Loss: 0.9699 | Elapsed_time: 16.3336 seconds                          \n",
      "Trial: 33 | Loss: 0.9954 | Elapsed_time: 16.3191 seconds                          \n",
      "Trial: 34 | Loss: 0.9954 | Elapsed_time: 16.3722 seconds                          \n",
      "Trial: 35 | Loss: 0.9967 | Elapsed_time: 16.4264 seconds                          \n",
      "Trial: 36 | Loss: 0.9969 | Elapsed_time: 15.9560 seconds                          \n",
      "Trial: 37 | Loss: 0.9958 | Elapsed_time: 15.8858 seconds                          \n",
      "Trial: 38 | Loss: 0.9886 | Elapsed_time: 15.9614 seconds                          \n",
      "Trial: 39 | Loss: 0.9966 | Elapsed_time: 15.9198 seconds                          \n",
      "Trial: 40 | Loss: 0.9963 | Elapsed_time: 15.9690 seconds                          \n",
      "Trial: 41 | Loss: 0.9963 | Elapsed_time: 15.9996 seconds                          \n",
      "Trial: 42 | Loss: 0.9969 | Elapsed_time: 15.9693 seconds                          \n",
      "Trial: 43 | Loss: 0.9913 | Elapsed_time: 15.9482 seconds                          \n",
      "Trial: 44 | Loss: 0.9972 | Elapsed_time: 15.9368 seconds                          \n",
      "Trial: 45 | Loss: 0.9846 | Elapsed_time: 15.9672 seconds                          \n",
      "Trial: 46 | Loss: 0.9919 | Elapsed_time: 16.0216 seconds                          \n",
      "Trial: 47 | Loss: 0.9939 | Elapsed_time: 15.9876 seconds                          \n",
      "Trial: 48 | Loss: 0.9967 | Elapsed_time: 16.0175 seconds                          \n",
      "Trial: 49 | Loss: 0.9723 | Elapsed_time: 16.0374 seconds                          \n",
      "Trial: 50 | Loss: 0.9903 | Elapsed_time: 15.9941 seconds                          \n",
      "Trial: 51 | Loss: 0.9583 | Elapsed_time: 16.5382 seconds                          \n",
      "Trial: 52 | Loss: 0.9931 | Elapsed_time: 15.9876 seconds                          \n",
      "Trial: 53 | Loss: 0.9675 | Elapsed_time: 16.1918 seconds                          \n",
      "Trial: 54 | Loss: 0.9802 | Elapsed_time: 15.9857 seconds                          \n",
      "Trial: 55 | Loss: 0.9955 | Elapsed_time: 16.0438 seconds                          \n",
      "Trial: 56 | Loss: 0.9949 | Elapsed_time: 16.6204 seconds                          \n",
      "Trial: 57 | Loss: 0.9926 | Elapsed_time: 16.1176 seconds                          \n",
      "Trial: 58 | Loss: 0.9969 | Elapsed_time: 15.9947 seconds                          \n",
      "Trial: 59 | Loss: 0.9829 | Elapsed_time: 15.9978 seconds                          \n",
      "Trial: 60 | Loss: 0.9969 | Elapsed_time: 16.6788 seconds                          \n",
      "Trial: 61 | Loss: 0.9963 | Elapsed_time: 16.8266 seconds                          \n",
      "Trial: 62 | Loss: 0.9775 | Elapsed_time: 16.6312 seconds                          \n",
      "Trial: 63 | Loss: 0.9965 | Elapsed_time: 16.3975 seconds                          \n",
      "Trial: 64 | Loss: 0.9965 | Elapsed_time: 16.5218 seconds                          \n",
      "Trial: 65 | Loss: 0.9959 | Elapsed_time: 16.6827 seconds                          \n",
      "Trial: 66 | Loss: 0.9938 | Elapsed_time: 16.3819 seconds                          \n",
      "Trial: 67 | Loss: 0.9946 | Elapsed_time: 17.2937 seconds                          \n",
      "Trial: 68 | Loss: 0.9958 | Elapsed_time: 16.5178 seconds                          \n",
      "Trial: 69 | Loss: 0.9961 | Elapsed_time: 16.5215 seconds                          \n",
      "Trial: 70 | Loss: 0.9584 | Elapsed_time: 16.4085 seconds                          \n",
      "Trial: 71 | Loss: 0.9968 | Elapsed_time: 16.4090 seconds                          \n",
      "Trial: 72 | Loss: 0.9953 | Elapsed_time: 16.4579 seconds                          \n",
      "Trial: 73 | Loss: 0.9970 | Elapsed_time: 16.4078 seconds                          \n",
      "Trial: 74 | Loss: 0.9880 | Elapsed_time: 16.4285 seconds                          \n",
      "Trial: 75 | Loss: 0.9965 | Elapsed_time: 16.4895 seconds                          \n",
      "Trial: 76 | Loss: 0.9962 | Elapsed_time: 16.5099 seconds                          \n",
      "Trial: 77 | Loss: 0.9707 | Elapsed_time: 16.5346 seconds                          \n",
      "Trial: 78 | Loss: 0.9958 | Elapsed_time: 16.4195 seconds                          \n",
      "Trial: 79 | Loss: 0.9967 | Elapsed_time: 16.5096 seconds                          \n",
      "Trial: 80 | Loss: 0.9840 | Elapsed_time: 16.4064 seconds                          \n",
      "Trial: 81 | Loss: 0.9751 | Elapsed_time: 16.5126 seconds                          \n",
      "Trial: 82 | Loss: 0.9971 | Elapsed_time: 16.3531 seconds                          \n",
      "Trial: 83 | Loss: 0.9915 | Elapsed_time: 16.3843 seconds                          \n",
      "Trial: 84 | Loss: 0.9948 | Elapsed_time: 16.3759 seconds                          \n",
      "Trial: 85 | Loss: 0.9964 | Elapsed_time: 16.4373 seconds                          \n",
      "Trial: 86 | Loss: 0.9876 | Elapsed_time: 16.4436 seconds                          \n",
      "Trial: 87 | Loss: 0.9853 | Elapsed_time: 16.3857 seconds                          \n",
      "Trial: 88 | Loss: 0.9943 | Elapsed_time: 16.3768 seconds                          \n",
      "Trial: 89 | Loss: 0.9971 | Elapsed_time: 16.4900 seconds                          \n",
      "Trial: 90 | Loss: 0.9920 | Elapsed_time: 16.3647 seconds                          \n",
      "Trial: 91 | Loss: 0.9971 | Elapsed_time: 16.4151 seconds                          \n",
      "Trial: 92 | Loss: 0.9821 | Elapsed_time: 16.3630 seconds                          \n",
      "Trial: 93 | Loss: 0.9949 | Elapsed_time: 16.4564 seconds                          \n",
      "Trial: 94 | Loss: 0.9944 | Elapsed_time: 16.4594 seconds                          \n",
      "Trial: 95 | Loss: 0.9964 | Elapsed_time: 16.4938 seconds                          \n",
      "Trial: 96 | Loss: 0.9970 | Elapsed_time: 16.4954 seconds                          \n",
      "Trial: 97 | Loss: 0.9910 | Elapsed_time: 16.5020 seconds                          \n",
      "Trial: 98 | Loss: 0.9965 | Elapsed_time: 16.4080 seconds                          \n",
      "Trial: 99 | Loss: 0.9905 | Elapsed_time: 16.5059 seconds                          \n",
      "100%|██████████| 100/100 [27:32<00:00, 16.52s/trial, best loss: 0.9583333333333333]\n"
     ]
    }
   ],
   "source": [
    "# Espacio de búsqueda.\n",
    "models = ['abod', 'cluster', 'cof', 'iforest', 'histogram', 'knn', 'lof', 'svm', 'pca', 'mcd', 'sod', 'sos']\n",
    "search_space = {'scaler' : hp.choice('scaler', ['zscore', 'minmax', 'maxabs', 'robust']),\n",
    "                'model' : hp.choice('model', models),\n",
    "                'fraction' : hp.randint('fraction', 1 , 100) / 100}\n",
    "\n",
    "# Ejecución del optimizador.\n",
    "counter = -1\n",
    "scorings = []\n",
    "rstate = np.random.default_rng(42)\n",
    "trials = Trials() # Para el logging de resultados.\n",
    "best_params = fmin(fn = objective_func, space = search_space, algo = tpe.suggest, max_evals = 100, trials = trials, rstate = rstate)"
   ]
  },
  {
   "cell_type": "code",
   "execution_count": 7,
   "id": "ddd601ea-2f0f-4aad-ad8c-b3ed1e8d35c7",
   "metadata": {},
   "outputs": [],
   "source": [
    "import os\n",
    "import json\n",
    "from datetime import datetime\n",
    "from hyperopt import fmin, hp, tpe, space_eval, Trials\n",
    "\n",
    "# Función para la impresión de resultados.\n",
    "def hyperopt_printer(trials):\n",
    "    print('\\nBest Trial:')\n",
    "    print('Trial ID :', trials.best_trial['tid'])\n",
    "    print('Loss :', trials.best_trial['result']['loss'])\n",
    "    print('Params :', space_eval(search_space, best_params), end = '\\n\\n')\n",
    "\n",
    "# Función para exportación de resultados a formato JSON.\n",
    "def json_export(scorings):\n",
    "    try:\n",
    "        os.mkdir('HyperOpt Optimizations')\n",
    "    except:\n",
    "        None\n",
    "\n",
    "    now = datetime.now()\n",
    "    dt_string = now.strftime(\"%Y%m%d_%H%M%S\")\n",
    "    path = os.getcwd() + '\\\\HyperOpt Optimizations\\\\'\n",
    "    filename = 'Opt_' + dt_string + '.json'\n",
    "\n",
    "    f = open(path + filename, 'w')\n",
    "    json.dump(scorings, f)\n",
    "    f.close()\n",
    "    print('Json file: ' + dt_string + '.json', end = '\\n\\n')\n",
    "\n",
    "# Función para la obtención de resultados en formato tabla para visualizar scorings y desvios estándar.\n",
    "def scorings_to_df(scorings):\n",
    "    scorings_df = pd.DataFrame(columns = list(scorings[0]['scorings'].keys()))\n",
    "    for scoring in scorings:\n",
    "        scorings_df = scorings_df.append(scoring['scorings'], ignore_index = True)\n",
    "\n",
    "    print('Scoring details:', end = '\\n\\n')\n",
    "    with pd.option_context('display.max_rows', None, 'display.max_columns', None, 'display.width', 1000):  # more options can be specified also\n",
    "        print(scorings_df)"
   ]
  },
  {
   "cell_type": "code",
   "execution_count": 8,
   "id": "d95d62dc-d26a-411b-adb7-c768b18b1fb1",
   "metadata": {},
   "outputs": [
    {
     "name": "stdout",
     "output_type": "stream",
     "text": [
      "\n",
      "Best Trial:\n",
      "Trial ID : 51\n",
      "Loss : 0.9583333333333333\n",
      "Params : {'fraction': 0.02, 'model': 'histogram', 'scaler': 'robust'}\n",
      "\n",
      "Json file: 20220309_011343.json\n",
      "\n"
     ]
    },
    {
     "ename": "KeyError",
     "evalue": "'scorings'",
     "output_type": "error",
     "traceback": [
      "\u001b[1;31m---------------------------------------------------------------------------\u001b[0m",
      "\u001b[1;31mKeyError\u001b[0m                                  Traceback (most recent call last)",
      "\u001b[1;32m~\\AppData\\Local\\Temp/ipykernel_19084/4152552797.py\u001b[0m in \u001b[0;36m<module>\u001b[1;34m\u001b[0m\n\u001b[0;32m      1\u001b[0m \u001b[0mhyperopt_printer\u001b[0m\u001b[1;33m(\u001b[0m\u001b[0mtrials\u001b[0m\u001b[1;33m)\u001b[0m\u001b[1;33m\u001b[0m\u001b[1;33m\u001b[0m\u001b[0m\n\u001b[0;32m      2\u001b[0m \u001b[0mjson_export\u001b[0m\u001b[1;33m(\u001b[0m\u001b[0mscorings\u001b[0m\u001b[1;33m)\u001b[0m\u001b[1;33m\u001b[0m\u001b[1;33m\u001b[0m\u001b[0m\n\u001b[1;32m----> 3\u001b[1;33m \u001b[0mscorings_to_df\u001b[0m\u001b[1;33m(\u001b[0m\u001b[0mscorings\u001b[0m\u001b[1;33m)\u001b[0m\u001b[1;33m\u001b[0m\u001b[1;33m\u001b[0m\u001b[0m\n\u001b[0m",
      "\u001b[1;32m~\\AppData\\Local\\Temp/ipykernel_19084/2358903188.py\u001b[0m in \u001b[0;36mscorings_to_df\u001b[1;34m(scorings)\u001b[0m\n\u001b[0;32m     30\u001b[0m \u001b[1;31m# Función para la obtención de resultados en formato tabla para visualizar scorings y desvios estándar.\u001b[0m\u001b[1;33m\u001b[0m\u001b[1;33m\u001b[0m\u001b[1;33m\u001b[0m\u001b[0m\n\u001b[0;32m     31\u001b[0m \u001b[1;32mdef\u001b[0m \u001b[0mscorings_to_df\u001b[0m\u001b[1;33m(\u001b[0m\u001b[0mscorings\u001b[0m\u001b[1;33m)\u001b[0m\u001b[1;33m:\u001b[0m\u001b[1;33m\u001b[0m\u001b[1;33m\u001b[0m\u001b[0m\n\u001b[1;32m---> 32\u001b[1;33m     \u001b[0mscorings_df\u001b[0m \u001b[1;33m=\u001b[0m \u001b[0mpd\u001b[0m\u001b[1;33m.\u001b[0m\u001b[0mDataFrame\u001b[0m\u001b[1;33m(\u001b[0m\u001b[0mcolumns\u001b[0m \u001b[1;33m=\u001b[0m \u001b[0mlist\u001b[0m\u001b[1;33m(\u001b[0m\u001b[0mscorings\u001b[0m\u001b[1;33m[\u001b[0m\u001b[1;36m0\u001b[0m\u001b[1;33m]\u001b[0m\u001b[1;33m[\u001b[0m\u001b[1;34m'scorings'\u001b[0m\u001b[1;33m]\u001b[0m\u001b[1;33m.\u001b[0m\u001b[0mkeys\u001b[0m\u001b[1;33m(\u001b[0m\u001b[1;33m)\u001b[0m\u001b[1;33m)\u001b[0m\u001b[1;33m)\u001b[0m\u001b[1;33m\u001b[0m\u001b[1;33m\u001b[0m\u001b[0m\n\u001b[0m\u001b[0;32m     33\u001b[0m     \u001b[1;32mfor\u001b[0m \u001b[0mscoring\u001b[0m \u001b[1;32min\u001b[0m \u001b[0mscorings\u001b[0m\u001b[1;33m:\u001b[0m\u001b[1;33m\u001b[0m\u001b[1;33m\u001b[0m\u001b[0m\n\u001b[0;32m     34\u001b[0m         \u001b[0mscorings_df\u001b[0m \u001b[1;33m=\u001b[0m \u001b[0mscorings_df\u001b[0m\u001b[1;33m.\u001b[0m\u001b[0mappend\u001b[0m\u001b[1;33m(\u001b[0m\u001b[0mscoring\u001b[0m\u001b[1;33m[\u001b[0m\u001b[1;34m'scorings'\u001b[0m\u001b[1;33m]\u001b[0m\u001b[1;33m,\u001b[0m \u001b[0mignore_index\u001b[0m \u001b[1;33m=\u001b[0m \u001b[1;32mTrue\u001b[0m\u001b[1;33m)\u001b[0m\u001b[1;33m\u001b[0m\u001b[1;33m\u001b[0m\u001b[0m\n",
      "\u001b[1;31mKeyError\u001b[0m: 'scorings'"
     ]
    }
   ],
   "source": [
    "hyperopt_printer(trials)\n",
    "json_export(scorings)\n",
    "scorings_to_df(scorings)"
   ]
  },
  {
   "cell_type": "code",
   "execution_count": null,
   "id": "14f3205e-8be5-4154-8c45-94e376e408f4",
   "metadata": {},
   "outputs": [],
   "source": []
  },
  {
   "cell_type": "code",
   "execution_count": null,
   "id": "8a7f5c6a-ce67-4afd-bfea-04c8b3ca5fbe",
   "metadata": {},
   "outputs": [],
   "source": []
  },
  {
   "cell_type": "code",
   "execution_count": null,
   "id": "d1e403f1-af0f-42e9-bd1b-cfedc12c5c41",
   "metadata": {},
   "outputs": [],
   "source": []
  },
  {
   "cell_type": "code",
   "execution_count": null,
   "id": "adb2b176-7934-408f-a0e7-b8f982e2e420",
   "metadata": {},
   "outputs": [],
   "source": []
  },
  {
   "cell_type": "code",
   "execution_count": null,
   "id": "0bc2da3f-50aa-407b-ac24-1e8e8330cba7",
   "metadata": {
    "tags": []
   },
   "outputs": [],
   "source": [
    "# plot_model(anom_model, plot = 'tsne')\n",
    "# plot_model(anom_model, plot = 'umap')"
   ]
  },
  {
   "cell_type": "code",
   "execution_count": null,
   "id": "bebb2d6a-fe7d-4610-8be2-a2fdb00eefb5",
   "metadata": {},
   "outputs": [],
   "source": [
    "df_test = df[100000:200000]\n",
    "predictions = predict_model(iforest, data = df_test)\n",
    "predictions.head()"
   ]
  },
  {
   "cell_type": "code",
   "execution_count": null,
   "id": "bf937537-c6c0-43b5-b72e-b7680ae22e27",
   "metadata": {},
   "outputs": [],
   "source": [
    "save_model(model = iforest, model_name = 'iforest_model')"
   ]
  },
  {
   "cell_type": "code",
   "execution_count": null,
   "id": "805a6cd0-eb2f-40a1-afb8-b8017e62838f",
   "metadata": {},
   "outputs": [],
   "source": [
    "loaded_model = load_model('iforest_model')\n",
    "type(loaded_model)"
   ]
  },
  {
   "cell_type": "code",
   "execution_count": null,
   "id": "b03b48b6-704a-472b-a3ba-36007afdaf49",
   "metadata": {},
   "outputs": [],
   "source": [
    "df_test = df[100000:200000]\n",
    "loaded_model.predict(df_test)"
   ]
  },
  {
   "cell_type": "code",
   "execution_count": null,
   "id": "9a215795-9be1-45b7-9dfd-867a619157b9",
   "metadata": {},
   "outputs": [],
   "source": [
    "loaded_model.predict_proba(df_test)"
   ]
  },
  {
   "cell_type": "code",
   "execution_count": null,
   "id": "add54388-1620-4e4e-8277-e8a83b95f4e2",
   "metadata": {},
   "outputs": [],
   "source": [
    "loaded_model.decision_function(df_test)"
   ]
  },
  {
   "cell_type": "code",
   "execution_count": null,
   "id": "6820df5c-39c6-47a7-ac7c-f061704db2ab",
   "metadata": {},
   "outputs": [],
   "source": []
  }
 ],
 "metadata": {
  "kernelspec": {
   "display_name": "Python 3 (ipykernel)",
   "language": "python",
   "name": "python3"
  },
  "language_info": {
   "codemirror_mode": {
    "name": "ipython",
    "version": 3
   },
   "file_extension": ".py",
   "mimetype": "text/x-python",
   "name": "python",
   "nbconvert_exporter": "python",
   "pygments_lexer": "ipython3",
   "version": "3.9.7"
  },
  "toc-autonumbering": false
 },
 "nbformat": 4,
 "nbformat_minor": 5
}
