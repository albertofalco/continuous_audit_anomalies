{
 "cells": [
  {
   "cell_type": "markdown",
   "id": "45178782-ce4f-4e19-a9ef-b842b61111b0",
   "metadata": {
    "tags": []
   },
   "source": [
    "# Detección de anomalías en un marco de auditoría continua"
   ]
  },
  {
   "cell_type": "markdown",
   "id": "fed88766-bab0-4f25-8a57-a39ee3aafe62",
   "metadata": {
    "tags": []
   },
   "source": [
    "## 6.3. Modelos no supervisados"
   ]
  },
  {
   "cell_type": "markdown",
   "id": "f60a48bc-39e0-4c20-9fa4-bd837e36ef05",
   "metadata": {
    "tags": []
   },
   "source": [
    "### 6.3.1. Split del dataset"
   ]
  },
  {
   "cell_type": "markdown",
   "id": "6b8292a8-6dad-4e5e-b2b7-79d82f02b355",
   "metadata": {},
   "source": [
    "Split del dataset para reservar un conjunto de datos para validación posterior al entrenamiento y desarrollo de los modelos."
   ]
  },
  {
   "cell_type": "code",
   "execution_count": 1,
   "id": "34abc86a-3934-43e5-81e3-fc7572f6efe2",
   "metadata": {
    "tags": []
   },
   "outputs": [],
   "source": [
    "# Importación de librerías\n",
    "import pandas as pd\n",
    "import numpy as np\n",
    "import os\n",
    "import time\n",
    "import joblib\n",
    "import math\n",
    "import matplotlib.pyplot as plt"
   ]
  },
  {
   "cell_type": "code",
   "execution_count": 2,
   "id": "ed0f8e1a-861c-4f05-b91d-1ff4633d449c",
   "metadata": {
    "tags": []
   },
   "outputs": [],
   "source": [
    "# Filtro de warnings.\n",
    "import warnings\n",
    "warnings.filterwarnings(\"ignore\")"
   ]
  },
  {
   "cell_type": "code",
   "execution_count": 3,
   "id": "dfce9a50-3d76-455d-b157-32a36f496b8a",
   "metadata": {
    "tags": []
   },
   "outputs": [
    {
     "data": {
      "text/html": [
       "<div>\n",
       "<style scoped>\n",
       "    .dataframe tbody tr th:only-of-type {\n",
       "        vertical-align: middle;\n",
       "    }\n",
       "\n",
       "    .dataframe tbody tr th {\n",
       "        vertical-align: top;\n",
       "    }\n",
       "\n",
       "    .dataframe thead th {\n",
       "        text-align: right;\n",
       "    }\n",
       "</style>\n",
       "<table border=\"1\" class=\"dataframe\">\n",
       "  <thead>\n",
       "    <tr style=\"text-align: right;\">\n",
       "      <th></th>\n",
       "      <th>day</th>\n",
       "      <th>hour</th>\n",
       "      <th>amount</th>\n",
       "      <th>idOrig</th>\n",
       "      <th>oldbalanceOrig</th>\n",
       "      <th>newbalanceOrig</th>\n",
       "      <th>idDest</th>\n",
       "      <th>oldbalanceDest</th>\n",
       "      <th>newbalanceDest</th>\n",
       "      <th>Cash_in</th>\n",
       "      <th>Cash_out</th>\n",
       "      <th>Debit</th>\n",
       "      <th>Payment</th>\n",
       "      <th>Transfer</th>\n",
       "      <th>isFraud</th>\n",
       "      <th>isFlaggedFraud</th>\n",
       "    </tr>\n",
       "  </thead>\n",
       "  <tbody>\n",
       "    <tr>\n",
       "      <th>0</th>\n",
       "      <td>1</td>\n",
       "      <td>1</td>\n",
       "      <td>9839.64</td>\n",
       "      <td>0</td>\n",
       "      <td>170136.0</td>\n",
       "      <td>160296.36</td>\n",
       "      <td>6353307</td>\n",
       "      <td>0.0</td>\n",
       "      <td>0.0</td>\n",
       "      <td>0</td>\n",
       "      <td>0</td>\n",
       "      <td>0</td>\n",
       "      <td>1</td>\n",
       "      <td>0</td>\n",
       "      <td>0</td>\n",
       "      <td>0</td>\n",
       "    </tr>\n",
       "    <tr>\n",
       "      <th>1</th>\n",
       "      <td>1</td>\n",
       "      <td>1</td>\n",
       "      <td>1864.28</td>\n",
       "      <td>1</td>\n",
       "      <td>21249.0</td>\n",
       "      <td>19384.72</td>\n",
       "      <td>6353308</td>\n",
       "      <td>0.0</td>\n",
       "      <td>0.0</td>\n",
       "      <td>0</td>\n",
       "      <td>0</td>\n",
       "      <td>0</td>\n",
       "      <td>1</td>\n",
       "      <td>0</td>\n",
       "      <td>0</td>\n",
       "      <td>0</td>\n",
       "    </tr>\n",
       "    <tr>\n",
       "      <th>2</th>\n",
       "      <td>1</td>\n",
       "      <td>1</td>\n",
       "      <td>181.00</td>\n",
       "      <td>2</td>\n",
       "      <td>181.0</td>\n",
       "      <td>0.00</td>\n",
       "      <td>6353309</td>\n",
       "      <td>0.0</td>\n",
       "      <td>0.0</td>\n",
       "      <td>0</td>\n",
       "      <td>0</td>\n",
       "      <td>0</td>\n",
       "      <td>0</td>\n",
       "      <td>1</td>\n",
       "      <td>1</td>\n",
       "      <td>0</td>\n",
       "    </tr>\n",
       "    <tr>\n",
       "      <th>3</th>\n",
       "      <td>1</td>\n",
       "      <td>1</td>\n",
       "      <td>181.00</td>\n",
       "      <td>3</td>\n",
       "      <td>181.0</td>\n",
       "      <td>0.00</td>\n",
       "      <td>6353310</td>\n",
       "      <td>21182.0</td>\n",
       "      <td>0.0</td>\n",
       "      <td>0</td>\n",
       "      <td>1</td>\n",
       "      <td>0</td>\n",
       "      <td>0</td>\n",
       "      <td>0</td>\n",
       "      <td>1</td>\n",
       "      <td>0</td>\n",
       "    </tr>\n",
       "    <tr>\n",
       "      <th>4</th>\n",
       "      <td>1</td>\n",
       "      <td>1</td>\n",
       "      <td>11668.14</td>\n",
       "      <td>4</td>\n",
       "      <td>41554.0</td>\n",
       "      <td>29885.86</td>\n",
       "      <td>6353311</td>\n",
       "      <td>0.0</td>\n",
       "      <td>0.0</td>\n",
       "      <td>0</td>\n",
       "      <td>0</td>\n",
       "      <td>0</td>\n",
       "      <td>1</td>\n",
       "      <td>0</td>\n",
       "      <td>0</td>\n",
       "      <td>0</td>\n",
       "    </tr>\n",
       "  </tbody>\n",
       "</table>\n",
       "</div>"
      ],
      "text/plain": [
       "   day  hour    amount  idOrig  oldbalanceOrig  newbalanceOrig   idDest  \\\n",
       "0    1     1   9839.64       0        170136.0       160296.36  6353307   \n",
       "1    1     1   1864.28       1         21249.0        19384.72  6353308   \n",
       "2    1     1    181.00       2           181.0            0.00  6353309   \n",
       "3    1     1    181.00       3           181.0            0.00  6353310   \n",
       "4    1     1  11668.14       4         41554.0        29885.86  6353311   \n",
       "\n",
       "   oldbalanceDest  newbalanceDest  Cash_in  Cash_out  Debit  Payment  \\\n",
       "0             0.0             0.0        0         0      0        1   \n",
       "1             0.0             0.0        0         0      0        1   \n",
       "2             0.0             0.0        0         0      0        0   \n",
       "3         21182.0             0.0        0         1      0        0   \n",
       "4             0.0             0.0        0         0      0        1   \n",
       "\n",
       "   Transfer  isFraud  isFlaggedFraud  \n",
       "0         0        0               0  \n",
       "1         0        0               0  \n",
       "2         1        1               0  \n",
       "3         0        1               0  \n",
       "4         0        0               0  "
      ]
     },
     "execution_count": 3,
     "metadata": {},
     "output_type": "execute_result"
    }
   ],
   "source": [
    "# Carga del dataset.\n",
    "df = pd.read_csv('df_preprocessed.csv')\n",
    "df.head()"
   ]
  },
  {
   "cell_type": "code",
   "execution_count": 4,
   "id": "21deb723-7d15-4dae-84c3-a10805517fd5",
   "metadata": {
    "tags": []
   },
   "outputs": [],
   "source": [
    "# Split del dataset para reservar un conjunto de validación.\n",
    "from sklearn.model_selection import train_test_split\n",
    "df_training, df_validation = train_test_split(df, test_size = 0.2, random_state = 42, shuffle = True, stratify = np.array(df['isFraud']))"
   ]
  },
  {
   "cell_type": "code",
   "execution_count": 5,
   "id": "cbd0b110-12d5-4e21-81f8-a58e9f0450ce",
   "metadata": {
    "tags": []
   },
   "outputs": [
    {
     "name": "stdout",
     "output_type": "stream",
     "text": [
      "Proporcion de clases para dataset de training: 0.0013\n",
      "Proporcion de clases para dataset de validación: 0.0013\n"
     ]
    }
   ],
   "source": [
    "# Control de frecuencias de clases.\n",
    "print('Proporcion de clases para dataset de training: %.4f' % (df_training['isFraud'].value_counts()[1] / df_training['isFraud'].value_counts()[0]))\n",
    "print('Proporcion de clases para dataset de validación: %.4f' % (df_validation['isFraud'].value_counts()[1] / df_validation['isFraud'].value_counts()[0]))"
   ]
  },
  {
   "cell_type": "code",
   "execution_count": 6,
   "id": "13d10a97-f510-4cc2-8a39-8f68b97222bf",
   "metadata": {
    "tags": []
   },
   "outputs": [],
   "source": [
    "# Separación del dataset en variable a predecir y predictores\n",
    "X = df_training.drop(labels = ['isFraud', 'isFlaggedFraud'], axis = 1, inplace = False)\n",
    "y = df_training['isFraud']"
   ]
  },
  {
   "cell_type": "markdown",
   "id": "f4eb0ecb-ba16-4839-9715-9f08bb73678b",
   "metadata": {
    "jp-MarkdownHeadingCollapsed": true,
    "tags": []
   },
   "source": [
    "### 6.3.2. Clustering - K-Means"
   ]
  },
  {
   "cell_type": "markdown",
   "id": "9dbe7686-cb22-4680-b97c-68c483ae445f",
   "metadata": {},
   "source": [
    "https://scikit-learn.org/stable/modules/clustering.html#clustering\n",
    "\n",
    "https://scikit-learn.org/stable/modules/generated/sklearn.cluster.KMeans.html?highlight=kmeans#sklearn.cluster.KMeans"
   ]
  },
  {
   "cell_type": "markdown",
   "id": "f56af4ba-0c6e-404a-aae4-1220dbfd01fe",
   "metadata": {},
   "source": [
    "Clase mayoritaria"
   ]
  },
  {
   "cell_type": "code",
   "execution_count": null,
   "id": "87713ed0-d973-4cab-a6e5-3cbe2a9fa8c8",
   "metadata": {},
   "outputs": [],
   "source": [
    "X_backup = X.copy()\n",
    "y_backup = y.copy()"
   ]
  },
  {
   "cell_type": "code",
   "execution_count": null,
   "id": "fee57981-926f-41ca-ad09-6e80c65cff8b",
   "metadata": {
    "tags": []
   },
   "outputs": [],
   "source": [
    "X = X_backup.copy()\n",
    "y = y_backup.copy()"
   ]
  },
  {
   "cell_type": "code",
   "execution_count": null,
   "id": "4cc43b4d-4abd-4241-9e57-7a3f8dd9f1e7",
   "metadata": {},
   "outputs": [],
   "source": [
    "import itertools\n",
    "\n",
    "# Espacio de soluciones.\n",
    "items =  ['day', 'hour', 'idOrig', 'idDest']\n",
    "combinations = []\n",
    "for item in range(0, len(items) + 1):\n",
    "    for subset in itertools.combinations(items, item):\n",
    "        combinations.append(list(subset))"
   ]
  },
  {
   "cell_type": "code",
   "execution_count": null,
   "id": "4a8dd467-88ba-4f23-a003-1875c0ba03ee",
   "metadata": {
    "tags": []
   },
   "outputs": [],
   "source": [
    "from sklearn.model_selection import train_test_split\n",
    "from sklearn.cluster import KMeans\n",
    "from sklearn.preprocessing import MaxAbsScaler, MinMaxScaler, RobustScaler, StandardScaler\n",
    "from sklearn.metrics import f1_score, recall_score, precision_score, roc_auc_score, accuracy_score\n",
    "from hyperopt import fmin, hp, tpe, space_eval, Trials\n",
    "from hyperopt.early_stop import no_progress_loss\n",
    "\n",
    "# Split del dataset en train, test.\n",
    "train, test = train_test_split(df_training, train_size = 0.8, random_state = 42, shuffle = True, stratify = y)\n",
    "X_train = train.drop(labels = ['isFraud', 'isFlaggedFraud'], axis = 1, inplace = False)\n",
    "X_test = test.drop(labels = ['isFraud', 'isFlaggedFraud'], axis = 1, inplace = False)\n",
    "y_train = train['isFraud']\n",
    "y_test = test['isFraud']\n",
    "\n",
    "# Definición del espacio / dominio de parámetros.\n",
    "search_space = {'scaler': hp.choice('scaler', [None, RobustScaler(), StandardScaler(), MinMaxScaler(), MaxAbsScaler()]),\n",
    "                'filter': hp.choice('filter', combinations),\n",
    "                'params': {'n_clusters' : 2,\n",
    "                           'max_iter': hp.randint('b', 20, 500),\n",
    "                           'n_init': hp.randint('n_init', 1, 50),\n",
    "                           'tol': 0.0001,\n",
    "                           'algorithm': hp.choice('algorithm', ['auto', 'full', 'elkan'])\n",
    "                          }\n",
    "               }\n",
    "\n",
    "# Definición de la función objetivo.\n",
    "def objective_func(search_space):\n",
    "    \n",
    "    global counter, scorings\n",
    "    start_time = time.time()\n",
    "    counter += 1\n",
    "       \n",
    "    if search_space['scaler'] == None:\n",
    "        None\n",
    "    else:\n",
    "        scaler = search_space['scaler']\n",
    "        scaler.fit_transform(X_train)\n",
    "        scaler.fit_transform(X_test)\n",
    "    \n",
    "    kmeans = KMeans(**search_space['params'], random_state = 42)\n",
    "    kmeans = kmeans.fit(X = X_train)\n",
    "    y_pred = kmeans.predict(X_test)\n",
    "    \n",
    "    if sum(y_pred) <= (len(y_pred) - sum(y_pred)):\n",
    "        None\n",
    "    else:\n",
    "        for i, j in enumerate(y_pred):\n",
    "            if j == 0:\n",
    "                y_pred[i] = 1\n",
    "            else:\n",
    "                y_pred[i] = 0\n",
    "      \n",
    "    loss = 1 - f1_score(y_test, y_pred)\n",
    "\n",
    "    scorings.append({'trial': counter,\n",
    "                     'search_space' : str(search_space),\n",
    "                     'scorings' : {'Recall': recall_score(y_test, y_pred),\n",
    "                                   'Precision': precision_score(y_test, y_pred),\n",
    "                                   'AUC': roc_auc_score(y_test, y_pred),\n",
    "                                   'Accuracy': accuracy_score(y_test, y_pred),\n",
    "                                   'F1-Score': f1_score(y_test, y_pred)}\n",
    "                    }\n",
    "                   )\n",
    "    \n",
    "    elapsed_time = time.time() - start_time\n",
    "    \n",
    "    print('Trial: %i | Loss: %.4f | Elapsed_time: %.4f seconds' % (counter, loss, elapsed_time))\n",
    "    \n",
    "    return loss\n",
    "\n",
    "# Ejecución del optimizador.\n",
    "counter = -1\n",
    "scorings = []\n",
    "rstate = np.random.default_rng(42)\n",
    "trials = Trials() # Para el logging de resultados.\n",
    "best_params = fmin(fn = objective_func, space = search_space, algo = tpe.suggest, max_evals = 100, trials = trials, rstate = rstate)"
   ]
  },
  {
   "cell_type": "markdown",
   "id": "99e78526-10fa-402e-b6fb-e69016041e01",
   "metadata": {
    "jp-MarkdownHeadingCollapsed": true,
    "tags": []
   },
   "source": [
    "### 6.3.3. Detección de anomalías utilizando la Ley de Benford"
   ]
  },
  {
   "cell_type": "markdown",
   "id": "95391a41-5f01-4877-9ab9-d57fd085c6bb",
   "metadata": {},
   "source": [
    "https://towardsdatascience.com/frawd-detection-using-benfords-law-python-code-9db8db474cf8\n",
    "\n",
    "https://github.com/eleprocha/Benford-s-Law_python_code/blob/master/code"
   ]
  },
  {
   "cell_type": "code",
   "execution_count": 7,
   "id": "41b980b1-ac7c-43ac-a9ab-00c92785e159",
   "metadata": {},
   "outputs": [
    {
     "name": "stdout",
     "output_type": "stream",
     "text": [
      "                    count       mean        std    min        25%        50%        75%          max\n",
      "day            6362620.00      10.49       5.92   1.00       7.00      10.00      14.00        31.00\n",
      "hour           6362620.00       8.37       4.56   1.00       6.00       8.00      11.00        24.00\n",
      "amount         6362620.00  179861.90  603858.23   0.00   13389.57   74871.94  208721.48  92445516.64\n",
      "idOrig         6362620.00 3175068.41 1834059.22   0.00 1586504.75 3174301.50 4763206.25   6353306.00\n",
      "oldbalanceOrig 6362620.00  833883.10 2888242.67   0.00       0.00   14208.00  107315.18  59585040.37\n",
      "newbalanceOrig 6362620.00  855113.67 2924048.50   0.00       0.00       0.00  144258.41  49585040.37\n",
      "idDest         6362620.00 7275614.81  795239.09 571.00 6611227.00 7083926.00 7842574.25   9073899.00\n",
      "oldbalanceDest 6362620.00 1100701.67 3399180.11   0.00       0.00  132705.66  943036.71 356015889.35\n",
      "newbalanceDest 6362620.00 1224996.40 3674128.94   0.00       0.00  214661.44 1111909.25 356179278.92\n",
      "Cash_in        6362620.00       0.22       0.41   0.00       0.00       0.00       0.00         1.00\n",
      "Cash_out       6362620.00       0.35       0.48   0.00       0.00       0.00       1.00         1.00\n",
      "Debit          6362620.00       0.01       0.08   0.00       0.00       0.00       0.00         1.00\n",
      "Payment        6362620.00       0.34       0.47   0.00       0.00       0.00       1.00         1.00\n",
      "Transfer       6362620.00       0.08       0.28   0.00       0.00       0.00       0.00         1.00\n",
      "isFraud        6362620.00       0.00       0.04   0.00       0.00       0.00       0.00         1.00\n",
      "isFlaggedFraud 6362620.00       0.00       0.00   0.00       0.00       0.00       0.00         1.00\n",
      "\n",
      "<class 'pandas.core.frame.DataFrame'>\n",
      "RangeIndex: 6362620 entries, 0 to 6362619\n",
      "Data columns (total 16 columns):\n",
      " #   Column          Dtype  \n",
      "---  ------          -----  \n",
      " 0   day             int64  \n",
      " 1   hour            int64  \n",
      " 2   amount          float64\n",
      " 3   idOrig          int64  \n",
      " 4   oldbalanceOrig  float64\n",
      " 5   newbalanceOrig  float64\n",
      " 6   idDest          int64  \n",
      " 7   oldbalanceDest  float64\n",
      " 8   newbalanceDest  float64\n",
      " 9   Cash_in         int64  \n",
      " 10  Cash_out        int64  \n",
      " 11  Debit           int64  \n",
      " 12  Payment         int64  \n",
      " 13  Transfer        int64  \n",
      " 14  isFraud         int64  \n",
      " 15  isFlaggedFraud  int64  \n",
      "dtypes: float64(5), int64(11)\n",
      "memory usage: 776.7 MB\n",
      "None\n",
      "\n",
      "day               0\n",
      "hour              0\n",
      "amount            0\n",
      "idOrig            0\n",
      "oldbalanceOrig    0\n",
      "newbalanceOrig    0\n",
      "idDest            0\n",
      "oldbalanceDest    0\n",
      "newbalanceDest    0\n",
      "Cash_in           0\n",
      "Cash_out          0\n",
      "Debit             0\n",
      "Payment           0\n",
      "Transfer          0\n",
      "isFraud           0\n",
      "isFlaggedFraud    0\n",
      "dtype: int64\n"
     ]
    }
   ],
   "source": [
    "# Configuración de número de decimales.\n",
    "pd.options.display.float_format = '{:.2f}'.format\n",
    "\n",
    "# Analisis exploratorio de datos.      \n",
    "with pd.option_context('display.max_rows', None, 'display.max_columns', 10, 'display.width', 1000):\n",
    "    print(df.describe().transpose())\n",
    "print()\n",
    "print(df.info())\n",
    "print()\n",
    "print(df.isnull().sum())"
   ]
  },
  {
   "cell_type": "code",
   "execution_count": 10,
   "id": "a19d2aa1-791e-401b-a974-94cff31c989a",
   "metadata": {},
   "outputs": [],
   "source": [
    "# Función para el cálculo de frecuencias relativas.\n",
    "def count_first_digit(data_str):\n",
    "    mask=df[data_str]>1.\n",
    "    data=list(df[mask][data_str])\n",
    "    for i in range(len(data)):\n",
    "        while data[i]>10:\n",
    "            data[i]=data[i]/10\n",
    "    first_digits=[int(x) for x in sorted(data)]\n",
    "    unique=(set(first_digits))#a list with unique values of     first_digit list\n",
    "    data_count=[]\n",
    "    for i in unique:\n",
    "        count=first_digits.count(i)\n",
    "        data_count.append(count)\n",
    "    total_count=sum(data_count)\n",
    "    data_percentage=[(i/total_count)*100 for i in data_count]\n",
    "    return  total_count,data_count, data_percentage\n",
    "\n",
    "total_count, data_count, data_percentage = count_first_digit('amount')"
   ]
  },
  {
   "cell_type": "code",
   "execution_count": 25,
   "id": "aa1118cd-769d-45c2-9555-d93f8b1f50c3",
   "metadata": {},
   "outputs": [],
   "source": [
    "BENFORD = [30.1, 17.6, 12.5, 9.7, 7.9, 6.7, 5.8, 5.1, 4.6]"
   ]
  },
  {
   "cell_type": "code",
   "execution_count": 26,
   "id": "5b1f7150-c146-4334-a3df-0fbf1e3591fc",
   "metadata": {},
   "outputs": [],
   "source": [
    "def get_expected_counts(total_count):\n",
    "    # Benford's Law percentages for leading digits 1-9\n",
    "    BENFORD = [30.1, 17.6, 12.5, 9.7, 7.9, 6.7, 5.8, 5.1, 4.6]\n",
    "    \"\"\"Return list of expected Benford's Law counts for total sample count.\"\"\"\n",
    "    return [round(p * total_count / 100) for p in BENFORD]\n",
    "expected_counts=get_expected_counts(total_count)"
   ]
  },
  {
   "cell_type": "code",
   "execution_count": 13,
   "id": "077325b5-15b2-46dc-8338-cd762b0b32fb",
   "metadata": {},
   "outputs": [
    {
     "data": {
      "text/plain": [
       "[2134173,\n",
       " 1302139,\n",
       " 798406,\n",
       " 526686,\n",
       " 395748,\n",
       " 334283,\n",
       " 305911,\n",
       " 287550,\n",
       " 274247,\n",
       " 3344]"
      ]
     },
     "execution_count": 13,
     "metadata": {},
     "output_type": "execute_result"
    }
   ],
   "source": [
    "data_count"
   ]
  },
  {
   "cell_type": "code",
   "execution_count": 12,
   "id": "15ed5a0b-eff9-4edd-b9f5-75bf344702ec",
   "metadata": {},
   "outputs": [
    {
     "data": {
      "text/plain": [
       "[1915109, 1119798, 795311, 617161, 502636, 426287, 369024, 324487, 292674]"
      ]
     },
     "execution_count": 12,
     "metadata": {},
     "output_type": "execute_result"
    }
   ],
   "source": [
    "expected_counts"
   ]
  },
  {
   "cell_type": "code",
   "execution_count": 16,
   "id": "aefa1553-7b0e-442a-b4a3-9f2c757525ed",
   "metadata": {},
   "outputs": [
    {
     "name": "stdout",
     "output_type": "stream",
     "text": [
      "\n",
      "Chi-squared Test Statistic = 126770.925\n",
      "Critical value at a P-value of 0.05 is 15.51.\n"
     ]
    },
    {
     "data": {
      "text/plain": [
       "False"
      ]
     },
     "execution_count": 16,
     "metadata": {},
     "output_type": "execute_result"
    }
   ],
   "source": [
    "def chi_square_test(data_count,expected_counts):\n",
    "    \"\"\"Return boolean on chi-square test (8 degrees of freedom & P-val=0.05).\"\"\"\n",
    "    chi_square_stat = 0  # chi square test statistic\n",
    "    for data, expected in zip(data_count,expected_counts):\n",
    "\n",
    "        chi_square = math.pow(data - expected, 2)\n",
    "\n",
    "        chi_square_stat += chi_square / expected\n",
    "\n",
    "    print(\"\\nChi-squared Test Statistic = {:.3f}\".format(chi_square_stat))\n",
    "    print(\"Critical value at a P-value of 0.05 is 15.51.\")    \n",
    "    return chi_square_stat < 15.51\n",
    "\n",
    "chi_square_test(data_count,expected_counts)"
   ]
  },
  {
   "cell_type": "code",
   "execution_count": 23,
   "id": "f03654a9-c262-4fd6-a6c4-3ebb0e86ede9",
   "metadata": {},
   "outputs": [],
   "source": [
    "#1st_bar_chart\n",
    "def bar_chart(data_pct):\n",
    "    \"\"\"Make bar chart of observed vs expected 1st digit frequency in percent.\"\"\"\n",
    "    fig, ax = plt.subplots()\n",
    "    index = [i + 1 for i in range(len(data_pct))]  # 1st digits for x-axis\n",
    "    # text for labels, title and ticks\n",
    "\n",
    "    fig.canvas.set_window_title('Percentage First Digits')\n",
    "\n",
    "    ax.set_title('Data vs. Benford Values', fontsize=15)\n",
    "\n",
    "    ax.set_ylabel('Frequency (%)', fontsize=16)\n",
    "\n",
    "    ax.set_xticks(index)\n",
    "\n",
    "    ax.set_xticklabels(index, fontsize=14)\n",
    "\n",
    "\n",
    "\n",
    "    # build bars    \n",
    "\n",
    "    rects = ax.bar(index, data_pct, width=0.95, color='black', label='Data')\n",
    "\n",
    "\n",
    "\n",
    "    # attach a text label above each bar displaying its height\n",
    "\n",
    "    for rect in rects:\n",
    "\n",
    "        height = rect.get_height()\n",
    "\n",
    "        ax.text(rect.get_x() + rect.get_width()/2, height,\n",
    "\n",
    "                '{:0.1f}'.format(height), ha='center', va='bottom', \n",
    "\n",
    "                fontsize=13)\n",
    "\n",
    "\n",
    "\n",
    "    # plot Benford values as red dots\n",
    "\n",
    "    ax.scatter(index, BENFORD, s=150, c='red', zorder=2, label='Benford')\n",
    "\n",
    "\n",
    "\n",
    "    # Hide the right and top spines & add legend\n",
    "\n",
    "    ax.spines['right'].set_visible(False)\n",
    "\n",
    "    ax.spines['top'].set_visible(False)\n",
    "\n",
    "    ax.legend(prop={'size':15}, frameon=False)\n",
    "\n",
    "    \n",
    "\n",
    "    plt.show()"
   ]
  },
  {
   "cell_type": "code",
   "execution_count": 21,
   "id": "122ab77f-a8a7-4466-80a2-c59faf323161",
   "metadata": {},
   "outputs": [],
   "source": [
    "index = [i + 1 for i in range(len(data_count))]"
   ]
  },
  {
   "cell_type": "code",
   "execution_count": 37,
   "id": "3c0c0e57-2d02-4fe7-ad2c-53ac1d9d1922",
   "metadata": {},
   "outputs": [
    {
     "data": {
      "image/png": "[encoded data removed]",
      "text/plain": [
       "<Figure size 432x288 with 1 Axes>"
      ]
     },
     "metadata": {
      "needs_background": "light"
     },
     "output_type": "display_data"
    }
   ],
   "source": [
    "import matplotlib.pyplot as plt\n",
    "bar_chart(data_percentage[0:9])"
   ]
  },
  {
   "cell_type": "markdown",
   "id": "ea2cc084-467c-4da1-9ca6-af8fe4ea2d13",
   "metadata": {
    "jp-MarkdownHeadingCollapsed": true,
    "tags": []
   },
   "source": [
    "### 6.3.4. Detección de anomalías utilizando métodos univariados"
   ]
  },
  {
   "cell_type": "markdown",
   "id": "407497de-b803-427b-a842-ad53bbf506f2",
   "metadata": {},
   "source": [
    "https://medium.com/analytics-vidhya/anomaly-detection-in-python-part-1-basics-code-and-standard-algorithms-37d022cdbcff\n",
    "\n",
    "https://towardsdatascience.com/anomaly-detection-in-python-part-2-multivariate-unsupervised-methods-and-code-b311a63f298b"
   ]
  },
  {
   "cell_type": "code",
   "execution_count": 132,
   "id": "bf0bec25-2acd-4213-85a6-a8d63a1ac034",
   "metadata": {},
   "outputs": [
    {
     "data": {
      "image/png": "[encoded data removed]",
      "text/plain": [
       "<Figure size 1800x360 with 1 Axes>"
      ]
     },
     "metadata": {
      "needs_background": "light"
     },
     "output_type": "display_data"
    },
    {
     "data": {
      "image/png": "[encoded data removed]",
      "text/plain": [
       "<Figure size 1800x360 with 1 Axes>"
      ]
     },
     "metadata": {
      "needs_background": "light"
     },
     "output_type": "display_data"
    },
    {
     "data": {
      "image/png": "[encoded data removed]",
      "text/plain": [
       "<Figure size 1800x360 with 1 Axes>"
      ]
     },
     "metadata": {
      "needs_background": "light"
     },
     "output_type": "display_data"
    }
   ],
   "source": [
    "# Box plot por atributo.\n",
    "def hist_chart(column_name):\n",
    "    fig, ax = plt.subplots(figsize = (25, 5))\n",
    "    fig.canvas.set_window_title('Histogram Chart')\n",
    "    ax.set_title('Histogram Chart: ' + column_name.capitalize(), fontsize = 15)\n",
    "    ax.boxplot(x = df.loc[:, column_name], vert = False, whis = 2.5, )\n",
    "    plt.show()\n",
    "\n",
    "hist_chart('day')\n",
    "hist_chart('hour')\n",
    "hist_chart('amount')"
   ]
  },
  {
   "cell_type": "code",
   "execution_count": 138,
   "id": "abf47e5e-bdf5-41bc-ac78-a120e54e51d8",
   "metadata": {},
   "outputs": [
    {
     "data": {
      "image/png": "[encoded data removed]",
      "text/plain": [
       "<Figure size 1800x360 with 1 Axes>"
      ]
     },
     "metadata": {
      "needs_background": "light"
     },
     "output_type": "display_data"
    },
    {
     "data": {
      "image/png": "[encoded data removed]",
      "text/plain": [
       "<Figure size 1800x360 with 1 Axes>"
      ]
     },
     "metadata": {
      "needs_background": "light"
     },
     "output_type": "display_data"
    },
    {
     "data": {
      "image/png": "[encoded data removed]",
      "text/plain": [
       "<Figure size 1800x360 with 1 Axes>"
      ]
     },
     "metadata": {
      "needs_background": "light"
     },
     "output_type": "display_data"
    }
   ],
   "source": [
    "# Box plot por atributo.\n",
    "def hist_chart(column_name):\n",
    "    data = df.loc[df.loc[:, 'amount'] <= 100000, 'amount']\n",
    "    fig, ax = plt.subplots(figsize = (25, 5))\n",
    "    fig.canvas.set_window_title('Histogram Chart')\n",
    "    ax.set_title('Histogram Chart: ' + column_name.capitalize(), fontsize = 15)\n",
    "    ax.set_ylabel('Frequency', fontsize = 16)\n",
    "    ax.hist(x = data)\n",
    "    plt.show()\n",
    "\n",
    "hist_chart('day')\n",
    "hist_chart('hour')\n",
    "hist_chart('amount')"
   ]
  },
  {
   "cell_type": "code",
   "execution_count": 154,
   "id": "383a854c-a99b-400a-aa47-c79670377200",
   "metadata": {},
   "outputs": [
    {
     "data": {
      "text/html": [
       "<div>\n",
       "<style scoped>\n",
       "    .dataframe tbody tr th:only-of-type {\n",
       "        vertical-align: middle;\n",
       "    }\n",
       "\n",
       "    .dataframe tbody tr th {\n",
       "        vertical-align: top;\n",
       "    }\n",
       "\n",
       "    .dataframe thead th {\n",
       "        text-align: right;\n",
       "    }\n",
       "</style>\n",
       "<table border=\"1\" class=\"dataframe\">\n",
       "  <thead>\n",
       "    <tr style=\"text-align: right;\">\n",
       "      <th></th>\n",
       "      <th>day</th>\n",
       "      <th>hour</th>\n",
       "      <th>amount</th>\n",
       "      <th>idOrig</th>\n",
       "      <th>oldbalanceOrig</th>\n",
       "      <th>newbalanceOrig</th>\n",
       "      <th>idDest</th>\n",
       "      <th>oldbalanceDest</th>\n",
       "      <th>newbalanceDest</th>\n",
       "      <th>Cash_in</th>\n",
       "      <th>Cash_out</th>\n",
       "      <th>Debit</th>\n",
       "      <th>Payment</th>\n",
       "      <th>Transfer</th>\n",
       "      <th>isFraud</th>\n",
       "      <th>isFlaggedFraud</th>\n",
       "    </tr>\n",
       "  </thead>\n",
       "  <tbody>\n",
       "    <tr>\n",
       "      <th>85</th>\n",
       "      <td>1</td>\n",
       "      <td>1</td>\n",
       "      <td>1505626.01</td>\n",
       "      <td>85</td>\n",
       "      <td>0.00</td>\n",
       "      <td>0.00</td>\n",
       "      <td>6353390</td>\n",
       "      <td>29031.00</td>\n",
       "      <td>5515763.34</td>\n",
       "      <td>0</td>\n",
       "      <td>0</td>\n",
       "      <td>0</td>\n",
       "      <td>0</td>\n",
       "      <td>1</td>\n",
       "      <td>0</td>\n",
       "      <td>0</td>\n",
       "    </tr>\n",
       "    <tr>\n",
       "      <th>88</th>\n",
       "      <td>1</td>\n",
       "      <td>1</td>\n",
       "      <td>761507.39</td>\n",
       "      <td>88</td>\n",
       "      <td>0.00</td>\n",
       "      <td>0.00</td>\n",
       "      <td>6353389</td>\n",
       "      <td>1280036.23</td>\n",
       "      <td>19169204.93</td>\n",
       "      <td>0</td>\n",
       "      <td>0</td>\n",
       "      <td>0</td>\n",
       "      <td>0</td>\n",
       "      <td>1</td>\n",
       "      <td>0</td>\n",
       "      <td>0</td>\n",
       "    </tr>\n",
       "    <tr>\n",
       "      <th>89</th>\n",
       "      <td>1</td>\n",
       "      <td>1</td>\n",
       "      <td>1429051.47</td>\n",
       "      <td>89</td>\n",
       "      <td>0.00</td>\n",
       "      <td>0.00</td>\n",
       "      <td>6353389</td>\n",
       "      <td>2041543.62</td>\n",
       "      <td>19169204.93</td>\n",
       "      <td>0</td>\n",
       "      <td>0</td>\n",
       "      <td>0</td>\n",
       "      <td>0</td>\n",
       "      <td>1</td>\n",
       "      <td>0</td>\n",
       "      <td>0</td>\n",
       "    </tr>\n",
       "    <tr>\n",
       "      <th>94</th>\n",
       "      <td>1</td>\n",
       "      <td>1</td>\n",
       "      <td>1724887.05</td>\n",
       "      <td>94</td>\n",
       "      <td>0.00</td>\n",
       "      <td>0.00</td>\n",
       "      <td>6353389</td>\n",
       "      <td>3470595.10</td>\n",
       "      <td>19169204.93</td>\n",
       "      <td>0</td>\n",
       "      <td>0</td>\n",
       "      <td>0</td>\n",
       "      <td>0</td>\n",
       "      <td>1</td>\n",
       "      <td>0</td>\n",
       "      <td>0</td>\n",
       "    </tr>\n",
       "    <tr>\n",
       "      <th>95</th>\n",
       "      <td>1</td>\n",
       "      <td>1</td>\n",
       "      <td>710544.77</td>\n",
       "      <td>95</td>\n",
       "      <td>0.00</td>\n",
       "      <td>0.00</td>\n",
       "      <td>6353391</td>\n",
       "      <td>738531.50</td>\n",
       "      <td>16518.36</td>\n",
       "      <td>0</td>\n",
       "      <td>0</td>\n",
       "      <td>0</td>\n",
       "      <td>0</td>\n",
       "      <td>1</td>\n",
       "      <td>0</td>\n",
       "      <td>0</td>\n",
       "    </tr>\n",
       "    <tr>\n",
       "      <th>...</th>\n",
       "      <td>...</td>\n",
       "      <td>...</td>\n",
       "      <td>...</td>\n",
       "      <td>...</td>\n",
       "      <td>...</td>\n",
       "      <td>...</td>\n",
       "      <td>...</td>\n",
       "      <td>...</td>\n",
       "      <td>...</td>\n",
       "      <td>...</td>\n",
       "      <td>...</td>\n",
       "      <td>...</td>\n",
       "      <td>...</td>\n",
       "      <td>...</td>\n",
       "      <td>...</td>\n",
       "      <td>...</td>\n",
       "    </tr>\n",
       "    <tr>\n",
       "      <th>6362613</th>\n",
       "      <td>31</td>\n",
       "      <td>24</td>\n",
       "      <td>1258818.82</td>\n",
       "      <td>6353300</td>\n",
       "      <td>1258818.82</td>\n",
       "      <td>0.00</td>\n",
       "      <td>7447827</td>\n",
       "      <td>503464.50</td>\n",
       "      <td>1762283.33</td>\n",
       "      <td>0</td>\n",
       "      <td>1</td>\n",
       "      <td>0</td>\n",
       "      <td>0</td>\n",
       "      <td>0</td>\n",
       "      <td>1</td>\n",
       "      <td>0</td>\n",
       "    </tr>\n",
       "    <tr>\n",
       "      <th>6362616</th>\n",
       "      <td>31</td>\n",
       "      <td>24</td>\n",
       "      <td>6311409.28</td>\n",
       "      <td>6353303</td>\n",
       "      <td>6311409.28</td>\n",
       "      <td>0.00</td>\n",
       "      <td>9073898</td>\n",
       "      <td>0.00</td>\n",
       "      <td>0.00</td>\n",
       "      <td>0</td>\n",
       "      <td>0</td>\n",
       "      <td>0</td>\n",
       "      <td>0</td>\n",
       "      <td>1</td>\n",
       "      <td>1</td>\n",
       "      <td>0</td>\n",
       "    </tr>\n",
       "    <tr>\n",
       "      <th>6362617</th>\n",
       "      <td>31</td>\n",
       "      <td>24</td>\n",
       "      <td>6311409.28</td>\n",
       "      <td>6353304</td>\n",
       "      <td>6311409.28</td>\n",
       "      <td>0.00</td>\n",
       "      <td>7430575</td>\n",
       "      <td>68488.84</td>\n",
       "      <td>6379898.11</td>\n",
       "      <td>0</td>\n",
       "      <td>1</td>\n",
       "      <td>0</td>\n",
       "      <td>0</td>\n",
       "      <td>0</td>\n",
       "      <td>1</td>\n",
       "      <td>0</td>\n",
       "    </tr>\n",
       "    <tr>\n",
       "      <th>6362618</th>\n",
       "      <td>31</td>\n",
       "      <td>24</td>\n",
       "      <td>850002.52</td>\n",
       "      <td>6353305</td>\n",
       "      <td>850002.52</td>\n",
       "      <td>0.00</td>\n",
       "      <td>9073899</td>\n",
       "      <td>0.00</td>\n",
       "      <td>0.00</td>\n",
       "      <td>0</td>\n",
       "      <td>0</td>\n",
       "      <td>0</td>\n",
       "      <td>0</td>\n",
       "      <td>1</td>\n",
       "      <td>1</td>\n",
       "      <td>0</td>\n",
       "    </tr>\n",
       "    <tr>\n",
       "      <th>6362619</th>\n",
       "      <td>31</td>\n",
       "      <td>24</td>\n",
       "      <td>850002.52</td>\n",
       "      <td>6353306</td>\n",
       "      <td>850002.52</td>\n",
       "      <td>0.00</td>\n",
       "      <td>6622552</td>\n",
       "      <td>6510099.11</td>\n",
       "      <td>7360101.63</td>\n",
       "      <td>0</td>\n",
       "      <td>1</td>\n",
       "      <td>0</td>\n",
       "      <td>0</td>\n",
       "      <td>0</td>\n",
       "      <td>1</td>\n",
       "      <td>0</td>\n",
       "    </tr>\n",
       "  </tbody>\n",
       "</table>\n",
       "<p>204401 rows × 16 columns</p>\n",
       "</div>"
      ],
      "text/plain": [
       "         day  hour     amount   idOrig  oldbalanceOrig  newbalanceOrig  \\\n",
       "85         1     1 1505626.01       85            0.00            0.00   \n",
       "88         1     1  761507.39       88            0.00            0.00   \n",
       "89         1     1 1429051.47       89            0.00            0.00   \n",
       "94         1     1 1724887.05       94            0.00            0.00   \n",
       "95         1     1  710544.77       95            0.00            0.00   \n",
       "...      ...   ...        ...      ...             ...             ...   \n",
       "6362613   31    24 1258818.82  6353300      1258818.82            0.00   \n",
       "6362616   31    24 6311409.28  6353303      6311409.28            0.00   \n",
       "6362617   31    24 6311409.28  6353304      6311409.28            0.00   \n",
       "6362618   31    24  850002.52  6353305       850002.52            0.00   \n",
       "6362619   31    24  850002.52  6353306       850002.52            0.00   \n",
       "\n",
       "          idDest  oldbalanceDest  newbalanceDest  Cash_in  Cash_out  Debit  \\\n",
       "85       6353390        29031.00      5515763.34        0         0      0   \n",
       "88       6353389      1280036.23     19169204.93        0         0      0   \n",
       "89       6353389      2041543.62     19169204.93        0         0      0   \n",
       "94       6353389      3470595.10     19169204.93        0         0      0   \n",
       "95       6353391       738531.50        16518.36        0         0      0   \n",
       "...          ...             ...             ...      ...       ...    ...   \n",
       "6362613  7447827       503464.50      1762283.33        0         1      0   \n",
       "6362616  9073898            0.00            0.00        0         0      0   \n",
       "6362617  7430575        68488.84      6379898.11        0         1      0   \n",
       "6362618  9073899            0.00            0.00        0         0      0   \n",
       "6362619  6622552      6510099.11      7360101.63        0         1      0   \n",
       "\n",
       "         Payment  Transfer  isFraud  isFlaggedFraud  \n",
       "85             0         1        0               0  \n",
       "88             0         1        0               0  \n",
       "89             0         1        0               0  \n",
       "94             0         1        0               0  \n",
       "95             0         1        0               0  \n",
       "...          ...       ...      ...             ...  \n",
       "6362613        0         0        1               0  \n",
       "6362616        0         1        1               0  \n",
       "6362617        0         0        1               0  \n",
       "6362618        0         1        1               0  \n",
       "6362619        0         0        1               0  \n",
       "\n",
       "[204401 rows x 16 columns]"
      ]
     },
     "execution_count": 154,
     "metadata": {},
     "output_type": "execute_result"
    }
   ],
   "source": [
    "# The following function replaces the outliers identified by tukey’s method(values beyond the limits defined above) by NaN:\n",
    "def tukey(x, k = 2.5):\n",
    "    x = np.array(x).copy().astype(float)\n",
    "    first_quartile = np.quantile(x, .25)\n",
    "    third_quartile = np.quantile(x, .75)\n",
    "    \n",
    "    # Define IQR\n",
    "    iqr = third_quartile - first_quartile\n",
    "    \n",
    "    ### Define the allowed limits for 'Normal Data'\n",
    "    lower_allowed_limit = first_quartile - (k * iqr)\n",
    "    upper_allowed_limit = third_quartile + (k * iqr)\n",
    "    \n",
    "    #set values below the lower limit/above the upper limit as nan\n",
    "    outliers = (x < lower_allowed_limit) | (x > upper_allowed_limit)\n",
    "    return outliers\n",
    "\n",
    "df[tukey(df.amount)]"
   ]
  },
  {
   "cell_type": "markdown",
   "id": "06317082-5da2-467c-8f47-354365328f9e",
   "metadata": {
    "tags": []
   },
   "source": [
    "### 6.3.5. Detección de anomalías utilizando métodos multivariados"
   ]
  },
  {
   "cell_type": "code",
   "execution_count": 7,
   "id": "556bedb2-1d09-4ebc-9a4d-b02c87632158",
   "metadata": {},
   "outputs": [],
   "source": [
    "# Creación de atributos para medir la diferencia entre los saldos de originantes y destinatarios.\n",
    "# Justificación: evaluar si la creacion de esta variable y la vinculación con los montos de transacciones permite descubrir patrones ocultos.\n",
    "df['varOrig'] = df['newbalanceOrig'] - df['oldbalanceOrig']\n",
    "df['varDest'] = df['newbalanceDest'] - df['oldbalanceDest']"
   ]
  },
  {
   "cell_type": "code",
   "execution_count": 16,
   "id": "21f6ec34-87dd-4dcb-bf94-725eadd3d7d7",
   "metadata": {},
   "outputs": [],
   "source": [
    "# Creacion de dataframe auxiliar.\n",
    "data = df.loc[:, ['amount', 'varOrig', 'varDest', 'Cash_in', 'Cash_out',\n",
    "           'Debit', 'Payment', 'Transfer']]"
   ]
  },
  {
   "cell_type": "code",
   "execution_count": 10,
   "id": "1cb1d705-5c77-46f9-8ffa-40742d36e77b",
   "metadata": {},
   "outputs": [
    {
     "data": {
      "text/plain": [
       "EllipticEnvelope(contamination=0.0025, random_state=0)"
      ]
     },
     "execution_count": 10,
     "metadata": {},
     "output_type": "execute_result"
    }
   ],
   "source": [
    "# Importacion de librerias.\n",
    "from sklearn import covariance\n",
    "# Define the Elliptic Envelope\n",
    "el = covariance.EllipticEnvelope(store_precision = True, assume_centered = False, support_fraction = None, contamination = 0.0025, random_state = 42)\n",
    "# Fit the data - this is where FastMCD is used by sklearn\n",
    "el.fit(data[0:100000])"
   ]
  },
  {
   "cell_type": "code",
   "execution_count": 11,
   "id": "b602d336-c3a9-4660-9a3b-d8cae8ffd0e7",
   "metadata": {},
   "outputs": [],
   "source": [
    "# Creacion de columna de prediccion de anomalias.\n",
    "data['anomaly'] = el.predict(data)"
   ]
  },
  {
   "cell_type": "code",
   "execution_count": 12,
   "id": "f5eed162-0ff7-4b7f-8e30-cd252c3e85c9",
   "metadata": {},
   "outputs": [
    {
     "data": {
      "image/png": "[encoded data removed]",
      "text/plain": [
       "<Figure size 648x288 with 2 Axes>"
      ]
     },
     "metadata": {
      "needs_background": "light"
     },
     "output_type": "display_data"
    }
   ],
   "source": [
    "# Create scatterplot and color the anomalies differently\n",
    "plt.figure(figsize = (9, 4))\n",
    "ax = plt.scatter(data['amount'], data['varOrig'], c = data['anomaly'], cmap = 'coolwarm')\n",
    "plt.xlabel('amount')\n",
    "plt.ylabel('oldbalanceOrig')\n",
    "plt.colorbar(label = '-1: Anomaly; +1: Not Anomaly')\n",
    "plt.grid()"
   ]
  },
  {
   "cell_type": "markdown",
   "id": "82a674d9-d87e-4263-b4df-54c544161af4",
   "metadata": {},
   "source": [
    "Sin determinación del valor de contaminacion."
   ]
  },
  {
   "cell_type": "code",
   "execution_count": 17,
   "id": "5ef0d3ba-b2de-4080-b7e1-ead7006fa356",
   "metadata": {},
   "outputs": [],
   "source": [
    "# Importacion de librerias.\n",
    "from sklearn import covariance\n",
    "# Creacion de dataframe auxiliar.\n",
    "data = df.loc[:, ['amount', 'varOrig', 'varDest', 'Cash_in', 'Cash_out',\n",
    "           'Debit', 'Payment', 'Transfer']]\n",
    "# Define the Elliptic Envelope\n",
    "el = covariance.EllipticEnvelope(store_precision = True, assume_centered = False, support_fraction = None, contamination = 0.0025, random_state = 42)\n",
    "# Fit the data - this is where FastMCD is used by sklearn\n",
    "el.fit(data[0:100000])\n",
    "# Create column that measures Mahalanobis distance\n",
    "data['Mahalanobis Distance'] = el.mahalanobis(data)"
   ]
  },
  {
   "cell_type": "code",
   "execution_count": 18,
   "id": "25352e2e-d1dc-417d-a241-c9000cda55b4",
   "metadata": {},
   "outputs": [
    {
     "data": {
      "image/png": "[encoded data removed]",
      "text/plain": [
       "<Figure size 864x432 with 2 Axes>"
      ]
     },
     "metadata": {
      "needs_background": "light"
     },
     "output_type": "display_data"
    }
   ],
   "source": [
    "# Create scatterplot and color the anomalies differently\n",
    "plt.figure(figsize = (12, 6))\n",
    "ax = plt.scatter(data['amount'],  data['varOrig'], c = data['Mahalanobis Distance'], cmap = 'coolwarm')\n",
    "#plt.title('Contamination = Does not matter for this method', weight = 'bold')\n",
    "#ax = sns.scatterplot(d['Var 1'], d['Var 2'], c = d['Anomaly or Not'])\n",
    "plt.xlabel('amount')\n",
    "plt.ylabel('varOrig')\n",
    "plt.colorbar(label = 'Mahalanobis Distance')\n",
    "plt.grid()"
   ]
  },
  {
   "cell_type": "code",
   "execution_count": null,
   "id": "55e81622-761e-4a75-9856-716fc2c4b0c4",
   "metadata": {},
   "outputs": [],
   "source": []
  },
  {
   "cell_type": "code",
   "execution_count": null,
   "id": "e93fe2c6-4aee-495d-ae08-e381768680e8",
   "metadata": {},
   "outputs": [],
   "source": []
  },
  {
   "cell_type": "code",
   "execution_count": null,
   "id": "dd1894ad-972c-4cce-9e91-8865f3c42d3b",
   "metadata": {},
   "outputs": [],
   "source": []
  },
  {
   "cell_type": "code",
   "execution_count": null,
   "id": "0c7fd2d2-3cb6-41b4-8aaf-549d8e3eed09",
   "metadata": {},
   "outputs": [],
   "source": []
  }
 ],
 "metadata": {
  "kernelspec": {
   "display_name": "Python 3 (ipykernel)",
   "language": "python",
   "name": "python3"
  },
  "language_info": {
   "codemirror_mode": {
    "name": "ipython",
    "version": 3
   },
   "file_extension": ".py",
   "mimetype": "text/x-python",
   "name": "python",
   "nbconvert_exporter": "python",
   "pygments_lexer": "ipython3",
   "version": "3.9.7"
  },
  "toc-autonumbering": false
 },
 "nbformat": 4,
 "nbformat_minor": 5
}
