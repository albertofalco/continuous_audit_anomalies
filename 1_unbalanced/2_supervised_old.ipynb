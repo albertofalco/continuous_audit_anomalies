{
 "cells": [
  {
   "cell_type": "markdown",
   "id": "45178782-ce4f-4e19-a9ef-b842b61111b0",
   "metadata": {
    "tags": []
   },
   "source": [
    "# Detección de anomalías en un marco de auditoría continua"
   ]
  },
  {
   "cell_type": "markdown",
   "id": "63dccec2",
   "metadata": {},
   "source": [
    "## Links"
   ]
  },
  {
   "cell_type": "markdown",
   "id": "0bd682cc",
   "metadata": {
    "jp-MarkdownHeadingCollapsed": true,
    "tags": []
   },
   "source": [
    "PaySim:\n",
    "\n",
    "- https://github.com/EdgarLopezPhD/PaySim\n",
    "- https://www.kaggle.com/ealaxi/paysim1\n",
    "\n",
    "Link GitHub:\n",
    "\n",
    "- https://github.com/albertofalco/continous_audit_anomalies\n",
    "\n",
    "Análisis exploratorio:\n",
    "\n",
    "- https://github.com/pandas-profiling/pandas-profiling\n",
    "\n",
    "Optimización de parámetros:\n",
    "\n",
    "- https://towardsdatascience.com/a-conceptual-explanation-of-bayesian-model-based-hyperparameter-optimization-for-machine-learning-b8172278050f\n",
    "- https://proceedings.neurips.cc/paper/2011/file/86e8f7ab32cfd12577bc2619bc635690-Paper.pdf\n",
    "- http://proceedings.mlr.press/v28/bergstra13.pdf\n",
    "- https://static.sigopt.com/b/20a144d208ef255d3b981ce419667ec25d8412e2/static/pdf/SigOpt_Bayesian_Optimization_Primer.pdf\n",
    "- https://www.cs.ox.ac.uk/people/nando.defreitas/publications/BayesOptLoop.pdf\n",
    "- https://machinelearningmastery.com/what-is-bayesian-optimization\n",
    "- https://towardsdatascience.com/optimise-your-hyperparameter-tuning-with-hyperopt-861573239eb5\n",
    "- https://github.com/hyperopt/hyperopt/wiki/FMin\n",
    "- https://github.com/hyperopt\n",
    "- https://www.youtube.com/watch?v=tdwgR1AqQ8Y\n",
    "- https://www.youtube.com/watch?v=5nYqK-HaoKY\n",
    "- https://towardsdatascience.com/hyperparameters-optimization-526348bb8e2d\n"
   ]
  },
  {
   "cell_type": "markdown",
   "id": "fed88766-bab0-4f25-8a57-a39ee3aafe62",
   "metadata": {
    "tags": []
   },
   "source": [
    "## 6. Implementación de modelos"
   ]
  },
  {
   "cell_type": "markdown",
   "id": "f60a48bc-39e0-4c20-9fa4-bd837e36ef05",
   "metadata": {
    "tags": []
   },
   "source": [
    "### 6.1. Split del dataset"
   ]
  },
  {
   "cell_type": "markdown",
   "id": "6b8292a8-6dad-4e5e-b2b7-79d82f02b355",
   "metadata": {},
   "source": [
    "Split del dataset para reservar un conjunto de datos para validación posterior al entrenamiento y desarrollo de los modelos."
   ]
  },
  {
   "cell_type": "code",
   "execution_count": 1,
   "id": "34abc86a-3934-43e5-81e3-fc7572f6efe2",
   "metadata": {
    "tags": []
   },
   "outputs": [],
   "source": [
    "# Importación de librerías\n",
    "import pandas as pd\n",
    "import numpy as np\n",
    "import os\n",
    "import time\n",
    "import joblib"
   ]
  },
  {
   "cell_type": "code",
   "execution_count": 2,
   "id": "ed0f8e1a-861c-4f05-b91d-1ff4633d449c",
   "metadata": {
    "tags": []
   },
   "outputs": [],
   "source": [
    "# Filtro de warnings.\n",
    "import warnings\n",
    "warnings.filterwarnings(\"ignore\")"
   ]
  },
  {
   "cell_type": "code",
   "execution_count": 3,
   "id": "dfce9a50-3d76-455d-b157-32a36f496b8a",
   "metadata": {
    "tags": []
   },
   "outputs": [
    {
     "data": {
      "text/html": [
       "<div>\n",
       "<style scoped>\n",
       "    .dataframe tbody tr th:only-of-type {\n",
       "        vertical-align: middle;\n",
       "    }\n",
       "\n",
       "    .dataframe tbody tr th {\n",
       "        vertical-align: top;\n",
       "    }\n",
       "\n",
       "    .dataframe thead th {\n",
       "        text-align: right;\n",
       "    }\n",
       "</style>\n",
       "<table border=\"1\" class=\"dataframe\">\n",
       "  <thead>\n",
       "    <tr style=\"text-align: right;\">\n",
       "      <th></th>\n",
       "      <th>day</th>\n",
       "      <th>hour</th>\n",
       "      <th>amount</th>\n",
       "      <th>idOrig</th>\n",
       "      <th>oldbalanceOrig</th>\n",
       "      <th>newbalanceOrig</th>\n",
       "      <th>idDest</th>\n",
       "      <th>oldbalanceDest</th>\n",
       "      <th>newbalanceDest</th>\n",
       "      <th>Cash_in</th>\n",
       "      <th>Cash_out</th>\n",
       "      <th>Debit</th>\n",
       "      <th>Payment</th>\n",
       "      <th>Transfer</th>\n",
       "      <th>isFraud</th>\n",
       "      <th>isFlaggedFraud</th>\n",
       "    </tr>\n",
       "  </thead>\n",
       "  <tbody>\n",
       "    <tr>\n",
       "      <th>0</th>\n",
       "      <td>1</td>\n",
       "      <td>1</td>\n",
       "      <td>9839.64</td>\n",
       "      <td>0</td>\n",
       "      <td>170136.0</td>\n",
       "      <td>160296.36</td>\n",
       "      <td>6353307</td>\n",
       "      <td>0.0</td>\n",
       "      <td>0.0</td>\n",
       "      <td>0</td>\n",
       "      <td>0</td>\n",
       "      <td>0</td>\n",
       "      <td>1</td>\n",
       "      <td>0</td>\n",
       "      <td>0</td>\n",
       "      <td>0</td>\n",
       "    </tr>\n",
       "    <tr>\n",
       "      <th>1</th>\n",
       "      <td>1</td>\n",
       "      <td>1</td>\n",
       "      <td>1864.28</td>\n",
       "      <td>1</td>\n",
       "      <td>21249.0</td>\n",
       "      <td>19384.72</td>\n",
       "      <td>6353308</td>\n",
       "      <td>0.0</td>\n",
       "      <td>0.0</td>\n",
       "      <td>0</td>\n",
       "      <td>0</td>\n",
       "      <td>0</td>\n",
       "      <td>1</td>\n",
       "      <td>0</td>\n",
       "      <td>0</td>\n",
       "      <td>0</td>\n",
       "    </tr>\n",
       "    <tr>\n",
       "      <th>2</th>\n",
       "      <td>1</td>\n",
       "      <td>1</td>\n",
       "      <td>181.00</td>\n",
       "      <td>2</td>\n",
       "      <td>181.0</td>\n",
       "      <td>0.00</td>\n",
       "      <td>6353309</td>\n",
       "      <td>0.0</td>\n",
       "      <td>0.0</td>\n",
       "      <td>0</td>\n",
       "      <td>0</td>\n",
       "      <td>0</td>\n",
       "      <td>0</td>\n",
       "      <td>1</td>\n",
       "      <td>1</td>\n",
       "      <td>0</td>\n",
       "    </tr>\n",
       "    <tr>\n",
       "      <th>3</th>\n",
       "      <td>1</td>\n",
       "      <td>1</td>\n",
       "      <td>181.00</td>\n",
       "      <td>3</td>\n",
       "      <td>181.0</td>\n",
       "      <td>0.00</td>\n",
       "      <td>6353310</td>\n",
       "      <td>21182.0</td>\n",
       "      <td>0.0</td>\n",
       "      <td>0</td>\n",
       "      <td>1</td>\n",
       "      <td>0</td>\n",
       "      <td>0</td>\n",
       "      <td>0</td>\n",
       "      <td>1</td>\n",
       "      <td>0</td>\n",
       "    </tr>\n",
       "    <tr>\n",
       "      <th>4</th>\n",
       "      <td>1</td>\n",
       "      <td>1</td>\n",
       "      <td>11668.14</td>\n",
       "      <td>4</td>\n",
       "      <td>41554.0</td>\n",
       "      <td>29885.86</td>\n",
       "      <td>6353311</td>\n",
       "      <td>0.0</td>\n",
       "      <td>0.0</td>\n",
       "      <td>0</td>\n",
       "      <td>0</td>\n",
       "      <td>0</td>\n",
       "      <td>1</td>\n",
       "      <td>0</td>\n",
       "      <td>0</td>\n",
       "      <td>0</td>\n",
       "    </tr>\n",
       "  </tbody>\n",
       "</table>\n",
       "</div>"
      ],
      "text/plain": [
       "   day  hour    amount  idOrig  oldbalanceOrig  newbalanceOrig   idDest  \\\n",
       "0    1     1   9839.64       0        170136.0       160296.36  6353307   \n",
       "1    1     1   1864.28       1         21249.0        19384.72  6353308   \n",
       "2    1     1    181.00       2           181.0            0.00  6353309   \n",
       "3    1     1    181.00       3           181.0            0.00  6353310   \n",
       "4    1     1  11668.14       4         41554.0        29885.86  6353311   \n",
       "\n",
       "   oldbalanceDest  newbalanceDest  Cash_in  Cash_out  Debit  Payment  \\\n",
       "0             0.0             0.0        0         0      0        1   \n",
       "1             0.0             0.0        0         0      0        1   \n",
       "2             0.0             0.0        0         0      0        0   \n",
       "3         21182.0             0.0        0         1      0        0   \n",
       "4             0.0             0.0        0         0      0        1   \n",
       "\n",
       "   Transfer  isFraud  isFlaggedFraud  \n",
       "0         0        0               0  \n",
       "1         0        0               0  \n",
       "2         1        1               0  \n",
       "3         0        1               0  \n",
       "4         0        0               0  "
      ]
     },
     "execution_count": 3,
     "metadata": {},
     "output_type": "execute_result"
    }
   ],
   "source": [
    "# Carga del dataset.\n",
    "df = pd.read_csv('df_preprocessed.csv')\n",
    "df.head()"
   ]
  },
  {
   "cell_type": "code",
   "execution_count": 4,
   "id": "21deb723-7d15-4dae-84c3-a10805517fd5",
   "metadata": {
    "tags": []
   },
   "outputs": [],
   "source": [
    "# Split del dataset para reservar un conjunto de validación.\n",
    "from sklearn.model_selection import train_test_split\n",
    "df_training, df_validation = train_test_split(df, test_size = 0.2, random_state = 42, shuffle = True, stratify = np.array(df['isFraud']))"
   ]
  },
  {
   "cell_type": "code",
   "execution_count": 5,
   "id": "cbd0b110-12d5-4e21-81f8-a58e9f0450ce",
   "metadata": {
    "tags": []
   },
   "outputs": [
    {
     "name": "stdout",
     "output_type": "stream",
     "text": [
      "Proporcion de clases para dataset de training: 0.0013\n",
      "Proporcion de clases para dataset de validación: 0.0013\n"
     ]
    }
   ],
   "source": [
    "# Control de frecuencias de clases.\n",
    "print('Proporcion de clases para dataset de training: %.4f' % (df_training['isFraud'].value_counts()[1] / df_training['isFraud'].value_counts()[0]))\n",
    "print('Proporcion de clases para dataset de validación: %.4f' % (df_validation['isFraud'].value_counts()[1] / df_validation['isFraud'].value_counts()[0]))"
   ]
  },
  {
   "cell_type": "markdown",
   "id": "50d05284-639d-4f52-9fb1-01f4161ade71",
   "metadata": {
    "tags": []
   },
   "source": [
    "### 6.2. Entrenamiento de modelos"
   ]
  },
  {
   "cell_type": "markdown",
   "id": "cc4079b3-ea2f-42d4-ba4f-2b9450a85f8a",
   "metadata": {
    "tags": []
   },
   "source": [
    "#### 6.2.1. Separación del dataset en variable a predecir y predictores"
   ]
  },
  {
   "cell_type": "code",
   "execution_count": 6,
   "id": "13d10a97-f510-4cc2-8a39-8f68b97222bf",
   "metadata": {
    "tags": []
   },
   "outputs": [],
   "source": [
    "# Separación del dataset\n",
    "X = df_training.drop(labels = ['isFraud', 'isFlaggedFraud'], axis = 1, inplace = False)\n",
    "y = df_training['isFraud']"
   ]
  },
  {
   "cell_type": "markdown",
   "id": "fcc82b48-f20a-4d74-bcd0-763f3610e77d",
   "metadata": {
    "tags": []
   },
   "source": [
    "Validación cruzada"
   ]
  },
  {
   "cell_type": "code",
   "execution_count": null,
   "id": "19f2fc54-f0b2-489d-8dcb-699805390d03",
   "metadata": {
    "collapsed": true,
    "jupyter": {
     "outputs_hidden": true,
     "source_hidden": true
    },
    "tags": []
   },
   "outputs": [],
   "source": [
    "# Importación de librerías.\n",
    "# from sklearn.model_selection import KFold"
   ]
  },
  {
   "cell_type": "code",
   "execution_count": null,
   "id": "a64ae850-8f4b-4ce2-af65-a2067c98ccee",
   "metadata": {
    "collapsed": true,
    "jupyter": {
     "outputs_hidden": true,
     "source_hidden": true
    },
    "tags": []
   },
   "outputs": [],
   "source": [
    "# Creación de objeto K-Fold.\n",
    "# kf = KFold(n_splits = 5, shuffle = False)"
   ]
  },
  {
   "cell_type": "code",
   "execution_count": null,
   "id": "b63e868b-1c3c-422e-aca1-4aa9e27f1ab3",
   "metadata": {
    "collapsed": true,
    "jupyter": {
     "outputs_hidden": true,
     "source_hidden": true
    },
    "tags": []
   },
   "outputs": [],
   "source": [
    "# CV tradicional sin shuffle.\n",
    "# i = 0\n",
    "# for train, test in kf.split(df):\n",
    "#     i += 1\n",
    "#     print('Iteración %i Train - %.2f %%' % (i, df.loc[train, 'isFraud'].value_counts()[1] / df.loc[train, 'isFraud'].value_counts()[0] * 100))\n",
    "#     print('Iteración %i Test - %.2f %%' % (i, df.loc[test, 'isFraud'].value_counts()[1] / df.loc[test, 'isFraud'].value_counts()[0] * 100))"
   ]
  },
  {
   "cell_type": "code",
   "execution_count": null,
   "id": "d2b2c455-acc7-49df-9e1e-1cad7c6b9e15",
   "metadata": {
    "collapsed": true,
    "jupyter": {
     "outputs_hidden": true,
     "source_hidden": true
    },
    "tags": []
   },
   "outputs": [],
   "source": [
    "# Importación de librerías.\n",
    "# from sklearn.model_selection import StratifiedKFold, KFold"
   ]
  },
  {
   "cell_type": "code",
   "execution_count": null,
   "id": "b7e18c53-5507-4a12-a023-0119789ba772",
   "metadata": {
    "collapsed": true,
    "jupyter": {
     "outputs_hidden": true,
     "source_hidden": true
    },
    "tags": []
   },
   "outputs": [],
   "source": [
    "# Creación de objeto stratified fold.\n",
    "# skf = StratifiedKFold(n_splits = 5)"
   ]
  },
  {
   "cell_type": "code",
   "execution_count": null,
   "id": "314abd0a-0b6a-4574-b250-dc34d5d3faf2",
   "metadata": {
    "collapsed": true,
    "jupyter": {
     "outputs_hidden": true,
     "source_hidden": true
    },
    "tags": []
   },
   "outputs": [],
   "source": [
    "# Obtención de frecuencias de fraudes con validación cruzada estratificada.\n",
    "# i = 0\n",
    "# for train, test in skf.split(X = df.iloc[:, 0:10], y = df['isFraud']):\n",
    "#     i += 1\n",
    "#     print('Iteración %i Train - %.2f %%' % (i, df.loc[train, 'isFraud'].value_counts()[1] / df.loc[train, 'isFraud'].value_counts()[0] * 100))\n",
    "#     print('Iteración %i Test - %.2f %%' % (i, df.loc[test, 'isFraud'].value_counts()[1] / df.loc[test, 'isFraud'].value_counts()[0] * 100))"
   ]
  },
  {
   "cell_type": "markdown",
   "id": "da87d4f3-fb47-4bcb-b071-02c028f838d6",
   "metadata": {
    "tags": []
   },
   "source": [
    "Balanceo de datos"
   ]
  },
  {
   "cell_type": "code",
   "execution_count": null,
   "id": "41412f4d-39c5-4567-bb11-bdd32c8c3dbb",
   "metadata": {
    "collapsed": true,
    "jupyter": {
     "outputs_hidden": true,
     "source_hidden": true
    },
    "tags": []
   },
   "outputs": [],
   "source": []
  },
  {
   "cell_type": "code",
   "execution_count": null,
   "id": "554b9f28-a98e-4e0f-8120-59335882bc54",
   "metadata": {
    "collapsed": true,
    "jupyter": {
     "outputs_hidden": true,
     "source_hidden": true
    },
    "tags": []
   },
   "outputs": [],
   "source": []
  },
  {
   "cell_type": "code",
   "execution_count": null,
   "id": "7380aacc-0614-4ed2-8ed0-3f6b19d1ac6e",
   "metadata": {
    "collapsed": true,
    "jupyter": {
     "outputs_hidden": true,
     "source_hidden": true
    },
    "tags": []
   },
   "outputs": [],
   "source": []
  },
  {
   "cell_type": "markdown",
   "id": "65e4534d-0ad6-4d82-97de-0ad65c099c27",
   "metadata": {
    "tags": []
   },
   "source": [
    "#### 6.2.2. Árboles de Decisión (Decision trees)"
   ]
  },
  {
   "cell_type": "markdown",
   "id": "4fdce316-5f26-4ff6-a4a4-050bc3da5558",
   "metadata": {
    "jupyter": {
     "source_hidden": true
    },
    "tags": []
   },
   "source": [
    "Cross validation: Iteración manual"
   ]
  },
  {
   "cell_type": "code",
   "execution_count": null,
   "id": "b4e0c48d-c29f-475e-a777-9133b190c80c",
   "metadata": {
    "collapsed": true,
    "jupyter": {
     "outputs_hidden": true,
     "source_hidden": true
    },
    "tags": []
   },
   "outputs": [],
   "source": [
    "# Iteración manual para aplicar el algoritmo de arboles de decision (Decision Tree).\n",
    "# from sklearn.model_selection import StratifiedKFold, KFold\n",
    "# from sklearn.tree import DecisionTreeClassifier\n",
    "# from sklearn.metrics import accuracy_score\n",
    "\n",
    "# skf = StratifiedKFold(n_splits = 5, shuffle = True, random_state = 2022)\n",
    "# clf = DecisionTreeClassifier(max_depth = 3)\n",
    "\n",
    "# i = 0\n",
    "\n",
    "# start_time = time.time()\n",
    "# for train, test in skf.split(X = X, y = y):\n",
    "#     i += 1\n",
    "#     X_train = X.iloc[train, :]\n",
    "#     y_train = y[train]\n",
    "#     X_test = X.iloc[test, :]\n",
    "#     y_test = y[test]\n",
    "#     clf.fit(X_train, y_train)\n",
    "#     y_pred = clf.predict(X_test)\n",
    "#     acc = accuracy_score(y_true = y_test, y_pred = y_pred)\n",
    "#     print('Iteración %i: %f' % (i, acc))\n",
    "# print(\"--- %.2f seconds ---\" % (time.time() - start_time))"
   ]
  },
  {
   "cell_type": "code",
   "execution_count": null,
   "id": "f7fc3cad-c360-4167-8a75-eee52165a47e",
   "metadata": {
    "collapsed": true,
    "jupyter": {
     "outputs_hidden": true,
     "source_hidden": true
    },
    "tags": []
   },
   "outputs": [],
   "source": [
    "# Iteración manual para aplicar el algoritmo de arboles de decision (Decision Tree). \n",
    "# Parallel execution.\n",
    "\n",
    "# from sklearn.model_selection import StratifiedKFold, KFold\n",
    "# from sklearn.tree import DecisionTreeClassifier\n",
    "# from sklearn.metrics import accuracy_score\n",
    "# from joblib import Parallel, delayed\n",
    "\n",
    "# skf = StratifiedKFold(n_splits = 5, shuffle = True, random_state = 2022)\n",
    "# clf = DecisionTreeClassifier(max_depth = 3)\n",
    "\n",
    "# def process(train, test):\n",
    "#     X_train = X.iloc[train, :]\n",
    "#     y_train = y[train]\n",
    "#     X_test = X.iloc[test, :]\n",
    "#     y_test = y[test]\n",
    "#     clf.fit(X_train, y_train)\n",
    "#     y_pred = clf.predict(X_test)\n",
    "#     acc = accuracy_score(y_true = y_test, y_pred = y_pred)\n",
    "#     return acc\n",
    "\n",
    "# results = Parallel(n_jobs=-1, verbose = 50)(delayed(process)(train, test) for train, test in skf.split(X = X, y = y))\n",
    "# print(results)"
   ]
  },
  {
   "cell_type": "code",
   "execution_count": null,
   "id": "06b92757-f440-4f48-abb7-6553834754cb",
   "metadata": {
    "collapsed": true,
    "jupyter": {
     "outputs_hidden": true,
     "source_hidden": true
    },
    "tags": []
   },
   "outputs": [],
   "source": [
    "# from sklearn.metrics import precision_score\n",
    "# from sklearn.metrics import recall_score\n",
    "# print('Precision: {x:%}'.format(x = precision_score(y_true = y_test, y_pred = y_pred)))\n",
    "# print('Recall o sensibilidad: {x:%}'.format(x = recall_score(y_true = y_test, y_pred = y_pred)))"
   ]
  },
  {
   "cell_type": "markdown",
   "id": "a52fa6c7-748d-4c65-8a54-ed176b338dd0",
   "metadata": {
    "jupyter": {
     "source_hidden": true
    },
    "tags": []
   },
   "source": [
    "Cross validation: Scikit Learn"
   ]
  },
  {
   "cell_type": "code",
   "execution_count": null,
   "id": "578e765b-1f90-4d4b-babd-0d1196997165",
   "metadata": {
    "collapsed": true,
    "jupyter": {
     "outputs_hidden": true,
     "source_hidden": true
    },
    "tags": []
   },
   "outputs": [],
   "source": [
    "# Ejecución de un cross validation estratificado utilizando el modelo Decision Tree.\n",
    "# from sklearn.model_selection import StratifiedKFold, KFold\n",
    "# from sklearn.model_selection import cross_validate\n",
    "# from sklearn.tree import DecisionTreeClassifier\n",
    "\n",
    "# start_time = time.time()\n",
    "# clf = DecisionTreeClassifier(max_depth = 3)\n",
    "# skf = StratifiedKFold(n_splits = 5, shuffle = True, random_state = 42)\n",
    "# cv = cross_validate(estimator = clf, X = X, y = y, cv = skf, verbose = 2, n_jobs = -1, \n",
    "#                     scoring = ('accuracy', 'precision', 'recall', 'roc_auc'))\n",
    "# print(\"--- %.2f seconds ---\" % (time.time() - start_time))"
   ]
  },
  {
   "cell_type": "code",
   "execution_count": null,
   "id": "4f01add0-fe42-49b0-8443-a6fe9166e1c6",
   "metadata": {
    "collapsed": true,
    "jupyter": {
     "outputs_hidden": true,
     "source_hidden": true
    },
    "tags": []
   },
   "outputs": [],
   "source": [
    "# Impresión de los scorings del cross validation.\n",
    "# for i, j in enumerate(cv):\n",
    "#     print('%f %s with a standard deviation of %f' % (cv[j].mean(), j, cv[j].std()))"
   ]
  },
  {
   "cell_type": "markdown",
   "id": "f2548b94-3df8-45fc-a89c-5c3f1e1e9f1a",
   "metadata": {
    "jupyter": {
     "source_hidden": true
    },
    "tags": []
   },
   "source": [
    "Optimización de parámetros nro. 1"
   ]
  },
  {
   "cell_type": "code",
   "execution_count": null,
   "id": "5b7f7a35-5484-48e3-8dd4-a905b9e59a29",
   "metadata": {
    "collapsed": true,
    "jupyter": {
     "outputs_hidden": true,
     "source_hidden": true
    },
    "tags": []
   },
   "outputs": [],
   "source": [
    "# Optimización de parámetros nro. 1.\n",
    "# from sklearn.model_selection import StratifiedKFold, KFold\n",
    "# from sklearn.model_selection import cross_validate\n",
    "# from sklearn.tree import DecisionTreeClassifier\n",
    "# from sklearn.model_selection import GridSearchCV\n",
    "# from sklearn.utils import parallel_backend\n",
    "\n",
    "# start_time = time.time()\n",
    "\n",
    "# dtc = DecisionTreeClassifier(random_state = 42)\n",
    "# skf = StratifiedKFold(n_splits = 5, shuffle = True, random_state = 42)\n",
    "# scoring = ['accuracy', 'precision', 'recall', 'roc_auc']\n",
    "# parameters = {'max_depth' : [3, 4, 5],\n",
    "#               'criterion' : ['gini', 'entropy'],\n",
    "#               'splitter' : ['best', 'random'],\n",
    "#               'min_samples_split' : [2, 3]} # Min samples = 1 da error.\n",
    "\n",
    "# clf = GridSearchCV(estimator = dtc, param_grid = parameters, scoring = scoring, refit = 'roc_auc', n_jobs = -1, cv = skf, verbose = 2)\n",
    "\n",
    "# with parallel_backend('threading'):\n",
    "#     clf.fit(X = X, y = y)\n",
    "\n",
    "# print(\"--- %.2f seconds ---\" % (time.time() - start_time))"
   ]
  },
  {
   "cell_type": "code",
   "execution_count": null,
   "id": "58bb09ec-ea4c-4ac8-90d0-12ddb1ea16cd",
   "metadata": {
    "collapsed": true,
    "jupyter": {
     "outputs_hidden": true,
     "source_hidden": true
    },
    "tags": []
   },
   "outputs": [],
   "source": [
    "# Creación de tabla resumen con scorings.\n",
    "# from operator import itemgetter\n",
    "\n",
    "# clf_results = clf.cv_results_\n",
    "# clf_results = itemgetter('mean_test_accuracy', 'std_test_accuracy', 'mean_test_precision', 'std_test_precision', 'mean_test_recall', 'std_test_recall', \n",
    "# 'mean_test_roc_auc', 'std_test_roc_auc')(clf_results)\n",
    "\n",
    "# scorings_table = pd.DataFrame(clf_results).transpose()\n",
    "# scorings_table.columns = ['Mean_Accuracy', 'Std_Accuracy', 'Mean_Precision', 'Std_Precision', 'Mean_Recall', 'Std_Recall', 'Mean_AUC', 'Std_AUC']\n",
    "\n",
    "# params_list = []\n",
    "\n",
    "# for i in clf.cv_results_['params']:\n",
    "#     param = []\n",
    "#     for j, k in i.items():\n",
    "#         param.append(str(j) + '_' + str(k))\n",
    "#     param = ' '.join(param)\n",
    "#     params_list.append(param)\n",
    "\n",
    "# scorings_table.index = params_list"
   ]
  },
  {
   "cell_type": "code",
   "execution_count": null,
   "id": "7556167e-9eeb-472b-ac77-bcc114540f8a",
   "metadata": {
    "collapsed": true,
    "jupyter": {
     "outputs_hidden": true,
     "source_hidden": true
    },
    "tags": []
   },
   "outputs": [],
   "source": [
    "# Visualización de la tabla resumen.\n",
    "# pd.options.display.float_format = '{:.4f}'.format\n",
    "# scorings_table.sort_values(by = 'Mean_AUC', ascending = False).head(10)"
   ]
  },
  {
   "cell_type": "code",
   "execution_count": null,
   "id": "2e4d3f86-dd32-47f3-8dd6-9174bb793afb",
   "metadata": {
    "collapsed": true,
    "jupyter": {
     "outputs_hidden": true,
     "source_hidden": true
    },
    "tags": []
   },
   "outputs": [],
   "source": [
    "# Obtención de los mejores parámetros.\n",
    "# clf.best_params_"
   ]
  },
  {
   "cell_type": "markdown",
   "id": "20e577e6-9a8f-458e-ab64-aa5c468c031e",
   "metadata": {
    "jupyter": {
     "source_hidden": true
    },
    "tags": []
   },
   "source": [
    "Los mejores resultados a partir del primer entrenamiento indican que se aconseja utilizar la entropia como criterio de splitting, la profundidad no menor a 5, el minimo de registros de cada hoja puede ser 2 o 3, y el splitter debe ser best."
   ]
  },
  {
   "cell_type": "markdown",
   "id": "fdfdf85f-1b27-4f15-8444-acf419d14bbf",
   "metadata": {
    "jp-MarkdownHeadingCollapsed": true,
    "jupyter": {
     "source_hidden": true
    },
    "tags": []
   },
   "source": [
    "Optimización de parámetros nro. 2"
   ]
  },
  {
   "cell_type": "code",
   "execution_count": null,
   "id": "e5f97ab9-0080-4905-8895-fa22d5f5a93c",
   "metadata": {
    "collapsed": true,
    "jupyter": {
     "outputs_hidden": true,
     "source_hidden": true
    },
    "tags": []
   },
   "outputs": [],
   "source": [
    "# Optimización de parámetros nro. 2.\n",
    "# from sklearn.model_selection import StratifiedKFold, KFold\n",
    "# from sklearn.model_selection import cross_validate\n",
    "# from sklearn.tree import DecisionTreeClassifier\n",
    "# from sklearn.model_selection import GridSearchCV\n",
    "# from sklearn.utils import parallel_backend\n",
    "\n",
    "# start_time = time.time()\n",
    "\n",
    "# dtc = DecisionTreeClassifier(random_state = 42)\n",
    "# skf = StratifiedKFold(n_splits = 5, shuffle = True, random_state = 42)\n",
    "# scoring = ['accuracy', 'precision', 'recall', 'roc_auc']\n",
    "# parameters = {'max_depth' : [5, 7, 9],\n",
    "#               'criterion' : ['entropy'],\n",
    "#               'splitter' : ['best'],\n",
    "#               'min_samples_split' : [2, 3]} # Min samples = 1 da error.\n",
    "\n",
    "# clf = GridSearchCV(estimator = dtc, param_grid = parameters, scoring = scoring, refit = 'roc_auc', n_jobs = -1, cv = skf, verbose = 2)\n",
    "# # GridSearchCV(estimator, param_grid, *, scoring=None, n_jobs=None, refit=True, cv=None, verbose=0, pre_dispatch='2*n_jobs', error_score=nan, return_train_score=False)\n",
    "\n",
    "# with parallel_backend('threading'):\n",
    "#     clf.fit(X = X, y = y)\n",
    "\n",
    "# print(\"--- %.2f seconds ---\" % (time.time() - start_time))"
   ]
  },
  {
   "cell_type": "code",
   "execution_count": null,
   "id": "f89b045c-a608-4b97-b6e2-4937974c0b91",
   "metadata": {
    "collapsed": true,
    "jupyter": {
     "outputs_hidden": true,
     "source_hidden": true
    },
    "tags": []
   },
   "outputs": [],
   "source": [
    "# Creación de tabla resumen con scorings.\n",
    "# from operator import itemgetter\n",
    "\n",
    "# clf_results = clf.cv_results_\n",
    "# clf_results = itemgetter('mean_test_accuracy', 'std_test_accuracy', 'mean_test_precision', 'std_test_precision', 'mean_test_recall', 'std_test_recall', 'mean_test_roc_auc', 'std_test_roc_auc')(clf_results)\n",
    "\n",
    "# scorings_table = pd.DataFrame(clf_results).transpose()\n",
    "# scorings_table.columns = ['Mean_Accuracy', 'Std_Accuracy', 'Mean_Precision', 'Std_Precision', 'Mean_Recall', 'Std_Recall', 'Mean_AUC', 'Std_AUC']\n",
    "\n",
    "# params_list = []\n",
    "\n",
    "# for i in clf.cv_results_['params']:\n",
    "#     param = []\n",
    "#     for j, k in i.items():\n",
    "#         param.append(str(j) + '_' + str(k))\n",
    "#     param = ' '.join(param)\n",
    "#     params_list.append(param)\n",
    "\n",
    "# scorings_table.index = params_list"
   ]
  },
  {
   "cell_type": "code",
   "execution_count": null,
   "id": "7db9a87a-9385-4061-baf4-4920f9530f64",
   "metadata": {
    "collapsed": true,
    "jupyter": {
     "outputs_hidden": true,
     "source_hidden": true
    },
    "tags": []
   },
   "outputs": [],
   "source": [
    "# Visualización de la tabla resumen.\n",
    "# pd.options.display.float_format = '{:.4f}'.format\n",
    "# scorings_table.sort_values(by = 'Mean_AUC', ascending = False).head(10)"
   ]
  },
  {
   "cell_type": "code",
   "execution_count": null,
   "id": "0e136a34-2f1e-485e-8fe3-07346cebbc0f",
   "metadata": {
    "collapsed": true,
    "jupyter": {
     "outputs_hidden": true,
     "source_hidden": true
    },
    "tags": []
   },
   "outputs": [],
   "source": [
    "# Obtención de los mejores parámetros.\n",
    "# clf.best_params_"
   ]
  },
  {
   "cell_type": "markdown",
   "id": "e7594080-bff7-414c-b38a-5adfca2e208e",
   "metadata": {
    "jupyter": {
     "source_hidden": true
    }
   },
   "source": [
    "A partir del segundo entrenamiento, se decide seleccionar en 2 el minimo de cada hoja. De 7 en adelante la profundida del arbol. No se observan aun efectos significativos sobre la varianza al incrementar la profundidad."
   ]
  },
  {
   "cell_type": "markdown",
   "id": "db9739e6-6633-4440-98d0-3ab390d51357",
   "metadata": {
    "jupyter": {
     "source_hidden": true
    },
    "tags": []
   },
   "source": [
    "Optimización de parámetros nro. 3"
   ]
  },
  {
   "cell_type": "code",
   "execution_count": null,
   "id": "3cd946e9-1268-4bd1-b5d1-b431c968ef7b",
   "metadata": {
    "collapsed": true,
    "jupyter": {
     "outputs_hidden": true,
     "source_hidden": true
    },
    "tags": []
   },
   "outputs": [],
   "source": [
    "# Optimización de parámetros nro. 3.\n",
    "# from sklearn.model_selection import StratifiedKFold, KFold\n",
    "# from sklearn.model_selection import cross_validate\n",
    "# from sklearn.tree import DecisionTreeClassifier\n",
    "# from sklearn.model_selection import GridSearchCV\n",
    "# from sklearn.utils import parallel_backend\n",
    "\n",
    "# start_time = time.time()\n",
    "\n",
    "# dtc = DecisionTreeClassifier(random_state = 42)\n",
    "# skf = StratifiedKFold(n_splits = 5, shuffle = True, random_state = 42)\n",
    "# scoring = ['accuracy', 'precision', 'recall', 'roc_auc']\n",
    "# parameters = {'max_depth' : [7, 9, 11, 13, 15],\n",
    "#               'criterion' : ['entropy'],\n",
    "#               'splitter' : ['best'],\n",
    "#               'min_samples_split' : [2]} # Min samples = 1 da error.\n",
    "\n",
    "# clf = GridSearchCV(estimator = dtc, param_grid = parameters, scoring = scoring, refit = 'roc_auc', n_jobs = -1, cv = skf, verbose = 2)\n",
    "# # GridSearchCV(estimator, param_grid, *, scoring=None, n_jobs=None, refit=True, cv=None, verbose=0, pre_dispatch='2*n_jobs', error_score=nan, return_train_score=False)\n",
    "\n",
    "# with parallel_backend('threading'):\n",
    "#     clf.fit(X = X, y = y)\n",
    "\n",
    "# print(\"--- %.2f seconds ---\" % (time.time() - start_time))"
   ]
  },
  {
   "cell_type": "code",
   "execution_count": null,
   "id": "ae8de149-f84e-4345-8774-9cf27e72b7f7",
   "metadata": {
    "collapsed": true,
    "jupyter": {
     "outputs_hidden": true,
     "source_hidden": true
    },
    "tags": []
   },
   "outputs": [],
   "source": [
    "# Creación de tabla resumen con scorings.\n",
    "# from operator import itemgetter\n",
    "\n",
    "# clf_results = clf.cv_results_\n",
    "# clf_results = itemgetter('mean_test_accuracy', 'std_test_accuracy', 'mean_test_precision', 'std_test_precision', 'mean_test_recall', 'std_test_recall', 'mean_test_roc_auc', 'std_test_roc_auc')(clf_results)\n",
    "\n",
    "# scorings_table = pd.DataFrame(clf_results).transpose()\n",
    "# scorings_table.columns = ['Mean_Accuracy', 'Std_Accuracy', 'Mean_Precision', 'Std_Precision', 'Mean_Recall', 'Std_Recall', 'Mean_AUC', 'Std_AUC']\n",
    "\n",
    "# params_list = []\n",
    "\n",
    "# for i in clf.cv_results_['params']:\n",
    "#     param = []\n",
    "#     for j, k in i.items():\n",
    "#         param.append(str(j) + '_' + str(k))\n",
    "#     param = ' '.join(param)\n",
    "#     params_list.append(param)\n",
    "\n",
    "# scorings_table.index = params_list"
   ]
  },
  {
   "cell_type": "code",
   "execution_count": null,
   "id": "3adbfbf6-fd27-4e78-9220-8235952f6608",
   "metadata": {
    "jupyter": {
     "source_hidden": true
    },
    "tags": []
   },
   "outputs": [],
   "source": [
    "# Visualización de la tabla resumen.\n",
    "# pd.options.display.float_format = '{:.4f}'.format\n",
    "# scorings_table.sort_values(by = 'Mean_AUC', ascending = False).head(10)"
   ]
  },
  {
   "cell_type": "code",
   "execution_count": null,
   "id": "113eb659-e05f-434b-a3ab-47945a1d4cd0",
   "metadata": {
    "jupyter": {
     "source_hidden": true
    },
    "tags": []
   },
   "outputs": [],
   "source": [
    "# Obtención de los mejores parámetros.\n",
    "# clf.best_params_"
   ]
  },
  {
   "cell_type": "markdown",
   "id": "bac35ffe-9f6f-4128-a63a-505a3f57c8b5",
   "metadata": {
    "jupyter": {
     "source_hidden": true
    },
    "tags": []
   },
   "source": [
    "Si bien el optimizador selecciona como mejor modelo aquel con profundidad 7, se entiende que el recall o tasa de verdaderos positivos se incrementa significativamente a medida que se incrementa este parámetro, a pesar de que se ve comprometida la precisión del modelo."
   ]
  },
  {
   "cell_type": "markdown",
   "id": "c4e464e9-5ed1-4f8a-be7e-3eb9da81c2c0",
   "metadata": {
    "jupyter": {
     "source_hidden": true
    },
    "tags": []
   },
   "source": [
    "Optimización de parámetros nro. 4: Halving u optimización selectiva"
   ]
  },
  {
   "cell_type": "code",
   "execution_count": null,
   "id": "de0a1dff-861e-46ea-af4b-dbcb169491b8",
   "metadata": {
    "jupyter": {
     "source_hidden": true
    },
    "tags": []
   },
   "outputs": [],
   "source": [
    "# # Uso de halving para la optimizacion de parametros.\n",
    "# from sklearn.model_selection import StratifiedKFold, KFold\n",
    "# from sklearn.model_selection import cross_validate\n",
    "# from sklearn.tree import DecisionTreeClassifier\n",
    "# from sklearn.experimental import enable_halving_search_cv\n",
    "# from sklearn.model_selection import HalvingGridSearchCV\n",
    "# from sklearn.utils import parallel_backend\n",
    "\n",
    "# start_time = time.time()\n",
    "\n",
    "# dtc = DecisionTreeClassifier(random_state = 42)\n",
    "# skf = StratifiedKFold(n_splits = 5, shuffle = True, random_state = 42)\n",
    "# scoring = ['accuracy', 'precision', 'recall', 'roc_auc']\n",
    "# parameters = {'max_depth' : [7, 9, 11, 13, 15],\n",
    "#               'criterion' : ['entropy'],\n",
    "#               'splitter' : ['best'],\n",
    "#               'min_samples_split' : [2]} # Min samples = 1 da error.\n",
    "\n",
    "# clf = HalvingGridSearchCV(estimator = dtc, param_grid = parameters, scoring = 'recall', refit = True, n_jobs = -1, cv = skf, verbose = 2, random_state = 42)\n",
    "\n",
    "# # HalvingGridSearchCV(estimator, param_grid, *, factor=3, resource='n_samples', \n",
    "# # max_resources='auto', min_resources='exhaust', aggressive_elimination=False, \n",
    "# # cv=5, scoring=None, refit=True, error_score=nan, return_train_score=True, random_state=None, n_jobs=None, verbose=0)[source]\n",
    "\n",
    "# with parallel_backend('threading'):\n",
    "#     clf.fit(X = X, y = y)\n",
    "\n",
    "# print(\"--- %.2f seconds ---\" % (time.time() - start_time))"
   ]
  },
  {
   "cell_type": "code",
   "execution_count": null,
   "id": "a591b1ce-34d8-4cf3-81cf-904ef8ad22bc",
   "metadata": {
    "jupyter": {
     "source_hidden": true
    },
    "tags": []
   },
   "outputs": [],
   "source": [
    "# # Obtención de los mejores parámetros.\n",
    "# clf.best_params_"
   ]
  },
  {
   "cell_type": "markdown",
   "id": "fba409b5-28c4-43a6-92fb-eb85901f5ce6",
   "metadata": {
    "tags": []
   },
   "source": [
    "##### 6.2.2.1. Primera optimización de parámetros"
   ]
  },
  {
   "cell_type": "markdown",
   "id": "7dd5d038-7111-481d-a205-baf6fc3cb905",
   "metadata": {},
   "source": [
    "Para la optimización de hiperparámetros, se utiliza una alternativa de búsqueda guidada, mediante la implementación de la librería HyperOpt y el algoritmo Tree Parzen Estimator, basado en la Optimización Bayesiana."
   ]
  },
  {
   "cell_type": "code",
   "execution_count": null,
   "id": "04620c3d-fe1b-41d8-ba8d-f43e2efbee5d",
   "metadata": {
    "collapsed": true,
    "jupyter": {
     "outputs_hidden": true,
     "source_hidden": true
    },
    "tags": []
   },
   "outputs": [],
   "source": [
    "# F1 score, also known as balanced F-score or F-measure.\n",
    "# The F1 score can be interpreted as a harmonic mean of the precision and recall, where an F1 score reaches its best value at 1 and worst score at 0. The relative contribution of precision and recall to the F1 score are equal. The formula for the F1 score is:\n",
    "# F1 = 2 * (precision * recall) / (precision + recall)\n",
    "# In the multi-class and multi-label case, this is the average of the F1 score of each class with weighting depending on the average parameter.\n",
    "\n",
    "# Definición de la función objetivo.\n",
    "from sklearn.model_selection import StratifiedKFold\n",
    "from sklearn.model_selection import cross_validate\n",
    "from sklearn.tree import DecisionTreeClassifier\n",
    "\n",
    "# Definición de la función objetivo.\n",
    "def objective_func(hyperparameters):\n",
    "    \n",
    "    global i, scorings\n",
    "    \n",
    "    i += 1\n",
    "    \n",
    "    clf = DecisionTreeClassifier(random_state = 42, **hyperparameters)\n",
    "    skf = StratifiedKFold(random_state = 42, n_splits = 4, shuffle = True)\n",
    "    cv = cross_validate(estimator = clf, X = X, y = y, cv = skf, verbose = False, n_jobs = -1, scoring = ('precision', 'recall', 'roc_auc', 'accuracy', 'f1'))\n",
    "        \n",
    "    loss = 1 - cv['test_f1'].mean()\n",
    "    \n",
    "    # Almacenamiento de scorings.\n",
    "    scorings.append({'trial': i,\n",
    "                          'params' : clf.get_params(),\n",
    "                          'scorings' : {'Recall': cv['test_recall'].mean(),\n",
    "                                        'Precision': cv['test_precision'].mean(),\n",
    "                                        'AUC': cv['test_roc_auc'].mean(),\n",
    "                                        'Accuracy': cv['test_accuracy'].mean(),\n",
    "                                        'Recall_Std': cv['test_recall'].std(),\n",
    "                                        'Precision_Std': cv['test_precision'].std(),\n",
    "                                        'AUC_Std': cv['test_roc_auc'].std(),\n",
    "                                        'Accuracy_Std': cv['test_accuracy'].std(),\n",
    "                                        'F1-Score': 1 - loss}\n",
    "                         }\n",
    "                        )\n",
    "    \n",
    "    return loss"
   ]
  },
  {
   "cell_type": "code",
   "execution_count": null,
   "id": "707b36cb-441f-47d1-9fba-5f2b33221690",
   "metadata": {
    "collapsed": true,
    "jupyter": {
     "outputs_hidden": true,
     "source_hidden": true
    },
    "tags": []
   },
   "outputs": [],
   "source": [
    "# Ejecución del optimizador.\n",
    "from hyperopt import fmin, tpe, hp, space_eval, Trials\n",
    "from hyperopt.early_stop import no_progress_loss\n",
    "\n",
    "start_time = time.time()\n",
    "\n",
    "# Definición del espacio / dominio de parámetros.\n",
    "search_space = {'criterion' : hp.choice('criterion', ['entropy', 'gini']),\n",
    "                'splitter' : hp.choice('splitter', ['best', 'random']),\n",
    "                'max_depth' : hp.qnormal('max_depth', 12, 5, 1),\n",
    "                'min_samples_split' : hp.choice('min_samples_split', [2, 3]),\n",
    "                'min_samples_leaf' : hp.choice('min_samples_leaf', [1, 2, 3]),\n",
    "                'class_weight' : hp.choice('class_weight', [None, 'balanced'])}\n",
    "\n",
    "# Implementación de Hyperopt\n",
    "i = -1\n",
    "scorings = list()\n",
    "rstate = np.random.default_rng(42)\n",
    "trials = Trials() # Para el logging de resultados.\n",
    "best_params = fmin(fn = objective_func, space = search_space, algo = tpe.suggest, max_evals = 100, trials = trials, early_stop_fn = no_progress_loss(20), rstate = rstate)"
   ]
  },
  {
   "cell_type": "code",
   "execution_count": null,
   "id": "8caff023-d78c-4f9a-9275-4aeb6709f3e5",
   "metadata": {
    "collapsed": true,
    "jupyter": {
     "outputs_hidden": true,
     "source_hidden": true
    },
    "tags": []
   },
   "outputs": [],
   "source": [
    "# Impresión de resultados.\n",
    "print('Trial ID :', trials.best_trial['tid'])\n",
    "print('Loss :', trials.best_trial['result']['loss'])\n",
    "print('Best Params :', space_eval(search_space, best_params), end = '\\n\\n')"
   ]
  },
  {
   "cell_type": "code",
   "execution_count": null,
   "id": "d81cf53b-ea1c-44e6-a8c7-9cda2d3e10b6",
   "metadata": {
    "collapsed": true,
    "jupyter": {
     "outputs_hidden": true,
     "source_hidden": true
    },
    "tags": []
   },
   "outputs": [],
   "source": [
    "# Exportación de resultados a formato JSON.\n",
    "from datetime import datetime\n",
    "import json\n",
    "\n",
    "try:\n",
    "    os.mkdir('HyperOpt Optimizations')\n",
    "except:\n",
    "    None\n",
    "\n",
    "now = datetime.now()\n",
    "dt_string = now.strftime(\"%Y%m%d_%H%M%S\")\n",
    "path = os.getcwd() + '\\\\HyperOpt Optimizations\\\\'\n",
    "filename = 'Opt_' + dt_string + '.json'\n",
    "\n",
    "f = open(path + filename, 'w')\n",
    "json.dump(scorings, f)\n",
    "f.close()\n",
    "\n",
    "print(dt_string)"
   ]
  },
  {
   "cell_type": "code",
   "execution_count": null,
   "id": "858f0a60-714f-437c-8261-f86ee9ac1cc2",
   "metadata": {
    "collapsed": true,
    "jupyter": {
     "outputs_hidden": true,
     "source_hidden": true
    },
    "tags": []
   },
   "outputs": [],
   "source": [
    "# Obtención de resultados en formato tabla para visualizar scorings y desvios estándar.\n",
    "scorings_df = pd.DataFrame(columns = list(scorings[0]['scorings'].keys()))\n",
    "\n",
    "for scoring in scorings:\n",
    "    scorings_df = scorings_df.append(scoring['scorings'], ignore_index = True)\n",
    "\n",
    "with pd.option_context('display.max_rows', None, 'display.max_columns', None, 'display.width', 1000):  # more options can be specified also\n",
    "    print(scorings_df)"
   ]
  },
  {
   "cell_type": "code",
   "execution_count": null,
   "id": "cb4695c4-6587-44b5-b913-676bcedd050d",
   "metadata": {
    "collapsed": true,
    "jupyter": {
     "outputs_hidden": true,
     "source_hidden": true
    },
    "tags": []
   },
   "outputs": [],
   "source": [
    "# Gráfico comparativo de rendimiento: Criterion.\n",
    "import matplotlib.pyplot as plt\n",
    "\n",
    "df_plot = pd.DataFrame(columns = ['trial', 'param', 'score'])\n",
    "\n",
    "for scoring in scorings:\n",
    "    df_plot = df_plot.append({'trial' : scoring['trial'], \n",
    "                              'param' : scoring['params']['criterion'], \n",
    "                              'score' : scoring['scorings']['F1-Score']},\n",
    "                             ignore_index = True)\n",
    "\n",
    "plt = df_plot.pivot(columns = 'param', values ='score').plot(kind = 'bar')"
   ]
  },
  {
   "cell_type": "markdown",
   "id": "fd37689d-1d80-47eb-a664-a3a9af9263da",
   "metadata": {},
   "source": [
    "El criterio que clasifica mejor es 'entropy'."
   ]
  },
  {
   "cell_type": "code",
   "execution_count": null,
   "id": "e925e540-0bf1-4470-8f15-ccaed4a09557",
   "metadata": {
    "collapsed": true,
    "jupyter": {
     "outputs_hidden": true,
     "source_hidden": true
    },
    "tags": []
   },
   "outputs": [],
   "source": [
    "# Gráfico comparativo de rendimiento: Splitter.\n",
    "import matplotlib.pyplot as plt\n",
    "\n",
    "df_plot = pd.DataFrame(columns = ['trial', 'param', 'score'])\n",
    "\n",
    "for scoring in scorings:\n",
    "    df_plot = df_plot.append({'trial' : scoring['trial'], \n",
    "                              'param' : scoring['params']['splitter'], \n",
    "                              'score' : scoring['scorings']['F1-Score']},\n",
    "                             ignore_index = True)\n",
    "    \n",
    "plt = df_plot.pivot(columns = 'param', values ='score').plot(kind = 'bar')"
   ]
  },
  {
   "cell_type": "markdown",
   "id": "290dbf11-3c19-45e0-a211-bf78da7e8d5e",
   "metadata": {},
   "source": [
    "El splitter que clasifica mejor es \"best\"."
   ]
  },
  {
   "cell_type": "code",
   "execution_count": null,
   "id": "97b46071-002a-4931-9be6-2af3812d6eb3",
   "metadata": {
    "collapsed": true,
    "jupyter": {
     "outputs_hidden": true,
     "source_hidden": true
    },
    "tags": []
   },
   "outputs": [],
   "source": [
    "# Gráfico comparativo de rendimiento: Class_Weight.\n",
    "import matplotlib.pyplot as plt\n",
    "\n",
    "df_plot = pd.DataFrame(columns = ['trial', 'param', 'score'])\n",
    "\n",
    "for scoring in scorings:\n",
    "    df_plot = df_plot.append({'trial' : scoring['trial'], \n",
    "                              'param' : scoring['params']['class_weight'], \n",
    "                              'score' : scoring['scorings']['F1-Score']},\n",
    "                             ignore_index = True)\n",
    "\n",
    "df_plot = df_plot.fillna(value = 'none')\n",
    "    \n",
    "plt = df_plot.pivot(columns = 'param', values ='score').plot(kind = 'bar')"
   ]
  },
  {
   "cell_type": "markdown",
   "id": "6f65e624-e100-4670-9921-f97839444a08",
   "metadata": {},
   "source": [
    "La no aplicación de pesos por clases desbalanceadas otorga una mejor perfomance al modelo."
   ]
  },
  {
   "cell_type": "markdown",
   "id": "ec79d2a6-84ec-479b-9ec9-4c4b92945f22",
   "metadata": {
    "tags": []
   },
   "source": [
    "##### 6.2.2.1. Segunda optimización de hiperparámetros"
   ]
  },
  {
   "cell_type": "code",
   "execution_count": null,
   "id": "77a625a7-17b8-4281-bfb6-91751596809c",
   "metadata": {
    "collapsed": true,
    "jupyter": {
     "outputs_hidden": true,
     "source_hidden": true
    },
    "tags": []
   },
   "outputs": [],
   "source": [
    "# Ejecución del optimizador.\n",
    "from hyperopt import fmin, tpe, hp, space_eval, Trials\n",
    "from hyperopt.early_stop import no_progress_loss\n",
    "from math import log\n",
    "\n",
    "start_time = time.time()\n",
    "\n",
    "# Definición del espacio / dominio de parámetros.\n",
    "search_space = {'criterion' : hp.choice('criterion', ['entropy']),\n",
    "                'splitter' : hp.choice('splitter', ['best']),\n",
    "                'max_depth' : hp.qlognormal('max_depth', log(12), log(5), 1),\n",
    "                'min_samples_split' : hp.choice('min_samples_split', range(2, 11)),\n",
    "                'min_samples_leaf' : hp.choice('min_samples_leaf', range(2, 11)),\n",
    "                'class_weight' : hp.choice('class_weight', [None])}\n",
    "\n",
    "# Implementación de Hyperopt\n",
    "i = -1\n",
    "scorings = list()\n",
    "rstate = np.random.default_rng(42)\n",
    "trials = Trials() # Para el logging de resultados.\n",
    "best_params = fmin(fn = objective_func, space = search_space, algo = tpe.suggest, max_evals = 100, trials = trials, early_stop_fn = no_progress_loss(50), rstate = rstate)"
   ]
  },
  {
   "cell_type": "code",
   "execution_count": null,
   "id": "53acfdf7-7b55-46d9-b379-e9e51bf5b533",
   "metadata": {
    "collapsed": true,
    "jupyter": {
     "outputs_hidden": true,
     "source_hidden": true
    },
    "tags": []
   },
   "outputs": [],
   "source": [
    "# Impresión de resultados.\n",
    "print('Trial ID :', trials.best_trial['tid'])\n",
    "print('Loss :', trials.best_trial['result']['loss'])\n",
    "print('Best Params :', space_eval(search_space, best_params), end = '\\n\\n')"
   ]
  },
  {
   "cell_type": "code",
   "execution_count": null,
   "id": "67b97b3c-b3db-46ae-b059-db98298e2bbe",
   "metadata": {
    "collapsed": true,
    "jupyter": {
     "outputs_hidden": true,
     "source_hidden": true
    },
    "tags": []
   },
   "outputs": [],
   "source": [
    "# Exportación de resultados a formato JSON.\n",
    "from datetime import datetime\n",
    "import json\n",
    "\n",
    "try:\n",
    "    os.mkdir('HyperOpt Optimizations')\n",
    "except:\n",
    "    None\n",
    "\n",
    "now = datetime.now()\n",
    "dt_string = now.strftime(\"%Y%m%d_%H%M%S\")\n",
    "path = os.getcwd() + '\\\\HyperOpt Optimizations\\\\'\n",
    "filename = 'Opt_' + dt_string + '.json'\n",
    "\n",
    "f = open(path + filename, 'w')\n",
    "json.dump(scorings, f)\n",
    "f.close()\n",
    "\n",
    "print(dt_string)"
   ]
  },
  {
   "cell_type": "code",
   "execution_count": null,
   "id": "5c8d4a42-bc27-4f56-8201-4cce915eeec8",
   "metadata": {
    "collapsed": true,
    "jupyter": {
     "outputs_hidden": true,
     "source_hidden": true
    },
    "tags": []
   },
   "outputs": [],
   "source": [
    "# Obtención de resultados en formato tabla para visualizar scorings y desvios estándar.\n",
    "scorings_df = pd.DataFrame(columns = list(scorings[0]['scorings'].keys()))\n",
    "\n",
    "for scoring in scorings:\n",
    "    scorings_df = scorings_df.append(scoring['scorings'], ignore_index = True)\n",
    "\n",
    "with pd.option_context('display.max_rows', None, 'display.max_columns', None, 'display.width', 1000):  # more options can be specified also\n",
    "    print(scorings_df)"
   ]
  },
  {
   "cell_type": "markdown",
   "id": "4dfa4f69-b255-4e45-b629-8dfb69646a0f",
   "metadata": {
    "tags": []
   },
   "source": [
    "##### 6.2.2.3. Tercera optimización de hiperparámetros"
   ]
  },
  {
   "cell_type": "code",
   "execution_count": null,
   "id": "76fcd5a1-905b-4c45-bcb3-9b084c670394",
   "metadata": {
    "collapsed": true,
    "jupyter": {
     "outputs_hidden": true,
     "source_hidden": true
    },
    "tags": []
   },
   "outputs": [],
   "source": [
    "# F1 score, also known as balanced F-score or F-measure.\n",
    "# The F1 score can be interpreted as a harmonic mean of the precision and recall, where an F1 score reaches its best value at 1 and worst score at 0. The relative contribution of precision and recall to the F1 score are equal. The formula for the F1 score is:\n",
    "# F1 = 2 * (precision * recall) / (precision + recall)\n",
    "# In the multi-class and multi-label case, this is the average of the F1 score of each class with weighting depending on the average parameter.\n",
    "\n",
    "# Definición de la función objetivo.\n",
    "from sklearn.model_selection import StratifiedKFold\n",
    "from sklearn.model_selection import cross_validate\n",
    "from sklearn.tree import DecisionTreeClassifier\n",
    "\n",
    "# Definición de la función objetivo.\n",
    "def objective_func(hyperparameters):\n",
    "    \n",
    "    global i, scorings\n",
    "    \n",
    "    i += 1\n",
    "    \n",
    "    clf = DecisionTreeClassifier(random_state = 42, **hyperparameters)\n",
    "    skf = StratifiedKFold(random_state = 42, n_splits = 4, shuffle = True)\n",
    "    cv = cross_validate(estimator = clf, X = X, y = y, cv = skf, verbose = False, n_jobs = -1, scoring = ('precision', 'recall', 'roc_auc', 'accuracy', 'f1'))\n",
    "        \n",
    "    loss = 1 - cv['test_f1'].mean() + cv['test_f1'].std()\n",
    "    \n",
    "    # Almacenamiento de scorings.\n",
    "    scorings.append({'trial': i,\n",
    "                          'params' : clf.get_params(),\n",
    "                          'scorings' : {'Recall': cv['test_recall'].mean(),\n",
    "                                        'Precision': cv['test_precision'].mean(),\n",
    "                                        'AUC': cv['test_roc_auc'].mean(),\n",
    "                                        'Accuracy': cv['test_accuracy'].mean(),\n",
    "                                        'Recall_Std': cv['test_recall'].std(),\n",
    "                                        'Precision_Std': cv['test_precision'].std(),\n",
    "                                        'AUC_Std': cv['test_roc_auc'].std(),\n",
    "                                        'Accuracy_Std': cv['test_accuracy'].std(),\n",
    "                                        'F1-Score': cv['test_f1'].mean()}\n",
    "                         }\n",
    "                        )\n",
    "    \n",
    "    return loss"
   ]
  },
  {
   "cell_type": "code",
   "execution_count": null,
   "id": "0e5dad86-e815-490f-b224-417a7abafccc",
   "metadata": {
    "collapsed": true,
    "jupyter": {
     "outputs_hidden": true,
     "source_hidden": true
    },
    "tags": []
   },
   "outputs": [],
   "source": [
    "# Ejecución del optimizador.\n",
    "from hyperopt import fmin, tpe, hp, space_eval, Trials\n",
    "from hyperopt.early_stop import no_progress_loss\n",
    "\n",
    "start_time = time.time()\n",
    "\n",
    "# Definición del espacio / dominio de parámetros.\n",
    "search_space = {'criterion' : hp.choice('criterion', ['entropy', 'gini']),\n",
    "                'splitter' : hp.choice('splitter', ['best', 'random']),\n",
    "                'max_depth' : hp.qnormal('max_depth', 12, 5, 1),\n",
    "                'min_samples_split' : hp.choice('min_samples_split', [2, 3]),\n",
    "                'min_samples_leaf' : hp.choice('min_samples_leaf', [1, 2, 3]),\n",
    "                'class_weight' : hp.choice('class_weight', [None, 'balanced'])}\n",
    "\n",
    "# Implementación de Hyperopt\n",
    "i = -1\n",
    "scorings = list()\n",
    "rstate = np.random.default_rng(42)\n",
    "trials = Trials() # Para el logging de resultados.\n",
    "best_params = fmin(fn = objective_func, space = search_space, algo = tpe.suggest, max_evals = 100, trials = trials, early_stop_fn = no_progress_loss(20), rstate = rstate)\n",
    "\n",
    "print(\"--- %.2f seconds ---\" % (time.time() - start_time))"
   ]
  },
  {
   "cell_type": "code",
   "execution_count": null,
   "id": "ed157077-2ea6-454d-a26c-5aeef8f6277e",
   "metadata": {
    "collapsed": true,
    "jupyter": {
     "outputs_hidden": true,
     "source_hidden": true
    },
    "tags": []
   },
   "outputs": [],
   "source": [
    "# Impresión de resultados.\n",
    "print('Trial ID :', trials.best_trial['tid'])\n",
    "print('Loss :', trials.best_trial['result']['loss'])\n",
    "print('Best Params :', space_eval(search_space, best_params), end = '\\n\\n')"
   ]
  },
  {
   "cell_type": "code",
   "execution_count": null,
   "id": "18e6866a-cab4-4caf-a3c9-ace80daea22c",
   "metadata": {
    "collapsed": true,
    "jupyter": {
     "outputs_hidden": true,
     "source_hidden": true
    },
    "tags": []
   },
   "outputs": [],
   "source": [
    "# Exportación de resultados a formato JSON.\n",
    "from datetime import datetime\n",
    "import json\n",
    "\n",
    "try:\n",
    "    os.mkdir('HyperOpt Optimizations')\n",
    "except:\n",
    "    None\n",
    "\n",
    "now = datetime.now()\n",
    "dt_string = now.strftime(\"%Y%m%d_%H%M%S\")\n",
    "path = os.getcwd() + '\\\\HyperOpt Optimizations\\\\'\n",
    "filename = 'Opt_' + dt_string + '.json'\n",
    "\n",
    "f = open(path + filename, 'w')\n",
    "json.dump(scorings, f)\n",
    "f.close()\n",
    "\n",
    "print(dt_string)"
   ]
  },
  {
   "cell_type": "code",
   "execution_count": null,
   "id": "6cfcb821-dc6e-4fcd-8e22-035f96ee8d5e",
   "metadata": {
    "collapsed": true,
    "jupyter": {
     "outputs_hidden": true,
     "source_hidden": true
    },
    "tags": []
   },
   "outputs": [],
   "source": [
    "# Obtención de resultados en formato tabla para visualizar scorings y desvios estándar.\n",
    "scorings_df = pd.DataFrame(columns = list(scorings[0]['scorings'].keys()))\n",
    "\n",
    "for scoring in scorings:\n",
    "    scorings_df = scorings_df.append(scoring['scorings'], ignore_index = True)\n",
    "\n",
    "with pd.option_context('display.max_rows', None, 'display.max_columns', None, 'display.width', 1000):  # more options can be specified also\n",
    "    print(scorings_df)"
   ]
  },
  {
   "cell_type": "code",
   "execution_count": null,
   "id": "b06672a3-baab-4870-bfb9-6ecf4a063630",
   "metadata": {
    "collapsed": true,
    "jupyter": {
     "outputs_hidden": true,
     "source_hidden": true
    },
    "tags": []
   },
   "outputs": [],
   "source": [
    "import matplotlib.pyplot as plt\n",
    "max_depth_i = [scoring['params']['max_depth'] for scoring in scorings]\n",
    "plt.scatter(x = range(len(max_depth_i)), y = max_depth_i)"
   ]
  },
  {
   "cell_type": "code",
   "execution_count": null,
   "id": "6a326d5e-4211-4072-bfbb-71ed970e90a4",
   "metadata": {
    "collapsed": true,
    "jupyter": {
     "outputs_hidden": true,
     "source_hidden": true
    },
    "tags": []
   },
   "outputs": [],
   "source": [
    "import matplotlib.pyplot as plt\n",
    "min_samples_leaf_i = [scoring['params']['min_samples_leaf'] for scoring in scorings]\n",
    "plt.scatter(x = range(len(min_samples_leaf_i)), y = min_samples_leaf_i)"
   ]
  },
  {
   "cell_type": "code",
   "execution_count": null,
   "id": "53dc99c8-f4d9-4548-a1c8-0ff20d17f0a2",
   "metadata": {
    "collapsed": true,
    "jupyter": {
     "outputs_hidden": true,
     "source_hidden": true
    },
    "tags": []
   },
   "outputs": [],
   "source": [
    "import matplotlib.pyplot as plt\n",
    "min_samples_split_i = [scoring['params']['min_samples_split'] for scoring in scorings]\n",
    "plt.scatter(x = range(len(min_samples_split_i)), y = min_samples_split_i)"
   ]
  },
  {
   "cell_type": "markdown",
   "id": "b16363b6-fcb0-4eb6-8bc0-567f779204ee",
   "metadata": {
    "tags": []
   },
   "source": [
    "##### 6.2.2.4. Evaluación de perfomance con el conjunto de validación"
   ]
  },
  {
   "cell_type": "code",
   "execution_count": null,
   "id": "d437c71c-08b7-450f-8c99-c88c4260c351",
   "metadata": {
    "collapsed": true,
    "jupyter": {
     "outputs_hidden": true,
     "source_hidden": true
    },
    "tags": []
   },
   "outputs": [],
   "source": [
    "# Representación gráfica\n",
    "# https://mljar.com/blog/visualize-decision-tree/\n",
    "\n",
    "# Trial ID : 30\n",
    "# Loss : 0.12165929643760158\n",
    "# Best Params : {'class_weight': None, 'criterion': 'entropy', 'max_depth': 29.0, 'min_samples_leaf': 3, 'min_samples_split': 3, 'splitter': 'best'}\n",
    "\n",
    "import matplotlib.pyplot as plt\n",
    "from sklearn.tree import DecisionTreeClassifier\n",
    "from sklearn.tree import export_text\n",
    "from sklearn.tree import plot_tree\n",
    "\n",
    "params = {'class_weight': None, 'criterion': 'entropy', 'max_depth': 29.0, 'min_samples_leaf': 3, 'min_samples_split': 3, 'splitter': 'best'}\n",
    "clf = DecisionTreeClassifier(random_state = 42, **params)\n",
    "clf.fit(X = X, y = y)\n",
    "\n",
    "text_representation = export_text(clf, show_weights = True, max_depth = 5, feature_names = list(X.columns))\n",
    "print(text_representation)\n",
    "\n",
    "fig = plt.figure(figsize=(25,20))\n",
    "fig = plot_tree(clf, max_depth = 4, fontsize = 12, feature_names = X.columns, proportion = True, filled = True)"
   ]
  },
  {
   "cell_type": "code",
   "execution_count": null,
   "id": "2e74eb98-fef1-4cfd-8312-4eaba3e3fd3a",
   "metadata": {
    "collapsed": true,
    "jupyter": {
     "outputs_hidden": true,
     "source_hidden": true
    },
    "tags": []
   },
   "outputs": [],
   "source": [
    "# Weights de los atributos.\n",
    "print(pd.DataFrame(data = (clf.feature_names_in_, clf.feature_importances_)).transpose().sort_values(1, ascending = False))"
   ]
  },
  {
   "cell_type": "code",
   "execution_count": null,
   "id": "c2bdaeea-4285-47f9-b648-84d2e0ada14f",
   "metadata": {
    "collapsed": true,
    "jupyter": {
     "outputs_hidden": true,
     "source_hidden": true
    },
    "tags": []
   },
   "outputs": [],
   "source": [
    "# Evaluación con el conjunto de validación.\n",
    "from sklearn.metrics import f1_score, accuracy_score, precision_score, recall_score, roc_auc_score\n",
    "\n",
    "X_test = df_validation.drop(labels = ['isFraud', 'isFlaggedFraud'], axis = 1, inplace = False)\n",
    "y_test = df_validation['isFraud']\n",
    "\n",
    "y_pred = clf.predict(X_test)\n",
    "\n",
    "print('Recall: %.4f' % recall_score(y_true = y_test, y_pred = y_pred))\n",
    "print('Precision: %.4f' % precision_score(y_true = y_test, y_pred = y_pred))\n",
    "print('AUC: %.4f' % roc_auc_score(y_true = y_test, y_score = y_pred))\n",
    "print('Accuracy: %.4f' % accuracy_score(y_true = y_test, y_pred = y_pred))\n",
    "print('F1-Score: %.4f' % f1_score(y_true = y_test, y_pred = y_pred))"
   ]
  },
  {
   "cell_type": "markdown",
   "id": "2a213504-2cec-43a4-876a-0e0cc7715c96",
   "metadata": {
    "tags": []
   },
   "source": [
    "#### 6.2.3. SVM"
   ]
  },
  {
   "cell_type": "markdown",
   "id": "3fadce19-23f4-46e2-a3e9-0b4b2ea98989",
   "metadata": {
    "tags": []
   },
   "source": [
    "##### 6.2.3.1. Ingeniería de predictores Nro. 1"
   ]
  },
  {
   "cell_type": "markdown",
   "id": "b1d86cb6-aa33-4373-819f-741a99b91425",
   "metadata": {},
   "source": [
    "Se evalua la eliminación de algunos atributos (día y hora de la operación y códigos de identificación de originante y destinatario, en estos dos últimos casos considerando la naturaleza del modelo)."
   ]
  },
  {
   "cell_type": "code",
   "execution_count": null,
   "id": "36f305c4-200a-4bc3-8d12-60668ed42668",
   "metadata": {
    "collapsed": true,
    "jupyter": {
     "outputs_hidden": true,
     "source_hidden": true
    },
    "tags": []
   },
   "outputs": [],
   "source": [
    "%%time\n",
    "# Definición de la función objetivo.\n",
    "from sklearn.model_selection import StratifiedKFold\n",
    "from sklearn.model_selection import cross_validate\n",
    "from sklearn.svm import SVC\n",
    "import itertools\n",
    "\n",
    "splitter = StratifiedKFold(n_splits = 5, random_state = 42, shuffle = True)\n",
    "indexes = [i[1] for i in splitter.split(X, y)]\n",
    "\n",
    "# Función objetivo.\n",
    "def objective_func(selected_columns, index):\n",
    "\n",
    "    global i, scorings\n",
    "    \n",
    "    i += 1\n",
    "      \n",
    "    X2 = X.iloc[index, :].drop(selected_columns, axis = 1)\n",
    "    y2 = y.iloc[index]\n",
    "    \n",
    "    clf = SVC(random_state = 42)\n",
    "    skf = StratifiedKFold(random_state = 42, n_splits = 4, shuffle = True)\n",
    "    cv = cross_validate(estimator = clf, X = X2, y = y2, cv = skf, verbose = 0, n_jobs = -1, scoring = ('precision', 'recall', 'roc_auc', 'accuracy', 'f1'))\n",
    "        \n",
    "    loss = 1 - cv['test_f1'].mean() + cv['test_f1'].std()\n",
    "    \n",
    "    # Almacenamiento de scorings.\n",
    "    scorings.append({'trial': i,\n",
    "                          'params' : clf.get_params(),\n",
    "                          'scorings' : {'Recall': cv['test_recall'].mean(),\n",
    "                                        'Precision': cv['test_precision'].mean(),\n",
    "                                        'AUC': cv['test_roc_auc'].mean(),\n",
    "                                        'Accuracy': cv['test_accuracy'].mean(),\n",
    "                                        'Recall_Std': cv['test_recall'].std(),\n",
    "                                        'Precision_Std': cv['test_precision'].std(),\n",
    "                                        'AUC_Std': cv['test_roc_auc'].std(),\n",
    "                                        'Accuracy_Std': cv['test_accuracy'].std(),\n",
    "                                        'F1-Score': cv['test_f1'].mean()}\n",
    "                         }\n",
    "                        )\n",
    "    \n",
    "    return loss\n",
    "\n",
    "# Espacio de soluciones.\n",
    "items =  ['day', 'hour', 'idOrig', 'idDest']\n",
    "combinations = []\n",
    "for item in range(0, len(items) + 1):\n",
    "    for subset in itertools.combinations(items, item):\n",
    "        combinations.append(list(subset))\n",
    "\n",
    "# Ejecución del iterador.\n",
    "i = -1\n",
    "scorings = []\n",
    "output = []\n",
    "for selected_columns in combinations:\n",
    "    start_time = time.time()\n",
    "    loss = objective_func(selected_columns, range(500000))\n",
    "    output.append(loss)\n",
    "    elapsed_time = time.time() - start_time\n",
    "    print('Columns: ', selected_columns, '| Loss : ', loss, '| Elapsed time: ', elapsed_time)"
   ]
  },
  {
   "cell_type": "code",
   "execution_count": null,
   "id": "3cb7b131-9563-444e-863f-33f5fd317ede",
   "metadata": {
    "collapsed": true,
    "jupyter": {
     "outputs_hidden": true,
     "source_hidden": true
    },
    "tags": []
   },
   "outputs": [],
   "source": [
    "# Exportación de resultados a formato JSON.\n",
    "from datetime import datetime\n",
    "import json\n",
    "\n",
    "try:\n",
    "    os.mkdir('HyperOpt Optimizations')\n",
    "except:\n",
    "    None\n",
    "\n",
    "now = datetime.now()\n",
    "dt_string = now.strftime(\"%Y%m%d_%H%M%S\")\n",
    "path = os.getcwd() + '\\\\HyperOpt Optimizations\\\\'\n",
    "filename = 'Opt_' + dt_string + '.json'\n",
    "\n",
    "f = open(path + filename, 'w')\n",
    "json.dump(scorings, f)\n",
    "f.close()\n",
    "\n",
    "print(dt_string)"
   ]
  },
  {
   "cell_type": "code",
   "execution_count": null,
   "id": "2bb767a5-007d-4c57-bb56-cdb59458d6c5",
   "metadata": {
    "collapsed": true,
    "jupyter": {
     "outputs_hidden": true,
     "source_hidden": true
    },
    "tags": []
   },
   "outputs": [],
   "source": [
    "# Obtención de resultados en formato tabla para visualizar scorings y desvios estándar.\n",
    "scorings_df = pd.DataFrame(columns = list(scorings[0]['scorings'].keys()))\n",
    "\n",
    "for scoring in scorings:\n",
    "    scorings_df = scorings_df.append(scoring['scorings'], ignore_index = True)\n",
    "\n",
    "with pd.option_context('display.max_rows', None, 'display.max_columns', None, 'display.width', 1000):  # more options can be specified also\n",
    "    print(scorings_df)"
   ]
  },
  {
   "cell_type": "markdown",
   "id": "cb7375bd-555d-43f2-afc9-e5a64c489ceb",
   "metadata": {
    "tags": []
   },
   "source": [
    "##### 6.2.3.2. Ingeniería de predictores Nro. 2"
   ]
  },
  {
   "cell_type": "markdown",
   "id": "996c34b0-f6d3-4963-83b6-5bdef67e6f9c",
   "metadata": {},
   "source": [
    "Se evalua el impacto de la aplicación de distintos métodos de estandarización de atributos."
   ]
  },
  {
   "cell_type": "markdown",
   "id": "626f5615-591f-4aca-818d-20edb3cd0f31",
   "metadata": {},
   "source": [
    "Escalamiento de atributos a un mínimo de 0 y máximo de 1."
   ]
  },
  {
   "cell_type": "markdown",
   "id": "c656a576-9440-4ccc-99a2-9d4f97c464f4",
   "metadata": {},
   "source": [
    "Se eliminan las columnas 'day', 'hour', 'idOrig' e 'idDest'."
   ]
  },
  {
   "cell_type": "code",
   "execution_count": 10,
   "id": "253fc1e2-45d4-4f24-910d-ce88364ee0ab",
   "metadata": {
    "collapsed": true,
    "jupyter": {
     "outputs_hidden": true,
     "source_hidden": true
    },
    "tags": []
   },
   "outputs": [
    {
     "name": "stdout",
     "output_type": "stream",
     "text": [
      "Selected Columns: ['day', 'hour', 'idOrig', 'idDest'] | Indexes: range(0, 500000) | Loss: 0.6108 | Elapsed_time: 166.7252 seconds\n"
     ]
    },
    {
     "data": {
      "text/plain": [
       "0.610799729466161"
      ]
     },
     "execution_count": 10,
     "metadata": {},
     "output_type": "execute_result"
    }
   ],
   "source": [
    "# Definición de la función objetivo.\n",
    "from sklearn.model_selection import StratifiedKFold\n",
    "from sklearn.model_selection import cross_validate\n",
    "from sklearn.svm import SVC\n",
    "import itertools\n",
    "\n",
    "from sklearn.preprocessing import MinMaxScaler\n",
    "from sklearn.preprocessing import MaxAbsScaler\n",
    "from sklearn.preprocessing import StandardScaler\n",
    "from sklearn.model_selection import ShuffleSplit\n",
    "\n",
    "selected_columns = ['day', 'hour', 'idOrig', 'idDest']\n",
    "splitter = ShuffleSplit(n_splits = 1, train_size = 0.01, random_state = 42)\n",
    "index = range(500000) # list([train for train, test in splitter.split(X)])[0]\n",
    "\n",
    "# Función objetivo.\n",
    "def objective_func(selected_columns, index):\n",
    "    \n",
    "    global i, scorings\n",
    "    \n",
    "    start_time = time.time()\n",
    "    \n",
    "    i += 1\n",
    "      \n",
    "    X2 = X.iloc[index, :].drop(selected_columns, axis = 1)\n",
    "    y2 = y.iloc[index]\n",
    "    \n",
    "    clf = SVC(random_state = 42)\n",
    "    skf = StratifiedKFold(random_state = 42, n_splits = 4, shuffle = True)\n",
    "    cv = cross_validate(estimator = clf, X = X2, y = y2, cv = skf, verbose = 0, n_jobs = -1, scoring = ('precision', 'recall', 'roc_auc', 'accuracy', 'f1'))\n",
    "        \n",
    "    loss = 1 - cv['test_f1'].mean() + cv['test_f1'].std()\n",
    "    \n",
    "    # Almacenamiento de scorings.\n",
    "    scorings.append({'trial': i,\n",
    "                      'params' : clf.get_params(),\n",
    "                      'scorings' : {'Recall': cv['test_recall'].mean(),\n",
    "                                    'Precision': cv['test_precision'].mean(),\n",
    "                                    'AUC': cv['test_roc_auc'].mean(),\n",
    "                                    'Accuracy': cv['test_accuracy'].mean(),\n",
    "                                    'Recall_Std': cv['test_recall'].std(),\n",
    "                                    'Precision_Std': cv['test_precision'].std(),\n",
    "                                    'AUC_Std': cv['test_roc_auc'].std(),\n",
    "                                    'Accuracy_Std': cv['test_accuracy'].std(),\n",
    "                                    'F1-Score': cv['test_f1'].mean()}\n",
    "                         }\n",
    "                        )\n",
    "    \n",
    "    elapsed_time = time.time() - start_time\n",
    "    print('Selected Columns: %s | Indexes: %s | Loss: %.4f | Elapsed_time: %.4f seconds' % (selected_columns, index, loss, elapsed_time))\n",
    "    \n",
    "    return loss\n",
    "\n",
    "# Ejecución del iterador.\n",
    "i = -1\n",
    "scorings = []\n",
    "\n",
    "objective_func(selected_columns, index)"
   ]
  },
  {
   "cell_type": "code",
   "execution_count": 9,
   "id": "478a6d53-99ae-4511-b9b7-d17119eeeeea",
   "metadata": {
    "collapsed": true,
    "jupyter": {
     "outputs_hidden": true,
     "source_hidden": true
    },
    "tags": []
   },
   "outputs": [
    {
     "name": "stdout",
     "output_type": "stream",
     "text": [
      "Selected Columns: ['day', 'hour', 'idOrig', 'idDest'] | Indexes: range(0, 500000) | Loss: 0.8206 | Elapsed_time: 54.4394 seconds\n",
      "Selected Columns: ['day', 'hour', 'idOrig', 'idDest'] | Indexes: range(0, 500000) | Loss: 0.8206 | Elapsed_time: 54.3352 seconds\n",
      "Selected Columns: ['day', 'hour', 'idOrig', 'idDest'] | Indexes: range(0, 500000) | Loss: 0.8206 | Elapsed_time: 54.0157 seconds\n",
      "Selected Columns: ['day', 'hour', 'idOrig', 'idDest'] | Indexes: range(0, 500000) | Loss: 0.5509 | Elapsed_time: 2457.4731 seconds\n"
     ]
    }
   ],
   "source": [
    "# Definición de la función objetivo.\n",
    "from sklearn.model_selection import StratifiedKFold\n",
    "from sklearn.model_selection import cross_validate\n",
    "from sklearn.svm import SVC\n",
    "import itertools\n",
    "\n",
    "from sklearn.preprocessing import MinMaxScaler\n",
    "from sklearn.preprocessing import MaxAbsScaler\n",
    "from sklearn.preprocessing import StandardScaler\n",
    "from sklearn.model_selection import ShuffleSplit\n",
    "\n",
    "selected_columns = ['day', 'hour', 'idOrig', 'idDest']\n",
    "combinations = {0: MinMaxScaler((0, 1)),\n",
    "                1: MinMaxScaler((-1, 1)),\n",
    "                2: MaxAbsScaler(),\n",
    "                3: StandardScaler()\n",
    "               }\n",
    "splitter = ShuffleSplit(n_splits = 1, train_size = 0.01, random_state = 42)\n",
    "index = range(500000) # list([train for train, test in splitter.split(X)])[0]\n",
    "\n",
    "# Función objetivo.\n",
    "def objective_func(selected_columns, index, scaler):\n",
    "    \n",
    "    global i, scorings\n",
    "    \n",
    "    start_time = time.time()\n",
    "    \n",
    "    i += 1\n",
    "      \n",
    "    X2 = X.iloc[index, :].drop(selected_columns, axis = 1)\n",
    "    X2 = scaler.fit_transform(X2)\n",
    "    y2 = y.iloc[index]\n",
    "    \n",
    "    clf = SVC(random_state = 42)\n",
    "    skf = StratifiedKFold(random_state = 42, n_splits = 4, shuffle = True)\n",
    "    cv = cross_validate(estimator = clf, X = X2, y = y2, cv = skf, verbose = 0, n_jobs = -1, scoring = ('precision', 'recall', 'roc_auc', 'accuracy', 'f1'))\n",
    "        \n",
    "    loss = 1 - cv['test_f1'].mean() + cv['test_f1'].std()\n",
    "    \n",
    "    # Almacenamiento de scorings.\n",
    "    scorings.append({'trial': i,\n",
    "                      'params' : clf.get_params(),\n",
    "                      'scorings' : {'Recall': cv['test_recall'].mean(),\n",
    "                                    'Precision': cv['test_precision'].mean(),\n",
    "                                    'AUC': cv['test_roc_auc'].mean(),\n",
    "                                    'Accuracy': cv['test_accuracy'].mean(),\n",
    "                                    'Recall_Std': cv['test_recall'].std(),\n",
    "                                    'Precision_Std': cv['test_precision'].std(),\n",
    "                                    'AUC_Std': cv['test_roc_auc'].std(),\n",
    "                                    'Accuracy_Std': cv['test_accuracy'].std(),\n",
    "                                    'F1-Score': cv['test_f1'].mean()}\n",
    "                         }\n",
    "                        )\n",
    "    \n",
    "    elapsed_time = time.time() - start_time\n",
    "    print('Selected Columns: %s | Indexes: %s | Loss: %.4f | Elapsed_time: %.4f seconds' % (selected_columns, index, loss, elapsed_time))\n",
    "    \n",
    "    return loss\n",
    "\n",
    "# Ejecución del iterador.\n",
    "i = -1\n",
    "scorings = []\n",
    "\n",
    "for combination in combinations:\n",
    "    loss = objective_func(selected_columns, index, combinations[combination])"
   ]
  },
  {
   "cell_type": "markdown",
   "id": "52619af4-74d5-466e-b39a-b434b74a1819",
   "metadata": {},
   "source": [
    "El método de estandarización parecería producir mejores resultados que con el dataset original."
   ]
  },
  {
   "cell_type": "markdown",
   "id": "0742a619-7880-42b0-9ce2-6de57426defc",
   "metadata": {
    "tags": []
   },
   "source": [
    "##### 6.2.3.3. Ingeniería de predictores Nro. 3"
   ]
  },
  {
   "cell_type": "markdown",
   "id": "050dbec8-a563-4e56-a300-c14fdaec538c",
   "metadata": {},
   "source": [
    "Se evaluan modelos de clasificación de tipo SVM."
   ]
  },
  {
   "cell_type": "markdown",
   "id": "460cc4e8-f063-4864-930c-7ed04ccc7f18",
   "metadata": {},
   "source": [
    "A partir de los resultados, se utiliza el modelo LinearSVC."
   ]
  },
  {
   "cell_type": "code",
   "execution_count": null,
   "id": "35c368d4-812f-4e74-8b16-c30a9697e6ae",
   "metadata": {
    "collapsed": true,
    "jupyter": {
     "outputs_hidden": true,
     "source_hidden": true
    },
    "tags": []
   },
   "outputs": [],
   "source": []
  },
  {
   "cell_type": "code",
   "execution_count": null,
   "id": "837ca4a9-fc3e-4f46-a9a3-eaf7c4f6e87d",
   "metadata": {
    "collapsed": true,
    "jupyter": {
     "outputs_hidden": true,
     "source_hidden": true
    },
    "tags": []
   },
   "outputs": [],
   "source": []
  },
  {
   "cell_type": "code",
   "execution_count": null,
   "id": "5cd67223-6363-40b1-928c-81c8e2bc8693",
   "metadata": {
    "collapsed": true,
    "jupyter": {
     "outputs_hidden": true,
     "source_hidden": true
    },
    "tags": []
   },
   "outputs": [],
   "source": []
  },
  {
   "cell_type": "markdown",
   "id": "e9961041-ef8b-4e11-8b9f-81837a88d207",
   "metadata": {
    "tags": []
   },
   "source": [
    "##### 6.2.3.4. Optimización de hiperparámetros"
   ]
  },
  {
   "cell_type": "markdown",
   "id": "b8fa3877-56df-4f84-8f67-dcec031a4c8c",
   "metadata": {},
   "source": [
    "Se evaluan hiperparámetros del modelo."
   ]
  },
  {
   "cell_type": "code",
   "execution_count": 14,
   "id": "9a583627-5786-4262-b175-081334556855",
   "metadata": {
    "collapsed": true,
    "jupyter": {
     "outputs_hidden": true,
     "source_hidden": true
    },
    "tags": []
   },
   "outputs": [
    {
     "name": "stdout",
     "output_type": "stream",
     "text": [
      "Indexes: range(0, 500000) | Loss: 0.5555 | Elapsed_time: 4.7814 seconds                                                \n",
      "Indexes: range(0, 500000) | Loss: 0.4816 | Elapsed_time: 9.4228 seconds                                                \n",
      "Indexes: range(0, 500000) | Loss: 0.5641 | Elapsed_time: 4.7994 seconds                                                \n",
      "Indexes: range(0, 500000) | Loss: 0.4794 | Elapsed_time: 9.3817 seconds                                                \n",
      "Indexes: range(0, 500000) | Loss: 0.5514 | Elapsed_time: 4.8792 seconds                                                \n",
      "Indexes: range(0, 500000) | Loss: 0.4816 | Elapsed_time: 9.8247 seconds                                                \n",
      "Indexes: range(0, 500000) | Loss: 0.4794 | Elapsed_time: 9.8348 seconds                                                \n",
      "Indexes: range(0, 500000) | Loss: 0.5641 | Elapsed_time: 4.9029 seconds                                                \n",
      "Indexes: range(0, 500000) | Loss: 0.5597 | Elapsed_time: 4.8546 seconds                                                \n",
      "Indexes: range(0, 500000) | Loss: 0.4816 | Elapsed_time: 9.3946 seconds                                                \n",
      "Indexes: range(0, 500000) | Loss: 0.5597 | Elapsed_time: 4.9829 seconds                                                \n",
      "Indexes: range(0, 500000) | Loss: 0.4816 | Elapsed_time: 8.8559 seconds                                                \n",
      "Indexes: range(0, 500000) | Loss: 0.5641 | Elapsed_time: 4.7412 seconds                                                \n",
      "Indexes: range(0, 500000) | Loss: 0.4816 | Elapsed_time: 9.4000 seconds                                                \n",
      "Indexes: range(0, 500000) | Loss: 0.4816 | Elapsed_time: 9.2971 seconds                                                \n",
      "Indexes: range(0, 500000) | Loss: 0.5641 | Elapsed_time: 4.8283 seconds                                                \n",
      "Indexes: range(0, 500000) | Loss: 0.4816 | Elapsed_time: 9.5251 seconds                                                \n",
      "Indexes: range(0, 500000) | Loss: 0.4816 | Elapsed_time: 9.5190 seconds                                                \n",
      "Indexes: range(0, 500000) | Loss: 0.4816 | Elapsed_time: 9.3690 seconds                                                \n",
      "Indexes: range(0, 500000) | Loss: 0.5686 | Elapsed_time: 4.7739 seconds                                                \n",
      "Indexes: range(0, 500000) | Loss: 0.4794 | Elapsed_time: 9.5978 seconds                                                \n",
      "Indexes: range(0, 500000) | Loss: 0.4794 | Elapsed_time: 9.6157 seconds                                                \n",
      "Indexes: range(0, 500000) | Loss: 0.4794 | Elapsed_time: 9.9717 seconds                                                \n",
      "Indexes: range(0, 500000) | Loss: 0.4772 | Elapsed_time: 10.7323 seconds                                               \n",
      "Indexes: range(0, 500000) | Loss: 0.4772 | Elapsed_time: 10.5573 seconds                                               \n",
      "Indexes: range(0, 500000) | Loss: 0.4772 | Elapsed_time: 10.1249 seconds                                               \n",
      "Indexes: range(0, 500000) | Loss: 0.4772 | Elapsed_time: 10.6216 seconds                                               \n",
      "Indexes: range(0, 500000) | Loss: 0.4772 | Elapsed_time: 10.0750 seconds                                               \n",
      "Indexes: range(0, 500000) | Loss: 0.4772 | Elapsed_time: 10.4380 seconds                                               \n",
      "Indexes: range(0, 500000) | Loss: 0.4772 | Elapsed_time: 10.7900 seconds                                               \n",
      "Indexes: range(0, 500000) | Loss: 0.4772 | Elapsed_time: 10.4638 seconds                                               \n",
      "Indexes: range(0, 500000) | Loss: 0.4772 | Elapsed_time: 10.6730 seconds                                               \n",
      "Indexes: range(0, 500000) | Loss: 0.4772 | Elapsed_time: 10.5872 seconds                                               \n",
      "Indexes: range(0, 500000) | Loss: 0.4772 | Elapsed_time: 10.6086 seconds                                               \n",
      "Indexes: range(0, 500000) | Loss: 0.4772 | Elapsed_time: 11.1599 seconds                                               \n",
      "Indexes: range(0, 500000) | Loss: 0.4772 | Elapsed_time: 11.1824 seconds                                               \n",
      "Indexes: range(0, 500000) | Loss: 0.5405 | Elapsed_time: 5.4278 seconds                                                \n",
      "Indexes: range(0, 500000) | Loss: 0.4772 | Elapsed_time: 9.8719 seconds                                                \n",
      "Indexes: range(0, 500000) | Loss: 0.4794 | Elapsed_time: 9.9762 seconds                                                \n",
      "Indexes: range(0, 500000) | Loss: 0.5443 | Elapsed_time: 5.2837 seconds                                                \n",
      "Indexes: range(0, 500000) | Loss: 0.4772 | Elapsed_time: 10.7831 seconds                                               \n",
      "Indexes: range(0, 500000) | Loss: 0.5443 | Elapsed_time: 5.4150 seconds                                                \n",
      "Indexes: range(0, 500000) | Loss: 0.4772 | Elapsed_time: 11.1234 seconds                                               \n",
      "Indexes: range(0, 500000) | Loss: 0.4772 | Elapsed_time: 10.2491 seconds                                               \n",
      "Indexes: range(0, 500000) | Loss: 0.5499 | Elapsed_time: 4.9520 seconds                                                \n",
      "Indexes: range(0, 500000) | Loss: 0.4772 | Elapsed_time: 11.2373 seconds                                               \n",
      "Indexes: range(0, 500000) | Loss: 0.4772 | Elapsed_time: 10.3072 seconds                                               \n",
      "Indexes: range(0, 500000) | Loss: 0.5499 | Elapsed_time: 5.2102 seconds                                                \n",
      "Indexes: range(0, 500000) | Loss: 0.4772 | Elapsed_time: 11.0928 seconds                                               \n",
      "Indexes: range(0, 500000) | Loss: 0.4772 | Elapsed_time: 10.3639 seconds                                               \n",
      "Indexes: range(0, 500000) | Loss: 0.5499 | Elapsed_time: 5.0835 seconds                                                \n",
      "Indexes: range(0, 500000) | Loss: 0.4772 | Elapsed_time: 10.4086 seconds                                               \n",
      "Indexes: range(0, 500000) | Loss: 0.4772 | Elapsed_time: 10.3849 seconds                                               \n",
      "Indexes: range(0, 500000) | Loss: 0.4772 | Elapsed_time: 9.8404 seconds                                                \n",
      "Indexes: range(0, 500000) | Loss: 0.5474 | Elapsed_time: 5.2208 seconds                                                \n",
      "Indexes: range(0, 500000) | Loss: 0.4772 | Elapsed_time: 10.4923 seconds                                               \n",
      "Indexes: range(0, 500000) | Loss: 0.4772 | Elapsed_time: 10.6767 seconds                                               \n",
      "Indexes: range(0, 500000) | Loss: 0.4772 | Elapsed_time: 10.1112 seconds                                               \n",
      "Indexes: range(0, 500000) | Loss: 0.5474 | Elapsed_time: 5.2937 seconds                                                \n",
      "Indexes: range(0, 500000) | Loss: 0.4772 | Elapsed_time: 10.8277 seconds                                               \n",
      "Indexes: range(0, 500000) | Loss: 0.4772 | Elapsed_time: 10.4452 seconds                                               \n",
      "Indexes: range(0, 500000) | Loss: 0.4772 | Elapsed_time: 10.2440 seconds                                               \n",
      "Indexes: range(0, 500000) | Loss: 0.4816 | Elapsed_time: 9.5298 seconds                                                \n",
      "Indexes: range(0, 500000) | Loss: 0.5443 | Elapsed_time: 5.2807 seconds                                                \n",
      "Indexes: range(0, 500000) | Loss: 0.4772 | Elapsed_time: 10.7558 seconds                                               \n",
      "Indexes: range(0, 500000) | Loss: 0.4772 | Elapsed_time: 10.3947 seconds                                               \n",
      "Indexes: range(0, 500000) | Loss: 0.4772 | Elapsed_time: 10.8128 seconds                                               \n",
      "Indexes: range(0, 500000) | Loss: 0.4772 | Elapsed_time: 10.7758 seconds                                               \n",
      "Indexes: range(0, 500000) | Loss: 0.4772 | Elapsed_time: 10.8791 seconds                                               \n",
      "Indexes: range(0, 500000) | Loss: 0.4772 | Elapsed_time: 10.8643 seconds                                               \n",
      "Indexes: range(0, 500000) | Loss: 0.4772 | Elapsed_time: 10.9219 seconds                                               \n",
      "Indexes: range(0, 500000) | Loss: 0.4752 | Elapsed_time: 11.0858 seconds                                               \n",
      "Indexes: range(0, 500000) | Loss: 0.4752 | Elapsed_time: 11.6060 seconds                                               \n",
      "Indexes: range(0, 500000) | Loss: 0.4752 | Elapsed_time: 11.7474 seconds                                               \n",
      "Indexes: range(0, 500000) | Loss: 0.4752 | Elapsed_time: 11.1599 seconds                                               \n",
      "Indexes: range(0, 500000) | Loss: 0.4752 | Elapsed_time: 11.1791 seconds                                               \n",
      "Indexes: range(0, 500000) | Loss: 0.4752 | Elapsed_time: 11.4531 seconds                                               \n",
      "Indexes: range(0, 500000) | Loss: 0.4752 | Elapsed_time: 11.9075 seconds                                               \n",
      "Indexes: range(0, 500000) | Loss: 0.4756 | Elapsed_time: 12.3197 seconds                                               \n",
      "Indexes: range(0, 500000) | Loss: 0.4752 | Elapsed_time: 11.5807 seconds                                               \n",
      "Indexes: range(0, 500000) | Loss: 0.5468 | Elapsed_time: 5.7660 seconds                                                \n",
      "Indexes: range(0, 500000) | Loss: 0.4752 | Elapsed_time: 11.9078 seconds                                               \n",
      "Indexes: range(0, 500000) | Loss: 0.4752 | Elapsed_time: 11.4878 seconds                                               \n",
      "Indexes: range(0, 500000) | Loss: 0.4752 | Elapsed_time: 11.5455 seconds                                               \n",
      "Indexes: range(0, 500000) | Loss: 0.4752 | Elapsed_time: 11.2648 seconds                                               \n",
      "Indexes: range(0, 500000) | Loss: 0.5437 | Elapsed_time: 5.5885 seconds                                                \n",
      "Indexes: range(0, 500000) | Loss: 0.4752 | Elapsed_time: 11.0082 seconds                                               \n",
      "Indexes: range(0, 500000) | Loss: 0.4752 | Elapsed_time: 11.1601 seconds                                               \n",
      "Indexes: range(0, 500000) | Loss: 0.4752 | Elapsed_time: 11.2223 seconds                                               \n",
      "Indexes: range(0, 500000) | Loss: 0.5448 | Elapsed_time: 5.5653 seconds                                                \n",
      "Indexes: range(0, 500000) | Loss: 0.4752 | Elapsed_time: 11.8126 seconds                                               \n",
      "Indexes: range(0, 500000) | Loss: 0.4752 | Elapsed_time: 10.9716 seconds                                               \n",
      "Indexes: range(0, 500000) | Loss: 0.4752 | Elapsed_time: 11.1862 seconds                                               \n",
      "Indexes: range(0, 500000) | Loss: 0.4752 | Elapsed_time: 11.4601 seconds                                               \n",
      "Indexes: range(0, 500000) | Loss: 0.5443 | Elapsed_time: 5.3594 seconds                                                \n",
      "Indexes: range(0, 500000) | Loss: 0.4752 | Elapsed_time: 11.4209 seconds                                               \n",
      "Indexes: range(0, 500000) | Loss: 0.4752 | Elapsed_time: 11.6371 seconds                                               \n",
      "Indexes: range(0, 500000) | Loss: 0.4752 | Elapsed_time: 11.5290 seconds                                               \n",
      "Indexes: range(0, 500000) | Loss: 0.4816 | Elapsed_time: 9.4330 seconds                                                \n",
      "Indexes: range(0, 500000) | Loss: 0.5443 | Elapsed_time: 5.3923 seconds                                                \n",
      "100%|███████████████████████████████████████████████| 100/100 [15:36<00:00,  9.37s/trial, best loss: 0.475218360409099]\n"
     ]
    }
   ],
   "source": [
    "# Definición de la función objetivo.\n",
    "from sklearn.model_selection import StratifiedKFold\n",
    "from sklearn.model_selection import cross_validate\n",
    "from sklearn.svm import SVC\n",
    "import itertools\n",
    "from sklearn.preprocessing import StandardScaler\n",
    "from sklearn.model_selection import ShuffleSplit\n",
    "from sklearn.svm import LinearSVC\n",
    "from hyperopt import fmin, hp, tpe, space_eval, Trials\n",
    "from hyperopt.early_stop import no_progress_loss\n",
    "from math import exp, log\n",
    "\n",
    "# Función objetivo.\n",
    "def objective_func(hyperparameters):\n",
    "    \n",
    "    global i, scorings\n",
    "    \n",
    "    start_time = time.time()\n",
    "    \n",
    "    i += 1\n",
    "    \n",
    "    clf = LinearSVC(random_state = 42, **hyperparameters)\n",
    "    skf = StratifiedKFold(random_state = 42, n_splits = 4, shuffle = True)\n",
    "    cv = cross_validate(estimator = clf, X = X2, y = y2, cv = skf, verbose = 0, n_jobs = -1, scoring = ('precision', 'recall', 'roc_auc', 'accuracy', 'f1'))\n",
    "        \n",
    "    loss = 1 - cv['test_f1'].mean() + cv['test_f1'].std()\n",
    "    \n",
    "    # Almacenamiento de scorings.\n",
    "    scorings.append({'trial': i,\n",
    "                      'params' : clf.get_params(),\n",
    "                      'scorings' : {'Recall': cv['test_recall'].mean(),\n",
    "                                    'Precision': cv['test_precision'].mean(),\n",
    "                                    'AUC': cv['test_roc_auc'].mean(),\n",
    "                                    'Accuracy': cv['test_accuracy'].mean(),\n",
    "                                    'Recall_Std': cv['test_recall'].std(),\n",
    "                                    'Precision_Std': cv['test_precision'].std(),\n",
    "                                    'AUC_Std': cv['test_roc_auc'].std(),\n",
    "                                    'Accuracy_Std': cv['test_accuracy'].std(),\n",
    "                                    'F1-Score': cv['test_f1'].mean()}\n",
    "                         }\n",
    "                        )\n",
    "    \n",
    "    elapsed_time = time.time() - start_time\n",
    "    print('Indexes: %s | Loss: %.4f | Elapsed_time: %.4f seconds' % (index, loss, elapsed_time))\n",
    "    return loss\n",
    "\n",
    "# Definición del espacio / dominio de parámetros.\n",
    "search_space = {'penalty' : hp.choice('penalty', ['l2']),\n",
    "                'loss' : hp.choice('loss', ['hinge', 'squared_hinge']),\n",
    "                'C' : hp.lognormal('C', log(1.01), log(1.01))\n",
    "               }\n",
    "\n",
    "# Ejecución del iterador.\n",
    "i = -1\n",
    "scorings = []\n",
    "selected_columns = ['day', 'hour', 'idOrig', 'idDest']\n",
    "index = range(500000)\n",
    "rstate = np.random.default_rng(42)\n",
    "trials = Trials() # Para el logging de resultados.\n",
    "X2 = X.iloc[index, :].drop(selected_columns, axis = 1)\n",
    "scaler = StandardScaler()\n",
    "X2 = scaler.fit_transform(X2)\n",
    "y2 = y.iloc[index]\n",
    "\n",
    "best_params = fmin(fn = objective_func, space = search_space, algo = tpe.suggest, max_evals = 100, trials = trials, early_stop_fn = no_progress_loss(100), rstate = rstate)"
   ]
  },
  {
   "cell_type": "code",
   "execution_count": 15,
   "id": "6ee2d327-4a02-4a31-ba98-b30f0a7e46ad",
   "metadata": {
    "collapsed": true,
    "jupyter": {
     "outputs_hidden": true,
     "source_hidden": true
    },
    "tags": []
   },
   "outputs": [
    {
     "name": "stdout",
     "output_type": "stream",
     "text": [
      "Trial ID : 71\n",
      "Loss : 0.475218360409099\n",
      "Best Params : {'C': 1.2912110784758317, 'loss': 'squared_hinge', 'penalty': 'l2'}\n",
      "\n"
     ]
    }
   ],
   "source": [
    "# Impresión de resultados.\n",
    "print('Trial ID :', trials.best_trial['tid'])\n",
    "print('Loss :', trials.best_trial['result']['loss'])\n",
    "print('Best Params :', space_eval(search_space, best_params), end = '\\n\\n')"
   ]
  },
  {
   "cell_type": "code",
   "execution_count": 16,
   "id": "62bd6040-ebfc-4cb0-bc9e-6508c3677f15",
   "metadata": {
    "collapsed": true,
    "jupyter": {
     "outputs_hidden": true,
     "source_hidden": true
    },
    "tags": []
   },
   "outputs": [
    {
     "name": "stdout",
     "output_type": "stream",
     "text": [
      "20220223_235233\n"
     ]
    }
   ],
   "source": [
    "# Exportación de resultados a formato JSON.\n",
    "from datetime import datetime\n",
    "import json\n",
    "\n",
    "try:\n",
    "    os.mkdir('HyperOpt Optimizations')\n",
    "except:\n",
    "    None\n",
    "\n",
    "now = datetime.now()\n",
    "dt_string = now.strftime(\"%Y%m%d_%H%M%S\")\n",
    "path = os.getcwd() + '\\\\HyperOpt Optimizations\\\\'\n",
    "filename= 'Opt_' + dt_string + '.json'\n",
    "\n",
    "f = open(path + filename, 'w')\n",
    "json.dump(scorings, f)\n",
    "f.close()\n",
    "\n",
    "print(dt_string)"
   ]
  },
  {
   "cell_type": "code",
   "execution_count": 17,
   "id": "a58dd8fb-b71d-49ae-adc2-0e8279736eeb",
   "metadata": {
    "collapsed": true,
    "jupyter": {
     "outputs_hidden": true,
     "source_hidden": true
    },
    "tags": []
   },
   "outputs": [
    {
     "name": "stdout",
     "output_type": "stream",
     "text": [
      "      Recall Precision       AUC  Accuracy Recall_Std Precision_Std   AUC_Std Accuracy_Std  F1-Score\n",
      "0   0.312038   0.97118   0.91944  0.999084   0.022316      0.029626  0.015215     0.000038  0.472026\n",
      "1   0.379028  0.965278  0.975705  0.999166   0.024612      0.016596  0.006858     0.000035  0.543861\n",
      "2   0.308989   0.97038   0.91889   0.99908   0.026098      0.030968  0.015601     0.000043  0.468358\n",
      "3   0.380552  0.965511  0.975727  0.999168   0.024314       0.01622  0.006843     0.000033  0.545455\n",
      "4   0.313562  0.971557  0.919042  0.999086   0.020673      0.028995  0.015458     0.000035  0.473835\n",
      "5   0.379028  0.965278  0.975633  0.999166   0.024612      0.016596  0.006862     0.000035  0.543861\n",
      "6   0.380552  0.965511  0.975732  0.999168   0.024314       0.01622  0.006856     0.000033  0.545455\n",
      "7   0.308989   0.97038  0.918576   0.99908   0.026098      0.030968  0.015512     0.000043  0.468358\n",
      "8   0.310514  0.970788  0.918822  0.999082   0.024136      0.030283   0.01553     0.000041    0.4702\n",
      "9   0.379028  0.965278  0.975627  0.999166   0.024612      0.016596   0.00685     0.000035  0.543861\n",
      "10  0.310514  0.970788  0.918483  0.999082   0.024136      0.030283  0.015723     0.000041    0.4702\n",
      "11  0.379028  0.965278   0.97558  0.999166   0.024612      0.016596  0.006869     0.000035  0.543861\n",
      "12  0.308989   0.97038  0.918545   0.99908   0.026098      0.030968  0.015711     0.000043  0.468358\n",
      "13  0.379028  0.965278  0.975632  0.999166   0.024612      0.016596  0.006862     0.000035  0.543861\n",
      "14  0.379028  0.965278  0.975648  0.999166   0.024612      0.016596  0.006861     0.000035  0.543861\n",
      "15  0.308989   0.97038  0.919025   0.99908   0.026098      0.030968  0.015373     0.000043  0.468358\n",
      "16  0.379028  0.965278  0.975701  0.999166   0.024612      0.016596  0.006844     0.000035  0.543861\n",
      "17  0.379028  0.965278  0.975676  0.999166   0.024612      0.016596  0.006859     0.000035  0.543861\n",
      "18  0.379028  0.965278  0.975624  0.999166   0.024612      0.016596  0.006863     0.000035  0.543861\n",
      "19  0.307465  0.969954  0.919437  0.999078    0.02817      0.031683    0.0162     0.000046  0.466497\n",
      "20  0.380552  0.965511  0.975791  0.999168   0.024314       0.01622  0.006851     0.000033  0.545455\n",
      "21  0.380552  0.965511  0.975834  0.999168   0.024314       0.01622   0.00685     0.000033  0.545455\n",
      "22  0.380552  0.965511  0.975906  0.999168   0.024314       0.01622  0.006845     0.000033  0.545455\n",
      "23  0.382077  0.965577  0.975945   0.99917   0.023523      0.016294  0.006845     0.000033  0.547078\n",
      "24  0.382077  0.965577  0.975985   0.99917   0.023523      0.016294   0.00683     0.000033  0.547078\n",
      "25  0.382077  0.965577  0.976039   0.99917   0.023523      0.016294  0.006846     0.000033  0.547078\n",
      "26  0.382077  0.965577  0.976071   0.99917   0.023523      0.016294  0.006847     0.000033  0.547078\n",
      "27  0.382077  0.965577  0.976103   0.99917   0.023523      0.016294  0.006849     0.000033  0.547078\n",
      "28  0.382077  0.965577  0.976179   0.99917   0.023523      0.016294  0.006839     0.000033  0.547078\n",
      "29  0.382077  0.965577  0.976198   0.99917   0.023523      0.016294  0.006854     0.000033  0.547078\n",
      "30  0.382077  0.965577  0.976226   0.99917   0.023523      0.016294  0.006857     0.000033  0.547078\n",
      "31  0.382077  0.965577  0.976255   0.99917   0.023523      0.016294   0.00686     0.000033  0.547078\n",
      "32  0.382077  0.965577  0.976319   0.99917   0.023523      0.016294  0.006867     0.000033  0.547078\n",
      "33  0.382077  0.965577  0.976373   0.99917   0.023523      0.016294  0.006874     0.000033  0.547078\n",
      "34  0.382077  0.965577  0.976436   0.99917   0.023523      0.016294  0.006883     0.000033  0.547078\n",
      "35  0.382077  0.965577  0.976488   0.99917   0.023523      0.016294  0.006895     0.000033  0.547078\n",
      "36  0.321175  0.972437  0.922165  0.999096   0.019259      0.027862  0.015275     0.000032  0.482606\n",
      "37  0.382077  0.965577  0.976151   0.99917   0.023523      0.016294  0.006852     0.000033  0.547078\n",
      "38  0.380552  0.965511  0.975934  0.999168   0.024314       0.01622  0.006845     0.000033  0.545455\n",
      "39  0.319651  0.972087  0.922939  0.999094   0.020678      0.028445  0.015762     0.000035   0.48083\n",
      "40  0.382077  0.965577  0.976318   0.99917   0.023523      0.016294  0.006867     0.000033  0.547078\n",
      "41  0.319651  0.972087  0.922882  0.999094   0.020678      0.028445  0.014626     0.000035   0.48083\n",
      "42  0.382077  0.965577  0.976369   0.99917   0.023523      0.016294  0.006873     0.000033  0.547078\n",
      "43  0.382077  0.965577   0.97595   0.99917   0.023523      0.016294  0.006845     0.000033  0.547078\n",
      "44  0.315087  0.971557      0.92  0.999088   0.020651      0.028995  0.016032     0.000036  0.475601\n",
      "45  0.382077  0.965577  0.976441   0.99917   0.023523      0.016294  0.006884     0.000033  0.547078\n",
      "46  0.382077  0.965577  0.975988   0.99917   0.023523      0.016294  0.006845     0.000033  0.547078\n",
      "47  0.315087  0.971557  0.921011  0.999088   0.020651      0.028995   0.01484     0.000036  0.475601\n",
      "48  0.382077  0.965577  0.976492   0.99917   0.023523      0.016294  0.006894     0.000033  0.547078\n",
      "49  0.382077  0.965577  0.976082   0.99917   0.023523      0.016294  0.006848     0.000033  0.547078\n",
      "50  0.315087  0.971557  0.920737  0.999088   0.020651      0.028995   0.01534     0.000036  0.475601\n",
      "51  0.382077  0.965577  0.976142   0.99917   0.023523      0.016294  0.006851     0.000033  0.547078\n",
      "52  0.382077  0.965577  0.976076   0.99917   0.023523      0.016294  0.006833     0.000033  0.547078\n",
      "53  0.382077  0.965577  0.976047   0.99917   0.023523      0.016294  0.006846     0.000033  0.547078\n",
      "54  0.316602  0.971651  0.921345   0.99909    0.01992      0.029024   0.01565     0.000035  0.477371\n",
      "55  0.382077  0.965577   0.97611   0.99917   0.023523      0.016294  0.006849     0.000033  0.547078\n",
      "56  0.382077  0.965577  0.976121   0.99917   0.023523      0.016294   0.00685     0.000033  0.547078\n",
      "57  0.382077  0.965577  0.976179   0.99917   0.023523      0.016294  0.006853     0.000033  0.547078\n",
      "58  0.316602  0.971651  0.921553   0.99909    0.01992      0.029024   0.01546     0.000035  0.477371\n",
      "59  0.382077  0.965577  0.976208   0.99917   0.023523      0.016294   0.00684     0.000033  0.547078\n",
      "60  0.382077  0.965577  0.976216   0.99917   0.023523      0.016294  0.006844     0.000033  0.547078\n",
      "61  0.382077  0.965577  0.976225   0.99917   0.023523      0.016294  0.006857     0.000033  0.547078\n",
      "62  0.379028  0.965278  0.975665  0.999166   0.024612      0.016596   0.00686     0.000035  0.543861\n",
      "63  0.319651  0.972087  0.921647  0.999094   0.020678      0.028445  0.015139     0.000035   0.48083\n",
      "64  0.382077  0.965577  0.976261   0.99917   0.023523      0.016294  0.006863     0.000033  0.547078\n",
      "65  0.382077  0.965577  0.976235   0.99917   0.023523      0.016294  0.006857     0.000033  0.547078\n",
      "66  0.382077  0.965577  0.976319   0.99917   0.023523      0.016294  0.006853     0.000033  0.547078\n",
      "67  0.382077  0.965577  0.976265   0.99917   0.023523      0.016294  0.006846     0.000033  0.547078\n",
      "68  0.382077  0.965577   0.97628   0.99917   0.023523      0.016294  0.006863     0.000033  0.547078\n",
      "69  0.382077  0.965577   0.97643   0.99917   0.023523      0.016294  0.006882     0.000033  0.547078\n",
      "70  0.382077  0.965577  0.976436   0.99917   0.023523      0.016294  0.006884     0.000033  0.547078\n",
      "71  0.383601  0.965803  0.976555  0.999172   0.023409      0.015932  0.006891     0.000032  0.548659\n",
      "72  0.383601  0.965803  0.976566  0.999172   0.023409      0.015932  0.006907     0.000032  0.548659\n",
      "73  0.383601  0.965803   0.97663  0.999172   0.023409      0.015932  0.006916     0.000032  0.548659\n",
      "74  0.383601  0.965803  0.976665  0.999172   0.023409      0.015932  0.006923     0.000032  0.548659\n",
      "75  0.383601  0.965803  0.976704  0.999172   0.023409      0.015932  0.006931     0.000032  0.548659\n",
      "76  0.383601  0.965803  0.976743  0.999172   0.023409      0.015932  0.006937     0.000032  0.548659\n",
      "77  0.383601  0.965803   0.97682  0.999172   0.023409      0.015932  0.006939     0.000032  0.548659\n",
      "78  0.383601  0.969274  0.976866  0.999174   0.023409      0.018215  0.006937     0.000035  0.549286\n",
      "79  0.383601  0.965803  0.976752  0.999172   0.023409      0.015932   0.00694     0.000032  0.548659\n",
      "80  0.328788  0.972509  0.921997  0.999106   0.032742      0.028605  0.014251     0.000049  0.490698\n",
      "81  0.383601  0.965803  0.976822  0.999172   0.023409      0.015932   0.00694     0.000032  0.548659\n",
      "82  0.383601  0.965803  0.976833  0.999172   0.023409      0.015932  0.006929     0.000032  0.548659\n",
      "83  0.383601  0.965803  0.976633  0.999172   0.023409      0.015932  0.006917     0.000032  0.548659\n",
      "84  0.383601  0.965803  0.976671  0.999172   0.023409      0.015932  0.006924     0.000032  0.548659\n",
      "85  0.325748  0.972642  0.923767  0.999102   0.027032      0.027942  0.014589     0.000042  0.487517\n",
      "86  0.383601  0.965803  0.976626  0.999172   0.023409      0.015932  0.006918     0.000032  0.548659\n",
      "87  0.383601  0.965803  0.976548  0.999172   0.023409      0.015932  0.006903     0.000032  0.548659\n",
      "88  0.383601  0.965803  0.976539  0.999172   0.023409      0.015932  0.006901     0.000032  0.548659\n",
      "89  0.327273  0.972706  0.923978  0.999104   0.029641      0.027968  0.014536     0.000045  0.489125\n",
      "90  0.383601  0.965803  0.976769  0.999172   0.023409      0.015932  0.006941     0.000032  0.548659\n",
      "91  0.383601  0.965803  0.976565  0.999172   0.023409      0.015932  0.006906     0.000032  0.548659\n",
      "92  0.383601  0.965803  0.976524  0.999172   0.023409      0.015932  0.006899     0.000032  0.548659\n",
      "93  0.383601  0.965803  0.976531  0.999172   0.023409      0.015932  0.006899     0.000032  0.548659\n",
      "94  0.319651  0.972087  0.922748  0.999094   0.020678      0.028445  0.014164     0.000035   0.48083\n",
      "95  0.383601  0.965803  0.976575  0.999172   0.023409      0.015932  0.006907     0.000032  0.548659\n",
      "96  0.383601  0.965803  0.976813  0.999172   0.023409      0.015932  0.006939     0.000032  0.548659\n",
      "97  0.383601  0.965803  0.976574  0.999172   0.023409      0.015932  0.006909     0.000032  0.548659\n",
      "98  0.379028  0.965278  0.975698  0.999166   0.024612      0.016596  0.006859     0.000035  0.543861\n",
      "99  0.319651  0.972087  0.922289  0.999094   0.020678      0.028445   0.01524     0.000035   0.48083\n"
     ]
    }
   ],
   "source": [
    "# Obtención de resultados en formato tabla para visualizar scorings y desvios estándar.\n",
    "scorings_df = pd.DataFrame(columns = list(scorings[0]['scorings'].keys()))\n",
    "\n",
    "for scoring in scorings:\n",
    "    scorings_df = scorings_df.append(scoring['scorings'], ignore_index = True)\n",
    "\n",
    "with pd.option_context('display.max_rows', None, 'display.max_columns', None, 'display.width', 1000):  # more options can be specified also\n",
    "    print(scorings_df)"
   ]
  },
  {
   "cell_type": "markdown",
   "id": "f66dd5aa-913a-48ee-b9e6-d3623a32c3fe",
   "metadata": {
    "jupyter": {
     "source_hidden": true
    },
    "tags": []
   },
   "source": [
    "- Penalty L1 no se considera ya que arroja valores nulos como resultado."
   ]
  },
  {
   "cell_type": "code",
   "execution_count": 26,
   "id": "50682812-cf6c-4644-86cc-761d2dd4049e",
   "metadata": {
    "collapsed": true,
    "jupyter": {
     "outputs_hidden": true,
     "source_hidden": true
    },
    "tags": []
   },
   "outputs": [
    {
     "name": "stdout",
     "output_type": "stream",
     "text": [
      "[Parallel(n_jobs=-1)]: Using backend LokyBackend with 6 concurrent workers.\n",
      "[Parallel(n_jobs=-1)]: Done   1 tasks      | elapsed: 10.3min\n",
      "[Parallel(n_jobs=-1)]: Done   2 out of   4 | elapsed: 13.0min remaining: 13.0min\n",
      "[Parallel(n_jobs=-1)]: Done   4 out of   4 | elapsed: 13.1min remaining:    0.0s\n",
      "[Parallel(n_jobs=-1)]: Done   4 out of   4 | elapsed: 13.1min finished\n"
     ]
    }
   ],
   "source": [
    "# Trial ID : 71\n",
    "# Loss : 0.475218360409099\n",
    "# Best Params : {'C': 1.2912110784758317, 'loss': 'squared_hinge', 'penalty': 'l2'}\n",
    "\n",
    "# Definición de la función objetivo.\n",
    "from sklearn.model_selection import StratifiedKFold\n",
    "from sklearn.model_selection import cross_validate\n",
    "from sklearn.svm import SVC\n",
    "import itertools\n",
    "from sklearn.preprocessing import StandardScaler\n",
    "from sklearn.model_selection import ShuffleSplit\n",
    "from sklearn.svm import LinearSVC\n",
    "from hyperopt import fmin, hp, tpe, space_eval, Trials\n",
    "from hyperopt.early_stop import no_progress_loss\n",
    "from math import exp, log\n",
    "\n",
    "selected_columns = ['day', 'hour', 'idOrig', 'idDest']\n",
    "index = range(len(X))\n",
    "X2 = X.iloc[index, :].drop(selected_columns, axis = 1)\n",
    "scaler = StandardScaler()\n",
    "X2 = scaler.fit_transform(X2)\n",
    "y2 = y.iloc[index]\n",
    "\n",
    "clf = LinearSVC(random_state = 42, C = 1.2912110784758317, loss = 'squared_hinge', penalty = 'l2')\n",
    "skf = StratifiedKFold(random_state = 42, n_splits = 4, shuffle = True)\n",
    "cv = cross_validate(estimator = clf, X = X2, y = y2, cv = skf, verbose = 100, \n",
    "                    n_jobs = -1, scoring = ('precision', 'recall', 'roc_auc', 'accuracy', 'f1'))"
   ]
  },
  {
   "cell_type": "code",
   "execution_count": 28,
   "id": "752046fc-3b1c-4518-ba0e-39c0fab6e961",
   "metadata": {
    "collapsed": true,
    "jupyter": {
     "outputs_hidden": true,
     "source_hidden": true
    },
    "tags": []
   },
   "outputs": [
    {
     "data": {
      "text/plain": [
       "{'fit_time': array([616.38341665, 776.86936903, 785.21293283, 774.09075117]),\n",
       " 'score_time': array([1.86541891, 1.69338036, 1.70565867, 1.71837807]),\n",
       " 'test_precision': array([0.96226415, 0.95973154, 0.95230263, 0.96252129]),\n",
       " 'test_recall': array([0.34165652, 0.34835566, 0.35240414, 0.34388314]),\n",
       " 'test_roc_auc': array([0.98120764, 0.97787906, 0.98429813, 0.97800003]),\n",
       " 'test_accuracy': array([0.99913322, 0.99914029, 0.99914108, 0.99913558]),\n",
       " 'test_f1': array([0.50426966, 0.51117069, 0.51443803, 0.50672646])}"
      ]
     },
     "execution_count": 28,
     "metadata": {},
     "output_type": "execute_result"
    }
   ],
   "source": [
    "cv"
   ]
  },
  {
   "cell_type": "markdown",
   "id": "ded5a6de-aa83-4bd6-839a-853ca7a6b6cc",
   "metadata": {
    "jupyter": {
     "source_hidden": true
    },
    "tags": []
   },
   "source": [
    "Prueba de scalers"
   ]
  },
  {
   "cell_type": "code",
   "execution_count": 19,
   "id": "7b1b5b8d-422c-463c-99e3-51192b59421d",
   "metadata": {
    "collapsed": true,
    "jupyter": {
     "outputs_hidden": true,
     "source_hidden": true
    },
    "tags": []
   },
   "outputs": [
    {
     "name": "stdout",
     "output_type": "stream",
     "text": [
      "[Parallel(n_jobs=-1)]: Using backend LokyBackend with 6 concurrent workers.\n",
      "[Parallel(n_jobs=-1)]: Done   1 tasks      | elapsed: 11.2min\n",
      "[Parallel(n_jobs=-1)]: Done   2 out of   4 | elapsed: 11.3min remaining: 11.3min\n",
      "[Parallel(n_jobs=-1)]: Done   4 out of   4 | elapsed: 11.5min remaining:    0.0s\n",
      "[Parallel(n_jobs=-1)]: Done   4 out of   4 | elapsed: 11.5min finished\n"
     ]
    },
    {
     "data": {
      "text/plain": [
       "{'fit_time': array([689.1108458 , 681.25003314, 665.69872022, 674.07664204]),\n",
       " 'score_time': array([1.56001067, 1.64169431, 1.85989785, 1.67200518]),\n",
       " 'test_precision': array([0.97588424, 0.96636086, 0.96374622, 0.97335423]),\n",
       " 'test_recall': array([0.36967113, 0.38489647, 0.38831406, 0.37796713]),\n",
       " 'test_roc_auc': array([0.98589204, 0.98216155, 0.98385578, 0.98459087]),\n",
       " 'test_accuracy': array([0.99917487, 0.99918901, 0.99919137, 0.99918351]),\n",
       " 'test_f1': array([0.53621908, 0.55052265, 0.55357918, 0.54449803])}"
      ]
     },
     "execution_count": 19,
     "metadata": {},
     "output_type": "execute_result"
    }
   ],
   "source": [
    "# Trial ID : 71\n",
    "# Loss : 0.475218360409099\n",
    "# Best Params : {'C': 1.2912110784758317, 'loss': 'squared_hinge', 'penalty': 'l2'}\n",
    "\n",
    "# Definición de la función objetivo.\n",
    "from sklearn.preprocessing import StandardScaler, MaxAbsScaler, MinMaxScaler, Normalizer, RobustScaler, SplineTransformer\n",
    "from sklearn.svm import SVC, LinearSVC\n",
    "from sklearn.model_selection import StratifiedKFold, cross_validate\n",
    "\n",
    "selected_columns = ['day', 'hour', 'idOrig', 'idDest']\n",
    "index = range(len(X))\n",
    "X2 = X.iloc[index, :].drop(selected_columns, axis = 1)\n",
    "scaler = RobustScaler()\n",
    "X2 = scaler.fit_transform(X2)\n",
    "y2 = y.iloc[index]\n",
    "\n",
    "clf = LinearSVC(random_state = 42, C = 1.2912110784758317, loss = 'squared_hinge', penalty = 'l2')\n",
    "skf = StratifiedKFold(random_state = 42, n_splits = 4, shuffle = True)\n",
    "cv = cross_validate(estimator = clf, X = X2, y = y2, cv = skf, verbose = 100, \n",
    "                    n_jobs = -1, scoring = ('precision', 'recall', 'roc_auc', 'accuracy', 'f1'))\n",
    "cv"
   ]
  },
  {
   "cell_type": "code",
   "execution_count": 25,
   "id": "a7c6cb8f-346f-45a4-8b38-f7cab57d3fcf",
   "metadata": {
    "collapsed": true,
    "jupyter": {
     "outputs_hidden": true,
     "source_hidden": true
    },
    "tags": []
   },
   "outputs": [
    {
     "name": "stdout",
     "output_type": "stream",
     "text": [
      "Indexes: range(0, 500000) | Loss: 0.4372 | Elapsed_time: 14.7694 seconds                                               \n",
      "Indexes: range(0, 500000) | Loss: 0.9617 | Elapsed_time: 3.0865 seconds                                                \n",
      "Indexes: range(0, 500000) | Loss: 0.9617 | Elapsed_time: 3.3317 seconds                                                \n",
      "Indexes: range(0, 500000) | Loss: 0.4140 | Elapsed_time: 7.6651 seconds                                                \n",
      "Indexes: range(0, 500000) | Loss: 0.8893 | Elapsed_time: 21.6431 seconds                                               \n",
      "Indexes: range(0, 500000) | Loss: 0.4492 | Elapsed_time: 1.3907 seconds                                                \n",
      "Indexes: range(0, 500000) | Loss: 0.4137 | Elapsed_time: 4.3753 seconds                                                \n",
      "Indexes: range(0, 500000) | Loss: 0.9345 | Elapsed_time: 31.9074 seconds                                               \n",
      "Indexes: range(0, 500000) | Loss: 0.4347 | Elapsed_time: 11.1272 seconds                                               \n",
      "Indexes: range(0, 500000) | Loss: 0.4353 | Elapsed_time: 9.2976 seconds                                                \n",
      "Indexes: range(0, 500000) | Loss: 0.4339 | Elapsed_time: 11.0801 seconds                                               \n",
      "Indexes: range(0, 500000) | Loss: 0.9617 | Elapsed_time: 3.0305 seconds                                                \n",
      "Indexes: range(0, 500000) | Loss: 0.9020 | Elapsed_time: 15.9544 seconds                                               \n",
      "Indexes: range(0, 500000) | Loss: 0.4492 | Elapsed_time: 1.3037 seconds                                                \n",
      "Indexes: range(0, 500000) | Loss: 0.5640 | Elapsed_time: 1.5276 seconds                                                \n",
      "Indexes: range(0, 500000) | Loss: 0.9084 | Elapsed_time: 18.4760 seconds                                               \n",
      "Indexes: range(0, 500000) | Loss: 0.9617 | Elapsed_time: 3.0321 seconds                                                \n",
      "Indexes: range(0, 500000) | Loss: 0.4358 | Elapsed_time: 12.6042 seconds                                               \n",
      "Indexes: range(0, 500000) | Loss: 0.9617 | Elapsed_time: 3.0240 seconds                                                \n",
      "Indexes: range(0, 500000) | Loss: 0.9175 | Elapsed_time: 21.6553 seconds                                               \n",
      "Indexes: range(0, 500000) | Loss: 0.4102 | Elapsed_time: 5.1161 seconds                                                \n",
      "Indexes: range(0, 500000) | Loss: 0.4374 | Elapsed_time: 12.8022 seconds                                               \n",
      "Indexes: range(0, 500000) | Loss: 0.4346 | Elapsed_time: 11.5493 seconds                                               \n",
      "Indexes: range(0, 500000) | Loss: 0.4362 | Elapsed_time: 11.5590 seconds                                               \n",
      "Indexes: range(0, 500000) | Loss: 0.4369 | Elapsed_time: 9.4507 seconds                                                \n",
      "Indexes: range(0, 500000) | Loss: 0.3874 | Elapsed_time: 2.0816 seconds                                                \n",
      "Indexes: range(0, 500000) | Loss: 0.4358 | Elapsed_time: 12.8455 seconds                                               \n",
      "Indexes: range(0, 500000) | Loss: 0.4347 | Elapsed_time: 11.6594 seconds                                               \n",
      "Indexes: range(0, 500000) | Loss: 0.4347 | Elapsed_time: 12.3497 seconds                                               \n",
      "Indexes: range(0, 500000) | Loss: 0.4372 | Elapsed_time: 10.4605 seconds                                               \n",
      "Indexes: range(0, 500000) | Loss: 0.4082 | Elapsed_time: 4.8175 seconds                                                \n",
      "Indexes: range(0, 500000) | Loss: 0.4282 | Elapsed_time: 10.5151 seconds                                               \n",
      "Indexes: range(0, 500000) | Loss: 0.4348 | Elapsed_time: 14.0247 seconds                                               \n",
      "Indexes: range(0, 500000) | Loss: 0.4278 | Elapsed_time: 10.9306 seconds                                               \n",
      "Indexes: range(0, 500000) | Loss: 0.4492 | Elapsed_time: 1.7312 seconds                                                \n",
      "Indexes: range(0, 500000) | Loss: 0.4372 | Elapsed_time: 15.5761 seconds                                               \n",
      "Indexes: range(0, 500000) | Loss: 0.4353 | Elapsed_time: 12.0856 seconds                                               \n",
      "Indexes: range(0, 500000) | Loss: 0.4492 | Elapsed_time: 1.7533 seconds                                                \n",
      "Indexes: range(0, 500000) | Loss: 0.4339 | Elapsed_time: 12.7102 seconds                                               \n",
      "Indexes: range(0, 500000) | Loss: 0.4315 | Elapsed_time: 10.4994 seconds                                               \n",
      "Indexes: range(0, 500000) | Loss: 0.5014 | Elapsed_time: 2.4630 seconds                                                \n",
      "Indexes: range(0, 500000) | Loss: 0.4492 | Elapsed_time: 1.7196 seconds                                                \n",
      "Indexes: range(0, 500000) | Loss: 0.4310 | Elapsed_time: 10.9267 seconds                                               \n",
      "Indexes: range(0, 500000) | Loss: 0.8548 | Elapsed_time: 11.1183 seconds                                               \n",
      "Indexes: range(0, 500000) | Loss: 0.4374 | Elapsed_time: 16.3616 seconds                                               \n",
      "Indexes: range(0, 500000) | Loss: 0.4492 | Elapsed_time: 1.7110 seconds                                                \n",
      "Indexes: range(0, 500000) | Loss: 0.9230 | Elapsed_time: 24.6472 seconds                                               \n",
      "Indexes: range(0, 500000) | Loss: 0.4492 | Elapsed_time: 1.7154 seconds                                                \n",
      "Indexes: range(0, 500000) | Loss: 0.9310 | Elapsed_time: 28.8449 seconds                                               \n",
      "Indexes: range(0, 500000) | Loss: 0.4054 | Elapsed_time: 2.3129 seconds                                                \n",
      "Indexes: range(0, 500000) | Loss: 0.4225 | Elapsed_time: 8.4674 seconds                                                \n",
      "Indexes: range(0, 500000) | Loss: 0.9617 | Elapsed_time: 3.0749 seconds                                                \n",
      "Indexes: range(0, 500000) | Loss: 0.4358 | Elapsed_time: 15.6894 seconds                                               \n",
      "Indexes: range(0, 500000) | Loss: 0.4375 | Elapsed_time: 10.2826 seconds                                               \n",
      "Indexes: range(0, 500000) | Loss: 0.9617 | Elapsed_time: 3.0782 seconds                                                \n",
      "Indexes: range(0, 500000) | Loss: 0.4291 | Elapsed_time: 10.0063 seconds                                               \n",
      "Indexes: range(0, 500000) | Loss: 0.4374 | Elapsed_time: 11.7336 seconds                                               \n",
      "Indexes: range(0, 500000) | Loss: 0.4374 | Elapsed_time: 16.3099 seconds                                               \n",
      "Indexes: range(0, 500000) | Loss: 0.8150 | Elapsed_time: 13.9367 seconds                                               \n",
      "Indexes: range(0, 500000) | Loss: 0.4492 | Elapsed_time: 1.7319 seconds                                                \n",
      "Indexes: range(0, 500000) | Loss: 0.4054 | Elapsed_time: 2.3147 seconds                                                \n",
      "Indexes: range(0, 500000) | Loss: 0.4353 | Elapsed_time: 9.6066 seconds                                                \n",
      "Indexes: range(0, 500000) | Loss: 0.4359 | Elapsed_time: 13.6758 seconds                                               \n",
      "Indexes: range(0, 500000) | Loss: 0.9617 | Elapsed_time: 3.0729 seconds                                                \n",
      "Indexes: range(0, 500000) | Loss: 0.4186 | Elapsed_time: 7.4305 seconds                                                \n",
      "Indexes: range(0, 500000) | Loss: 0.4317 | Elapsed_time: 11.3100 seconds                                               \n",
      "Indexes: range(0, 500000) | Loss: 0.4371 | Elapsed_time: 14.6600 seconds                                               \n",
      "Indexes: range(0, 500000) | Loss: 0.3874 | Elapsed_time: 2.1819 seconds                                                \n",
      "Indexes: range(0, 500000) | Loss: 0.4369 | Elapsed_time: 15.8737 seconds                                               \n",
      "Indexes: range(0, 500000) | Loss: 0.4246 | Elapsed_time: 3.3053 seconds                                                \n",
      "Indexes: range(0, 500000) | Loss: 0.4263 | Elapsed_time: 7.7525 seconds                                                \n",
      "Indexes: range(0, 500000) | Loss: 0.4358 | Elapsed_time: 15.6667 seconds                                               \n",
      "Indexes: range(0, 500000) | Loss: 0.4119 | Elapsed_time: 6.3254 seconds                                                \n",
      "Indexes: range(0, 500000) | Loss: 0.4372 | Elapsed_time: 14.9943 seconds                                               \n",
      "Indexes: range(0, 500000) | Loss: 0.4353 | Elapsed_time: 12.4045 seconds                                               \n",
      "Indexes: range(0, 500000) | Loss: 0.4140 | Elapsed_time: 9.3542 seconds                                                \n",
      "Indexes: range(0, 500000) | Loss: 0.4282 | Elapsed_time: 9.9321 seconds                                                \n",
      "Indexes: range(0, 500000) | Loss: 0.4374 | Elapsed_time: 16.2580 seconds                                               \n",
      "Indexes: range(0, 500000) | Loss: 0.4263 | Elapsed_time: 5.5839 seconds                                                \n",
      "Indexes: range(0, 500000) | Loss: 0.4282 | Elapsed_time: 9.0528 seconds                                                \n",
      "Indexes: range(0, 500000) | Loss: 0.9617 | Elapsed_time: 3.2351 seconds                                                \n",
      "Indexes: range(0, 500000) | Loss: 0.4372 | Elapsed_time: 15.0566 seconds                                               \n",
      "Indexes: range(0, 500000) | Loss: 0.4400 | Elapsed_time: 10.8656 seconds                                               \n",
      "Indexes: range(0, 500000) | Loss: 0.4374 | Elapsed_time: 16.1783 seconds                                               \n",
      "Indexes: range(0, 500000) | Loss: 0.9617 | Elapsed_time: 3.0655 seconds                                                \n",
      "Indexes: range(0, 500000) | Loss: 0.4374 | Elapsed_time: 12.3431 seconds                                               \n",
      "Indexes: range(0, 500000) | Loss: 0.4190 | Elapsed_time: 6.9945 seconds                                                \n",
      "Indexes: range(0, 500000) | Loss: 0.4351 | Elapsed_time: 12.2446 seconds                                               \n",
      "Indexes: range(0, 500000) | Loss: 0.4372 | Elapsed_time: 15.4647 seconds                                               \n",
      "Indexes: range(0, 500000) | Loss: 0.9617 | Elapsed_time: 3.0725 seconds                                                \n",
      "Indexes: range(0, 500000) | Loss: 0.3976 | Elapsed_time: 2.2803 seconds                                                \n",
      "Indexes: range(0, 500000) | Loss: 0.4353 | Elapsed_time: 8.9028 seconds                                                \n",
      "Indexes: range(0, 500000) | Loss: 0.3957 | Elapsed_time: 2.2912 seconds                                                \n",
      "Indexes: range(0, 500000) | Loss: 0.9617 | Elapsed_time: 3.0840 seconds                                                \n",
      "Indexes: range(0, 500000) | Loss: 0.4216 | Elapsed_time: 7.5151 seconds                                                \n",
      "Indexes: range(0, 500000) | Loss: 0.4188 | Elapsed_time: 7.5000 seconds                                                \n",
      "Indexes: range(0, 500000) | Loss: 0.4358 | Elapsed_time: 12.2206 seconds                                               \n",
      "Indexes: range(0, 500000) | Loss: 0.4364 | Elapsed_time: 11.9190 seconds                                               \n",
      "Indexes: range(0, 500000) | Loss: 0.9617 | Elapsed_time: 3.0365 seconds                                                \n",
      "Indexes: range(0, 500000) | Loss: 0.4364 | Elapsed_time: 12.0225 seconds                                               \n",
      "100%|██████████████████████████████████████████████| 100/100 [15:51<00:00,  9.52s/trial, best loss: 0.3873657843451594]\n"
     ]
    }
   ],
   "source": [
    "# Definición de la función objetivo.\n",
    "from sklearn.model_selection import StratifiedKFold, cross_validate\n",
    "from sklearn.svm import SVC, LinearSVC\n",
    "from sklearn.preprocessing import StandardScaler\n",
    "from hyperopt import fmin, hp, tpe, space_eval, Trials\n",
    "from hyperopt.early_stop import no_progress_loss\n",
    "from math import exp, log\n",
    "\n",
    "# Función objetivo.\n",
    "def objective_func(hyperparameters):\n",
    "    \n",
    "    global i, scorings\n",
    "    \n",
    "    start_time = time.time()\n",
    "    \n",
    "    i += 1\n",
    "    \n",
    "    clf = LinearSVC(random_state = 42, C = 1.2912110784758317, loss = 'squared_hinge', penalty = 'l2', **hyperparameters)\n",
    "    skf = StratifiedKFold(random_state = 42, n_splits = 4, shuffle = True)\n",
    "    cv = cross_validate(estimator = clf, X = X2, y = y2, cv = skf, verbose = 0, n_jobs = -1, \n",
    "                        scoring = ('precision', 'recall', 'roc_auc', 'accuracy', 'f1'))\n",
    "        \n",
    "    loss = 1 - cv['test_f1'].mean() + cv['test_f1'].std()\n",
    "    \n",
    "    # Almacenamiento de scorings.\n",
    "    scorings.append({'trial': i,\n",
    "                      'params' : clf.get_params(),\n",
    "                      'scorings' : {'Recall': cv['test_recall'].mean(),\n",
    "                                    'Precision': cv['test_precision'].mean(),\n",
    "                                    'AUC': cv['test_roc_auc'].mean(),\n",
    "                                    'Accuracy': cv['test_accuracy'].mean(),\n",
    "                                    'Recall_Std': cv['test_recall'].std(),\n",
    "                                    'Precision_Std': cv['test_precision'].std(),\n",
    "                                    'AUC_Std': cv['test_roc_auc'].std(),\n",
    "                                    'Accuracy_Std': cv['test_accuracy'].std(),\n",
    "                                    'F1-Score': cv['test_f1'].mean()}\n",
    "                         }\n",
    "                        )\n",
    "    \n",
    "    elapsed_time = time.time() - start_time\n",
    "    print('Indexes: %s | Loss: %.4f | Elapsed_time: %.4f seconds' % (index, loss, elapsed_time))\n",
    "    return loss\n",
    "\n",
    "# Definición del espacio / dominio de parámetros.\n",
    "search_space = {'dual' : hp.choice('dual', [True, False]),\n",
    "                'tol' : hp.normal('tol', 0.0001, 0.00001),\n",
    "                'fit_intercept' : hp.choice('fit_intercept', [True, False]),\n",
    "                'intercept_scaling' : hp.normal('intercept_scaling', 1, 0.01),\n",
    "                'class_weight' : hp.choice('class_weight', ['balanced', None]),\n",
    "                'max_iter' : hp.randint('max_iter', 10, 2000)\n",
    "               }\n",
    "\n",
    "# Ejecución del iterador.\n",
    "i = -1\n",
    "scorings = []\n",
    "selected_columns = ['day', 'hour', 'idOrig', 'idDest']\n",
    "index = range(500000)\n",
    "rstate = np.random.default_rng(42)\n",
    "trials = Trials() # Para el logging de resultados.\n",
    "X2 = X.iloc[index, :].drop(selected_columns, axis = 1)\n",
    "scaler = RobustScaler()\n",
    "X2 = scaler.fit_transform(X2)\n",
    "y2 = y.iloc[index]\n",
    "\n",
    "best_params = fmin(fn = objective_func, space = search_space, algo = tpe.suggest, \n",
    "                   max_evals = 100, trials = trials, early_stop_fn = no_progress_loss(100), rstate = rstate)"
   ]
  },
  {
   "cell_type": "code",
   "execution_count": 27,
   "id": "714d4f1b-c42c-49ff-b93c-4881d572d585",
   "metadata": {
    "collapsed": true,
    "jupyter": {
     "outputs_hidden": true,
     "source_hidden": true
    },
    "tags": []
   },
   "outputs": [
    {
     "name": "stdout",
     "output_type": "stream",
     "text": [
      "Trial ID : 25\n",
      "Loss : 0.3873657843451594\n",
      "Best Params : {'class_weight': None, 'dual': True, 'fit_intercept': False, 'intercept_scaling': 1.0058483479571696, 'max_iter': 28, 'tol': 9.320556357088724e-05}\n",
      "\n"
     ]
    }
   ],
   "source": [
    "# Impresión de resultados.\n",
    "print('Trial ID :', trials.best_trial['tid'])\n",
    "print('Loss :', trials.best_trial['result']['loss'])\n",
    "print('Best Params :', space_eval(search_space, best_params), end = '\\n\\n')"
   ]
  },
  {
   "cell_type": "code",
   "execution_count": 33,
   "id": "46a66912-727e-4f34-8b77-2c898e74339f",
   "metadata": {
    "collapsed": true,
    "jupyter": {
     "outputs_hidden": true,
     "source_hidden": true
    },
    "tags": []
   },
   "outputs": [
    {
     "ename": "TypeError",
     "evalue": "Object of type int64 is not JSON serializable",
     "output_type": "error",
     "traceback": [
      "\u001b[1;31m---------------------------------------------------------------------------\u001b[0m",
      "\u001b[1;31mTypeError\u001b[0m                                 Traceback (most recent call last)",
      "\u001b[1;32m~\\AppData\\Local\\Temp/ipykernel_2496/2560772338.py\u001b[0m in \u001b[0;36m<module>\u001b[1;34m\u001b[0m\n\u001b[0;32m     14\u001b[0m \u001b[1;33m\u001b[0m\u001b[0m\n\u001b[0;32m     15\u001b[0m \u001b[0mf\u001b[0m \u001b[1;33m=\u001b[0m \u001b[0mopen\u001b[0m\u001b[1;33m(\u001b[0m\u001b[0mpath\u001b[0m \u001b[1;33m+\u001b[0m \u001b[0mfilename\u001b[0m\u001b[1;33m,\u001b[0m \u001b[1;34m'w'\u001b[0m\u001b[1;33m)\u001b[0m\u001b[1;33m\u001b[0m\u001b[1;33m\u001b[0m\u001b[0m\n\u001b[1;32m---> 16\u001b[1;33m \u001b[0mjson\u001b[0m\u001b[1;33m.\u001b[0m\u001b[0mdump\u001b[0m\u001b[1;33m(\u001b[0m\u001b[0mscorings\u001b[0m\u001b[1;33m,\u001b[0m \u001b[0mf\u001b[0m\u001b[1;33m)\u001b[0m\u001b[1;33m\u001b[0m\u001b[1;33m\u001b[0m\u001b[0m\n\u001b[0m\u001b[0;32m     17\u001b[0m \u001b[0mf\u001b[0m\u001b[1;33m.\u001b[0m\u001b[0mclose\u001b[0m\u001b[1;33m(\u001b[0m\u001b[1;33m)\u001b[0m\u001b[1;33m\u001b[0m\u001b[1;33m\u001b[0m\u001b[0m\n\u001b[0;32m     18\u001b[0m \u001b[1;33m\u001b[0m\u001b[0m\n",
      "\u001b[1;32m~\\anaconda3\\lib\\json\\__init__.py\u001b[0m in \u001b[0;36mdump\u001b[1;34m(obj, fp, skipkeys, ensure_ascii, check_circular, allow_nan, cls, indent, separators, default, sort_keys, **kw)\u001b[0m\n\u001b[0;32m    177\u001b[0m     \u001b[1;31m# could accelerate with writelines in some versions of Python, at\u001b[0m\u001b[1;33m\u001b[0m\u001b[1;33m\u001b[0m\u001b[0m\n\u001b[0;32m    178\u001b[0m     \u001b[1;31m# a debuggability cost\u001b[0m\u001b[1;33m\u001b[0m\u001b[1;33m\u001b[0m\u001b[0m\n\u001b[1;32m--> 179\u001b[1;33m     \u001b[1;32mfor\u001b[0m \u001b[0mchunk\u001b[0m \u001b[1;32min\u001b[0m \u001b[0miterable\u001b[0m\u001b[1;33m:\u001b[0m\u001b[1;33m\u001b[0m\u001b[1;33m\u001b[0m\u001b[0m\n\u001b[0m\u001b[0;32m    180\u001b[0m         \u001b[0mfp\u001b[0m\u001b[1;33m.\u001b[0m\u001b[0mwrite\u001b[0m\u001b[1;33m(\u001b[0m\u001b[0mchunk\u001b[0m\u001b[1;33m)\u001b[0m\u001b[1;33m\u001b[0m\u001b[1;33m\u001b[0m\u001b[0m\n\u001b[0;32m    181\u001b[0m \u001b[1;33m\u001b[0m\u001b[0m\n",
      "\u001b[1;32m~\\anaconda3\\lib\\json\\encoder.py\u001b[0m in \u001b[0;36m_iterencode\u001b[1;34m(o, _current_indent_level)\u001b[0m\n\u001b[0;32m    427\u001b[0m             \u001b[1;32myield\u001b[0m \u001b[0m_floatstr\u001b[0m\u001b[1;33m(\u001b[0m\u001b[0mo\u001b[0m\u001b[1;33m)\u001b[0m\u001b[1;33m\u001b[0m\u001b[1;33m\u001b[0m\u001b[0m\n\u001b[0;32m    428\u001b[0m         \u001b[1;32melif\u001b[0m \u001b[0misinstance\u001b[0m\u001b[1;33m(\u001b[0m\u001b[0mo\u001b[0m\u001b[1;33m,\u001b[0m \u001b[1;33m(\u001b[0m\u001b[0mlist\u001b[0m\u001b[1;33m,\u001b[0m \u001b[0mtuple\u001b[0m\u001b[1;33m)\u001b[0m\u001b[1;33m)\u001b[0m\u001b[1;33m:\u001b[0m\u001b[1;33m\u001b[0m\u001b[1;33m\u001b[0m\u001b[0m\n\u001b[1;32m--> 429\u001b[1;33m             \u001b[1;32myield\u001b[0m \u001b[1;32mfrom\u001b[0m \u001b[0m_iterencode_list\u001b[0m\u001b[1;33m(\u001b[0m\u001b[0mo\u001b[0m\u001b[1;33m,\u001b[0m \u001b[0m_current_indent_level\u001b[0m\u001b[1;33m)\u001b[0m\u001b[1;33m\u001b[0m\u001b[1;33m\u001b[0m\u001b[0m\n\u001b[0m\u001b[0;32m    430\u001b[0m         \u001b[1;32melif\u001b[0m \u001b[0misinstance\u001b[0m\u001b[1;33m(\u001b[0m\u001b[0mo\u001b[0m\u001b[1;33m,\u001b[0m \u001b[0mdict\u001b[0m\u001b[1;33m)\u001b[0m\u001b[1;33m:\u001b[0m\u001b[1;33m\u001b[0m\u001b[1;33m\u001b[0m\u001b[0m\n\u001b[0;32m    431\u001b[0m             \u001b[1;32myield\u001b[0m \u001b[1;32mfrom\u001b[0m \u001b[0m_iterencode_dict\u001b[0m\u001b[1;33m(\u001b[0m\u001b[0mo\u001b[0m\u001b[1;33m,\u001b[0m \u001b[0m_current_indent_level\u001b[0m\u001b[1;33m)\u001b[0m\u001b[1;33m\u001b[0m\u001b[1;33m\u001b[0m\u001b[0m\n",
      "\u001b[1;32m~\\anaconda3\\lib\\json\\encoder.py\u001b[0m in \u001b[0;36m_iterencode_list\u001b[1;34m(lst, _current_indent_level)\u001b[0m\n\u001b[0;32m    323\u001b[0m                 \u001b[1;32melse\u001b[0m\u001b[1;33m:\u001b[0m\u001b[1;33m\u001b[0m\u001b[1;33m\u001b[0m\u001b[0m\n\u001b[0;32m    324\u001b[0m                     \u001b[0mchunks\u001b[0m \u001b[1;33m=\u001b[0m \u001b[0m_iterencode\u001b[0m\u001b[1;33m(\u001b[0m\u001b[0mvalue\u001b[0m\u001b[1;33m,\u001b[0m \u001b[0m_current_indent_level\u001b[0m\u001b[1;33m)\u001b[0m\u001b[1;33m\u001b[0m\u001b[1;33m\u001b[0m\u001b[0m\n\u001b[1;32m--> 325\u001b[1;33m                 \u001b[1;32myield\u001b[0m \u001b[1;32mfrom\u001b[0m \u001b[0mchunks\u001b[0m\u001b[1;33m\u001b[0m\u001b[1;33m\u001b[0m\u001b[0m\n\u001b[0m\u001b[0;32m    326\u001b[0m         \u001b[1;32mif\u001b[0m \u001b[0mnewline_indent\u001b[0m \u001b[1;32mis\u001b[0m \u001b[1;32mnot\u001b[0m \u001b[1;32mNone\u001b[0m\u001b[1;33m:\u001b[0m\u001b[1;33m\u001b[0m\u001b[1;33m\u001b[0m\u001b[0m\n\u001b[0;32m    327\u001b[0m             \u001b[0m_current_indent_level\u001b[0m \u001b[1;33m-=\u001b[0m \u001b[1;36m1\u001b[0m\u001b[1;33m\u001b[0m\u001b[1;33m\u001b[0m\u001b[0m\n",
      "\u001b[1;32m~\\anaconda3\\lib\\json\\encoder.py\u001b[0m in \u001b[0;36m_iterencode_dict\u001b[1;34m(dct, _current_indent_level)\u001b[0m\n\u001b[0;32m    403\u001b[0m                 \u001b[1;32melse\u001b[0m\u001b[1;33m:\u001b[0m\u001b[1;33m\u001b[0m\u001b[1;33m\u001b[0m\u001b[0m\n\u001b[0;32m    404\u001b[0m                     \u001b[0mchunks\u001b[0m \u001b[1;33m=\u001b[0m \u001b[0m_iterencode\u001b[0m\u001b[1;33m(\u001b[0m\u001b[0mvalue\u001b[0m\u001b[1;33m,\u001b[0m \u001b[0m_current_indent_level\u001b[0m\u001b[1;33m)\u001b[0m\u001b[1;33m\u001b[0m\u001b[1;33m\u001b[0m\u001b[0m\n\u001b[1;32m--> 405\u001b[1;33m                 \u001b[1;32myield\u001b[0m \u001b[1;32mfrom\u001b[0m \u001b[0mchunks\u001b[0m\u001b[1;33m\u001b[0m\u001b[1;33m\u001b[0m\u001b[0m\n\u001b[0m\u001b[0;32m    406\u001b[0m         \u001b[1;32mif\u001b[0m \u001b[0mnewline_indent\u001b[0m \u001b[1;32mis\u001b[0m \u001b[1;32mnot\u001b[0m \u001b[1;32mNone\u001b[0m\u001b[1;33m:\u001b[0m\u001b[1;33m\u001b[0m\u001b[1;33m\u001b[0m\u001b[0m\n\u001b[0;32m    407\u001b[0m             \u001b[0m_current_indent_level\u001b[0m \u001b[1;33m-=\u001b[0m \u001b[1;36m1\u001b[0m\u001b[1;33m\u001b[0m\u001b[1;33m\u001b[0m\u001b[0m\n",
      "\u001b[1;32m~\\anaconda3\\lib\\json\\encoder.py\u001b[0m in \u001b[0;36m_iterencode_dict\u001b[1;34m(dct, _current_indent_level)\u001b[0m\n\u001b[0;32m    403\u001b[0m                 \u001b[1;32melse\u001b[0m\u001b[1;33m:\u001b[0m\u001b[1;33m\u001b[0m\u001b[1;33m\u001b[0m\u001b[0m\n\u001b[0;32m    404\u001b[0m                     \u001b[0mchunks\u001b[0m \u001b[1;33m=\u001b[0m \u001b[0m_iterencode\u001b[0m\u001b[1;33m(\u001b[0m\u001b[0mvalue\u001b[0m\u001b[1;33m,\u001b[0m \u001b[0m_current_indent_level\u001b[0m\u001b[1;33m)\u001b[0m\u001b[1;33m\u001b[0m\u001b[1;33m\u001b[0m\u001b[0m\n\u001b[1;32m--> 405\u001b[1;33m                 \u001b[1;32myield\u001b[0m \u001b[1;32mfrom\u001b[0m \u001b[0mchunks\u001b[0m\u001b[1;33m\u001b[0m\u001b[1;33m\u001b[0m\u001b[0m\n\u001b[0m\u001b[0;32m    406\u001b[0m         \u001b[1;32mif\u001b[0m \u001b[0mnewline_indent\u001b[0m \u001b[1;32mis\u001b[0m \u001b[1;32mnot\u001b[0m \u001b[1;32mNone\u001b[0m\u001b[1;33m:\u001b[0m\u001b[1;33m\u001b[0m\u001b[1;33m\u001b[0m\u001b[0m\n\u001b[0;32m    407\u001b[0m             \u001b[0m_current_indent_level\u001b[0m \u001b[1;33m-=\u001b[0m \u001b[1;36m1\u001b[0m\u001b[1;33m\u001b[0m\u001b[1;33m\u001b[0m\u001b[0m\n",
      "\u001b[1;32m~\\anaconda3\\lib\\json\\encoder.py\u001b[0m in \u001b[0;36m_iterencode\u001b[1;34m(o, _current_indent_level)\u001b[0m\n\u001b[0;32m    436\u001b[0m                     \u001b[1;32mraise\u001b[0m \u001b[0mValueError\u001b[0m\u001b[1;33m(\u001b[0m\u001b[1;34m\"Circular reference detected\"\u001b[0m\u001b[1;33m)\u001b[0m\u001b[1;33m\u001b[0m\u001b[1;33m\u001b[0m\u001b[0m\n\u001b[0;32m    437\u001b[0m                 \u001b[0mmarkers\u001b[0m\u001b[1;33m[\u001b[0m\u001b[0mmarkerid\u001b[0m\u001b[1;33m]\u001b[0m \u001b[1;33m=\u001b[0m \u001b[0mo\u001b[0m\u001b[1;33m\u001b[0m\u001b[1;33m\u001b[0m\u001b[0m\n\u001b[1;32m--> 438\u001b[1;33m             \u001b[0mo\u001b[0m \u001b[1;33m=\u001b[0m \u001b[0m_default\u001b[0m\u001b[1;33m(\u001b[0m\u001b[0mo\u001b[0m\u001b[1;33m)\u001b[0m\u001b[1;33m\u001b[0m\u001b[1;33m\u001b[0m\u001b[0m\n\u001b[0m\u001b[0;32m    439\u001b[0m             \u001b[1;32myield\u001b[0m \u001b[1;32mfrom\u001b[0m \u001b[0m_iterencode\u001b[0m\u001b[1;33m(\u001b[0m\u001b[0mo\u001b[0m\u001b[1;33m,\u001b[0m \u001b[0m_current_indent_level\u001b[0m\u001b[1;33m)\u001b[0m\u001b[1;33m\u001b[0m\u001b[1;33m\u001b[0m\u001b[0m\n\u001b[0;32m    440\u001b[0m             \u001b[1;32mif\u001b[0m \u001b[0mmarkers\u001b[0m \u001b[1;32mis\u001b[0m \u001b[1;32mnot\u001b[0m \u001b[1;32mNone\u001b[0m\u001b[1;33m:\u001b[0m\u001b[1;33m\u001b[0m\u001b[1;33m\u001b[0m\u001b[0m\n",
      "\u001b[1;32m~\\anaconda3\\lib\\json\\encoder.py\u001b[0m in \u001b[0;36mdefault\u001b[1;34m(self, o)\u001b[0m\n\u001b[0;32m    177\u001b[0m \u001b[1;33m\u001b[0m\u001b[0m\n\u001b[0;32m    178\u001b[0m         \"\"\"\n\u001b[1;32m--> 179\u001b[1;33m         raise TypeError(f'Object of type {o.__class__.__name__} '\n\u001b[0m\u001b[0;32m    180\u001b[0m                         f'is not JSON serializable')\n\u001b[0;32m    181\u001b[0m \u001b[1;33m\u001b[0m\u001b[0m\n",
      "\u001b[1;31mTypeError\u001b[0m: Object of type int64 is not JSON serializable"
     ]
    }
   ],
   "source": [
    "# Exportación de resultados a formato JSON.\n",
    "from datetime import datetime\n",
    "import json\n",
    "\n",
    "try:\n",
    "    os.mkdir('HyperOpt Optimizations')\n",
    "except:\n",
    "    None\n",
    "\n",
    "now = datetime.now()\n",
    "dt_string = now.strftime(\"%Y%m%d_%H%M%S\")\n",
    "path = os.getcwd() + '\\\\HyperOpt Optimizations\\\\'\n",
    "filename = 'Opt_' + dt_string + '.json'\n",
    "\n",
    "f = open(path + filename, 'w')\n",
    "json.dump(scorings, f)\n",
    "f.close()\n",
    "\n",
    "print(dt_string)"
   ]
  },
  {
   "cell_type": "code",
   "execution_count": 32,
   "id": "c7930f05-9d52-4ed6-9330-9c4a39d7a9f1",
   "metadata": {
    "collapsed": true,
    "jupyter": {
     "outputs_hidden": true,
     "source_hidden": true
    },
    "tags": []
   },
   "outputs": [
    {
     "name": "stdout",
     "output_type": "stream",
     "text": [
      "      Recall Precision       AUC  Accuracy Recall_Std Precision_Std   AUC_Std Accuracy_Std  F1-Score\n",
      "0   0.415558  0.961515  0.977762   0.99921   0.018147      0.010354  0.004498     0.000024  0.580031\n",
      "1   0.946757  0.022062  0.988275  0.943716   0.040708      0.002543  0.001651     0.009206  0.043096\n",
      "2   0.948282  0.022065  0.988283   0.94364   0.038624      0.002554  0.001662     0.009138  0.043103\n",
      "3   0.433786  0.973159  0.980446   0.99924   0.015617      0.012649  0.004291     0.000017  0.599822\n",
      "4   0.931504  0.066713  0.982201  0.982464   0.033507        0.0081  0.004389     0.002581  0.124313\n",
      "5   0.398799  0.970248  0.983869  0.999194   0.013034      0.010562  0.004469     0.000022  0.565181\n",
      "6   0.433795  0.979733  0.978124  0.999244   0.016448      0.010801  0.004455     0.000018  0.601074\n",
      "7   0.960431  0.036331  0.982202  0.966318   0.005244      0.002418  0.004662     0.002344  0.070003\n",
      "8   0.420131  0.965006  0.978185  0.999218   0.020054       0.00702  0.004462     0.000028  0.585134\n",
      "9   0.418607  0.964911  0.979125  0.999216   0.019239      0.006918  0.004388     0.000027   0.58365\n",
      "10  0.418607  0.968478   0.97936  0.999218   0.019239       0.00465  0.004154     0.000024  0.584251\n",
      "11  0.946757  0.022062  0.988275  0.943716   0.040708      0.002543  0.001651     0.009206  0.043096\n",
      "12   0.93762  0.061555  0.978628   0.98063   0.021627      0.010011  0.003365     0.003092  0.115311\n",
      "13  0.398799  0.970248  0.984632  0.999194   0.013034      0.010562  0.004017     0.000022  0.565181\n",
      "14  0.325813  0.970935  0.951292  0.999102   0.043129      0.020117  0.017221     0.000064  0.486661\n",
      "15  0.942193  0.051707  0.979224  0.977088   0.019391      0.003619   0.00352      0.00188     0.098\n",
      "16  0.946757  0.022062  0.988275  0.943716   0.040708      0.002543  0.001651     0.009206  0.043096\n",
      "17  0.412509  0.964726   0.98027  0.999208   0.014632       0.01087  0.003414     0.000018  0.577691\n",
      "18  0.946757  0.022062  0.988275  0.943716   0.040708      0.002543  0.001651     0.009206  0.043096\n",
      "19  0.945233  0.046644  0.979732  0.974372   0.016578      0.003518  0.003082     0.002257  0.088871\n",
      "20  0.433795   0.97974  0.982085  0.999244   0.013326      0.010801  0.004627     0.000013  0.601137\n",
      "21   0.40946  0.964351  0.980395  0.999204   0.012436      0.011519  0.003222     0.000017    0.5747\n",
      "22  0.418607  0.964875  0.979828  0.999216   0.018247      0.007107  0.003735     0.000027  0.583678\n",
      "23  0.417082  0.965253  0.980065  0.999214   0.020194      0.009961  0.003641     0.000023  0.582085\n",
      "24  0.418607    0.9685  0.980212  0.999218   0.022367      0.004376  0.004016     0.000028   0.58416\n",
      "25  0.462685  0.962326   0.97871   0.99927   0.014716      0.007485  0.003648     0.000013    0.6247\n",
      "26  0.412509  0.964726  0.980159  0.999208   0.014632       0.01087  0.003445     0.000018  0.577691\n",
      "27  0.420131  0.965006  0.977832  0.999218   0.020054       0.00702  0.004465     0.000028  0.585134\n",
      "28  0.420131  0.965006  0.977727  0.999218   0.020054       0.00702  0.004513     0.000028  0.585134\n",
      "29  0.418607    0.9649  0.979519  0.999216   0.021083      0.006931  0.004058     0.000029  0.583599\n",
      "30  0.436826  0.976545  0.978449  0.999246   0.013563      0.010323  0.003889     0.000013  0.603432\n",
      "31  0.424686   0.96545  0.978067  0.999224   0.018572      0.006531  0.004204     0.000025  0.589646\n",
      "32  0.417082  0.961622  0.977794  0.999212   0.017213      0.010449  0.004456     0.000023  0.581567\n",
      "33  0.423161  0.965322  0.978349  0.999222   0.016462       0.00662  0.004662     0.000023  0.588202\n",
      "34  0.398799  0.970248  0.979312  0.999194   0.013034      0.010562  0.006216     0.000022  0.565181\n",
      "35  0.412509   0.96116   0.97785  0.999206   0.014632      0.010846  0.004492     0.000021   0.57709\n",
      "36  0.418607  0.964911  0.977882  0.999216   0.019239      0.006918   0.00455     0.000027   0.58365\n",
      "37  0.398799  0.970248  0.979294  0.999194   0.013034      0.010562  0.006222     0.000022  0.565181\n",
      "38  0.418607  0.968478  0.977739  0.999218   0.019239       0.00465  0.004493     0.000024  0.584251\n",
      "39  0.423171  0.965294   0.97844  0.999222   0.020205      0.006731  0.004503     0.000028  0.588118\n",
      "40  0.782299   0.48045  0.973624  0.998436   0.032916      0.116924  0.003758      0.00062  0.584162\n",
      "41  0.398799  0.970248  0.979312  0.999194   0.013034      0.010562  0.006216     0.000022  0.565181\n",
      "42  0.421646  0.962048  0.978267  0.999218   0.018158      0.010225  0.004565     0.000024  0.586044\n",
      "43  0.929998  0.085301  0.977539  0.986702   0.028725      0.006714  0.003009      0.00128  0.156151\n",
      "44   0.40946  0.964351  0.978429  0.999204   0.012436      0.011519  0.004325     0.000017    0.5747\n",
      "45  0.398799  0.970248  0.979294  0.999194   0.013034      0.010562  0.006222     0.000022  0.565181\n",
      "46  0.948282  0.043965  0.980773  0.972588   0.015089      0.003883  0.003544     0.002803  0.083999\n",
      "47  0.398799  0.970248  0.979294  0.999194   0.013034      0.010562  0.006222     0.000022  0.565181\n",
      "48  0.958915  0.038508  0.982031  0.968318   0.006561      0.002714  0.004409     0.002381  0.074029\n",
      "49  0.453622   0.95284  0.977546   0.99925   0.029394      0.036561  0.003835     0.000014  0.613209\n",
      "50  0.427716  0.965747  0.978662  0.999228   0.016111      0.006162  0.004134     0.000021  0.592662\n",
      "51  0.946757  0.022062  0.988275  0.943716   0.040708      0.002543  0.001651     0.009206  0.043096\n",
      "52  0.412509  0.964726  0.977769  0.999208   0.014632       0.01087  0.004456     0.000018  0.577691\n",
      "53  0.417082  0.961686  0.979454  0.999212   0.020194      0.010122  0.004066     0.000026  0.581484\n",
      "54  0.946757  0.022062  0.988275  0.943716   0.040708      0.002543  0.001651     0.009206  0.043096\n",
      "55  0.423161  0.965355  0.978314  0.999222   0.018076      0.006428  0.004181     0.000024  0.588162\n",
      "56   0.40946  0.964351  0.980243  0.999204   0.012436      0.011519  0.003438     0.000017    0.5747\n",
      "57   0.40946  0.964351  0.978301  0.999204   0.012436      0.011519  0.004328     0.000017    0.5747\n",
      "58  0.910209  0.108827  0.979288   0.99003   0.049209      0.006314   0.00277      0.00096  0.194208\n",
      "59  0.398799  0.970248  0.979294  0.999194   0.013034      0.010562  0.006222     0.000022  0.565181\n",
      "60  0.453622   0.95284  0.977546   0.99925   0.029394      0.036561  0.003835     0.000014  0.613209\n",
      "61  0.418607  0.964911  0.979381  0.999216   0.019239      0.006918  0.004271     0.000027   0.58365\n",
      "62  0.415558   0.96824  0.977667  0.999214   0.018147       0.00482  0.004279     0.000023   0.58126\n",
      "63  0.946757  0.022062  0.988275  0.943716   0.040708      0.002543  0.001651     0.009206  0.043096\n",
      "64  0.430765  0.969229  0.980207  0.999234   0.015043      0.011149  0.004405     0.000022  0.596293\n",
      "65  0.420122  0.965071  0.978359  0.999218   0.017386      0.006712  0.004983     0.000024  0.585191\n",
      "66  0.412509  0.964399   0.97797  0.999208   0.014632       0.00711  0.004328     0.000022  0.577711\n",
      "67  0.462685  0.962326   0.97871   0.99927   0.014716      0.007485  0.003648     0.000013    0.6247\n",
      "68   0.40946  0.967677  0.978147  0.999206   0.012436      0.005785  0.004435     0.000017  0.575314\n",
      "69  0.438415  0.965018  0.978604   0.99924   0.031819      0.020784  0.003858      0.00003  0.601803\n",
      "70  0.427735  0.972491  0.980118  0.999232   0.020568      0.013477  0.004771     0.000029  0.593838\n",
      "71  0.412509  0.964726  0.977843  0.999208   0.014632       0.01087  0.004489     0.000018  0.577691\n",
      "72  0.436863  0.957641  0.978384  0.999234   0.011879      0.028166  0.005318     0.000022   0.59976\n",
      "73  0.412509   0.96116  0.977794  0.999206   0.014632      0.010846  0.004463     0.000021   0.57709\n",
      "74  0.418607  0.964911  0.977837  0.999216   0.019239      0.006918  0.004589     0.000027   0.58365\n",
      "75  0.436826  0.966478  0.977781   0.99924   0.016641      0.005757  0.004732      0.00002  0.601476\n",
      "76  0.424686   0.96545  0.978279  0.999224   0.018572      0.006531    0.0045     0.000025  0.589646\n",
      "77   0.40946  0.964351  0.978347  0.999204   0.012436      0.011519  0.004343     0.000017    0.5747\n",
      "78  0.423161  0.975816  0.978722  0.999228   0.018076      0.010407  0.005784     0.000022  0.590022\n",
      "79  0.424686   0.96545  0.978522  0.999224   0.018572      0.006531  0.004506     0.000025  0.589646\n",
      "80  0.948282  0.022064  0.988282  0.943638   0.038624      0.002555   0.00166     0.009139  0.043102\n",
      "81  0.412509   0.96116  0.977881  0.999206   0.014632      0.010846  0.004538     0.000021   0.57709\n",
      "82  0.417082   0.96479  0.977882  0.999214   0.022378      0.006843  0.003925     0.000031   0.58205\n",
      "83   0.40946  0.964351  0.978164  0.999204   0.012436      0.011519  0.004342     0.000017    0.5747\n",
      "84  0.946757  0.022062  0.988275  0.943716   0.040708      0.002543  0.001651     0.009206  0.043096\n",
      "85   0.40946  0.964351   0.98104  0.999204   0.012436      0.011519  0.003126     0.000017    0.5747\n",
      "86  0.429222  0.969357  0.979141  0.999232   0.015155      0.010537  0.003999     0.000018  0.594776\n",
      "87  0.418607  0.961793  0.978026  0.999214   0.019239      0.010217  0.004753     0.000025  0.583019\n",
      "88  0.412509   0.96116  0.977842  0.999206   0.014632      0.010846  0.004512     0.000021   0.57709\n",
      "89  0.946757  0.022062  0.988275  0.943716   0.040708      0.002543  0.001651     0.009206  0.043096\n",
      "90  0.484017  0.937553  0.979484  0.999276   0.047496       0.03665  0.003094     0.000032  0.635738\n",
      "91  0.418607  0.964911  0.979502  0.999216   0.019239      0.006918  0.004231     0.000027   0.58365\n",
      "92   0.44599  0.973912  0.981294  0.999256   0.010031      0.015078  0.004922      0.00001  0.611638\n",
      "93  0.948282  0.022065  0.988289   0.94364   0.038624      0.002554   0.00165     0.009138  0.043103\n",
      "94  0.423115  0.975805    0.9801  0.999228   0.013276      0.010716   0.00356     0.000012   0.59008\n",
      "95  0.430737  0.973056  0.980289  0.999236   0.017725      0.012547  0.004307     0.000018  0.596808\n",
      "96  0.412509  0.964726  0.979892  0.999208   0.014632       0.01087  0.003899     0.000018  0.577691\n",
      "97  0.410985  0.964541  0.981067  0.999206   0.013319       0.01119  0.003324     0.000017  0.576202\n",
      "98  0.948282  0.022065  0.988289   0.94364   0.038624      0.002554   0.00165     0.009138  0.043103\n",
      "99  0.410985  0.964541  0.980159  0.999206   0.013319       0.01119  0.003523     0.000017  0.576202\n"
     ]
    }
   ],
   "source": [
    "# Obtención de resultados en formato tabla para visualizar scorings y desvios estándar.\n",
    "scorings_df = pd.DataFrame(columns = list(scorings[0]['scorings'].keys()))\n",
    "\n",
    "for scoring in scorings:\n",
    "    scorings_df = scorings_df.append(scoring['scorings'], ignore_index = True)\n",
    "\n",
    "with pd.option_context('display.max_rows', None, 'display.max_columns', None, 'display.width', 1000):  # more options can be specified also\n",
    "    print(scorings_df)"
   ]
  },
  {
   "cell_type": "code",
   "execution_count": 42,
   "id": "cb06d80b-63b2-4200-b682-29fe5154e9b6",
   "metadata": {
    "collapsed": true,
    "jupyter": {
     "outputs_hidden": true,
     "source_hidden": true
    },
    "tags": []
   },
   "outputs": [
    {
     "name": "stdout",
     "output_type": "stream",
     "text": [
      "[Parallel(n_jobs=-1)]: Using backend LokyBackend with 6 concurrent workers.\n",
      "[Parallel(n_jobs=-1)]: Done   1 tasks      | elapsed:   31.4s\n",
      "[Parallel(n_jobs=-1)]: Done   2 out of   4 | elapsed:   31.7s remaining:   31.7s\n",
      "[Parallel(n_jobs=-1)]: Done   4 out of   4 | elapsed:   34.5s remaining:    0.0s\n",
      "[Parallel(n_jobs=-1)]: Done   4 out of   4 | elapsed:   34.5s finished\n"
     ]
    },
    {
     "data": {
      "text/plain": [
       "{'fit_time': array([29.16184616, 29.25559855, 27.48058224, 27.93446946]),\n",
       " 'score_time': array([1.71742225, 1.7015512 , 2.06047964, 2.00510097]),\n",
       " 'estimator': [LinearSVC(C=1.2912110784758317, fit_intercept=False,\n",
       "            intercept_scaling=1.0058483479571696, max_iter=28, random_state=42,\n",
       "            tol=9.320556357088724e-05),\n",
       "  LinearSVC(C=1.2912110784758317, fit_intercept=False,\n",
       "            intercept_scaling=1.0058483479571696, max_iter=28, random_state=42,\n",
       "            tol=9.320556357088724e-05),\n",
       "  LinearSVC(C=1.2912110784758317, fit_intercept=False,\n",
       "            intercept_scaling=1.0058483479571696, max_iter=28, random_state=42,\n",
       "            tol=9.320556357088724e-05),\n",
       "  LinearSVC(C=1.2912110784758317, fit_intercept=False,\n",
       "            intercept_scaling=1.0058483479571696, max_iter=28, random_state=42,\n",
       "            tol=9.320556357088724e-05)],\n",
       " 'test_precision': array([0.96852647, 0.97579425, 0.97856049, 0.98430813]),\n",
       " 'test_recall': array([0.41230207, 0.39281364, 0.3889227 , 0.41996348]),\n",
       " 'test_roc_auc': array([0.97751606, 0.97954934, 0.97748671, 0.97210845]),\n",
       " 'test_accuracy': array([0.99922438, 0.99920394, 0.99920002, 0.99924245]),\n",
       " 'test_f1': array([0.57838531, 0.56013895, 0.55662021, 0.5887372 ])}"
      ]
     },
     "execution_count": 42,
     "metadata": {},
     "output_type": "execute_result"
    }
   ],
   "source": [
    "# Trial ID : 25\n",
    "# Loss : 0.3873657843451594\n",
    "# Best Params : {'class_weight': None, 'dual': True, 'fit_intercept': False, 'intercept_scaling': 1.0058483479571696, \n",
    "# 'max_iter': 28, 'tol': 9.320556357088724e-05}\n",
    "\n",
    "from sklearn.preprocessing import StandardScaler, MaxAbsScaler, MinMaxScaler, Normalizer, RobustScaler, SplineTransformer\n",
    "from sklearn.svm import SVC, LinearSVC\n",
    "from sklearn.model_selection import StratifiedKFold, cross_validate\n",
    "\n",
    "selected_columns = ['day', 'hour', 'idOrig', 'idDest']\n",
    "index = range(len(X))\n",
    "X2 = X.iloc[index, :].drop(selected_columns, axis = 1)\n",
    "scaler = RobustScaler()\n",
    "X2 = scaler.fit_transform(X2)\n",
    "y2 = y.iloc[index]\n",
    "\n",
    "clf = LinearSVC(random_state = 42, C = 1.2912110784758317, loss = 'squared_hinge', penalty = 'l2',\n",
    "                class_weight = None, dual = True, fit_intercept = False, intercept_scaling = 1.0058483479571696,\n",
    "                max_iter = 28, tol = 9.320556357088724e-05)\n",
    "skf = StratifiedKFold(random_state = 42, n_splits = 4, shuffle = True)\n",
    "cv = cross_validate(estimator = clf, X = X2, y = y2, cv = skf, verbose = 100, \n",
    "                    n_jobs = -1, scoring = ('precision', 'recall', 'roc_auc', 'accuracy', 'f1'))\n",
    "cv"
   ]
  },
  {
   "cell_type": "markdown",
   "id": "b5337738-bf63-4009-8adc-8cdf0dd5e0ab",
   "metadata": {},
   "source": [
    "Evaluación sobre el conjunto de validación"
   ]
  },
  {
   "cell_type": "code",
   "execution_count": 54,
   "id": "24e93bdd-144e-4c2d-bbe8-ee20143b24ad",
   "metadata": {
    "collapsed": true,
    "jupyter": {
     "outputs_hidden": true,
     "source_hidden": true
    },
    "tags": []
   },
   "outputs": [
    {
     "name": "stdout",
     "output_type": "stream",
     "text": [
      "Recall: 0.3731\n",
      "Precision: 0.9887\n",
      "AUC: 0.6865\n",
      "Accuracy: 0.9992\n",
      "F1-Score: 0.5418\n"
     ]
    }
   ],
   "source": [
    "# Evaluación con el conjunto de validación.\n",
    "from sklearn.metrics import f1_score, accuracy_score, precision_score, recall_score, roc_auc_score\n",
    "\n",
    "clf = LinearSVC(random_state = 42, C = 1.2912110784758317, loss = 'squared_hinge', penalty = 'l2',\n",
    "                class_weight = None, dual = True, fit_intercept = False, intercept_scaling = 1.0058483479571696,\n",
    "                max_iter = 28, tol = 9.320556357088724e-05)\n",
    "\n",
    "X_train = X.drop(labels = ['day', 'hour', 'idOrig', 'idDest'], axis = 1, inplace = False)\n",
    "scaler = RobustScaler()\n",
    "X_train = scaler.fit_transform(X_train)\n",
    "y_train = y\n",
    "\n",
    "X_test = df_validation.drop(labels = ['isFraud', 'isFlaggedFraud', 'day', 'hour', 'idOrig', 'idDest'], \n",
    "                            axis = 1, inplace = False)\n",
    "X_test = scaler.fit_transform(X_test)\n",
    "y_test = df_validation['isFraud']\n",
    "\n",
    "clf.fit(X = X_train, y = y_train)\n",
    "\n",
    "y_pred = clf.predict(X_test)\n",
    "\n",
    "print('Recall: %.4f' % recall_score(y_true = y_test, y_pred = y_pred))\n",
    "print('Precision: %.4f' % precision_score(y_true = y_test, y_pred = y_pred))\n",
    "print('AUC: %.4f' % roc_auc_score(y_true = y_test, y_score = y_pred))\n",
    "print('Accuracy: %.4f' % accuracy_score(y_true = y_test, y_pred = y_pred))\n",
    "print('F1-Score: %.4f' % f1_score(y_true = y_test, y_pred = y_pred))"
   ]
  },
  {
   "cell_type": "markdown",
   "id": "d667ad55-54a7-4868-b9eb-a85714db573f",
   "metadata": {
    "tags": []
   },
   "source": [
    "#### 6.2.4. Redes neuronales"
   ]
  },
  {
   "cell_type": "markdown",
   "id": "fd0e3427-e600-4d07-ba88-14099f4ff9b9",
   "metadata": {},
   "source": [
    "Con Scikit-Learn"
   ]
  },
  {
   "cell_type": "code",
   "execution_count": 69,
   "id": "3cefe372-b682-4e94-be32-0fc67c567609",
   "metadata": {
    "collapsed": true,
    "jupyter": {
     "outputs_hidden": true,
     "source_hidden": true
    },
    "tags": []
   },
   "outputs": [
    {
     "data": {
      "text/plain": [
       "{'fit_time': array([46.41131616, 44.25528765, 43.45763516, 50.76467037]),\n",
       " 'score_time': array([0.74056077, 0.7872715 , 0.91867638, 0.72202086]),\n",
       " 'test_precision': array([0.96899225, 0.95384615, 0.91821561, 0.96511628]),\n",
       " 'test_recall': array([0.78125   , 0.77258567, 0.7694704 , 0.77570093]),\n",
       " 'test_roc_auc': array([0.99958016, 0.99238866, 0.99453383, 0.99830155]),\n",
       " 'test_accuracy': array([0.999688, 0.99966 , 0.999616, 0.999676]),\n",
       " 'test_f1': array([0.8650519 , 0.85370052, 0.83728814, 0.86010363])}"
      ]
     },
     "execution_count": 69,
     "metadata": {},
     "output_type": "execute_result"
    }
   ],
   "source": [
    "# Ejecución inicial.\n",
    "from sklearn.neural_network import MLPClassifier\n",
    "from sklearn.model_selection import StratifiedKFold, cross_validate\n",
    "from sklearn.preprocessing import RobustScaler\n",
    "\n",
    "X_train = X[0:1000000]\n",
    "clf = RobustScaler()\n",
    "X_train = clf.fit_transform(X_train)\n",
    "y_train = y[0:1000000]\n",
    "\n",
    "clf = MLPClassifier(random_state = 42)\n",
    "skf = StratifiedKFold(random_state = 42, n_splits = 4, shuffle = True)\n",
    "cv = cross_validate(estimator = clf, X = X_train, y = y_train, cv = skf, verbose = False, n_jobs = -1, \n",
    "                    scoring = ('precision', 'recall', 'roc_auc', 'accuracy', 'f1'))\n",
    "cv"
   ]
  },
  {
   "cell_type": "markdown",
   "id": "b8853cf5-a6a2-4882-ac9c-2382716fd58b",
   "metadata": {},
   "source": [
    "Primera optimización"
   ]
  },
  {
   "cell_type": "code",
   "execution_count": 26,
   "id": "469d7321-8744-4031-8d0c-18518ebde908",
   "metadata": {
    "collapsed": true,
    "jupyter": {
     "outputs_hidden": true,
     "source_hidden": true
    },
    "tags": []
   },
   "outputs": [
    {
     "name": "stdout",
     "output_type": "stream",
     "text": [
      "Scaler: StandardScaler() | Indexes: range(0, 500000) | Loss: 0.3153 | Elapsed_time: 30.5673 seconds                    \n",
      "Scaler: Normalizer() | Indexes: range(0, 500000) | Loss: 0.3545 | Elapsed_time: 25.9431 seconds                        \n",
      "Scaler: StandardScaler() | Indexes: range(0, 500000) | Loss: 0.3035 | Elapsed_time: 27.0999 seconds                    \n",
      "Scaler: MinMaxScaler(feature_range=(-1, 1)) | Indexes: range(0, 500000) | Loss: 0.3962 | Elapsed_time: 27.6823 seconds \n",
      "Scaler: RobustScaler() | Indexes: range(0, 500000) | Loss: 0.2718 | Elapsed_time: 27.4901 seconds                      \n",
      "100%|█████████████████████████████████████████████████| 5/5 [02:18<00:00, 27.76s/trial, best loss: 0.27178040945978615]\n"
     ]
    }
   ],
   "source": [
    "# Importación de librerías.\n",
    "from sklearn.neural_network import MLPClassifier\n",
    "from sklearn.model_selection import StratifiedKFold, cross_validate\n",
    "from sklearn.preprocessing import MaxAbsScaler, MinMaxScaler, Normalizer, RobustScaler, StandardScaler\n",
    "from hyperopt import fmin, hp, tpe, space_eval, Trials\n",
    "from hyperopt.early_stop import no_progress_loss\n",
    "\n",
    "# Definición de la función objetivo.\n",
    "def objective_func(hyperparameters):\n",
    "\n",
    "    global i, scorings, X_train\n",
    "    start_time = time.time()\n",
    "    i += 1\n",
    "\n",
    "    scaler = hyperparameters['scaler']\n",
    "    X_train = scaler.fit_transform(X_train)\n",
    "    \n",
    "    clf = MLPClassifier(random_state = 42)\n",
    "    skf = StratifiedKFold(random_state = 42, n_splits = 4, shuffle = True)\n",
    "    cv = cross_validate(estimator = clf, X = X_train, y = y_train, cv = skf, verbose = False, n_jobs = -1, \n",
    "                        scoring = ('precision', 'recall', 'roc_auc', 'accuracy', 'f1'))\n",
    "    \n",
    "    loss = 1 - cv['test_f1'].mean() + cv['test_f1'].std()\n",
    "    \n",
    "    # Almacenamiento de scorings.\n",
    "    scorings.append({'trial': i,\n",
    "                      'params' : clf.get_params(),\n",
    "                      'scorings' : {'Recall': cv['test_recall'].mean(),\n",
    "                                    'Precision': cv['test_precision'].mean(),\n",
    "                                    'AUC': cv['test_roc_auc'].mean(),\n",
    "                                    'Accuracy': cv['test_accuracy'].mean(),\n",
    "                                    'Recall_Std': cv['test_recall'].std(),\n",
    "                                    'Precision_Std': cv['test_precision'].std(),\n",
    "                                    'AUC_Std': cv['test_roc_auc'].std(),\n",
    "                                    'Accuracy_Std': cv['test_accuracy'].std(),\n",
    "                                    'F1-Score': cv['test_f1'].mean()}\n",
    "                         }\n",
    "                        )\n",
    "    \n",
    "    elapsed_time = time.time() - start_time\n",
    "    print('Scaler: %s | Indexes: %s | Loss: %.4f | Elapsed_time: %.4f seconds' % \n",
    "          (hyperparameters['scaler'], index, loss, elapsed_time))\n",
    "    return loss\n",
    "\n",
    "# Definición del espacio / dominio de parámetros.\n",
    "search_space = {'scaler' : hp.choice('scaler', [StandardScaler(), RobustScaler(), MaxAbsScaler(), MinMaxScaler((-1, 1)),\n",
    "                                                MinMaxScaler((0, 1)), Normalizer()])}\n",
    "\n",
    "# Ejecución del iterador.\n",
    "i = -1\n",
    "scorings = []\n",
    "selected_columns = []\n",
    "# selected_columns = ['day', 'hour', 'idOrig', 'idDest']\n",
    "index = range(500000)\n",
    "rstate = np.random.default_rng(42)\n",
    "trials = Trials() # Para el logging de resultados.\n",
    "X_train = X.iloc[index, :].drop(selected_columns, axis = 1)\n",
    "# scaler = StandardScaler()\n",
    "# X2 = scaler.fit_transform(X2)\n",
    "y_train = y.iloc[index]\n",
    "\n",
    "best_params = fmin(fn = objective_func, space = search_space, algo = tpe.suggest, max_evals = 5, \n",
    "                   trials = trials, early_stop_fn = no_progress_loss(100), rstate = rstate)"
   ]
  },
  {
   "cell_type": "code",
   "execution_count": 27,
   "id": "92f19fdc-cf04-416b-a657-4085a40d0f7e",
   "metadata": {
    "collapsed": true,
    "jupyter": {
     "outputs_hidden": true,
     "source_hidden": true
    },
    "tags": []
   },
   "outputs": [
    {
     "name": "stdout",
     "output_type": "stream",
     "text": [
      "Scaler: StandardScaler() | Indexes: range(0, 500000) | Loss: 0.3046 | Elapsed_time: 28.4332 seconds                    \n",
      "Scaler: Normalizer() | Indexes: range(0, 500000) | Loss: 0.3688 | Elapsed_time: 28.1484 seconds                        \n",
      "Scaler: StandardScaler() | Indexes: range(0, 500000) | Loss: 0.2762 | Elapsed_time: 28.6957 seconds                    \n",
      "Scaler: MinMaxScaler(feature_range=(-1, 1)) | Indexes: range(0, 500000) | Loss: 0.3867 | Elapsed_time: 28.5417 seconds \n",
      "Scaler: RobustScaler() | Indexes: range(0, 500000) | Loss: 0.3103 | Elapsed_time: 28.8205 seconds                      \n",
      "100%|███████████████████████████████████████████████████| 5/5 [02:22<00:00, 28.53s/trial, best loss: 0.276206269660384]\n"
     ]
    }
   ],
   "source": [
    "# Importación de librerías.\n",
    "from sklearn.neural_network import MLPClassifier\n",
    "from sklearn.model_selection import StratifiedKFold, cross_validate\n",
    "from sklearn.preprocessing import MaxAbsScaler, MinMaxScaler, Normalizer, RobustScaler, StandardScaler\n",
    "from hyperopt import fmin, hp, tpe, space_eval, Trials\n",
    "from hyperopt.early_stop import no_progress_loss\n",
    "\n",
    "# Definición de la función objetivo.\n",
    "def objective_func(hyperparameters):\n",
    "\n",
    "    global i, scorings, X_train\n",
    "    start_time = time.time()\n",
    "    i += 1\n",
    "\n",
    "    scaler = hyperparameters['scaler']\n",
    "    X_train = scaler.fit_transform(X_train)\n",
    "    \n",
    "    clf = MLPClassifier(random_state = 42)\n",
    "    skf = StratifiedKFold(random_state = 42, n_splits = 4, shuffle = True)\n",
    "    cv = cross_validate(estimator = clf, X = X_train, y = y_train, cv = skf, verbose = False, n_jobs = -1, \n",
    "                        scoring = ('precision', 'recall', 'roc_auc', 'accuracy', 'f1'))\n",
    "    \n",
    "    loss = 1 - cv['test_f1'].mean() + cv['test_f1'].std()\n",
    "    \n",
    "    # Almacenamiento de scorings.\n",
    "    scorings.append({'trial': i,\n",
    "                      'params' : clf.get_params(),\n",
    "                      'scorings' : {'Recall': cv['test_recall'].mean(),\n",
    "                                    'Precision': cv['test_precision'].mean(),\n",
    "                                    'AUC': cv['test_roc_auc'].mean(),\n",
    "                                    'Accuracy': cv['test_accuracy'].mean(),\n",
    "                                    'Recall_Std': cv['test_recall'].std(),\n",
    "                                    'Precision_Std': cv['test_precision'].std(),\n",
    "                                    'AUC_Std': cv['test_roc_auc'].std(),\n",
    "                                    'Accuracy_Std': cv['test_accuracy'].std(),\n",
    "                                    'F1-Score': cv['test_f1'].mean()}\n",
    "                         }\n",
    "                        )\n",
    "    \n",
    "    elapsed_time = time.time() - start_time\n",
    "    print('Scaler: %s | Indexes: %s | Loss: %.4f | Elapsed_time: %.4f seconds' % \n",
    "          (hyperparameters['scaler'], index, loss, elapsed_time))\n",
    "    return loss\n",
    "\n",
    "# Definición del espacio / dominio de parámetros.\n",
    "search_space = {'scaler' : hp.choice('scaler', [StandardScaler(), RobustScaler(), MaxAbsScaler(), MinMaxScaler((-1, 1)),\n",
    "                                                MinMaxScaler((0, 1)), Normalizer()])}\n",
    "\n",
    "# Ejecución del iterador.\n",
    "i = -1\n",
    "scorings = []\n",
    "# selected_columns = []\n",
    "selected_columns = ['day', 'hour', 'idOrig', 'idDest']\n",
    "index = range(500000)\n",
    "rstate = np.random.default_rng(42)\n",
    "trials = Trials() # Para el logging de resultados.\n",
    "X_train = X.iloc[index, :].drop(selected_columns, axis = 1)\n",
    "# scaler = StandardScaler()\n",
    "# X2 = scaler.fit_transform(X2)\n",
    "y_train = y.iloc[index]\n",
    "\n",
    "best_params = fmin(fn = objective_func, space = search_space, algo = tpe.suggest, max_evals = 5, \n",
    "                   trials = trials, early_stop_fn = no_progress_loss(100), rstate = rstate)"
   ]
  },
  {
   "cell_type": "markdown",
   "id": "f0725f58-8126-43f5-8337-9f453ca2a3f5",
   "metadata": {},
   "source": [
    "Segunda optimización"
   ]
  },
  {
   "cell_type": "code",
   "execution_count": 7,
   "id": "2271fc1e-9c9f-44b2-ac00-761044c9fc49",
   "metadata": {
    "collapsed": true,
    "jupyter": {
     "outputs_hidden": true,
     "source_hidden": true
    },
    "tags": []
   },
   "outputs": [
    {
     "name": "stdout",
     "output_type": "stream",
     "text": [
      "Scaler: RobustScaler() | Samples: 500000 | Loss: 0.1856 | Elapsed_time: 33.9406 seconds                                \n",
      "Scaler: StandardScaler() | Samples: 500000 | Loss: 0.3046 | Elapsed_time: 26.4796 seconds                              \n",
      "Scaler: StandardScaler() | Samples: 500000 | Loss: 0.3153 | Elapsed_time: 30.9175 seconds                              \n",
      "Scaler: StandardScaler() | Samples: 500000 | Loss: 0.3046 | Elapsed_time: 26.2677 seconds                              \n",
      "Scaler: RobustScaler() | Samples: 500000 | Loss: 0.1856 | Elapsed_time: 34.0838 seconds                                \n",
      "100%|█████████████████████████████████████████████████| 5/5 [02:31<00:00, 30.34s/trial, best loss: 0.18562846957267343]\n"
     ]
    }
   ],
   "source": [
    "# Importación de librerías.\n",
    "from sklearn.neural_network import MLPClassifier\n",
    "from sklearn.model_selection import StratifiedKFold, cross_validate\n",
    "from sklearn.preprocessing import RobustScaler, StandardScaler\n",
    "from hyperopt import fmin, hp, tpe, space_eval, Trials\n",
    "from hyperopt.early_stop import no_progress_loss\n",
    "\n",
    "# Definición de la función objetivo.\n",
    "def objective_func(hyperparameters):\n",
    "\n",
    "    global i, scorings\n",
    "    start_time = time.time()\n",
    "    i += 1\n",
    "    \n",
    "    X_train = X[0:hyperparameters['samples']]\n",
    "    X_train = X_train.drop(labels = list(hyperparameters['selected_columns']), axis = 1, inplace = False)\n",
    "    scaler = hyperparameters['scaler']\n",
    "    X_train = scaler.fit_transform(X_train)\n",
    "    \n",
    "    y_train = y[0:hyperparameters['samples']]\n",
    "    \n",
    "    clf = MLPClassifier(random_state = 42)\n",
    "    skf = StratifiedKFold(random_state = 42, n_splits = 4, shuffle = True)\n",
    "    cv = cross_validate(estimator = clf, X = X_train, y = y_train, cv = skf, verbose = False, n_jobs = -1, \n",
    "                        scoring = ('precision', 'recall', 'roc_auc', 'accuracy', 'f1'))\n",
    "    \n",
    "    loss = 1 - cv['test_f1'].mean() + cv['test_f1'].std()\n",
    "    \n",
    "    # Almacenamiento de scorings.\n",
    "    scorings.append({'trial': i,\n",
    "                      'params' : clf.get_params(),\n",
    "                      'scorings' : {'Recall': cv['test_recall'].mean(),\n",
    "                                    'Precision': cv['test_precision'].mean(),\n",
    "                                    'AUC': cv['test_roc_auc'].mean(),\n",
    "                                    'Accuracy': cv['test_accuracy'].mean(),\n",
    "                                    'Recall_Std': cv['test_recall'].std(),\n",
    "                                    'Precision_Std': cv['test_precision'].std(),\n",
    "                                    'AUC_Std': cv['test_roc_auc'].std(),\n",
    "                                    'Accuracy_Std': cv['test_accuracy'].std(),\n",
    "                                    'F1-Score': cv['test_f1'].mean()}\n",
    "                         }\n",
    "                        )\n",
    "    \n",
    "    elapsed_time = time.time() - start_time\n",
    "    print('Scaler: %s | Samples: %s | Loss: %.4f | Elapsed_time: %.4f seconds' % \n",
    "          (hyperparameters['scaler'], hyperparameters['samples'], loss, elapsed_time))\n",
    "    return loss\n",
    "\n",
    "# Definición del espacio / dominio de parámetros.\n",
    "search_space = {'samples' : hp.choice('samples', [500000]),\n",
    "                'scaler' : hp.choice('scaler', [StandardScaler(), RobustScaler()]),\n",
    "                'selected_columns' : hp.choice('selected_columns', [[], ['day', 'hour', 'idOrig', 'idDest']])\n",
    "               }\n",
    "\n",
    "# Ejecución del iterador.\n",
    "i = -1\n",
    "scorings = []\n",
    "rstate = np.random.default_rng(42)\n",
    "trials = Trials() # Para el logging de resultados.\n",
    "best_params = fmin(fn = objective_func, space = search_space, algo = tpe.suggest, max_evals = 4, \n",
    "                   trials = trials, early_stop_fn = no_progress_loss(100), rstate = rstate)"
   ]
  },
  {
   "cell_type": "code",
   "execution_count": 13,
   "id": "61d1871f-69ef-4168-8697-d61dbc45fbd7",
   "metadata": {
    "collapsed": true,
    "jupyter": {
     "outputs_hidden": true,
     "source_hidden": true
    },
    "tags": []
   },
   "outputs": [
    {
     "data": {
      "text/plain": [
       "{'samples': 0, 'scaler': 1, 'selected_columns': 0}"
      ]
     },
     "execution_count": 13,
     "metadata": {},
     "output_type": "execute_result"
    }
   ],
   "source": [
    "best_params"
   ]
  },
  {
   "cell_type": "code",
   "execution_count": 34,
   "id": "d4b72d90-d782-490a-befc-c543b2d67838",
   "metadata": {
    "collapsed": true,
    "jupyter": {
     "outputs_hidden": true,
     "source_hidden": true
    },
    "tags": []
   },
   "outputs": [
    {
     "name": "stdout",
     "output_type": "stream",
     "text": [
      "Scaler: RobustScaler() | Samples: 500000 | Loss: 0.3732 | Elapsed_time: 87.6849 seconds                                \n",
      "Scaler: RobustScaler() | Samples: 500000 | Loss: 0.1804 | Elapsed_time: 26.2315 seconds                                \n",
      "Scaler: RobustScaler() | Samples: 500000 | Loss: 0.1712 | Elapsed_time: 59.9991 seconds                                \n",
      "Scaler: RobustScaler() | Samples: 500000 | Loss: 1.0000 | Elapsed_time: 35.8502 seconds                                \n",
      "Scaler: RobustScaler() | Samples: 500000 | Loss: 1.0000 | Elapsed_time: 2.4196 seconds                                 \n",
      "Scaler: RobustScaler() | Samples: 500000 | Loss: 0.2788 | Elapsed_time: 26.0101 seconds                                \n",
      "Scaler: RobustScaler() | Samples: 500000 | Loss: 0.4286 | Elapsed_time: 17.6863 seconds                                \n",
      "Scaler: RobustScaler() | Samples: 500000 | Loss: 1.0000 | Elapsed_time: 15.6415 seconds                                \n",
      "Scaler: RobustScaler() | Samples: 500000 | Loss: 0.3949 | Elapsed_time: 26.9758 seconds                                \n",
      "Scaler: RobustScaler() | Samples: 500000 | Loss: 0.2372 | Elapsed_time: 26.1885 seconds                                \n",
      "Scaler: RobustScaler() | Samples: 500000 | Loss: 1.0000 | Elapsed_time: 4.6882 seconds                                 \n",
      "Scaler: RobustScaler() | Samples: 500000 | Loss: 0.3886 | Elapsed_time: 22.0422 seconds                                \n",
      "Scaler: RobustScaler() | Samples: 500000 | Loss: 0.7966 | Elapsed_time: 33.8510 seconds                                \n",
      "Scaler: RobustScaler() | Samples: 500000 | Loss: 0.3757 | Elapsed_time: 20.5005 seconds                                \n",
      "Scaler: RobustScaler() | Samples: 500000 | Loss: 0.4240 | Elapsed_time: 13.5708 seconds                                \n",
      "Scaler: RobustScaler() | Samples: 500000 | Loss: 0.3767 | Elapsed_time: 40.5008 seconds                                \n",
      "Scaler: RobustScaler() | Samples: 500000 | Loss: 0.2390 | Elapsed_time: 34.4198 seconds                                \n",
      "Scaler: RobustScaler() | Samples: 500000 | Loss: 1.0000 | Elapsed_time: 16.9457 seconds                                \n",
      "Scaler: RobustScaler() | Samples: 500000 | Loss: 0.3730 | Elapsed_time: 17.6072 seconds                                \n",
      "Scaler: RobustScaler() | Samples: 500000 | Loss: 0.1504 | Elapsed_time: 115.1099 seconds                               \n",
      "Scaler: RobustScaler() | Samples: 500000 | Loss: 0.3117 | Elapsed_time: 55.1960 seconds                                \n",
      "Scaler: RobustScaler() | Samples: 500000 | Loss: 0.1481 | Elapsed_time: 103.3141 seconds                               \n",
      "Scaler: RobustScaler() | Samples: 500000 | Loss: 0.2679 | Elapsed_time: 88.0079 seconds                                \n",
      "Scaler: RobustScaler() | Samples: 500000 | Loss: 0.1439 | Elapsed_time: 110.8279 seconds                               \n",
      "Scaler: RobustScaler() | Samples: 500000 | Loss: 0.1514 | Elapsed_time: 106.7946 seconds                               \n",
      "Scaler: RobustScaler() | Samples: 500000 | Loss: 0.1397 | Elapsed_time: 109.0252 seconds                               \n",
      "Scaler: RobustScaler() | Samples: 500000 | Loss: 0.1205 | Elapsed_time: 88.4635 seconds                                \n",
      "Scaler: RobustScaler() | Samples: 500000 | Loss: 0.1246 | Elapsed_time: 99.8175 seconds                                \n",
      "Scaler: RobustScaler() | Samples: 500000 | Loss: 0.1343 | Elapsed_time: 97.7796 seconds                                \n",
      "Scaler: RobustScaler() | Samples: 500000 | Loss: 0.1537 | Elapsed_time: 93.8857 seconds                                \n",
      "Scaler: RobustScaler() | Samples: 500000 | Loss: 0.1538 | Elapsed_time: 111.3021 seconds                               \n",
      "Scaler: RobustScaler() | Samples: 500000 | Loss: 0.1371 | Elapsed_time: 123.9606 seconds                               \n",
      "Scaler: RobustScaler() | Samples: 500000 | Loss: 0.1385 | Elapsed_time: 93.5607 seconds                                \n",
      "Scaler: RobustScaler() | Samples: 500000 | Loss: 0.4284 | Elapsed_time: 26.0699 seconds                                \n",
      "Scaler: RobustScaler() | Samples: 500000 | Loss: 0.1196 | Elapsed_time: 165.6562 seconds                               \n",
      "Scaler: RobustScaler() | Samples: 500000 | Loss: 0.1332 | Elapsed_time: 143.3108 seconds                               \n",
      "Scaler: RobustScaler() | Samples: 500000 | Loss: 1.0000 | Elapsed_time: 18.4537 seconds                                \n",
      "Scaler: RobustScaler() | Samples: 500000 | Loss: 0.1494 | Elapsed_time: 141.7366 seconds                               \n",
      "Scaler: RobustScaler() | Samples: 500000 | Loss: 1.0000 | Elapsed_time: 2.1515 seconds                                 \n",
      "Scaler: RobustScaler() | Samples: 500000 | Loss: 0.1229 | Elapsed_time: 156.6801 seconds                               \n",
      "Scaler: RobustScaler() | Samples: 500000 | Loss: 0.2669 | Elapsed_time: 23.8428 seconds                                \n",
      "Scaler: RobustScaler() | Samples: 500000 | Loss: 1.0000 | Elapsed_time: 16.2740 seconds                                \n",
      "Scaler: RobustScaler() | Samples: 500000 | Loss: 0.1422 | Elapsed_time: 138.2224 seconds                               \n",
      "Scaler: RobustScaler() | Samples: 500000 | Loss: 0.3011 | Elapsed_time: 26.3655 seconds                                \n",
      "Scaler: RobustScaler() | Samples: 500000 | Loss: 0.3111 | Elapsed_time: 93.0296 seconds                                \n",
      "Scaler: RobustScaler() | Samples: 500000 | Loss: 0.4377 | Elapsed_time: 11.5262 seconds                                \n",
      "Scaler: RobustScaler() | Samples: 500000 | Loss: 0.1437 | Elapsed_time: 84.7832 seconds                                \n",
      "Scaler: RobustScaler() | Samples: 500000 | Loss: 0.2577 | Elapsed_time: 25.6528 seconds                                \n",
      "Scaler: RobustScaler() | Samples: 500000 | Loss: 1.0000 | Elapsed_time: 4.9110 seconds                                 \n",
      "Scaler: RobustScaler() | Samples: 500000 | Loss: 0.4112 | Elapsed_time: 22.4478 seconds                                \n",
      "Scaler: RobustScaler() | Samples: 500000 | Loss: 0.2902 | Elapsed_time: 33.7264 seconds                                \n",
      "Scaler: RobustScaler() | Samples: 500000 | Loss: 1.0000 | Elapsed_time: 3.2596 seconds                                 \n",
      "Scaler: RobustScaler() | Samples: 500000 | Loss: 0.3957 | Elapsed_time: 26.6350 seconds                                \n",
      "Scaler: RobustScaler() | Samples: 500000 | Loss: 1.0000 | Elapsed_time: 18.1845 seconds                                \n",
      "Scaler: RobustScaler() | Samples: 500000 | Loss: 0.1923 | Elapsed_time: 19.8027 seconds                                \n",
      "Scaler: RobustScaler() | Samples: 500000 | Loss: 0.3935 | Elapsed_time: 52.9966 seconds                                \n",
      "Scaler: RobustScaler() | Samples: 500000 | Loss: 0.1439 | Elapsed_time: 65.6586 seconds                                \n",
      "Scaler: RobustScaler() | Samples: 500000 | Loss: 0.3590 | Elapsed_time: 42.1752 seconds                                \n",
      "Scaler: RobustScaler() | Samples: 500000 | Loss: 0.2016 | Elapsed_time: 18.9373 seconds                                \n",
      "Scaler: RobustScaler() | Samples: 500000 | Loss: 0.1602 | Elapsed_time: 102.4214 seconds                               \n",
      "Scaler: RobustScaler() | Samples: 500000 | Loss: 1.0000 | Elapsed_time: 17.7113 seconds                                \n",
      "Scaler: RobustScaler() | Samples: 500000 | Loss: 0.2166 | Elapsed_time: 127.3142 seconds                               \n",
      "Scaler: RobustScaler() | Samples: 500000 | Loss: 0.1362 | Elapsed_time: 94.3737 seconds                                \n",
      "Scaler: RobustScaler() | Samples: 500000 | Loss: 0.3563 | Elapsed_time: 13.0722 seconds                                \n",
      "Scaler: RobustScaler() | Samples: 500000 | Loss: 0.1814 | Elapsed_time: 19.2463 seconds                                \n",
      "Scaler: RobustScaler() | Samples: 500000 | Loss: 0.1181 | Elapsed_time: 158.6045 seconds                               \n",
      "Scaler: RobustScaler() | Samples: 500000 | Loss: 0.1181 | Elapsed_time: 156.7484 seconds                               \n",
      "Scaler: RobustScaler() | Samples: 500000 | Loss: 0.1239 | Elapsed_time: 155.4498 seconds                               \n",
      "Scaler: RobustScaler() | Samples: 500000 | Loss: 0.1207 | Elapsed_time: 166.1030 seconds                               \n",
      "Scaler: RobustScaler() | Samples: 500000 | Loss: 0.1206 | Elapsed_time: 154.7023 seconds                               \n",
      "Scaler: RobustScaler() | Samples: 500000 | Loss: 0.1262 | Elapsed_time: 153.7585 seconds                               \n",
      "Scaler: RobustScaler() | Samples: 500000 | Loss: 0.1276 | Elapsed_time: 164.6300 seconds                               \n",
      "Scaler: RobustScaler() | Samples: 500000 | Loss: 0.1482 | Elapsed_time: 148.8386 seconds                               \n",
      "Scaler: RobustScaler() | Samples: 500000 | Loss: 0.1133 | Elapsed_time: 153.3782 seconds                               \n",
      "Scaler: RobustScaler() | Samples: 500000 | Loss: 0.1319 | Elapsed_time: 159.5347 seconds                               \n",
      "Scaler: RobustScaler() | Samples: 500000 | Loss: 0.1241 | Elapsed_time: 168.5553 seconds                               \n",
      "Scaler: RobustScaler() | Samples: 500000 | Loss: 1.0000 | Elapsed_time: 13.9291 seconds                                \n",
      "Scaler: RobustScaler() | Samples: 500000 | Loss: 1.0000 | Elapsed_time: 5.0171 seconds                                 \n",
      "Scaler: RobustScaler() | Samples: 500000 | Loss: 0.0986 | Elapsed_time: 122.4569 seconds                               \n",
      "Scaler: RobustScaler() | Samples: 500000 | Loss: 0.3813 | Elapsed_time: 29.3934 seconds                                \n",
      "Scaler: RobustScaler() | Samples: 500000 | Loss: 0.1285 | Elapsed_time: 92.7093 seconds                                \n",
      "Scaler: RobustScaler() | Samples: 500000 | Loss: 1.0000 | Elapsed_time: 15.7570 seconds                                \n",
      "Scaler: RobustScaler() | Samples: 500000 | Loss: 0.1890 | Elapsed_time: 20.0629 seconds                                \n",
      "Scaler: RobustScaler() | Samples: 500000 | Loss: 0.4350 | Elapsed_time: 77.4841 seconds                                \n",
      "Scaler: RobustScaler() | Samples: 500000 | Loss: 1.0000 | Elapsed_time: 6.2830 seconds                                 \n",
      "Scaler: RobustScaler() | Samples: 500000 | Loss: 0.1031 | Elapsed_time: 143.7915 seconds                               \n",
      "Scaler: RobustScaler() | Samples: 500000 | Loss: 0.4392 | Elapsed_time: 11.0488 seconds                                \n",
      "Scaler: RobustScaler() | Samples: 500000 | Loss: 0.1923 | Elapsed_time: 21.4461 seconds                                \n",
      "Scaler: RobustScaler() | Samples: 500000 | Loss: 0.1303 | Elapsed_time: 147.9021 seconds                               \n",
      "Scaler: RobustScaler() | Samples: 500000 | Loss: 1.0000 | Elapsed_time: 5.8618 seconds                                 \n",
      "Scaler: RobustScaler() | Samples: 500000 | Loss: 0.2583 | Elapsed_time: 122.4264 seconds                               \n",
      "Scaler: RobustScaler() | Samples: 500000 | Loss: 0.1503 | Elapsed_time: 72.2661 seconds                                \n",
      "Scaler: RobustScaler() | Samples: 500000 | Loss: 0.5422 | Elapsed_time: 26.5720 seconds                                \n",
      "Scaler: RobustScaler() | Samples: 500000 | Loss: 0.4125 | Elapsed_time: 21.3275 seconds                                \n",
      "Scaler: RobustScaler() | Samples: 500000 | Loss: 0.1311 | Elapsed_time: 120.9287 seconds                               \n",
      "Scaler: RobustScaler() | Samples: 500000 | Loss: 1.0000 | Elapsed_time: 2.5167 seconds                                 \n",
      "Scaler: RobustScaler() | Samples: 500000 | Loss: 1.0000 | Elapsed_time: 4.2521 seconds                                 \n",
      "Scaler: RobustScaler() | Samples: 500000 | Loss: 0.2871 | Elapsed_time: 142.4687 seconds                               \n",
      "Scaler: RobustScaler() | Samples: 500000 | Loss: 0.2212 | Elapsed_time: 20.9680 seconds                                \n",
      "Scaler: RobustScaler() | Samples: 500000 | Loss: 0.4427 | Elapsed_time: 11.9540 seconds                                \n",
      "100%|███████████████████████████████████████████| 100/100 [1:51:23<00:00, 66.83s/trial, best loss: 0.09855398882724825]\n"
     ]
    }
   ],
   "source": [
    "# Importación de librerías.\n",
    "from sklearn.neural_network import MLPClassifier\n",
    "from sklearn.model_selection import StratifiedKFold, cross_validate\n",
    "from sklearn.preprocessing import RobustScaler, StandardScaler\n",
    "from hyperopt import fmin, hp, tpe, space_eval, Trials\n",
    "from hyperopt.early_stop import no_progress_loss\n",
    "from math import log\n",
    "\n",
    "# Definición de la función objetivo.\n",
    "def objective_func(hyperparameters):\n",
    "\n",
    "    global i, scorings\n",
    "    start_time = time.time()\n",
    "    i += 1\n",
    "    \n",
    "    X_train = X[0:hyperparameters['samples']]\n",
    "    X_train = X_train.drop(labels = list(hyperparameters['selected_columns']), axis = 1, inplace = False)\n",
    "    scaler = hyperparameters['scaler']\n",
    "    X_train = scaler.fit_transform(X_train)\n",
    "    \n",
    "    y_train = y[0:hyperparameters['samples']]\n",
    "    \n",
    "    clf = MLPClassifier(random_state = 42, \n",
    "                        activation = hyperparameters['activation'],\n",
    "                        solver = hyperparameters['solver'],\n",
    "                        alpha = hyperparameters['alpha'],\n",
    "                        hidden_layer_sizes = (int(hyperparameters['hidden_layer_1']),\n",
    "                                              int(hyperparameters['hidden_layer_2']),\n",
    "                                              int(hyperparameters['hidden_layer_3']),\n",
    "                                             )                      )\n",
    "    skf = StratifiedKFold(random_state = 42, n_splits = 4, shuffle = True)\n",
    "    cv = cross_validate(estimator = clf, X = X_train, y = y_train, cv = skf, verbose = False, n_jobs = -1, \n",
    "                        scoring = ('precision', 'recall', 'roc_auc', 'accuracy', 'f1'))\n",
    "    \n",
    "    loss = 1 - cv['test_f1'].mean() + cv['test_f1'].std()\n",
    "    \n",
    "    # Almacenamiento de scorings.\n",
    "    scorings.append({'trial': i,\n",
    "                      'params' : clf.get_params(),\n",
    "                      'scorings' : {'Recall': cv['test_recall'].mean(),\n",
    "                                    'Precision': cv['test_precision'].mean(),\n",
    "                                    'AUC': cv['test_roc_auc'].mean(),\n",
    "                                    'Accuracy': cv['test_accuracy'].mean(),\n",
    "                                    'Recall_Std': cv['test_recall'].std(),\n",
    "                                    'Precision_Std': cv['test_precision'].std(),\n",
    "                                    'AUC_Std': cv['test_roc_auc'].std(),\n",
    "                                    'Accuracy_Std': cv['test_accuracy'].std(),\n",
    "                                    'F1-Score': cv['test_f1'].mean()}\n",
    "                         }\n",
    "                        )\n",
    "    \n",
    "    elapsed_time = time.time() - start_time\n",
    "    print('Scaler: %s | Samples: %s | Loss: %.4f | Elapsed_time: %.4f seconds' % \n",
    "          (hyperparameters['scaler'], hyperparameters['samples'], loss, elapsed_time))\n",
    "    return loss\n",
    "\n",
    "# Definición del espacio / dominio de parámetros.\n",
    "search_space = {'samples' : hp.choice('samples', [500000]),\n",
    "                'scaler' : hp.choice('scaler', [RobustScaler()]),\n",
    "                'selected_columns' : hp.choice('selected_columns', [[], ['day', 'hour', 'idOrig', 'idDest']]),\n",
    "                'activation' : hp.choice('activation', ['identity', 'logistic', 'tanh', 'relu']),\n",
    "                'solver' : hp.choice('solver', ['lbfgs', 'sgd', 'adam']),\n",
    "                'alpha' : hp.normal('alpha', 0.0001, 0.00001),\n",
    "                'hidden_layer_1' : hp.randint('hl1', 1, 10),\n",
    "                'hidden_layer_2' : hp.randint('hl2', 1, 10),\n",
    "                'hidden_layer_3' : hp.randint('hl3', 1, 10)\n",
    "               }\n",
    "\n",
    "# Ejecución del iterador.\n",
    "i = -1\n",
    "scorings = []\n",
    "rstate = np.random.default_rng(42)\n",
    "trials = Trials() # Para el logging de resultados.\n",
    "best_params = fmin(fn = objective_func, space = search_space, algo = tpe.suggest, max_evals = 100, \n",
    "                   trials = trials, rstate = rstate)"
   ]
  },
  {
   "cell_type": "code",
   "execution_count": 36,
   "id": "bda8a24e-01c3-496d-80e5-93ae098030cf",
   "metadata": {
    "collapsed": true,
    "jupyter": {
     "outputs_hidden": true,
     "source_hidden": true
    },
    "tags": []
   },
   "outputs": [
    {
     "name": "stdout",
     "output_type": "stream",
     "text": [
      "Trial ID : 78\n",
      "Loss : 0.09855398882724825\n",
      "Best Params : {'activation': 'tanh', 'alpha': 9.22122898937122e-05, 'hidden_layer_1': 3, 'hidden_layer_2': 6, 'hidden_layer_3': 8, 'samples': 500000, 'scaler': RobustScaler(), 'selected_columns': ('day', 'hour', 'idOrig', 'idDest'), 'solver': 'lbfgs'}\n",
      "\n"
     ]
    }
   ],
   "source": [
    "# Impresión de resultados.\n",
    "print('Trial ID :', trials.best_trial['tid'])\n",
    "print('Loss :', trials.best_trial['result']['loss'])\n",
    "print('Best Params :', space_eval(search_space, best_params), end = '\\n\\n')"
   ]
  },
  {
   "cell_type": "code",
   "execution_count": 37,
   "id": "23ca4ab6-bdda-41cf-a3d4-118c1fb27e83",
   "metadata": {
    "collapsed": true,
    "jupyter": {
     "outputs_hidden": true,
     "source_hidden": true
    },
    "tags": []
   },
   "outputs": [
    {
     "name": "stdout",
     "output_type": "stream",
     "text": [
      "20220225_001847\n"
     ]
    }
   ],
   "source": [
    "# Exportación de resultados a formato JSON.\n",
    "from datetime import datetime\n",
    "import json\n",
    "\n",
    "try:\n",
    "    os.mkdir('HyperOpt Optimizations')\n",
    "except:\n",
    "    None\n",
    "\n",
    "now = datetime.now()\n",
    "dt_string = now.strftime(\"%Y%m%d_%H%M%S\")\n",
    "path = os.getcwd() + '\\\\HyperOpt Optimizations\\\\'\n",
    "filename= 'Opt_' + dt_string + '.json'\n",
    "\n",
    "f = open(path + filename, 'w')\n",
    "json.dump(scorings, f)\n",
    "f.close()\n",
    "\n",
    "print(dt_string)"
   ]
  },
  {
   "cell_type": "code",
   "execution_count": 38,
   "id": "ecd9eef3-831b-4dae-997f-49458c555e76",
   "metadata": {
    "collapsed": true,
    "jupyter": {
     "outputs_hidden": true,
     "source_hidden": true
    },
    "tags": []
   },
   "outputs": [
    {
     "name": "stdout",
     "output_type": "stream",
     "text": [
      "      Recall Precision       AUC  Accuracy Recall_Std Precision_Std   AUC_Std Accuracy_Std  F1-Score\n",
      "0   0.604342  0.935767  0.992595   0.99943   0.131207      0.047117  0.004591     0.000197  0.729027\n",
      "1   0.764126  0.935765  0.994878   0.99962   0.026579      0.031532  0.003246     0.000051   0.84083\n",
      "2   0.820307  0.924327  0.985883  0.999676   0.063317      0.012639   0.00578     0.000083  0.868015\n",
      "3        0.0       0.0  0.903144  0.998686        0.0           0.0  0.024387     0.000003       0.0\n",
      "4        0.0       0.0  0.241766  0.998686        0.0           0.0  0.019457     0.000003       0.0\n",
      "5   0.624141  0.943263  0.985825  0.999456    0.04135      0.018465  0.005728      0.00005  0.750186\n",
      "6   0.453622  0.936354  0.984838   0.99924   0.046931      0.021692   0.00382     0.000047  0.609195\n",
      "7        0.0       0.0  0.781724  0.998686        0.0           0.0  0.022891     0.000003       0.0\n",
      "8   0.485551  0.893391  0.984607  0.999248    0.02014      0.029526  0.006011     0.000047  0.629131\n",
      "9   0.649954  0.955548  0.985187    0.9995   0.017911      0.009798  0.004624     0.000018  0.773432\n",
      "10       0.0       0.0  0.616725  0.998686        0.0           0.0  0.016432     0.000003       0.0\n",
      "11  0.490096  0.884928  0.983981  0.999244    0.02855      0.033455  0.005147     0.000023  0.629651\n",
      "12   0.38944  0.637506  0.915492  0.999108   0.226144      0.368381  0.079333     0.000246  0.483362\n",
      "13  0.496194  0.912298   0.98607  0.999274   0.025268      0.028633  0.003233     0.000024  0.641996\n",
      "14  0.450545  0.890308   0.95574  0.999204   0.018045      0.041769  0.009905     0.000047  0.598017\n",
      "15  0.488581  0.887223  0.989258  0.999246   0.007588      0.018879   0.00354     0.000015  0.630023\n",
      "16  0.681874  0.918385  0.990775    0.9995   0.034974      0.034724  0.005023     0.000041  0.781513\n",
      "17       0.0       0.0  0.735428  0.998686        0.0           0.0  0.023013     0.000003       0.0\n",
      "18  0.508333   0.89687  0.984354  0.999276   0.029624      0.020746  0.004169     0.000026  0.647996\n",
      "19   0.80971  0.929171  0.993722  0.999668   0.013592      0.027994  0.006253      0.00004  0.865125\n",
      "20  0.613258  0.934997   0.99383  0.999436   0.067465      0.013522   0.00385     0.000085   0.73859\n",
      "21   0.82961   0.94937  0.991118  0.999718   0.055047      0.009383  0.005381     0.000074  0.884579\n",
      "22  0.762445  0.932591  0.994573  0.999616   0.146276       0.01823  0.001014     0.000183  0.830878\n",
      "23  0.840235  0.938088  0.991902  0.999716   0.059631      0.014184  0.004513     0.000062  0.884998\n",
      "24  0.844799  0.925453  0.992234  0.999706   0.057116      0.023007  0.004222     0.000079   0.88224\n",
      "25  0.847829  0.950605  0.992383  0.999742   0.053733      0.024353   0.00435     0.000084  0.895527\n",
      "26  0.852411  0.949083  0.989747  0.999746   0.026348      0.012294  0.003845     0.000044  0.898009\n",
      "27   0.85546  0.946119  0.987942  0.999746   0.025234      0.021943  0.003703     0.000058  0.898462\n",
      "28  0.852365  0.927699  0.987827  0.999718   0.032629      0.024471   0.00209     0.000054  0.888026\n",
      "29  0.825009  0.924896  0.992319  0.999682   0.031774      0.021967  0.003802     0.000062  0.871935\n",
      "30  0.806726  0.939675  0.987411  0.999678   0.026823        0.0193  0.003735     0.000051  0.868005\n",
      "31  0.820464  0.958018   0.99472  0.999716   0.031928      0.023724  0.003457     0.000047  0.883413\n",
      "32  0.864551  0.947661  0.989147   0.99976   0.057545      0.026673  0.004318       0.0001  0.903665\n",
      "33  0.462731   0.80492  0.951067  0.999146   0.017232      0.024737  0.013499      0.00003  0.587337\n",
      "34  0.849326  0.953949  0.994399  0.999748   0.021639      0.017728  0.003312     0.000044  0.898506\n",
      "35   0.83107  0.948216  0.989276  0.999718   0.021113      0.022715  0.000734     0.000047  0.885653\n",
      "36       0.0       0.0  0.312552  0.998686        0.0           0.0  0.031824     0.000003       0.0\n",
      "37  0.817397  0.932186  0.993086  0.999682   0.023599       0.01693  0.002406     0.000049  0.870983\n",
      "38       0.0       0.0       0.5  0.998686        0.0           0.0       0.0     0.000003       0.0\n",
      "39  0.856948  0.953976  0.993098  0.999758   0.032298      0.018359  0.006196     0.000062  0.902753\n",
      "40  0.617969  0.935704  0.983243  0.999442   0.012896      0.016309  0.005139     0.000023  0.744231\n",
      "41       0.0       0.0  0.641889  0.998686        0.0           0.0    0.0061     0.000003       0.0\n",
      "42  0.849418  0.955332  0.990966   0.99975   0.063212      0.023369  0.005225     0.000094  0.898246\n",
      "43  0.599732  0.934993  0.982845  0.999416   0.051495      0.032789  0.003982      0.00004  0.728379\n",
      "44  0.586068  0.941237  0.989957  0.999408   0.034599      0.032457  0.003916     0.000066  0.722019\n",
      "45  0.438378  0.856048   0.97341  0.999164   0.015495      0.037757  0.006177     0.000038  0.579491\n",
      "46  0.888914  0.957237  0.992434  0.999804   0.096317      0.024746  0.001798     0.000149  0.920006\n",
      "47  0.646868  0.925298  0.984296  0.999462   0.046315      0.045146  0.004298     0.000015  0.758826\n",
      "48       0.0       0.0  0.619764  0.998686        0.0           0.0  0.025118     0.000003       0.0\n",
      "49  0.452079  0.914157  0.974011  0.999224      0.018      0.015612  0.008334     0.000023  0.604706\n",
      "50  0.601183  0.963576  0.990623  0.999446    0.03552      0.022517  0.002217     0.000053  0.739846\n",
      "51       0.0       0.0  0.208509  0.998686        0.0           0.0  0.015472     0.000003       0.0\n",
      "52  0.473356  0.907395  0.989872  0.999244   0.017705      0.026446  0.004108     0.000032  0.621885\n",
      "53       0.0       0.0   0.66998  0.998686        0.0           0.0  0.023947     0.000003       0.0\n",
      "54  0.745787   0.92693  0.989872   0.99958   0.048598      0.062046  0.003387      0.00004  0.823286\n",
      "55   0.54041   0.89103  0.989961  0.999312   0.071795      0.037051  0.007491     0.000118  0.671504\n",
      "56  0.829573  0.946278  0.989695  0.999714   0.033954      0.025718  0.005134     0.000067  0.883861\n",
      "57  0.517507  0.892917  0.989675  0.999284   0.014998      0.022177  0.004059     0.000028   0.65505\n",
      "58  0.742858   0.94581  0.986561  0.999602    0.04383      0.053226  0.003618     0.000077  0.830509\n",
      "59  0.817397  0.948206  0.992569  0.999702   0.051008      0.022609  0.003443     0.000087  0.877501\n",
      "60       0.0       0.0  0.497489  0.998686        0.0           0.0  0.015322     0.000003       0.0\n",
      "61  0.713923  0.948903  0.994782  0.999574   0.039133      0.017149  0.002715     0.000066  0.814498\n",
      "62  0.852439  0.948674   0.98886  0.999746   0.049469      0.016953  0.004447      0.00008  0.897537\n",
      "63  0.512897   0.90457  0.990166  0.999288   0.016655       0.02267   0.00399     0.000015  0.654206\n",
      "64  0.724464  0.965091  0.989286  0.999602   0.022592      0.027286  0.004437     0.000015  0.826977\n",
      "65  0.852356   0.95253  0.994759   0.99975   0.021738      0.017886  0.003787     0.000043  0.899546\n",
      "66  0.855386  0.950017  0.993493   0.99975   0.022658      0.025452  0.005911     0.000045  0.899933\n",
      "67  0.859978  0.954322  0.993285  0.999762    0.03308      0.025486  0.005773      0.00007  0.904576\n",
      "68  0.852356  0.957434  0.992728  0.999756   0.029376      0.020461  0.006574     0.000054  0.901622\n",
      "69  0.853917  0.960605  0.994405  0.999762   0.039122       0.01312  0.005082     0.000058  0.903724\n",
      "70  0.841704  0.956899  0.994778  0.999742   0.021562      0.024297  0.004229     0.000054  0.895556\n",
      "71  0.849279  0.951058  0.993693  0.999744   0.035255      0.023729  0.004336     0.000058  0.896855\n",
      "72   0.83714  0.950723  0.995194  0.999728   0.048464       0.03791  0.003483     0.000091  0.889611\n",
      "73  0.855432  0.962349  0.994563  0.999766    0.02316      0.017064  0.004045     0.000046  0.905659\n",
      "74  0.841722  0.945245  0.992408  0.999728   0.027157      0.018594  0.005944     0.000054  0.890385\n",
      "75   0.85389  0.957369  0.992462  0.999758   0.037304      0.019409  0.005127     0.000063  0.902343\n",
      "76       0.0       0.0  0.607269  0.998686        0.0           0.0  0.003365     0.000003       0.0\n",
      "77       0.0       0.0  0.199614  0.998686        0.0           0.0  0.019048     0.000003       0.0\n",
      "78  0.925508  0.952521  0.992698  0.999842   0.050481       0.02534  0.003929     0.000094  0.938544\n",
      "79  0.491639  0.894731  0.988802  0.999256   0.015442      0.016423  0.004503     0.000029  0.634502\n",
      "80  0.878224  0.946099  0.987216  0.999774   0.064835      0.020176  0.004849      0.00009  0.909691\n",
      "81       0.0       0.0  0.749412  0.998686        0.0           0.0  0.004037     0.000003       0.0\n",
      "82  0.764135  0.915142  0.991815  0.999588   0.045975      0.062729  0.001236     0.000053  0.829892\n",
      "83  0.554204  0.857915  0.988797  0.999298   0.136075      0.032185  0.008296     0.000179  0.666462\n",
      "84       0.0       0.0  0.215895  0.998686        0.0           0.0  0.014581     0.000003       0.0\n",
      "85   0.89041  0.947958  0.992184  0.999792   0.030183      0.013041  0.002709     0.000052  0.918149\n",
      "86  0.436863  0.884058  0.963732  0.999184   0.017562      0.043192  0.012397     0.000052  0.584621\n",
      "87  0.733564  0.921729  0.987991  0.999562   0.041149       0.04913  0.003049     0.000007  0.814544\n",
      "88  0.864551  0.937359  0.990421  0.999746   0.035062      0.027517  0.003629     0.000074  0.899304\n",
      "89       0.0       0.0  0.114243  0.998686        0.0           0.0   0.01715     0.000003       0.0\n",
      "90  0.706329  0.960717  0.994199  0.999578   0.099073      0.020007  0.004668     0.000144   0.81128\n",
      "91  0.844678  0.929443  0.992937   0.99971    0.04941      0.037529  0.003305     0.000081  0.884043\n",
      "92  0.369826  0.960957  0.949009   0.99915   0.066762       0.02736  0.021556     0.000077  0.529561\n",
      "93  0.465761  0.859766  0.986316  0.999198   0.014176      0.023904  0.005382     0.000034  0.604134\n",
      "94  0.843246  0.952432  0.995001  0.999738    0.03808      0.023821  0.001866     0.000059  0.893966\n",
      "95       0.0       0.0  0.284557  0.998686        0.0           0.0   0.01998     0.000003       0.0\n",
      "96       0.0       0.0  0.818367  0.998686        0.0           0.0  0.011681     0.000003       0.0\n",
      "97  0.624122  0.924922  0.992222   0.99944   0.036824      0.019257  0.003377     0.000063  0.745008\n",
      "98  0.681864   0.98558  0.988958  0.999568   0.042045      0.014621     0.005     0.000044  0.804978\n",
      "99  0.433795  0.861035  0.975808   0.99916   0.017541      0.060765  0.007615     0.000051  0.575888\n"
     ]
    }
   ],
   "source": [
    "# Obtención de resultados en formato tabla para visualizar scorings y desvios estándar.\n",
    "scorings_df = pd.DataFrame(columns = list(scorings[0]['scorings'].keys()))\n",
    "\n",
    "for scoring in scorings:\n",
    "    scorings_df = scorings_df.append(scoring['scorings'], ignore_index = True)\n",
    "\n",
    "with pd.option_context('display.max_rows', None, 'display.max_columns', None, 'display.width', 1000):  # more options can be specified also\n",
    "    print(scorings_df)"
   ]
  },
  {
   "cell_type": "markdown",
   "id": "7ee85434-8571-453d-9da4-ee379acd203d",
   "metadata": {},
   "source": [
    "Evaluación sobre el conjunto de validación"
   ]
  },
  {
   "cell_type": "code",
   "execution_count": null,
   "id": "edf3db1f-1605-4073-a614-4783421ea790",
   "metadata": {
    "tags": []
   },
   "outputs": [],
   "source": [
    "# Trial ID : 78\n",
    "# Loss : 0.09855398882724825\n",
    "# Best Params : {'activation': 'tanh', 'alpha': 9.22122898937122e-05, 'hidden_layer_1': 3, \n",
    "# 'hidden_layer_2': 6, 'hidden_layer_3': 8, 'samples': 500000, 'scaler': \n",
    "#     RobustScaler(), 'selected_columns': ('day', 'hour', 'idOrig', 'idDest'), 'solver': 'lbfgs'}"
   ]
  },
  {
   "cell_type": "code",
   "execution_count": 8,
   "id": "8ab018cb-7ae3-484e-8da4-6649d9b0e03b",
   "metadata": {
    "tags": []
   },
   "outputs": [
    {
     "name": "stdout",
     "output_type": "stream",
     "text": [
      "Recall: 0.9075\n",
      "Precision: 0.9136\n",
      "AUC: 0.9537\n",
      "Accuracy: 0.9998\n",
      "F1-Score: 0.9105\n"
     ]
    }
   ],
   "source": [
    "# Evaluación con el conjunto de validación.\n",
    "from sklearn.metrics import f1_score, accuracy_score, precision_score, recall_score, roc_auc_score\n",
    "from sklearn.neural_network import MLPClassifier\n",
    "from sklearn.preprocessing import RobustScaler\n",
    "\n",
    "clf = MLPClassifier(activation = 'tanh', alpha = 9.22122898937122e-05, hidden_layer_sizes = (3,6,8,),\n",
    "                    solver = 'lbfgs')\n",
    "\n",
    "X_train = X.drop(labels = ['day', 'hour', 'idOrig', 'idDest'], axis = 1, inplace = False)\n",
    "scaler = RobustScaler()\n",
    "X_train = scaler.fit_transform(X_train)\n",
    "y_train = y\n",
    "\n",
    "X_test = df_validation.drop(labels = ['isFraud', 'isFlaggedFraud', 'day', 'hour', 'idOrig', 'idDest'], \n",
    "                            axis = 1, inplace = False)\n",
    "X_test = scaler.fit_transform(X_test)\n",
    "y_test = df_validation['isFraud']\n",
    "\n",
    "clf.fit(X = X_train, y = y_train)\n",
    "\n",
    "y_pred = clf.predict(X_test)\n",
    "\n",
    "print('Recall: %.4f' % recall_score(y_true = y_test, y_pred = y_pred))\n",
    "print('Precision: %.4f' % precision_score(y_true = y_test, y_pred = y_pred))\n",
    "print('AUC: %.4f' % roc_auc_score(y_true = y_test, y_score = y_pred))\n",
    "print('Accuracy: %.4f' % accuracy_score(y_true = y_test, y_pred = y_pred))\n",
    "print('F1-Score: %.4f' % f1_score(y_true = y_test, y_pred = y_pred))"
   ]
  },
  {
   "cell_type": "markdown",
   "id": "5533ad54-625c-402c-a456-b68f98f92661",
   "metadata": {
    "jp-MarkdownHeadingCollapsed": true,
    "tags": []
   },
   "source": [
    "#### 6.2.5. Random Forest"
   ]
  },
  {
   "cell_type": "markdown",
   "id": "bb560f47-e998-4110-b8c1-565670a96e1b",
   "metadata": {
    "tags": []
   },
   "source": [
    "##### 6.2.4.1. Optimización de parámetros - Hyperopt"
   ]
  },
  {
   "cell_type": "code",
   "execution_count": 9,
   "id": "bb713116-f64c-4bac-8a1d-697c296db3ec",
   "metadata": {
    "collapsed": true,
    "jupyter": {
     "outputs_hidden": true,
     "source_hidden": true
    },
    "tags": []
   },
   "outputs": [
    {
     "name": "stdout",
     "output_type": "stream",
     "text": [
      "Recall: 0.8771\n",
      "Precision: 0.8846\n",
      "AUC: 0.9385\n",
      "Accuracy: 0.9997\n",
      "F1-Score: 0.8808\n"
     ]
    }
   ],
   "source": [
    "# Trial ID : 30\n",
    "# Loss : 0.12165929643760158\n",
    "# Best Params : {'class_weight': None, 'criterion': 'entropy', 'max_depth': 29.0, 'min_samples_leaf': 3, 'min_samples_split': 3, 'splitter': 'best'}\n",
    "from sklearn.tree import DecisionTreeClassifier\n",
    "from sklearn.metrics import f1_score, accuracy_score, precision_score, recall_score, roc_auc_score\n",
    "\n",
    "X_train = X\n",
    "y_train = y\n",
    "X_test = df_validation.drop(labels = ['isFraud', 'isFlaggedFraud'], axis = 1, inplace = False)\n",
    "y_test = df_validation['isFraud']\n",
    "\n",
    "params = {'class_weight': None, 'criterion': 'entropy', 'max_depth': 29.0, 'min_samples_leaf': 3, 'min_samples_split': 3, 'splitter': 'best'}\n",
    "clf = DecisionTreeClassifier(random_state = 42, **params)\n",
    "clf.fit(X = X_train, y = y_train)\n",
    "\n",
    "y_pred = clf.predict(X_test)\n",
    "\n",
    "print('Recall: %.4f' % recall_score(y_true = y_test, y_pred = y_pred))\n",
    "print('Precision: %.4f' % precision_score(y_true = y_test, y_pred = y_pred))\n",
    "print('AUC: %.4f' % roc_auc_score(y_true = y_test, y_score = y_pred))\n",
    "print('Accuracy: %.4f' % accuracy_score(y_true = y_test, y_pred = y_pred))\n",
    "print('F1-Score: %.4f' % f1_score(y_true = y_test, y_pred = y_pred))"
   ]
  },
  {
   "cell_type": "code",
   "execution_count": 8,
   "id": "bd6bd873-7274-4243-a24b-14994710cb01",
   "metadata": {
    "collapsed": true,
    "jupyter": {
     "outputs_hidden": true,
     "source_hidden": true
    },
    "tags": []
   },
   "outputs": [
    {
     "name": "stdout",
     "output_type": "stream",
     "text": [
      "Params: {'class_weight': 'balanced', 'criterion': 'gini', 'max_depth': 39.0, 'max_features': 0.7440026132017896, 'max_samples': 0.20241664046524643, 'min_samples_leaf': 3, 'min_samples_split': 4, 'n_estimators': 82} | Indexes: range(0, 500000) | Loss: 0.2071 | Elapsed_time: 21.9415 seconds\n",
      "Params: {'class_weight': None, 'criterion': 'gini', 'max_depth': 17.0, 'max_features': 0.6076796775425874, 'max_samples': 0.1539425701732605, 'min_samples_leaf': 7, 'min_samples_split': 5, 'n_estimators': 31} | Indexes: range(0, 500000) | Loss: 0.2555 | Elapsed_time: 9.9629 seconds\n",
      "Params: {'class_weight': None, 'criterion': 'gini', 'max_depth': 14.0, 'max_features': 0.6154553071070974, 'max_samples': 0.2414617305057074, 'min_samples_leaf': 5, 'min_samples_split': 2, 'n_estimators': 16} | Indexes: range(0, 500000) | Loss: 0.1990 | Elapsed_time: 8.0081 seconds\n",
      "Params: {'class_weight': 'balanced', 'criterion': 'gini', 'max_depth': 10.0, 'max_features': 0.16652489079296726, 'max_samples': 0.734014014647542, 'min_samples_leaf': 4, 'min_samples_split': 6, 'n_estimators': 41} | Indexes: range(0, 500000) | Loss: 0.6883 | Elapsed_time: 12.1544 seconds\n",
      "Params: {'class_weight': None, 'criterion': 'gini', 'max_depth': 8.0, 'max_features': 0.4043490233458351, 'max_samples': 0.41150673787105185, 'min_samples_leaf': 3, 'min_samples_split': 5, 'n_estimators': 51} | Indexes: range(0, 500000) | Loss: 0.2655 | Elapsed_time: 20.8448 seconds\n",
      "Params: {'class_weight': 'balanced', 'criterion': 'gini', 'max_depth': 4.0, 'max_features': 0.9158867137143105, 'max_samples': 0.7508331319998058, 'min_samples_leaf': 2, 'min_samples_split': 2, 'n_estimators': 76} | Indexes: range(0, 500000) | Loss: 0.8987 | Elapsed_time: 53.3604 seconds\n",
      "Params: {'class_weight': 'balanced', 'criterion': 'entropy', 'max_depth': 4.0, 'max_features': 0.555589732362243, 'max_samples': 0.8824203246567753, 'min_samples_leaf': 4, 'min_samples_split': 7, 'n_estimators': 70} | Indexes: range(0, 500000) | Loss: 0.9566 | Elapsed_time: 41.8266 seconds\n",
      "Params: {'class_weight': None, 'criterion': 'gini', 'max_depth': 16.0, 'max_features': 0.2258291432298244, 'max_samples': 0.40328176532059745, 'min_samples_leaf': 1, 'min_samples_split': 2, 'n_estimators': 7} | Indexes: range(0, 500000) | Loss: 0.1927 | Elapsed_time: 4.4540 seconds\n",
      "Params: {'class_weight': 'balanced', 'criterion': 'gini', 'max_depth': 20.0, 'max_features': 0.9940654231077083, 'max_samples': 0.6161148724757187, 'min_samples_leaf': 3, 'min_samples_split': 3, 'n_estimators': 73} | Indexes: range(0, 500000) | Loss: 0.1829 | Elapsed_time: 60.5576 seconds\n",
      "Params: {'class_weight': 'balanced', 'criterion': 'entropy', 'max_depth': 11.0, 'max_features': 0.6874928023278285, 'max_samples': 0.7337206512155174, 'min_samples_leaf': 2, 'min_samples_split': 2, 'n_estimators': 33} | Indexes: range(0, 500000) | Loss: 0.3197 | Elapsed_time: 24.1991 seconds\n",
      "Params: {'class_weight': None, 'criterion': 'entropy', 'max_depth': 3.0, 'max_features': 0.9560393845943634, 'max_samples': 0.9593024020201817, 'min_samples_leaf': 3, 'min_samples_split': 2, 'n_estimators': 4} | Indexes: range(0, 500000) | Loss: 0.4190 | Elapsed_time: 4.5660 seconds\n",
      "Params: {'class_weight': None, 'criterion': 'entropy', 'max_depth': 12.0, 'max_features': 0.33015163449432927, 'max_samples': 0.37702413900904486, 'min_samples_leaf': 2, 'min_samples_split': 1, 'n_estimators': 78} | Indexes: range(0, 500000) | Loss: nan | Elapsed_time: 1.4908 seconds\n",
      "Params: {'class_weight': None, 'criterion': 'entropy', 'max_depth': 5.0, 'max_features': 0.8279051185197173, 'max_samples': 0.29518270827136683, 'min_samples_leaf': 6, 'min_samples_split': 2, 'n_estimators': 29} | Indexes: range(0, 500000) | Loss: 0.2602 | Elapsed_time: 13.5196 seconds\n",
      "Params: {'class_weight': None, 'criterion': 'gini', 'max_depth': 9.0, 'max_features': 0.7828786647439535, 'max_samples': 0.8938898296283011, 'min_samples_leaf': 6, 'min_samples_split': 2, 'n_estimators': 8} | Indexes: range(0, 500000) | Loss: 0.1925 | Elapsed_time: 12.1607 seconds\n",
      "Params: {'class_weight': None, 'criterion': 'entropy', 'max_depth': 41.0, 'max_features': 0.19921881900274685, 'max_samples': 0.976553151981807, 'min_samples_leaf': 3, 'min_samples_split': 3, 'n_estimators': 24} | Indexes: range(0, 500000) | Loss: 0.2079 | Elapsed_time: 9.9773 seconds\n",
      "Params: {'class_weight': None, 'criterion': 'gini', 'max_depth': 36.0, 'max_features': 0.8715303601455825, 'max_samples': 0.40137408494927285, 'min_samples_leaf': 2, 'min_samples_split': 2, 'n_estimators': 88} | Indexes: range(0, 500000) | Loss: 0.1794 | Elapsed_time: 92.6467 seconds\n",
      "Params: {'class_weight': 'balanced', 'criterion': 'entropy', 'max_depth': 17.0, 'max_features': 0.37939427766427414, 'max_samples': 0.5064631262623855, 'min_samples_leaf': 4, 'min_samples_split': 4, 'n_estimators': 88} | Indexes: range(0, 500000) | Loss: 0.1770 | Elapsed_time: 33.3720 seconds\n",
      "Params: {'class_weight': 'balanced', 'criterion': 'gini', 'max_depth': 8.0, 'max_features': 0.231946516341359, 'max_samples': 0.9788727737459665, 'min_samples_leaf': 6, 'min_samples_split': 4, 'n_estimators': 33} | Indexes: range(0, 500000) | Loss: 0.8756 | Elapsed_time: 13.4715 seconds\n",
      "Params: {'class_weight': None, 'criterion': 'gini', 'max_depth': 7.0, 'max_features': 0.41433858696149384, 'max_samples': 0.4754464193668363, 'min_samples_leaf': 3, 'min_samples_split': 2, 'n_estimators': 25} | Indexes: range(0, 500000) | Loss: 0.3905 | Elapsed_time: 12.0316 seconds\n",
      "Params: {'class_weight': None, 'criterion': 'gini', 'max_depth': 19.0, 'max_features': 0.3343782918687251, 'max_samples': 0.30685221640810306, 'min_samples_leaf': 2, 'min_samples_split': 2, 'n_estimators': 45} | Indexes: range(0, 500000) | Loss: 0.1921 | Elapsed_time: 16.0086 seconds\n",
      "Params: {'class_weight': None, 'criterion': 'entropy', 'max_depth': 10.0, 'max_features': 0.6083596141668368, 'max_samples': 0.3515950060565567, 'min_samples_leaf': 4, 'min_samples_split': 2, 'n_estimators': 100} | Indexes: range(0, 500000) | Loss: 0.1808 | Elapsed_time: 44.2536 seconds\n",
      "Params: {'class_weight': 'balanced', 'criterion': 'entropy', 'max_depth': 29.0, 'max_features': 0.4202409065691829, 'max_samples': 0.5646782983149542, 'min_samples_leaf': 2, 'min_samples_split': 1, 'n_estimators': 98} | Indexes: range(0, 500000) | Loss: nan | Elapsed_time: 1.4743 seconds\n",
      "Params: {'class_weight': 'balanced', 'criterion': 'entropy', 'max_depth': 32.0, 'max_features': 0.4528648194516024, 'max_samples': 0.6046316576100995, 'min_samples_leaf': 2, 'min_samples_split': 1, 'n_estimators': 98} | Indexes: range(0, 500000) | Loss: nan | Elapsed_time: 3.3471 seconds\n",
      "Params: {'class_weight': 'balanced', 'criterion': 'entropy', 'max_depth': 30.0, 'max_features': 0.4420355173661373, 'max_samples': 0.5449536111234407, 'min_samples_leaf': 2, 'min_samples_split': 1, 'n_estimators': 99} | Indexes: range(0, 500000) | Loss: nan | Elapsed_time: 1.6756 seconds\n",
      "Params: {'class_weight': 'balanced', 'criterion': 'entropy', 'max_depth': 31.0, 'max_features': 0.46520649735245445, 'max_samples': 0.5670452314511794, 'min_samples_leaf': 2, 'min_samples_split': 1, 'n_estimators': 99} | Indexes: range(0, 500000) | Loss: nan | Elapsed_time: 3.0618 seconds\n",
      "Params: {'class_weight': 'balanced', 'criterion': 'entropy', 'max_depth': 28.0, 'max_features': 0.44877802869871314, 'max_samples': 0.5618335728687233, 'min_samples_leaf': 2, 'min_samples_split': 1, 'n_estimators': 100} | Indexes: range(0, 500000) | Loss: nan | Elapsed_time: 1.4082 seconds\n",
      "Params: {'class_weight': 'balanced', 'criterion': 'entropy', 'max_depth': 33.0, 'max_features': 0.4669387752601107, 'max_samples': 0.5537571959520974, 'min_samples_leaf': 2, 'min_samples_split': 1, 'n_estimators': 95} | Indexes: range(0, 500000) | Loss: nan | Elapsed_time: 1.3477 seconds\n",
      "Params: {'class_weight': 'balanced', 'criterion': 'entropy', 'max_depth': 30.0, 'max_features': 0.4740332316369516, 'max_samples': 0.5580103643170704, 'min_samples_leaf': 2, 'min_samples_split': 1, 'n_estimators': 94} | Indexes: range(0, 500000) | Loss: nan | Elapsed_time: 1.4316 seconds\n",
      "Params: {'class_weight': 'balanced', 'criterion': 'entropy', 'max_depth': 32.0, 'max_features': 0.40694067226732056, 'max_samples': 0.5648232087995417, 'min_samples_leaf': 2, 'min_samples_split': 1, 'n_estimators': 100} | Indexes: range(0, 500000) | Loss: nan | Elapsed_time: 1.3940 seconds\n",
      "Params: {'class_weight': 'balanced', 'criterion': 'entropy', 'max_depth': 28.0, 'max_features': 0.46623081610439143, 'max_samples': 0.5554767342253951, 'min_samples_leaf': 2, 'min_samples_split': 1, 'n_estimators': 95} | Indexes: range(0, 500000) | Loss: nan | Elapsed_time: 1.4646 seconds\n",
      "Params: {'class_weight': 'balanced', 'criterion': 'entropy', 'max_depth': 27.0, 'max_features': 0.4756847842292955, 'max_samples': 0.5439450100698514, 'min_samples_leaf': 2, 'min_samples_split': 1, 'n_estimators': 92} | Indexes: range(0, 500000) | Loss: nan | Elapsed_time: 1.3342 seconds\n",
      "Params: {'class_weight': 'balanced', 'criterion': 'entropy', 'max_depth': 29.0, 'max_features': 0.4599802249924063, 'max_samples': 0.5632498355071438, 'min_samples_leaf': 2, 'min_samples_split': 4, 'n_estimators': 98} | Indexes: range(0, 500000) | Loss: 0.1686 | Elapsed_time: 46.1682 seconds\n",
      "Params: {'class_weight': 'balanced', 'criterion': 'entropy', 'max_depth': 29.0, 'max_features': 0.4733400624139803, 'max_samples': 0.5860825157655966, 'min_samples_leaf': 4, 'min_samples_split': 4, 'n_estimators': 97} | Indexes: range(0, 500000) | Loss: 0.1784 | Elapsed_time: 46.1624 seconds\n",
      "Params: {'class_weight': 'balanced', 'criterion': 'entropy', 'max_depth': 71.0, 'max_features': 0.3058837811991809, 'max_samples': 0.5335367527688334, 'min_samples_leaf': 2, 'min_samples_split': 4, 'n_estimators': 62} | Indexes: range(0, 500000) | Loss: 0.1791 | Elapsed_time: 22.7464 seconds\n",
      "Params: {'class_weight': 'balanced', 'criterion': 'entropy', 'max_depth': 25.0, 'max_features': 0.11718215427000733, 'max_samples': 0.6507679561957944, 'min_samples_leaf': 1, 'min_samples_split': 4, 'n_estimators': 92} | Indexes: range(0, 500000) | Loss: 0.2255 | Elapsed_time: 23.4431 seconds\n",
      "Params: {'class_weight': 'balanced', 'criterion': 'entropy', 'max_depth': 50.0, 'max_features': 0.4959483193987436, 'max_samples': 0.49706413701518, 'min_samples_leaf': 5, 'min_samples_split': 4, 'n_estimators': 62} | Indexes: range(0, 500000) | Loss: 0.1737 | Elapsed_time: 26.6406 seconds\n",
      "Params: {'class_weight': 'balanced', 'criterion': 'entropy', 'max_depth': 55.0, 'max_features': 0.49093607174005804, 'max_samples': 0.6733059820062725, 'min_samples_leaf': 11, 'min_samples_split': 3, 'n_estimators': 60} | Indexes: range(0, 500000) | Loss: 0.2137 | Elapsed_time: 31.7745 seconds\n",
      "Params: {'class_weight': 'balanced', 'criterion': 'entropy', 'max_depth': 157.0, 'max_features': 0.5173009197565342, 'max_samples': 0.8097779374144112, 'min_samples_leaf': 5, 'min_samples_split': 5, 'n_estimators': 60} | Indexes: range(0, 500000) | Loss: 0.1662 | Elapsed_time: 39.5467 seconds\n",
      "Params: {'class_weight': 'balanced', 'criterion': 'entropy', 'max_depth': 367.0, 'max_features': 0.6712747274705566, 'max_samples': 0.8641931932403002, 'min_samples_leaf': 2, 'min_samples_split': 5, 'n_estimators': 52} | Indexes: range(0, 500000) | Loss: 0.1697 | Elapsed_time: 41.5804 seconds\n",
      "Params: {'class_weight': 'balanced', 'criterion': 'entropy', 'max_depth': 173.0, 'max_features': 0.7086722123822329, 'max_samples': 0.8049146180914666, 'min_samples_leaf': 5, 'min_samples_split': 6, 'n_estimators': 80} | Indexes: range(0, 500000) | Loss: 0.1774 | Elapsed_time: 60.3878 seconds\n",
      "Params: {'class_weight': 'balanced', 'criterion': 'entropy', 'max_depth': 134.0, 'max_features': 0.553329819111874, 'max_samples': 0.10114185479709792, 'min_samples_leaf': 2, 'min_samples_split': 5, 'n_estimators': 84} | Indexes: range(0, 500000) | Loss: 0.2158 | Elapsed_time: 12.8546 seconds\n",
      "Params: {'class_weight': 'balanced', 'criterion': 'entropy', 'max_depth': 138.0, 'max_features': 0.33622699507533294, 'max_samples': 0.8152370769769406, 'min_samples_leaf': 9, 'min_samples_split': 6, 'n_estimators': 68} | Indexes: range(0, 500000) | Loss: 0.2064 | Elapsed_time: 31.7160 seconds\n",
      "Params: {'class_weight': 'balanced', 'criterion': 'entropy', 'max_depth': 250.0, 'max_features': 0.2873229115190003, 'max_samples': 0.680275246746064, 'min_samples_leaf': 7, 'min_samples_split': 5, 'n_estimators': 16} | Indexes: range(0, 500000) | Loss: 0.1970 | Elapsed_time: 7.7874 seconds\n",
      "Params: {'class_weight': 'balanced', 'criterion': 'entropy', 'max_depth': 91.0, 'max_features': 0.7673233965637435, 'max_samples': 0.5742906205338116, 'min_samples_leaf': 1, 'min_samples_split': 3, 'n_estimators': 41} | Indexes: range(0, 500000) | Loss: 0.1759 | Elapsed_time: 27.5443 seconds\n",
      "Params: {'class_weight': 'balanced', 'criterion': 'entropy', 'max_depth': 12.0, 'max_features': 0.440713638056629, 'max_samples': 0.21884208654086118, 'min_samples_leaf': 3, 'min_samples_split': 5, 'n_estimators': 56} | Indexes: range(0, 500000) | Loss: 0.1898 | Elapsed_time: 14.4260 seconds\n",
      "Params: {'class_weight': 'balanced', 'criterion': 'entropy', 'max_depth': 680.0, 'max_features': 0.641567794470365, 'max_samples': 0.7889199737585083, 'min_samples_leaf': 5, 'min_samples_split': 7, 'n_estimators': 96} | Indexes: range(0, 500000) | Loss: 0.1709 | Elapsed_time: 64.3974 seconds\n",
      "Params: {'class_weight': 'balanced', 'criterion': 'entropy', 'max_depth': 307.0, 'max_features': 0.5377063386757167, 'max_samples': 0.15910868942787354, 'min_samples_leaf': 2, 'min_samples_split': 6, 'n_estimators': 44} | Indexes: range(0, 500000) | Loss: 0.1980 | Elapsed_time: 9.1676 seconds\n",
      "Params: {'class_weight': 'balanced', 'criterion': 'entropy', 'max_depth': 25.0, 'max_features': 0.5768664514230482, 'max_samples': 0.9276989272541247, 'min_samples_leaf': 2, 'min_samples_split': 1, 'n_estimators': 80} | Indexes: range(0, 500000) | Loss: nan | Elapsed_time: 1.2628 seconds\n",
      "Params: {'class_weight': 'balanced', 'criterion': 'entropy', 'max_depth': 100.0, 'max_features': 0.11203779975360778, 'max_samples': 0.925808646675669, 'min_samples_leaf': 2, 'min_samples_split': 3, 'n_estimators': 76} | Indexes: range(0, 500000) | Loss: 0.2085 | Elapsed_time: 24.3297 seconds\n",
      "Params: {'class_weight': 'balanced', 'criterion': 'entropy', 'max_depth': 24.0, 'max_features': 0.5585397241007025, 'max_samples': 0.44712791990384826, 'min_samples_leaf': 4, 'min_samples_split': 4, 'n_estimators': 68} | Indexes: range(0, 500000) | Loss: 0.1683 | Elapsed_time: 30.0474 seconds\n",
      "Params: {'class_weight': 'balanced', 'criterion': 'entropy', 'max_depth': 14.0, 'max_features': 0.587951505513258, 'max_samples': 0.2761737525967539, 'min_samples_leaf': 5, 'min_samples_split': 5, 'n_estimators': 66} | Indexes: range(0, 500000) | Loss: 0.1811 | Elapsed_time: 21.2921 seconds\n",
      "Params: {'class_weight': 'balanced', 'criterion': 'entropy', 'max_depth': 6.0, 'max_features': 0.7104773237453299, 'max_samples': 0.46791273240281417, 'min_samples_leaf': 4, 'min_samples_split': 1, 'n_estimators': 49} | Indexes: range(0, 500000) | Loss: nan | Elapsed_time: 1.2694 seconds\n",
      "Params: {'class_weight': 'balanced', 'criterion': 'entropy', 'max_depth': 191.0, 'max_features': 0.7241269279830747, 'max_samples': 0.44087734821950875, 'min_samples_leaf': 4, 'min_samples_split': 8, 'n_estimators': 50} | Indexes: range(0, 500000) | Loss: 0.1670 | Elapsed_time: 27.4197 seconds\n",
      "Params: {'class_weight': 'balanced', 'criterion': 'entropy', 'max_depth': 197.0, 'max_features': 0.8183696737709327, 'max_samples': 0.3553430550825322, 'min_samples_leaf': 4, 'min_samples_split': 9, 'n_estimators': 37} | Indexes: range(0, 500000) | Loss: 0.1727 | Elapsed_time: 18.5575 seconds\n",
      "Params: {'class_weight': 'balanced', 'criterion': 'gini', 'max_depth': 195.0, 'max_features': 0.7139410155427557, 'max_samples': 0.6182172741598305, 'min_samples_leaf': 4, 'min_samples_split': 18, 'n_estimators': 50} | Indexes: range(0, 500000) | Loss: 0.1872 | Elapsed_time: 31.4852 seconds\n",
      "Params: {'class_weight': 'balanced', 'criterion': 'entropy', 'max_depth': 173.0, 'max_features': 0.9077271994752043, 'max_samples': 0.7336837195402232, 'min_samples_leaf': 5, 'min_samples_split': 10, 'n_estimators': 48} | Indexes: range(0, 500000) | Loss: 0.1718 | Elapsed_time: 42.6776 seconds\n",
      "Params: {'class_weight': 'balanced', 'criterion': 'entropy', 'max_depth': 207.0, 'max_features': 0.6661553678203332, 'max_samples': 0.7059892080314658, 'min_samples_leaf': 6, 'min_samples_split': 9, 'n_estimators': 56} | Indexes: range(0, 500000) | Loss: 0.1810 | Elapsed_time: 37.9266 seconds\n",
      "Params: {'class_weight': None, 'criterion': 'gini', 'max_depth': 226.0, 'max_features': 0.7493111577189393, 'max_samples': 0.1670295991237885, 'min_samples_leaf': 7, 'min_samples_split': 12, 'n_estimators': 16} | Indexes: range(0, 500000) | Loss: 0.2164 | Elapsed_time: 7.3073 seconds\n",
      "Params: {'class_weight': 'balanced', 'criterion': 'entropy', 'max_depth': 162.0, 'max_features': 0.9789532453743011, 'max_samples': 0.4303923216004617, 'min_samples_leaf': 4, 'min_samples_split': 7, 'n_estimators': 55} | Indexes: range(0, 500000) | Loss: 0.1648 | Elapsed_time: 35.5141 seconds\n",
      "Params: {'class_weight': None, 'criterion': 'gini', 'max_depth': 148.0, 'max_features': 0.857275833378898, 'max_samples': 0.11065274893210664, 'min_samples_leaf': 3, 'min_samples_split': 7, 'n_estimators': 75} | Indexes: range(0, 500000) | Loss: 0.2311 | Elapsed_time: 26.5172 seconds\n",
      "Params: {'class_weight': 'balanced', 'criterion': 'entropy', 'max_depth': 157.0, 'max_features': 0.9642502525030026, 'max_samples': 0.3455165341631421, 'min_samples_leaf': 5, 'min_samples_split': 8, 'n_estimators': 81} | Indexes: range(0, 500000) | Loss: 0.1721 | Elapsed_time: 44.1730 seconds\n",
      "Params: {'class_weight': 'balanced', 'criterion': 'entropy', 'max_depth': 128.0, 'max_features': 0.9986601700694815, 'max_samples': 0.2617563476811483, 'min_samples_leaf': 6, 'min_samples_split': 1, 'n_estimators': 37} | Indexes: range(0, 500000) | Loss: nan | Elapsed_time: 1.3545 seconds\n",
      "Params: {'class_weight': 'balanced', 'criterion': 'entropy', 'max_depth': 120.0, 'max_features': 0.26237498539546444, 'max_samples': 0.8664796480248796, 'min_samples_leaf': 6, 'min_samples_split': 12, 'n_estimators': 56} | Indexes: range(0, 500000) | Loss: 0.1816 | Elapsed_time: 23.8305 seconds\n",
      "Params: {'class_weight': None, 'criterion': 'gini', 'max_depth': 170.0, 'max_features': 0.38809495059832816, 'max_samples': 0.25768880887116474, 'min_samples_leaf': 3, 'min_samples_split': 1, 'n_estimators': 38} | Indexes: range(0, 500000) | Loss: nan | Elapsed_time: 1.0731 seconds\n",
      "Params: {'class_weight': None, 'criterion': 'gini', 'max_depth': 165.0, 'max_features': 0.3693849496153878, 'max_samples': 0.634176947906068, 'min_samples_leaf': 3, 'min_samples_split': 3, 'n_estimators': 37} | Indexes: range(0, 500000) | Loss: 0.1773 | Elapsed_time: 26.5720 seconds\n",
      "Params: {'class_weight': 'balanced', 'criterion': 'entropy', 'max_depth': 150.0, 'max_features': 0.1637598720501452, 'max_samples': 0.26219575121104455, 'min_samples_leaf': 4, 'min_samples_split': 1, 'n_estimators': 72} | Indexes: range(0, 500000) | Loss: nan | Elapsed_time: 1.2569 seconds\n",
      "Params: {'class_weight': 'balanced', 'criterion': 'entropy', 'max_depth': 5.0, 'max_features': 0.9968464004852123, 'max_samples': 0.5340851608923481, 'min_samples_leaf': 4, 'min_samples_split': 7, 'n_estimators': 27} | Indexes: range(0, 500000) | Loss: 0.9004 | Elapsed_time: 20.1493 seconds\n",
      "Params: {'class_weight': None, 'criterion': 'entropy', 'max_depth': 120.0, 'max_features': 0.7976253101841972, 'max_samples': 0.762785286611388, 'min_samples_leaf': 5, 'min_samples_split': 6, 'n_estimators': 71} | Indexes: range(0, 500000) | Loss: 0.1737 | Elapsed_time: 67.8357 seconds\n",
      "Params: {'class_weight': 'balanced', 'criterion': 'gini', 'max_depth': 153.0, 'max_features': 0.5260414138438589, 'max_samples': 0.9337255728461544, 'min_samples_leaf': 4, 'min_samples_split': 8, 'n_estimators': 17} | Indexes: range(0, 500000) | Loss: 0.1718 | Elapsed_time: 12.0439 seconds\n",
      "Params: {'class_weight': 'balanced', 'criterion': 'entropy', 'max_depth': 6.0, 'max_features': 0.5911859789231639, 'max_samples': 0.25860577113025635, 'min_samples_leaf': 3, 'min_samples_split': 6, 'n_estimators': 64} | Indexes: range(0, 500000) | Loss: 0.8336 | Elapsed_time: 19.1762 seconds\n",
      "Params: {'class_weight': None, 'criterion': 'entropy', 'max_depth': 140.0, 'max_features': 0.42236599687919685, 'max_samples': 0.3887988551164455, 'min_samples_leaf': 7, 'min_samples_split': 3, 'n_estimators': 38} | Indexes: range(0, 500000) | Loss: 0.1976 | Elapsed_time: 13.7350 seconds\n",
      "Params: {'class_weight': 'balanced', 'criterion': 'gini', 'max_depth': 177.0, 'max_features': 0.19740975468454114, 'max_samples': 0.6017157580622606, 'min_samples_leaf': 6, 'min_samples_split': 1, 'n_estimators': 21} | Indexes: range(0, 500000) | Loss: nan | Elapsed_time: 1.2162 seconds\n",
      "Params: {'class_weight': 'balanced', 'criterion': 'gini', 'max_depth': 2.0, 'max_features': 0.19568066761655994, 'max_samples': 0.9973866130675905, 'min_samples_leaf': 6, 'min_samples_split': 1, 'n_estimators': 45} | Indexes: range(0, 500000) | Loss: nan | Elapsed_time: 1.3559 seconds\n",
      "Params: {'class_weight': 'balanced', 'criterion': 'gini', 'max_depth': 181.0, 'max_features': 0.15579703657721755, 'max_samples': 0.47146845716225183, 'min_samples_leaf': 6, 'min_samples_split': 11, 'n_estimators': 21} | Indexes: range(0, 500000) | Loss: 0.1986 | Elapsed_time: 5.5270 seconds\n",
      "Params: {'class_weight': 'balanced', 'criterion': 'entropy', 'max_depth': 2.0, 'max_features': 0.9229199828214882, 'max_samples': 0.5959290936562278, 'min_samples_leaf': 4, 'min_samples_split': 7, 'n_estimators': 59} | Indexes: range(0, 500000) | Loss: 0.9637 | Elapsed_time: 26.9307 seconds\n",
      "Params: {'class_weight': None, 'criterion': 'entropy', 'max_depth': 425.0, 'max_features': 0.8752135836838947, 'max_samples': 0.828711941685653, 'min_samples_leaf': 3, 'min_samples_split': 1, 'n_estimators': 33} | Indexes: range(0, 500000) | Loss: nan | Elapsed_time: 1.0861 seconds\n",
      "Params: {'class_weight': None, 'criterion': 'entropy', 'max_depth': 403.0, 'max_features': 0.3829826487206018, 'max_samples': 0.8254372771411463, 'min_samples_leaf': 3, 'min_samples_split': 4, 'n_estimators': 45} | Indexes: range(0, 500000) | Loss: 0.1762 | Elapsed_time: 27.3692 seconds\n",
      "Params: {'class_weight': 'balanced', 'criterion': 'entropy', 'max_depth': 127.0, 'max_features': 0.6312779715424114, 'max_samples': 0.5142727518712706, 'min_samples_leaf': 5, 'min_samples_split': 5, 'n_estimators': 1} | Indexes: range(0, 500000) | Loss: 0.4099 | Elapsed_time: 1.5729 seconds\n",
      "Params: {'class_weight': 'balanced', 'criterion': 'gini', 'max_depth': 166.0, 'max_features': 0.5147205300245548, 'max_samples': 0.2195414492434593, 'min_samples_leaf': 4, 'min_samples_split': 3, 'n_estimators': 10} | Indexes: range(0, 500000) | Loss: 0.2325 | Elapsed_time: 3.5478 seconds\n",
      "Params: {'class_weight': 'balanced', 'criterion': 'entropy', 'max_depth': 107.0, 'max_features': 0.8596070285423953, 'max_samples': 0.30354124489688455, 'min_samples_leaf': 3, 'min_samples_split': 1, 'n_estimators': 32} | Indexes: range(0, 500000) | Loss: nan | Elapsed_time: 1.5133 seconds\n",
      "Params: {'class_weight': 'balanced', 'criterion': 'entropy', 'max_depth': 7.0, 'max_features': 0.8889611126773335, 'max_samples': 0.4221715909137384, 'min_samples_leaf': 3, 'min_samples_split': 2, 'n_estimators': 31} | Indexes: range(0, 500000) | Loss: 0.7755 | Elapsed_time: 19.5299 seconds\n",
      "Params: {'class_weight': None, 'criterion': 'entropy', 'max_depth': 9.0, 'max_features': 0.2052336807020937, 'max_samples': 0.9954955865929829, 'min_samples_leaf': 5, 'min_samples_split': 5, 'n_estimators': 76} | Indexes: range(0, 500000) | Loss: 0.2599 | Elapsed_time: 29.2105 seconds\n",
      "Params: {'class_weight': 'balanced', 'criterion': 'entropy', 'max_depth': 146.0, 'max_features': 0.9611172764202521, 'max_samples': 0.3263126490346728, 'min_samples_leaf': 4, 'min_samples_split': 9, 'n_estimators': 72} | Indexes: range(0, 500000) | Loss: 0.1721 | Elapsed_time: 36.6413 seconds\n",
      "Params: {'class_weight': 'balanced', 'criterion': 'gini', 'max_depth': 218.0, 'max_features': 0.8479491447640262, 'max_samples': 0.6810223883384335, 'min_samples_leaf': 3, 'min_samples_split': 6, 'n_estimators': 85} | Indexes: range(0, 500000) | Loss: 0.1723 | Elapsed_time: 64.1358 seconds\n",
      "Params: {'class_weight': 'balanced', 'criterion': 'entropy', 'max_depth': 12.0, 'max_features': 0.4611338121525883, 'max_samples': 0.8361784570093618, 'min_samples_leaf': 6, 'min_samples_split': 4, 'n_estimators': 89} | Indexes: range(0, 500000) | Loss: 0.2782 | Elapsed_time: 51.7181 seconds\n",
      "Params: {'class_weight': 'balanced', 'criterion': 'entropy', 'max_depth': 183.0, 'max_features': 0.6949367007401555, 'max_samples': 0.4299934502730642, 'min_samples_leaf': 4, 'min_samples_split': 8, 'n_estimators': 42} | Indexes: range(0, 500000) | Loss: 0.1708 | Elapsed_time: 20.6916 seconds\n",
      "Params: {'class_weight': 'balanced', 'criterion': 'entropy', 'max_depth': 183.0, 'max_features': 0.7194413452967735, 'max_samples': 0.4694248688434986, 'min_samples_leaf': 4, 'min_samples_split': 8, 'n_estimators': 53} | Indexes: range(0, 500000) | Loss: 0.1678 | Elapsed_time: 29.5732 seconds\n",
      "Params: {'class_weight': 'balanced', 'criterion': 'entropy', 'max_depth': 193.0, 'max_features': 0.5732856596779036, 'max_samples': 0.5410523162108598, 'min_samples_leaf': 5, 'min_samples_split': 8, 'n_estimators': 53} | Indexes: range(0, 500000) | Loss: 0.1755 | Elapsed_time: 27.8501 seconds\n",
      "Params: {'class_weight': 'balanced', 'criterion': 'entropy', 'max_depth': 190.0, 'max_features': 0.7485781712030036, 'max_samples': 0.3657418575176474, 'min_samples_leaf': 3, 'min_samples_split': 9, 'n_estimators': 49} | Indexes: range(0, 500000) | Loss: 0.1701 | Elapsed_time: 23.3197 seconds\n",
      "Params: {'class_weight': 'balanced', 'criterion': 'entropy', 'max_depth': 231.0, 'max_features': 0.6597414772447449, 'max_samples': 0.3829419091658053, 'min_samples_leaf': 4, 'min_samples_split': 10, 'n_estimators': 61} | Indexes: range(0, 500000) | Loss: 0.1691 | Elapsed_time: 27.3013 seconds\n",
      "Params: {'class_weight': 'balanced', 'criterion': 'entropy', 'max_depth': 247.0, 'max_features': 0.7950923696176717, 'max_samples': 0.5024708677699753, 'min_samples_leaf': 4, 'min_samples_split': 7, 'n_estimators': 47} | Indexes: range(0, 500000) | Loss: 0.1582 | Elapsed_time: 29.8214 seconds\n",
      "Params: {'class_weight': 'balanced', 'criterion': 'entropy', 'max_depth': 281.0, 'max_features': 0.8261999130681729, 'max_samples': 0.5020752550841132, 'min_samples_leaf': 5, 'min_samples_split': 7, 'n_estimators': 46} | Indexes: range(0, 500000) | Loss: 0.1778 | Elapsed_time: 29.0808 seconds\n",
      "Params: {'class_weight': 'balanced', 'criterion': 'entropy', 'max_depth': 449.0, 'max_features': 0.935701029269033, 'max_samples': 0.31745112467691133, 'min_samples_leaf': 4, 'min_samples_split': 7, 'n_estimators': 58} | Indexes: range(0, 500000) | Loss: 0.1666 | Elapsed_time: 29.2072 seconds\n",
      "Params: {'class_weight': 'balanced', 'criterion': 'entropy', 'max_depth': 319.0, 'max_features': 0.7904873546274197, 'max_samples': 0.600611180814193, 'min_samples_leaf': 3, 'min_samples_split': 7, 'n_estimators': 64} | Indexes: range(0, 500000) | Loss: 0.1652 | Elapsed_time: 44.4285 seconds\n",
      "Params: {'class_weight': 'balanced', 'criterion': 'entropy', 'max_depth': 350.0, 'max_features': 0.8001473576912773, 'max_samples': 0.560983767283164, 'min_samples_leaf': 2, 'min_samples_split': 7, 'n_estimators': 67} | Indexes: range(0, 500000) | Loss: 0.1624 | Elapsed_time: 44.4206 seconds\n",
      "Params: {'class_weight': 'balanced', 'criterion': 'entropy', 'max_depth': 555.0, 'max_features': 0.8887945710950396, 'max_samples': 0.29513437691420324, 'min_samples_leaf': 1, 'min_samples_split': 7, 'n_estimators': 35} | Indexes: range(0, 500000) | Loss: 0.1770 | Elapsed_time: 16.0406 seconds\n",
      "Params: {'class_weight': 'balanced', 'criterion': 'entropy', 'max_depth': 271.0, 'max_features': 0.9758786337022614, 'max_samples': 0.566248895846081, 'min_samples_leaf': 2, 'min_samples_split': 7, 'n_estimators': 78} | Indexes: range(0, 500000) | Loss: 0.1618 | Elapsed_time: 59.9546 seconds\n",
      "Params: {'class_weight': 'balanced', 'criterion': 'entropy', 'max_depth': 345.0, 'max_features': 0.7735328193556475, 'max_samples': 0.5666501934965452, 'min_samples_leaf': 2, 'min_samples_split': 1, 'n_estimators': 95} | Indexes: range(0, 500000) | Loss: nan | Elapsed_time: 1.2193 seconds\n",
      "Params: {'class_weight': 'balanced', 'criterion': 'entropy', 'max_depth': 351.0, 'max_features': 0.9428733254534296, 'max_samples': 0.5740382400454765, 'min_samples_leaf': 2, 'min_samples_split': 7, 'n_estimators': 80} | Indexes: range(0, 500000) | Loss: 0.1631 | Elapsed_time: 62.2189 seconds\n",
      "Params: {'class_weight': 'balanced', 'criterion': 'entropy', 'max_depth': 274.0, 'max_features': 0.8053072216625395, 'max_samples': 0.7012479869819195, 'min_samples_leaf': 2, 'min_samples_split': 7, 'n_estimators': 93} | Indexes: range(0, 500000) | Loss: 0.1581 | Elapsed_time: 72.0113 seconds\n",
      "100%|█████████████████████████████████████████████| 100/100 [39:21<00:00, 23.62s/trial, best loss: 0.15806089471314572]\n",
      "Wall time: 39min 22s\n"
     ]
    }
   ],
   "source": [
    "%%time\n",
    "# Importación de librerías.\n",
    "from sklearn.ensemble import RandomForestClassifier\n",
    "from sklearn.model_selection import StratifiedKFold, cross_validate\n",
    "from hyperopt import fmin, hp, tpe, space_eval, Trials\n",
    "from hyperopt.early_stop import no_progress_loss\n",
    "from math import log\n",
    "\n",
    "# Definición de la función objetivo.\n",
    "def objective_func(hyperparameters):\n",
    "\n",
    "    global i, scorings\n",
    "    start_time = time.time()\n",
    "    i += 1\n",
    "    \n",
    "    hyperparameters['n_estimators'] = int(hyperparameters['n_estimators'])\n",
    "    hyperparameters['min_samples_leaf'] = int(hyperparameters['min_samples_leaf'])\n",
    "    hyperparameters['min_samples_split'] = int(hyperparameters['min_samples_split'])\n",
    "\n",
    "    clf = RandomForestClassifier(n_jobs = -1, random_state = 42, **hyperparameters)\n",
    "    skf = StratifiedKFold(n_splits = 4, shuffle = True, random_state = 42)\n",
    "    cv = cross_validate(estimator = clf, X = X_train, y = y_train, cv = skf, verbose = False, n_jobs = -1, \n",
    "                        scoring = ('precision', 'recall', 'roc_auc', 'accuracy', 'f1'))\n",
    "    \n",
    "    loss = 1 - cv['test_f1'].mean() + cv['test_f1'].std()\n",
    "    \n",
    "    # Almacenamiento de scorings.\n",
    "    scorings.append({'trial': i,\n",
    "                      'params' : clf.get_params(),\n",
    "                      'scorings' : {'Recall': cv['test_recall'].mean(),\n",
    "                                    'Precision': cv['test_precision'].mean(),\n",
    "                                    'AUC': cv['test_roc_auc'].mean(),\n",
    "                                    'Accuracy': cv['test_accuracy'].mean(),\n",
    "                                    'Recall_Std': cv['test_recall'].std(),\n",
    "                                    'Precision_Std': cv['test_precision'].std(),\n",
    "                                    'AUC_Std': cv['test_roc_auc'].std(),\n",
    "                                    'Accuracy_Std': cv['test_accuracy'].std(),\n",
    "                                    'F1-Score': cv['test_f1'].mean()}\n",
    "                         }\n",
    "                        )\n",
    "    \n",
    "    elapsed_time = time.time() - start_time\n",
    "    print('Params: %s | Indexes: %s | Loss: %.4f | Elapsed_time: %.4f seconds' % \n",
    "          (hyperparameters, index, loss, elapsed_time))\n",
    "    return loss\n",
    "\n",
    "# Definición del espacio / dominio de parámetros.\n",
    "\n",
    "search_space = {'n_estimators' : hp.quniform('n_estimators', 1, 100, 1),\n",
    "                'max_depth' : hp.qlognormal('max_depth', log(10), log(2), 1),\n",
    "                'min_samples_leaf' : hp.qlognormal('min_samples_leaf', log(3), log(1.5), 1),\n",
    "                'min_samples_split' : hp.qlognormal('min_samples_split', log(3), log(1.5), 1),\n",
    "                'class_weight' : hp.choice('class_weight', ['balanced', None]),\n",
    "                'criterion' : hp.choice('criterion', ['entropy', 'gini']),\n",
    "                'max_features' : hp.uniform('max_features', 0.1, 1),\n",
    "                'max_samples' : hp.uniform('max_samples', 0.1, 1)\n",
    "               }\n",
    "\n",
    "# Ejecución del iterador.\n",
    "i = -1\n",
    "scorings = []\n",
    "index = range(500000)\n",
    "rstate = np.random.default_rng(42)\n",
    "trials = Trials() # Para el logging de resultados.\n",
    "X_train = X.iloc[index, :]\n",
    "y_train = y.iloc[index]\n",
    "\n",
    "best_params = fmin(fn = objective_func, space = search_space, algo = tpe.suggest, max_evals = 100, trials = trials, early_stop_fn = no_progress_loss(100), rstate = rstate)"
   ]
  },
  {
   "cell_type": "code",
   "execution_count": 10,
   "id": "80db082b-204b-4f93-bc48-7ca06816e017",
   "metadata": {
    "collapsed": true,
    "jupyter": {
     "outputs_hidden": true,
     "source_hidden": true
    },
    "tags": []
   },
   "outputs": [
    {
     "name": "stdout",
     "output_type": "stream",
     "text": [
      "Trial ID : 99\n",
      "Loss : 0.15806089471314572\n",
      "Best Params : {'class_weight': 'balanced', 'criterion': 'entropy', 'max_depth': 274.0, 'max_features': 0.8053072216625395, 'max_samples': 0.7012479869819195, 'min_samples_leaf': 2.0, 'min_samples_split': 7.0, 'n_estimators': 93.0}\n",
      "\n"
     ]
    }
   ],
   "source": [
    "# Impresión de resultados.\n",
    "print('Trial ID :', trials.best_trial['tid'])\n",
    "print('Loss :', trials.best_trial['result']['loss'])\n",
    "print('Best Params :', space_eval(search_space, best_params), end = '\\n\\n')"
   ]
  },
  {
   "cell_type": "code",
   "execution_count": 11,
   "id": "ba2fb84f-bbc5-4f5e-ad40-71b268d75ab1",
   "metadata": {
    "collapsed": true,
    "jupyter": {
     "outputs_hidden": true,
     "source_hidden": true
    },
    "tags": []
   },
   "outputs": [
    {
     "name": "stdout",
     "output_type": "stream",
     "text": [
      "20220226_204616\n"
     ]
    }
   ],
   "source": [
    "# Exportación de resultados a formato JSON.\n",
    "from datetime import datetime\n",
    "import json\n",
    "\n",
    "try:\n",
    "    os.mkdir('HyperOpt Optimizations')\n",
    "except:\n",
    "    None\n",
    "\n",
    "now = datetime.now()\n",
    "dt_string = now.strftime(\"%Y%m%d_%H%M%S\")\n",
    "path = os.getcwd() + '\\\\HyperOpt Optimizations\\\\'\n",
    "filename= 'Opt_' + dt_string + '.json'\n",
    "\n",
    "f = open(path + filename, 'w')\n",
    "json.dump(scorings, f)\n",
    "f.close()\n",
    "\n",
    "print(dt_string)"
   ]
  },
  {
   "cell_type": "code",
   "execution_count": 12,
   "id": "e3dbcd23-6762-4273-97fc-c314eb9c35fb",
   "metadata": {
    "collapsed": true,
    "jupyter": {
     "outputs_hidden": true,
     "source_hidden": true
    },
    "tags": []
   },
   "outputs": [
    {
     "name": "stdout",
     "output_type": "stream",
     "text": [
      "      Recall Precision       AUC  Accuracy Recall_Std Precision_Std   AUC_Std Accuracy_Std  F1-Score\n",
      "0   0.686456  0.972494  0.992508  0.999562   0.017975      0.018173  0.002639     0.000023  0.804541\n",
      "1   0.622561  0.992797  0.988527  0.999498   0.028095      0.004174  0.009424     0.000036  0.764858\n",
      "2   0.691038  0.976534  0.983958  0.999572   0.014742      0.008923  0.016064     0.000014  0.809189\n",
      "3   0.853954  0.244155  0.995472  0.996116   0.035414      0.057304  0.001892      0.00091  0.375857\n",
      "4    0.62099  0.995455  0.990913  0.999498    0.03949      0.007873  0.004475     0.000048  0.763988\n",
      "5   0.942221  0.058029  0.994413  0.979716   0.037058      0.004479  0.002245     0.001615   0.10929\n",
      "6   0.958952  0.026109  0.994422  0.951962   0.031974      0.003923  0.002787     0.006772  0.050809\n",
      "7   0.691001  0.987027  0.966884  0.999582   0.009571      0.004124  0.011406     0.000009  0.812843\n",
      "8    0.73058  0.953059  0.991134  0.999598   0.022703      0.014918  0.003977     0.000015  0.826693\n",
      "9    0.82196  0.663661  0.996558  0.999182   0.026017      0.087257  0.002678     0.000233  0.729817\n",
      "10  0.543635  0.869825  0.991545  0.999286   0.107848      0.047434  0.001433     0.000105  0.660449\n",
      "11       NaN       NaN       NaN       NaN        NaN           NaN       NaN          NaN       NaN\n",
      "12   0.62718  0.988791  0.995067    0.9995   0.039575      0.011543  0.002061     0.000044  0.766526\n",
      "13  0.698633  0.978717  0.989387  0.999584   0.010893      0.007321  0.004171     0.000015   0.81523\n",
      "14   0.67888  0.993323  0.984037  0.999572   0.019259      0.007397   0.01056     0.000028  0.806386\n",
      "15  0.729056  0.967801   0.98702  0.999612   0.016652      0.009641  0.008579     0.000022  0.831494\n",
      "16  0.742766  0.952196  0.995318  0.999612   0.010078        0.0282   0.00412      0.00003  0.834278\n",
      "17  0.922441  0.080566  0.995998  0.985536   0.035686      0.013949  0.001807     0.003084  0.147765\n",
      "18  0.506966       1.0  0.987021  0.999352   0.069752           0.0  0.005839     0.000093  0.670028\n",
      "19  0.694096  0.987286  0.989099  0.999586   0.012338      0.012569  0.006769     0.000014  0.814981\n",
      "20  0.712361  0.987615  0.998664   0.99961   0.016838      0.009067  0.000769     0.000014  0.827489\n",
      "21       NaN       NaN       NaN       NaN        NaN           NaN       NaN          NaN       NaN\n",
      "22       NaN       NaN       NaN       NaN        NaN           NaN       NaN          NaN       NaN\n",
      "23       NaN       NaN       NaN       NaN        NaN           NaN       NaN          NaN       NaN\n",
      "24       NaN       NaN       NaN       NaN        NaN           NaN       NaN          NaN       NaN\n",
      "25       NaN       NaN       NaN       NaN        NaN           NaN       NaN          NaN       NaN\n",
      "26       NaN       NaN       NaN       NaN        NaN           NaN       NaN          NaN       NaN\n",
      "27       NaN       NaN       NaN       NaN        NaN           NaN       NaN          NaN       NaN\n",
      "28       NaN       NaN       NaN       NaN        NaN           NaN       NaN          NaN       NaN\n",
      "29       NaN       NaN       NaN       NaN        NaN           NaN       NaN          NaN       NaN\n",
      "30       NaN       NaN       NaN       NaN        NaN           NaN       NaN          NaN       NaN\n",
      "31  0.722995  0.983737   0.98953   0.99962   0.008734      0.012729  0.002492     0.000004  0.833324\n",
      "32  0.744272  0.954062  0.995516  0.999616   0.011813      0.029287   0.00273     0.000037  0.835981\n",
      "33  0.712343  0.985463  0.985486  0.999608   0.011316      0.010703  0.004674     0.000011  0.826818\n",
      "34  0.649963  0.997664  0.980169  0.999538   0.016622      0.004047  0.008603     0.000024  0.787004\n",
      "35  0.757964  0.942221  0.997013   0.99962   0.016705      0.026239  0.002602     0.000033  0.839799\n",
      "36  0.799076  0.818667   0.99622  0.999502   0.030551      0.028183  0.003826     0.000058  0.808256\n",
      "37  0.773208  0.929711  0.994923  0.999624   0.017487      0.025058  0.003435     0.000026  0.843863\n",
      "38  0.738211  0.974458  0.987455   0.99963    0.01121      0.021972  0.004311     0.000024  0.839851\n",
      "39  0.771674  0.923867  0.996497  0.999614   0.010424      0.042018  0.002141     0.000051  0.840423\n",
      "40   0.65449   0.99314  0.993011   0.99954   0.006586      0.007601  0.002238     0.000009  0.788974\n",
      "41   0.78386  0.849768  0.995816   0.99953   0.026093      0.043693  0.003346     0.000062  0.814506\n",
      "42  0.754933  0.892769   0.98237  0.999556   0.014098      0.039708  0.005809     0.000045  0.817428\n",
      "43   0.71845  0.983701  0.981428  0.999614   0.014476      0.012715  0.004806      0.00001  0.830198\n",
      "44  0.722977  0.958346  0.996171  0.999594   0.007038      0.029137   0.00293     0.000035  0.824047\n",
      "45  0.768644  0.931232  0.995697   0.99962   0.015558      0.029998  0.003975     0.000034  0.841754\n",
      "46  0.695621  0.983183  0.983308  0.999584    0.01866      0.016828  0.003417     0.000025  0.814524\n",
      "47       NaN       NaN       NaN       NaN        NaN           NaN       NaN          NaN       NaN\n",
      "48   0.67585  0.997788  0.987807  0.999572    0.01993      0.003832  0.009238     0.000027  0.805673\n",
      "49  0.744309  0.963156  0.993358  0.999626    0.01524      0.017803  0.004368     0.000017  0.839453\n",
      "50   0.73823   0.95168  0.997664  0.999606   0.012341      0.025145  0.001708     0.000032  0.831271\n",
      "51       NaN       NaN       NaN       NaN        NaN           NaN       NaN          NaN       NaN\n",
      "52  0.748836  0.959743  0.994215  0.999628   0.009571      0.022731  0.006253     0.000022  0.841068\n",
      "53  0.745806   0.94668  0.988082   0.99961   0.008163      0.023204  0.007337      0.00002  0.834098\n",
      "54  0.768662  0.915227  0.995667    0.9996   0.015267      0.044239  0.002616     0.000061  0.835088\n",
      "55  0.779314  0.923692  0.993506  0.999624   0.026576      0.027958   0.00481     0.000041  0.844823\n",
      "56  0.771693  0.909095  0.996492  0.999596   0.015186      0.040222   0.00308     0.000044  0.834137\n",
      "57  0.662112   0.98217  0.976519   0.99954   0.012215      0.010456  0.012475     0.000013   0.79086\n",
      "58  0.753418  0.948572  0.992707  0.999622   0.009291      0.013325  0.003992      0.00001  0.839684\n",
      "59  0.659109  0.977296  0.980728  0.999532   0.023138      0.005096  0.011673     0.000035  0.787092\n",
      "60  0.748854  0.937283  0.997917  0.999604   0.010959      0.006962  0.001664     0.000007  0.832444\n",
      "61       NaN       NaN       NaN       NaN        NaN           NaN       NaN          NaN       NaN\n",
      "62  0.753391  0.931025  0.994061    0.9996    0.02334      0.037616  0.007835     0.000037  0.831997\n",
      "63       NaN       NaN       NaN       NaN        NaN           NaN       NaN          NaN       NaN\n",
      "64  0.715373  0.985543  0.986134  0.999612   0.010851      0.011923  0.008934     0.000012  0.828887\n",
      "65       NaN       NaN       NaN       NaN        NaN           NaN       NaN          NaN       NaN\n",
      "66  0.984812  0.055972   0.99731  0.978044   0.013887       0.00355  0.002373      0.00172  0.105891\n",
      "67  0.729074  0.978242  0.994279  0.999622    0.01947      0.018381  0.004555     0.000015  0.835101\n",
      "68  0.758019  0.944016  0.975203  0.999622   0.018572      0.025035   0.00645      0.00003   0.84049\n",
      "69  0.940669  0.101075  0.997227   0.98881   0.043784      0.009742  0.001915     0.001353  0.182355\n",
      "70  0.686484   0.98703    0.9918  0.999576   0.013202       0.00749  0.003606     0.000013  0.809637\n",
      "71       NaN       NaN       NaN       NaN        NaN           NaN       NaN          NaN       NaN\n",
      "72       NaN       NaN       NaN       NaN        NaN           NaN       NaN          NaN       NaN\n",
      "73  0.726025  0.937089  0.983429  0.999576    0.02157      0.011003  0.007497     0.000035  0.818042\n",
      "74  0.887371  0.019982  0.983502  0.942362   0.028745      0.001435  0.004361     0.004638   0.03908\n",
      "75       NaN       NaN       NaN       NaN        NaN           NaN       NaN          NaN       NaN\n",
      "76  0.719965  0.985561  0.991742  0.999618   0.015024      0.006484  0.006782     0.000015  0.831941\n",
      "77  0.724529  0.537454  0.862102  0.998818   0.040125      0.023144  0.020058     0.000082  0.616844\n",
      "78  0.674279  0.934809  0.958239  0.999508   0.021288      0.038219  0.006891     0.000038  0.782707\n",
      "79       NaN       NaN       NaN       NaN        NaN           NaN       NaN          NaN       NaN\n",
      "80  0.951321  0.146008  0.997096  0.992438   0.020132      0.018746  0.002104     0.001408  0.252511\n",
      "81  0.611927       1.0  0.994089   0.99949    0.02431           0.0  0.002494     0.000033  0.758965\n",
      "82   0.74126  0.951415  0.994946   0.99961   0.012291      0.010481  0.003506      0.00001  0.833155\n",
      "83  0.739727   0.97017  0.995704  0.999628   0.017952      0.008384  0.002535     0.000024  0.839274\n",
      "84  0.829527  0.697084  0.997767  0.999288    0.02401      0.064363  0.001546     0.000131  0.755423\n",
      "85  0.748854  0.954072  0.991129  0.999622   0.013945      0.020706  0.002639     0.000023  0.838864\n",
      "86  0.751885  0.954027  0.994182  0.999626   0.009456      0.017789  0.003383     0.000021  0.840863\n",
      "87  0.765595  0.937981  0.996407  0.999624   0.019586      0.034082  0.003799     0.000046  0.842632\n",
      "88  0.735163  0.964486  0.992659  0.999616   0.010902       0.01507  0.004563      0.00001  0.834182\n",
      "89  0.745824  0.952097  0.995659  0.999616    0.00756      0.021029  0.004042     0.000017  0.836235\n",
      "90  0.759507  0.958568  0.994238   0.99964   0.017588      0.019037  0.002567      0.00001  0.847135\n",
      "91  0.759507  0.927327  0.996471  0.999604    0.00552      0.035248   0.00309     0.000038  0.834681\n",
      "92   0.74126  0.955419  0.996474  0.999614   0.009762      0.017268  0.003147     0.000007  0.834625\n",
      "93  0.739717  0.974439  0.994308  0.999632   0.009238      0.019003  0.005469     0.000015  0.840836\n",
      "94  0.739717  0.982044  0.991241   0.99964    0.00817      0.014101  0.003308     0.000014  0.843738\n",
      "95  0.716925  0.983739   0.98206  0.999612   0.012551      0.016262  0.008479     0.000013  0.829204\n",
      "96  0.742757  0.968446  0.993512   0.99963   0.008303      0.009197  0.004848     0.000003  0.840634\n",
      "97       NaN       NaN       NaN       NaN        NaN           NaN       NaN          NaN       NaN\n",
      "98  0.742757   0.97431  0.990479  0.999636   0.007096      0.014879  0.006468     0.000014  0.842834\n",
      "99   0.74733  0.968788    0.9935  0.999636   0.009295      0.013249  0.004847     0.000004  0.843631\n"
     ]
    }
   ],
   "source": [
    "# Obtención de resultados en formato tabla para visualizar scorings y desvios estándar.\n",
    "scorings_df = pd.DataFrame(columns = list(scorings[0]['scorings'].keys()))\n",
    "\n",
    "for scoring in scorings:\n",
    "    scorings_df = scorings_df.append(scoring['scorings'], ignore_index = True)\n",
    "\n",
    "with pd.option_context('display.max_rows', None, 'display.max_columns', None, 'display.width', 1000):  # more options can be specified also\n",
    "    print(scorings_df)"
   ]
  },
  {
   "cell_type": "markdown",
   "id": "9226d1cf-ffd7-4f91-92bf-44e570e6fdc9",
   "metadata": {},
   "source": [
    "Prueba del modelo sobre el conjunto de validación"
   ]
  },
  {
   "cell_type": "code",
   "execution_count": 9,
   "id": "3436b0c2-c813-48e2-b459-4ee10bf9c5d9",
   "metadata": {
    "collapsed": true,
    "jupyter": {
     "outputs_hidden": true,
     "source_hidden": true
    },
    "tags": []
   },
   "outputs": [
    {
     "data": {
      "text/html": [
       "<div>\n",
       "    <div style=\"width: 24px; height: 24px; background-color: #e1e1e1; border: 3px solid #9D9D9D; border-radius: 5px; position: absolute;\"> </div>\n",
       "    <div style=\"margin-left: 48px;\">\n",
       "        <h3 style=\"margin-bottom: 0px;\">Client</h3>\n",
       "        <p style=\"color: #9D9D9D; margin-bottom: 0px;\">Client-9276de26-988c-11ec-a2dc-001a7dda7115</p>\n",
       "        <table style=\"width: 100%; text-align: left;\">\n",
       "\n",
       "        <tr>\n",
       "        \n",
       "            <td style=\"text-align: left;\"><strong>Connection method:</strong> Direct</td>\n",
       "            <td style=\"text-align: left;\"></td>\n",
       "        \n",
       "        </tr>\n",
       "\n",
       "        \n",
       "            <tr>\n",
       "                <td style=\"text-align: left;\">\n",
       "                    <strong>Dashboard: </strong> <a href=\"http://192.168.0.3:8787/status\" target=\"_blank\">http://192.168.0.3:8787/status</a>\n",
       "                </td>\n",
       "                <td style=\"text-align: left;\"></td>\n",
       "            </tr>\n",
       "        \n",
       "\n",
       "        </table>\n",
       "\n",
       "        \n",
       "            <details>\n",
       "            <summary style=\"margin-bottom: 20px;\"><h3 style=\"display: inline;\">Scheduler Info</h3></summary>\n",
       "            <div style=\"\">\n",
       "    <div>\n",
       "        <div style=\"width: 24px; height: 24px; background-color: #FFF7E5; border: 3px solid #FF6132; border-radius: 5px; position: absolute;\"> </div>\n",
       "        <div style=\"margin-left: 48px;\">\n",
       "            <h3 style=\"margin-bottom: 0px;\">Scheduler</h3>\n",
       "            <p style=\"color: #9D9D9D; margin-bottom: 0px;\">Scheduler-bc472ab1-c906-41d1-bf56-754eb30c75cf</p>\n",
       "            <table style=\"width: 100%; text-align: left;\">\n",
       "                <tr>\n",
       "                    <td style=\"text-align: left;\">\n",
       "                        <strong>Comm:</strong> tcp://192.168.0.3:8786\n",
       "                    </td>\n",
       "                    <td style=\"text-align: left;\">\n",
       "                        <strong>Workers:</strong> 2\n",
       "                    </td>\n",
       "                </tr>\n",
       "                <tr>\n",
       "                    <td style=\"text-align: left;\">\n",
       "                        <strong>Dashboard:</strong> <a href=\"http://192.168.0.3:8787/status\" target=\"_blank\">http://192.168.0.3:8787/status</a>\n",
       "                    </td>\n",
       "                    <td style=\"text-align: left;\">\n",
       "                        <strong>Total threads:</strong> 14\n",
       "                    </td>\n",
       "                </tr>\n",
       "                <tr>\n",
       "                    <td style=\"text-align: left;\">\n",
       "                        <strong>Started:</strong> 7 minutes ago\n",
       "                    </td>\n",
       "                    <td style=\"text-align: left;\">\n",
       "                        <strong>Total memory:</strong> 23.27 GiB\n",
       "                    </td>\n",
       "                </tr>\n",
       "            </table>\n",
       "        </div>\n",
       "    </div>\n",
       "\n",
       "    <details style=\"margin-left: 48px;\">\n",
       "        <summary style=\"margin-bottom: 20px;\">\n",
       "            <h3 style=\"display: inline;\">Workers</h3>\n",
       "        </summary>\n",
       "\n",
       "        \n",
       "        <div style=\"margin-bottom: 20px;\">\n",
       "            <div style=\"width: 24px; height: 24px; background-color: #DBF5FF; border: 3px solid #4CC9FF; border-radius: 5px; position: absolute;\"> </div>\n",
       "            <div style=\"margin-left: 48px;\">\n",
       "            <details>\n",
       "                <summary>\n",
       "                    <h4 style=\"margin-bottom: 0px; display: inline;\">Worker: tcp://192.168.0.3:50770</h4>\n",
       "                </summary>\n",
       "                <table style=\"width: 100%; text-align: left;\">\n",
       "                    <tr>\n",
       "                        <td style=\"text-align: left;\">\n",
       "                            <strong>Comm: </strong> tcp://192.168.0.3:50770\n",
       "                        </td>\n",
       "                        <td style=\"text-align: left;\">\n",
       "                            <strong>Total threads: </strong> 8\n",
       "                        </td>\n",
       "                    </tr>\n",
       "                    <tr>\n",
       "                        <td style=\"text-align: left;\">\n",
       "                            <strong>Dashboard: </strong> <a href=\"http://192.168.0.3:50771/status\" target=\"_blank\">http://192.168.0.3:50771/status</a>\n",
       "                        </td>\n",
       "                        <td style=\"text-align: left;\">\n",
       "                            <strong>Memory: </strong> 15.89 GiB\n",
       "                        </td>\n",
       "                    </tr>\n",
       "                    <tr>\n",
       "                        <td style=\"text-align: left;\">\n",
       "                            <strong>Nanny: </strong> tcp://192.168.0.3:50764\n",
       "                        </td>\n",
       "                        <td style=\"text-align: left;\"></td>\n",
       "                    </tr>\n",
       "                    <tr>\n",
       "                        <td colspan=\"2\" style=\"text-align: left;\">\n",
       "                            <strong>Local directory: </strong> C:\\Users\\aofal\\dask-worker-space\\worker-yhbcx2ly\n",
       "                        </td>\n",
       "                    </tr>\n",
       "\n",
       "                    \n",
       "\n",
       "                    \n",
       "                    <tr>\n",
       "                        <td style=\"text-align: left;\">\n",
       "                            <strong>Tasks executing: </strong> 0\n",
       "                        </td>\n",
       "                        <td style=\"text-align: left;\">\n",
       "                            <strong>Tasks in memory: </strong> 0\n",
       "                        </td>\n",
       "                    </tr>\n",
       "                    <tr>\n",
       "                        <td style=\"text-align: left;\">\n",
       "                            <strong>Tasks ready: </strong> 0\n",
       "                        </td>\n",
       "                        <td style=\"text-align: left;\">\n",
       "                            <strong>Tasks in flight: </strong>0\n",
       "                        </td>\n",
       "                    </tr>\n",
       "                    <tr>\n",
       "                        <td style=\"text-align: left;\">\n",
       "                            <strong>CPU usage:</strong> 0.0%\n",
       "                        </td>\n",
       "                        <td style=\"text-align: left;\">\n",
       "                            <strong>Last seen: </strong> Just now\n",
       "                        </td>\n",
       "                    </tr>\n",
       "                    <tr>\n",
       "                        <td style=\"text-align: left;\">\n",
       "                            <strong>Memory usage: </strong> 160.37 MiB\n",
       "                        </td>\n",
       "                        <td style=\"text-align: left;\">\n",
       "                            <strong>Spilled bytes: </strong> 0 B\n",
       "                        </td>\n",
       "                    </tr>\n",
       "                    <tr>\n",
       "                        <td style=\"text-align: left;\">\n",
       "                            <strong>Read bytes: </strong> 4.32 kiB\n",
       "                        </td>\n",
       "                        <td style=\"text-align: left;\">\n",
       "                            <strong>Write bytes: </strong> 17.22 kiB\n",
       "                        </td>\n",
       "                    </tr>\n",
       "                    \n",
       "\n",
       "                </table>\n",
       "            </details>\n",
       "            </div>\n",
       "        </div>\n",
       "        \n",
       "        <div style=\"margin-bottom: 20px;\">\n",
       "            <div style=\"width: 24px; height: 24px; background-color: #DBF5FF; border: 3px solid #4CC9FF; border-radius: 5px; position: absolute;\"> </div>\n",
       "            <div style=\"margin-left: 48px;\">\n",
       "            <details>\n",
       "                <summary>\n",
       "                    <h4 style=\"margin-bottom: 0px; display: inline;\">Worker: tcp://192.168.0.5:52495</h4>\n",
       "                </summary>\n",
       "                <table style=\"width: 100%; text-align: left;\">\n",
       "                    <tr>\n",
       "                        <td style=\"text-align: left;\">\n",
       "                            <strong>Comm: </strong> tcp://192.168.0.5:52495\n",
       "                        </td>\n",
       "                        <td style=\"text-align: left;\">\n",
       "                            <strong>Total threads: </strong> 6\n",
       "                        </td>\n",
       "                    </tr>\n",
       "                    <tr>\n",
       "                        <td style=\"text-align: left;\">\n",
       "                            <strong>Dashboard: </strong> <a href=\"http://192.168.0.5:52496/status\" target=\"_blank\">http://192.168.0.5:52496/status</a>\n",
       "                        </td>\n",
       "                        <td style=\"text-align: left;\">\n",
       "                            <strong>Memory: </strong> 7.39 GiB\n",
       "                        </td>\n",
       "                    </tr>\n",
       "                    <tr>\n",
       "                        <td style=\"text-align: left;\">\n",
       "                            <strong>Nanny: </strong> tcp://192.168.0.5:52488\n",
       "                        </td>\n",
       "                        <td style=\"text-align: left;\"></td>\n",
       "                    </tr>\n",
       "                    <tr>\n",
       "                        <td colspan=\"2\" style=\"text-align: left;\">\n",
       "                            <strong>Local directory: </strong> C:\\Users\\Alberto\\dask-worker-space\\worker-6by36m7a\n",
       "                        </td>\n",
       "                    </tr>\n",
       "\n",
       "                    \n",
       "\n",
       "                    \n",
       "                    <tr>\n",
       "                        <td style=\"text-align: left;\">\n",
       "                            <strong>Tasks executing: </strong> 0\n",
       "                        </td>\n",
       "                        <td style=\"text-align: left;\">\n",
       "                            <strong>Tasks in memory: </strong> 0\n",
       "                        </td>\n",
       "                    </tr>\n",
       "                    <tr>\n",
       "                        <td style=\"text-align: left;\">\n",
       "                            <strong>Tasks ready: </strong> 0\n",
       "                        </td>\n",
       "                        <td style=\"text-align: left;\">\n",
       "                            <strong>Tasks in flight: </strong>0\n",
       "                        </td>\n",
       "                    </tr>\n",
       "                    <tr>\n",
       "                        <td style=\"text-align: left;\">\n",
       "                            <strong>CPU usage:</strong> 0.0%\n",
       "                        </td>\n",
       "                        <td style=\"text-align: left;\">\n",
       "                            <strong>Last seen: </strong> Just now\n",
       "                        </td>\n",
       "                    </tr>\n",
       "                    <tr>\n",
       "                        <td style=\"text-align: left;\">\n",
       "                            <strong>Memory usage: </strong> 164.94 MiB\n",
       "                        </td>\n",
       "                        <td style=\"text-align: left;\">\n",
       "                            <strong>Spilled bytes: </strong> 0 B\n",
       "                        </td>\n",
       "                    </tr>\n",
       "                    <tr>\n",
       "                        <td style=\"text-align: left;\">\n",
       "                            <strong>Read bytes: </strong> 5.60 kiB\n",
       "                        </td>\n",
       "                        <td style=\"text-align: left;\">\n",
       "                            <strong>Write bytes: </strong> 1.76 kiB\n",
       "                        </td>\n",
       "                    </tr>\n",
       "                    \n",
       "\n",
       "                </table>\n",
       "            </details>\n",
       "            </div>\n",
       "        </div>\n",
       "        \n",
       "\n",
       "    </details>\n",
       "</div>\n",
       "            </details>\n",
       "        \n",
       "\n",
       "    </div>\n",
       "</div>"
      ],
      "text/plain": [
       "<Client: 'tcp://192.168.0.3:8786' processes=2 threads=14, memory=23.27 GiB>"
      ]
     },
     "execution_count": 9,
     "metadata": {},
     "output_type": "execute_result"
    }
   ],
   "source": [
    "from dask.distributed import Client\n",
    "client = Client('tcp://192.168.0.3:8786')\n",
    "client"
   ]
  },
  {
   "cell_type": "code",
   "execution_count": 10,
   "id": "0fd7a3f0-dd3b-424c-b129-feb028a23839",
   "metadata": {
    "collapsed": true,
    "jupyter": {
     "outputs_hidden": true,
     "source_hidden": true
    },
    "tags": []
   },
   "outputs": [
    {
     "name": "stdout",
     "output_type": "stream",
     "text": [
      "Recall: 0.8637\n",
      "Precision: 0.9366\n",
      "AUC: 0.9318\n",
      "Accuracy: 0.9997\n",
      "F1-Score: 0.8987\n"
     ]
    }
   ],
   "source": [
    "# Trial ID : 99\n",
    "# Loss : 0.15806089471314572\n",
    "# Best Params : {'class_weight': 'balanced', 'criterion': 'entropy', 'max_depth': 274.0, 'max_features': 0.8053072216625395, \n",
    "# 'max_samples': 0.7012479869819195, 'min_samples_leaf': 2.0, 'min_samples_split': 7.0, 'n_estimators': 93.0}\n",
    "from sklearn.ensemble import RandomForestClassifier\n",
    "from sklearn.metrics import f1_score, accuracy_score, precision_score, recall_score, roc_auc_score\n",
    "\n",
    "X_train = X\n",
    "y_train = y\n",
    "X_test = df_validation.drop(labels = ['isFraud', 'isFlaggedFraud'], axis = 1, inplace = False)\n",
    "y_test = df_validation['isFraud']\n",
    "\n",
    "params = {'class_weight': 'balanced', 'criterion': 'entropy', 'max_depth': 274, 'max_features': 0.8053072216625395, \n",
    "          'max_samples': 0.7012479869819195, 'min_samples_leaf': 2, 'min_samples_split': 7, 'n_estimators': 93}\n",
    "\n",
    "with joblib.parallel_backend('dask'):\n",
    "    clf = RandomForestClassifier(random_state = 42, **params)\n",
    "    clf.fit(X = X_train, y = y_train)\n",
    "\n",
    "y_pred = clf.predict(X_test)\n",
    "\n",
    "print('Recall: %.4f' % recall_score(y_true = y_test, y_pred = y_pred))\n",
    "print('Precision: %.4f' % precision_score(y_true = y_test, y_pred = y_pred))\n",
    "print('AUC: %.4f' % roc_auc_score(y_true = y_test, y_score = y_pred))\n",
    "print('Accuracy: %.4f' % accuracy_score(y_true = y_test, y_pred = y_pred))\n",
    "print('F1-Score: %.4f' % f1_score(y_true = y_test, y_pred = y_pred))"
   ]
  },
  {
   "cell_type": "code",
   "execution_count": 7,
   "id": "e1c137d6-b1cb-41da-adbb-60b542a4f2fd",
   "metadata": {
    "collapsed": true,
    "jupyter": {
     "outputs_hidden": true,
     "source_hidden": true
    },
    "tags": []
   },
   "outputs": [
    {
     "name": "stdout",
     "output_type": "stream",
     "text": [
      "Params: {'bootstrap': True, 'ccp_alpha': 0.02706411330127785, 'class_weight': 'balanced', 'criterion': 'entropy', 'max_depth': 274, 'max_features': 0.8053072216625395, 'max_samples': 0.7012479869819195, 'min_samples_leaf': 2, 'min_samples_split': 7, 'n_estimators': 93, 'oob_score': False, 'warm_start': True} | Indexes: range(0, 500000) | Loss: 0.9318 | Elapsed_time: 70.2379 seconds\n",
      "Params: {'bootstrap': False, 'ccp_alpha': 0.06825060758115245, 'class_weight': 'balanced', 'criterion': 'entropy', 'max_depth': 274, 'max_features': 0.8053072216625395, 'max_samples': 0.7012479869819195, 'min_samples_leaf': 2, 'min_samples_split': 7, 'n_estimators': 93, 'oob_score': True, 'warm_start': False} | Indexes: range(0, 500000) | Loss: nan | Elapsed_time: 1.9094 seconds\n",
      "Params: {'bootstrap': True, 'ccp_alpha': 0.0, 'class_weight': 'balanced', 'criterion': 'entropy', 'max_depth': 274, 'max_features': 0.8053072216625395, 'max_samples': 0.7012479869819195, 'min_samples_leaf': 2, 'min_samples_split': 7, 'n_estimators': 93, 'oob_score': True, 'warm_start': True} | Indexes: range(0, 500000) | Loss: 0.1581 | Elapsed_time: 76.4536 seconds\n",
      "Params: {'bootstrap': False, 'ccp_alpha': 0.08411283003131988, 'class_weight': 'balanced', 'criterion': 'entropy', 'max_depth': 274, 'max_features': 0.8053072216625395, 'max_samples': 0.7012479869819195, 'min_samples_leaf': 2, 'min_samples_split': 7, 'n_estimators': 93, 'oob_score': True, 'warm_start': False} | Indexes: range(0, 500000) | Loss: nan | Elapsed_time: 0.7111 seconds\n",
      "Params: {'bootstrap': True, 'ccp_alpha': 0.06526386671706982, 'class_weight': 'balanced', 'criterion': 'entropy', 'max_depth': 274, 'max_features': 0.8053072216625395, 'max_samples': 0.7012479869819195, 'min_samples_leaf': 2, 'min_samples_split': 7, 'n_estimators': 93, 'oob_score': False, 'warm_start': True} | Indexes: range(0, 500000) | Loss: 0.9642 | Elapsed_time: 74.2142 seconds\n",
      "Params: {'bootstrap': False, 'ccp_alpha': 0.0, 'class_weight': 'balanced', 'criterion': 'entropy', 'max_depth': 274, 'max_features': 0.8053072216625395, 'max_samples': 0.7012479869819195, 'min_samples_leaf': 2, 'min_samples_split': 7, 'n_estimators': 93, 'oob_score': False, 'warm_start': False} | Indexes: range(0, 500000) | Loss: nan | Elapsed_time: 0.7306 seconds\n",
      "Params: {'bootstrap': True, 'ccp_alpha': 0.11025872985081189, 'class_weight': 'balanced', 'criterion': 'entropy', 'max_depth': 274, 'max_features': 0.8053072216625395, 'max_samples': 0.7012479869819195, 'min_samples_leaf': 2, 'min_samples_split': 7, 'n_estimators': 93, 'oob_score': False, 'warm_start': False} | Indexes: range(0, 500000) | Loss: 0.9639 | Elapsed_time: 73.6582 seconds\n",
      "Params: {'bootstrap': True, 'ccp_alpha': 0.0, 'class_weight': 'balanced', 'criterion': 'entropy', 'max_depth': 274, 'max_features': 0.8053072216625395, 'max_samples': 0.7012479869819195, 'min_samples_leaf': 2, 'min_samples_split': 7, 'n_estimators': 93, 'oob_score': True, 'warm_start': True} | Indexes: range(0, 500000) | Loss: 0.1581 | Elapsed_time: 78.8858 seconds\n",
      "Params: {'bootstrap': True, 'ccp_alpha': 0.0, 'class_weight': 'balanced', 'criterion': 'entropy', 'max_depth': 274, 'max_features': 0.8053072216625395, 'max_samples': 0.7012479869819195, 'min_samples_leaf': 2, 'min_samples_split': 7, 'n_estimators': 93, 'oob_score': False, 'warm_start': True} | Indexes: range(0, 500000) | Loss: 0.1581 | Elapsed_time: 72.7757 seconds\n",
      "Params: {'bootstrap': False, 'ccp_alpha': 0.0, 'class_weight': 'balanced', 'criterion': 'entropy', 'max_depth': 274, 'max_features': 0.8053072216625395, 'max_samples': 0.7012479869819195, 'min_samples_leaf': 2, 'min_samples_split': 7, 'n_estimators': 93, 'oob_score': True, 'warm_start': False} | Indexes: range(0, 500000) | Loss: nan | Elapsed_time: 0.7181 seconds\n",
      "Params: {'bootstrap': False, 'ccp_alpha': 0.0, 'class_weight': 'balanced', 'criterion': 'entropy', 'max_depth': 274, 'max_features': 0.8053072216625395, 'max_samples': 0.7012479869819195, 'min_samples_leaf': 2, 'min_samples_split': 7, 'n_estimators': 93, 'oob_score': True, 'warm_start': True} | Indexes: range(0, 500000) | Loss: nan | Elapsed_time: 0.7403 seconds\n",
      "Params: {'bootstrap': False, 'ccp_alpha': 0.0, 'class_weight': 'balanced', 'criterion': 'entropy', 'max_depth': 274, 'max_features': 0.8053072216625395, 'max_samples': 0.7012479869819195, 'min_samples_leaf': 2, 'min_samples_split': 7, 'n_estimators': 93, 'oob_score': False, 'warm_start': False} | Indexes: range(0, 500000) | Loss: nan | Elapsed_time: 0.6918 seconds\n",
      "Params: {'bootstrap': True, 'ccp_alpha': 0.0, 'class_weight': 'balanced', 'criterion': 'entropy', 'max_depth': 274, 'max_features': 0.8053072216625395, 'max_samples': 0.7012479869819195, 'min_samples_leaf': 2, 'min_samples_split': 7, 'n_estimators': 93, 'oob_score': True, 'warm_start': True} | Indexes: range(0, 500000) | Loss: 0.1581 | Elapsed_time: 77.6806 seconds\n",
      "Params: {'bootstrap': False, 'ccp_alpha': 0.0, 'class_weight': 'balanced', 'criterion': 'entropy', 'max_depth': 274, 'max_features': 0.8053072216625395, 'max_samples': 0.7012479869819195, 'min_samples_leaf': 2, 'min_samples_split': 7, 'n_estimators': 93, 'oob_score': True, 'warm_start': False} | Indexes: range(0, 500000) | Loss: nan | Elapsed_time: 0.8345 seconds\n",
      "Params: {'bootstrap': True, 'ccp_alpha': 0.0, 'class_weight': 'balanced', 'criterion': 'entropy', 'max_depth': 274, 'max_features': 0.8053072216625395, 'max_samples': 0.7012479869819195, 'min_samples_leaf': 2, 'min_samples_split': 7, 'n_estimators': 93, 'oob_score': True, 'warm_start': False} | Indexes: range(0, 500000) | Loss: 0.1581 | Elapsed_time: 76.9491 seconds\n",
      "Params: {'bootstrap': True, 'ccp_alpha': 0.0, 'class_weight': 'balanced', 'criterion': 'entropy', 'max_depth': 274, 'max_features': 0.8053072216625395, 'max_samples': 0.7012479869819195, 'min_samples_leaf': 2, 'min_samples_split': 7, 'n_estimators': 93, 'oob_score': False, 'warm_start': True} | Indexes: range(0, 500000) | Loss: 0.1581 | Elapsed_time: 72.8333 seconds\n",
      "Params: {'bootstrap': True, 'ccp_alpha': 0.04515157999100503, 'class_weight': 'balanced', 'criterion': 'entropy', 'max_depth': 274, 'max_features': 0.8053072216625395, 'max_samples': 0.7012479869819195, 'min_samples_leaf': 2, 'min_samples_split': 7, 'n_estimators': 93, 'oob_score': False, 'warm_start': False} | Indexes: range(0, 500000) | Loss: 0.9498 | Elapsed_time: 71.8640 seconds\n",
      "Params: {'bootstrap': False, 'ccp_alpha': 0.024105401659328216, 'class_weight': 'balanced', 'criterion': 'entropy', 'max_depth': 274, 'max_features': 0.8053072216625395, 'max_samples': 0.7012479869819195, 'min_samples_leaf': 2, 'min_samples_split': 7, 'n_estimators': 93, 'oob_score': True, 'warm_start': False} | Indexes: range(0, 500000) | Loss: nan | Elapsed_time: 0.7188 seconds\n",
      "Params: {'bootstrap': True, 'ccp_alpha': 0.0, 'class_weight': 'balanced', 'criterion': 'entropy', 'max_depth': 274, 'max_features': 0.8053072216625395, 'max_samples': 0.7012479869819195, 'min_samples_leaf': 2, 'min_samples_split': 7, 'n_estimators': 93, 'oob_score': True, 'warm_start': False} | Indexes: range(0, 500000) | Loss: 0.1581 | Elapsed_time: 76.7010 seconds\n",
      "Params: {'bootstrap': False, 'ccp_alpha': 0.0, 'class_weight': 'balanced', 'criterion': 'entropy', 'max_depth': 274, 'max_features': 0.8053072216625395, 'max_samples': 0.7012479869819195, 'min_samples_leaf': 2, 'min_samples_split': 7, 'n_estimators': 93, 'oob_score': True, 'warm_start': True} | Indexes: range(0, 500000) | Loss: nan | Elapsed_time: 0.7189 seconds\n",
      "Params: {'bootstrap': True, 'ccp_alpha': 0.0, 'class_weight': 'balanced', 'criterion': 'entropy', 'max_depth': 274, 'max_features': 0.8053072216625395, 'max_samples': 0.7012479869819195, 'min_samples_leaf': 2, 'min_samples_split': 7, 'n_estimators': 93, 'oob_score': False, 'warm_start': True} | Indexes: range(0, 500000) | Loss: 0.1581 | Elapsed_time: 70.6310 seconds\n",
      "Params: {'bootstrap': True, 'ccp_alpha': 0.0, 'class_weight': 'balanced', 'criterion': 'entropy', 'max_depth': 274, 'max_features': 0.8053072216625395, 'max_samples': 0.7012479869819195, 'min_samples_leaf': 2, 'min_samples_split': 7, 'n_estimators': 93, 'oob_score': False, 'warm_start': True} | Indexes: range(0, 500000) | Loss: 0.1581 | Elapsed_time: 74.0847 seconds\n",
      "Params: {'bootstrap': True, 'ccp_alpha': 0.06092981416345056, 'class_weight': 'balanced', 'criterion': 'entropy', 'max_depth': 274, 'max_features': 0.8053072216625395, 'max_samples': 0.7012479869819195, 'min_samples_leaf': 2, 'min_samples_split': 7, 'n_estimators': 93, 'oob_score': True, 'warm_start': False} | Indexes: range(0, 500000) | Loss: 0.9620 | Elapsed_time: 75.6930 seconds\n",
      "Params: {'bootstrap': True, 'ccp_alpha': 0.07995378889259984, 'class_weight': 'balanced', 'criterion': 'entropy', 'max_depth': 274, 'max_features': 0.8053072216625395, 'max_samples': 0.7012479869819195, 'min_samples_leaf': 2, 'min_samples_split': 7, 'n_estimators': 93, 'oob_score': False, 'warm_start': True} | Indexes: range(0, 500000) | Loss: 0.9638 | Elapsed_time: 73.6145 seconds\n",
      "Params: {'bootstrap': True, 'ccp_alpha': 0.0, 'class_weight': 'balanced', 'criterion': 'entropy', 'max_depth': 274, 'max_features': 0.8053072216625395, 'max_samples': 0.7012479869819195, 'min_samples_leaf': 2, 'min_samples_split': 7, 'n_estimators': 93, 'oob_score': False, 'warm_start': False} | Indexes: range(0, 500000) | Loss: 0.1581 | Elapsed_time: 72.8357 seconds\n",
      "Params: {'bootstrap': False, 'ccp_alpha': 0.038509267327241026, 'class_weight': 'balanced', 'criterion': 'entropy', 'max_depth': 274, 'max_features': 0.8053072216625395, 'max_samples': 0.7012479869819195, 'min_samples_leaf': 2, 'min_samples_split': 7, 'n_estimators': 93, 'oob_score': False, 'warm_start': True} | Indexes: range(0, 500000) | Loss: nan | Elapsed_time: 0.7261 seconds\n",
      "Params: {'bootstrap': True, 'ccp_alpha': 0.10091228808600808, 'class_weight': 'balanced', 'criterion': 'entropy', 'max_depth': 274, 'max_features': 0.8053072216625395, 'max_samples': 0.7012479869819195, 'min_samples_leaf': 2, 'min_samples_split': 7, 'n_estimators': 93, 'oob_score': True, 'warm_start': True} | Indexes: range(0, 500000) | Loss: 0.9638 | Elapsed_time: 77.0322 seconds\n",
      "Params: {'bootstrap': False, 'ccp_alpha': 0.0, 'class_weight': 'balanced', 'criterion': 'entropy', 'max_depth': 274, 'max_features': 0.8053072216625395, 'max_samples': 0.7012479869819195, 'min_samples_leaf': 2, 'min_samples_split': 7, 'n_estimators': 93, 'oob_score': True, 'warm_start': True} | Indexes: range(0, 500000) | Loss: nan | Elapsed_time: 0.7260 seconds\n",
      "Params: {'bootstrap': True, 'ccp_alpha': 0.01816461432975222, 'class_weight': 'balanced', 'criterion': 'entropy', 'max_depth': 274, 'max_features': 0.8053072216625395, 'max_samples': 0.7012479869819195, 'min_samples_leaf': 2, 'min_samples_split': 7, 'n_estimators': 93, 'oob_score': False, 'warm_start': True} | Indexes: range(0, 500000) | Loss: 0.9239 | Elapsed_time: 73.6031 seconds\n",
      "Params: {'bootstrap': False, 'ccp_alpha': 0.01098960111218602, 'class_weight': 'balanced', 'criterion': 'entropy', 'max_depth': 274, 'max_features': 0.8053072216625395, 'max_samples': 0.7012479869819195, 'min_samples_leaf': 2, 'min_samples_split': 7, 'n_estimators': 93, 'oob_score': True, 'warm_start': True} | Indexes: range(0, 500000) | Loss: nan | Elapsed_time: 0.7052 seconds\n",
      "Params: {'bootstrap': True, 'ccp_alpha': 0.0, 'class_weight': 'balanced', 'criterion': 'entropy', 'max_depth': 274, 'max_features': 0.8053072216625395, 'max_samples': 0.7012479869819195, 'min_samples_leaf': 2, 'min_samples_split': 7, 'n_estimators': 93, 'oob_score': False, 'warm_start': False} | Indexes: range(0, 500000) | Loss: 0.1581 | Elapsed_time: 73.5895 seconds\n",
      "Params: {'bootstrap': False, 'ccp_alpha': 0.0, 'class_weight': 'balanced', 'criterion': 'entropy', 'max_depth': 274, 'max_features': 0.8053072216625395, 'max_samples': 0.7012479869819195, 'min_samples_leaf': 2, 'min_samples_split': 7, 'n_estimators': 93, 'oob_score': False, 'warm_start': False} | Indexes: range(0, 500000) | Loss: nan | Elapsed_time: 0.8194 seconds\n",
      "Params: {'bootstrap': True, 'ccp_alpha': 0.0, 'class_weight': 'balanced', 'criterion': 'entropy', 'max_depth': 274, 'max_features': 0.8053072216625395, 'max_samples': 0.7012479869819195, 'min_samples_leaf': 2, 'min_samples_split': 7, 'n_estimators': 93, 'oob_score': False, 'warm_start': False} | Indexes: range(0, 500000) | Loss: 0.1581 | Elapsed_time: 74.1044 seconds\n",
      "Params: {'bootstrap': False, 'ccp_alpha': 0.0, 'class_weight': 'balanced', 'criterion': 'entropy', 'max_depth': 274, 'max_features': 0.8053072216625395, 'max_samples': 0.7012479869819195, 'min_samples_leaf': 2, 'min_samples_split': 7, 'n_estimators': 93, 'oob_score': True, 'warm_start': False} | Indexes: range(0, 500000) | Loss: nan | Elapsed_time: 0.7090 seconds\n",
      "Params: {'bootstrap': False, 'ccp_alpha': 0.0, 'class_weight': 'balanced', 'criterion': 'entropy', 'max_depth': 274, 'max_features': 0.8053072216625395, 'max_samples': 0.7012479869819195, 'min_samples_leaf': 2, 'min_samples_split': 7, 'n_estimators': 93, 'oob_score': True, 'warm_start': False} | Indexes: range(0, 500000) | Loss: nan | Elapsed_time: 0.9201 seconds\n",
      "Params: {'bootstrap': False, 'ccp_alpha': 0.0, 'class_weight': 'balanced', 'criterion': 'entropy', 'max_depth': 274, 'max_features': 0.8053072216625395, 'max_samples': 0.7012479869819195, 'min_samples_leaf': 2, 'min_samples_split': 7, 'n_estimators': 93, 'oob_score': True, 'warm_start': False} | Indexes: range(0, 500000) | Loss: nan | Elapsed_time: 0.6916 seconds\n",
      "Params: {'bootstrap': False, 'ccp_alpha': 0.0, 'class_weight': 'balanced', 'criterion': 'entropy', 'max_depth': 274, 'max_features': 0.8053072216625395, 'max_samples': 0.7012479869819195, 'min_samples_leaf': 2, 'min_samples_split': 7, 'n_estimators': 93, 'oob_score': True, 'warm_start': False} | Indexes: range(0, 500000) | Loss: nan | Elapsed_time: 0.6982 seconds\n",
      "Params: {'bootstrap': False, 'ccp_alpha': 0.0, 'class_weight': 'balanced', 'criterion': 'entropy', 'max_depth': 274, 'max_features': 0.8053072216625395, 'max_samples': 0.7012479869819195, 'min_samples_leaf': 2, 'min_samples_split': 7, 'n_estimators': 93, 'oob_score': True, 'warm_start': False} | Indexes: range(0, 500000) | Loss: nan | Elapsed_time: 0.7240 seconds\n",
      "Params: {'bootstrap': False, 'ccp_alpha': 0.0, 'class_weight': 'balanced', 'criterion': 'entropy', 'max_depth': 274, 'max_features': 0.8053072216625395, 'max_samples': 0.7012479869819195, 'min_samples_leaf': 2, 'min_samples_split': 7, 'n_estimators': 93, 'oob_score': True, 'warm_start': False} | Indexes: range(0, 500000) | Loss: nan | Elapsed_time: 0.7108 seconds\n",
      "Params: {'bootstrap': False, 'ccp_alpha': 0.0, 'class_weight': 'balanced', 'criterion': 'entropy', 'max_depth': 274, 'max_features': 0.8053072216625395, 'max_samples': 0.7012479869819195, 'min_samples_leaf': 2, 'min_samples_split': 7, 'n_estimators': 93, 'oob_score': True, 'warm_start': False} | Indexes: range(0, 500000) | Loss: nan | Elapsed_time: 0.7324 seconds\n",
      "Params: {'bootstrap': False, 'ccp_alpha': 0.0, 'class_weight': 'balanced', 'criterion': 'entropy', 'max_depth': 274, 'max_features': 0.8053072216625395, 'max_samples': 0.7012479869819195, 'min_samples_leaf': 2, 'min_samples_split': 7, 'n_estimators': 93, 'oob_score': True, 'warm_start': False} | Indexes: range(0, 500000) | Loss: nan | Elapsed_time: 0.7094 seconds\n",
      "Params: {'bootstrap': False, 'ccp_alpha': 0.0, 'class_weight': 'balanced', 'criterion': 'entropy', 'max_depth': 274, 'max_features': 0.8053072216625395, 'max_samples': 0.7012479869819195, 'min_samples_leaf': 2, 'min_samples_split': 7, 'n_estimators': 93, 'oob_score': True, 'warm_start': False} | Indexes: range(0, 500000) | Loss: nan | Elapsed_time: 0.9324 seconds\n",
      "Params: {'bootstrap': False, 'ccp_alpha': 0.0, 'class_weight': 'balanced', 'criterion': 'entropy', 'max_depth': 274, 'max_features': 0.8053072216625395, 'max_samples': 0.7012479869819195, 'min_samples_leaf': 2, 'min_samples_split': 7, 'n_estimators': 93, 'oob_score': True, 'warm_start': False} | Indexes: range(0, 500000) | Loss: nan | Elapsed_time: 0.7563 seconds\n",
      "Params: {'bootstrap': False, 'ccp_alpha': 0.0, 'class_weight': 'balanced', 'criterion': 'entropy', 'max_depth': 274, 'max_features': 0.8053072216625395, 'max_samples': 0.7012479869819195, 'min_samples_leaf': 2, 'min_samples_split': 7, 'n_estimators': 93, 'oob_score': True, 'warm_start': False} | Indexes: range(0, 500000) | Loss: nan | Elapsed_time: 0.7063 seconds\n",
      "Params: {'bootstrap': False, 'ccp_alpha': 0.0, 'class_weight': 'balanced', 'criterion': 'entropy', 'max_depth': 274, 'max_features': 0.8053072216625395, 'max_samples': 0.7012479869819195, 'min_samples_leaf': 2, 'min_samples_split': 7, 'n_estimators': 93, 'oob_score': True, 'warm_start': False} | Indexes: range(0, 500000) | Loss: nan | Elapsed_time: 0.7034 seconds\n",
      "Params: {'bootstrap': False, 'ccp_alpha': 0.0, 'class_weight': 'balanced', 'criterion': 'entropy', 'max_depth': 274, 'max_features': 0.8053072216625395, 'max_samples': 0.7012479869819195, 'min_samples_leaf': 2, 'min_samples_split': 7, 'n_estimators': 93, 'oob_score': True, 'warm_start': False} | Indexes: range(0, 500000) | Loss: nan | Elapsed_time: 0.7253 seconds\n",
      "Params: {'bootstrap': False, 'ccp_alpha': 0.0, 'class_weight': 'balanced', 'criterion': 'entropy', 'max_depth': 274, 'max_features': 0.8053072216625395, 'max_samples': 0.7012479869819195, 'min_samples_leaf': 2, 'min_samples_split': 7, 'n_estimators': 93, 'oob_score': True, 'warm_start': False} | Indexes: range(0, 500000) | Loss: nan | Elapsed_time: 0.7186 seconds\n",
      "Params: {'bootstrap': False, 'ccp_alpha': 0.0, 'class_weight': 'balanced', 'criterion': 'entropy', 'max_depth': 274, 'max_features': 0.8053072216625395, 'max_samples': 0.7012479869819195, 'min_samples_leaf': 2, 'min_samples_split': 7, 'n_estimators': 93, 'oob_score': True, 'warm_start': False} | Indexes: range(0, 500000) | Loss: nan | Elapsed_time: 0.7073 seconds\n",
      "Params: {'bootstrap': False, 'ccp_alpha': 0.0, 'class_weight': 'balanced', 'criterion': 'entropy', 'max_depth': 274, 'max_features': 0.8053072216625395, 'max_samples': 0.7012479869819195, 'min_samples_leaf': 2, 'min_samples_split': 7, 'n_estimators': 93, 'oob_score': True, 'warm_start': False} | Indexes: range(0, 500000) | Loss: nan | Elapsed_time: 0.9288 seconds\n",
      "Params: {'bootstrap': False, 'ccp_alpha': 0.0, 'class_weight': 'balanced', 'criterion': 'entropy', 'max_depth': 274, 'max_features': 0.8053072216625395, 'max_samples': 0.7012479869819195, 'min_samples_leaf': 2, 'min_samples_split': 7, 'n_estimators': 93, 'oob_score': True, 'warm_start': False} | Indexes: range(0, 500000) | Loss: nan | Elapsed_time: 0.6847 seconds\n",
      "Params: {'bootstrap': False, 'ccp_alpha': 0.0, 'class_weight': 'balanced', 'criterion': 'entropy', 'max_depth': 274, 'max_features': 0.8053072216625395, 'max_samples': 0.7012479869819195, 'min_samples_leaf': 2, 'min_samples_split': 7, 'n_estimators': 93, 'oob_score': True, 'warm_start': False} | Indexes: range(0, 500000) | Loss: nan | Elapsed_time: 0.7016 seconds\n",
      "Params: {'bootstrap': False, 'ccp_alpha': 0.0, 'class_weight': 'balanced', 'criterion': 'entropy', 'max_depth': 274, 'max_features': 0.8053072216625395, 'max_samples': 0.7012479869819195, 'min_samples_leaf': 2, 'min_samples_split': 7, 'n_estimators': 93, 'oob_score': True, 'warm_start': False} | Indexes: range(0, 500000) | Loss: nan | Elapsed_time: 0.7248 seconds\n",
      "Params: {'bootstrap': False, 'ccp_alpha': 0.0, 'class_weight': 'balanced', 'criterion': 'entropy', 'max_depth': 274, 'max_features': 0.8053072216625395, 'max_samples': 0.7012479869819195, 'min_samples_leaf': 2, 'min_samples_split': 7, 'n_estimators': 93, 'oob_score': True, 'warm_start': False} | Indexes: range(0, 500000) | Loss: nan | Elapsed_time: 0.7125 seconds\n",
      "Params: {'bootstrap': False, 'ccp_alpha': 0.0, 'class_weight': 'balanced', 'criterion': 'entropy', 'max_depth': 274, 'max_features': 0.8053072216625395, 'max_samples': 0.7012479869819195, 'min_samples_leaf': 2, 'min_samples_split': 7, 'n_estimators': 93, 'oob_score': True, 'warm_start': False} | Indexes: range(0, 500000) | Loss: nan | Elapsed_time: 0.7088 seconds\n",
      "Params: {'bootstrap': False, 'ccp_alpha': 0.0, 'class_weight': 'balanced', 'criterion': 'entropy', 'max_depth': 274, 'max_features': 0.8053072216625395, 'max_samples': 0.7012479869819195, 'min_samples_leaf': 2, 'min_samples_split': 7, 'n_estimators': 93, 'oob_score': True, 'warm_start': False} | Indexes: range(0, 500000) | Loss: nan | Elapsed_time: 0.7248 seconds\n",
      "Params: {'bootstrap': False, 'ccp_alpha': 0.0, 'class_weight': 'balanced', 'criterion': 'entropy', 'max_depth': 274, 'max_features': 0.8053072216625395, 'max_samples': 0.7012479869819195, 'min_samples_leaf': 2, 'min_samples_split': 7, 'n_estimators': 93, 'oob_score': True, 'warm_start': False} | Indexes: range(0, 500000) | Loss: nan | Elapsed_time: 0.7166 seconds\n",
      "Params: {'bootstrap': False, 'ccp_alpha': 0.0, 'class_weight': 'balanced', 'criterion': 'entropy', 'max_depth': 274, 'max_features': 0.8053072216625395, 'max_samples': 0.7012479869819195, 'min_samples_leaf': 2, 'min_samples_split': 7, 'n_estimators': 93, 'oob_score': True, 'warm_start': False} | Indexes: range(0, 500000) | Loss: nan | Elapsed_time: 0.7094 seconds\n",
      "Params: {'bootstrap': False, 'ccp_alpha': 0.0, 'class_weight': 'balanced', 'criterion': 'entropy', 'max_depth': 274, 'max_features': 0.8053072216625395, 'max_samples': 0.7012479869819195, 'min_samples_leaf': 2, 'min_samples_split': 7, 'n_estimators': 93, 'oob_score': True, 'warm_start': False} | Indexes: range(0, 500000) | Loss: nan | Elapsed_time: 0.7090 seconds\n",
      "Params: {'bootstrap': False, 'ccp_alpha': 0.0, 'class_weight': 'balanced', 'criterion': 'entropy', 'max_depth': 274, 'max_features': 0.8053072216625395, 'max_samples': 0.7012479869819195, 'min_samples_leaf': 2, 'min_samples_split': 7, 'n_estimators': 93, 'oob_score': True, 'warm_start': False} | Indexes: range(0, 500000) | Loss: nan | Elapsed_time: 0.7091 seconds\n",
      "Params: {'bootstrap': False, 'ccp_alpha': 0.0, 'class_weight': 'balanced', 'criterion': 'entropy', 'max_depth': 274, 'max_features': 0.8053072216625395, 'max_samples': 0.7012479869819195, 'min_samples_leaf': 2, 'min_samples_split': 7, 'n_estimators': 93, 'oob_score': True, 'warm_start': False} | Indexes: range(0, 500000) | Loss: nan | Elapsed_time: 0.7342 seconds\n",
      "Params: {'bootstrap': False, 'ccp_alpha': 0.0, 'class_weight': 'balanced', 'criterion': 'entropy', 'max_depth': 274, 'max_features': 0.8053072216625395, 'max_samples': 0.7012479869819195, 'min_samples_leaf': 2, 'min_samples_split': 7, 'n_estimators': 93, 'oob_score': True, 'warm_start': False} | Indexes: range(0, 500000) | Loss: nan | Elapsed_time: 0.7170 seconds\n",
      "Params: {'bootstrap': False, 'ccp_alpha': 0.0, 'class_weight': 'balanced', 'criterion': 'entropy', 'max_depth': 274, 'max_features': 0.8053072216625395, 'max_samples': 0.7012479869819195, 'min_samples_leaf': 2, 'min_samples_split': 7, 'n_estimators': 93, 'oob_score': True, 'warm_start': False} | Indexes: range(0, 500000) | Loss: nan | Elapsed_time: 0.7120 seconds\n",
      "Params: {'bootstrap': False, 'ccp_alpha': 0.0, 'class_weight': 'balanced', 'criterion': 'entropy', 'max_depth': 274, 'max_features': 0.8053072216625395, 'max_samples': 0.7012479869819195, 'min_samples_leaf': 2, 'min_samples_split': 7, 'n_estimators': 93, 'oob_score': True, 'warm_start': False} | Indexes: range(0, 500000) | Loss: nan | Elapsed_time: 0.7234 seconds\n",
      "Params: {'bootstrap': False, 'ccp_alpha': 0.0, 'class_weight': 'balanced', 'criterion': 'entropy', 'max_depth': 274, 'max_features': 0.8053072216625395, 'max_samples': 0.7012479869819195, 'min_samples_leaf': 2, 'min_samples_split': 7, 'n_estimators': 93, 'oob_score': True, 'warm_start': False} | Indexes: range(0, 500000) | Loss: nan | Elapsed_time: 0.7096 seconds\n",
      "Params: {'bootstrap': False, 'ccp_alpha': 0.0, 'class_weight': 'balanced', 'criterion': 'entropy', 'max_depth': 274, 'max_features': 0.8053072216625395, 'max_samples': 0.7012479869819195, 'min_samples_leaf': 2, 'min_samples_split': 7, 'n_estimators': 93, 'oob_score': True, 'warm_start': False} | Indexes: range(0, 500000) | Loss: nan | Elapsed_time: 0.7169 seconds\n",
      "Params: {'bootstrap': False, 'ccp_alpha': 0.0, 'class_weight': 'balanced', 'criterion': 'entropy', 'max_depth': 274, 'max_features': 0.8053072216625395, 'max_samples': 0.7012479869819195, 'min_samples_leaf': 2, 'min_samples_split': 7, 'n_estimators': 93, 'oob_score': True, 'warm_start': False} | Indexes: range(0, 500000) | Loss: nan | Elapsed_time: 0.7423 seconds\n",
      "Params: {'bootstrap': False, 'ccp_alpha': 0.0, 'class_weight': 'balanced', 'criterion': 'entropy', 'max_depth': 274, 'max_features': 0.8053072216625395, 'max_samples': 0.7012479869819195, 'min_samples_leaf': 2, 'min_samples_split': 7, 'n_estimators': 93, 'oob_score': True, 'warm_start': False} | Indexes: range(0, 500000) | Loss: nan | Elapsed_time: 0.7101 seconds\n",
      "Params: {'bootstrap': False, 'ccp_alpha': 0.0, 'class_weight': 'balanced', 'criterion': 'entropy', 'max_depth': 274, 'max_features': 0.8053072216625395, 'max_samples': 0.7012479869819195, 'min_samples_leaf': 2, 'min_samples_split': 7, 'n_estimators': 93, 'oob_score': True, 'warm_start': False} | Indexes: range(0, 500000) | Loss: nan | Elapsed_time: 0.7165 seconds\n",
      "Params: {'bootstrap': False, 'ccp_alpha': 0.0, 'class_weight': 'balanced', 'criterion': 'entropy', 'max_depth': 274, 'max_features': 0.8053072216625395, 'max_samples': 0.7012479869819195, 'min_samples_leaf': 2, 'min_samples_split': 7, 'n_estimators': 93, 'oob_score': True, 'warm_start': False} | Indexes: range(0, 500000) | Loss: nan | Elapsed_time: 0.7255 seconds\n",
      "Params: {'bootstrap': False, 'ccp_alpha': 0.0, 'class_weight': 'balanced', 'criterion': 'entropy', 'max_depth': 274, 'max_features': 0.8053072216625395, 'max_samples': 0.7012479869819195, 'min_samples_leaf': 2, 'min_samples_split': 7, 'n_estimators': 93, 'oob_score': True, 'warm_start': False} | Indexes: range(0, 500000) | Loss: nan | Elapsed_time: 0.7115 seconds\n",
      "Params: {'bootstrap': False, 'ccp_alpha': 0.0, 'class_weight': 'balanced', 'criterion': 'entropy', 'max_depth': 274, 'max_features': 0.8053072216625395, 'max_samples': 0.7012479869819195, 'min_samples_leaf': 2, 'min_samples_split': 7, 'n_estimators': 93, 'oob_score': True, 'warm_start': False} | Indexes: range(0, 500000) | Loss: nan | Elapsed_time: 0.7262 seconds\n",
      "Params: {'bootstrap': False, 'ccp_alpha': 0.0, 'class_weight': 'balanced', 'criterion': 'entropy', 'max_depth': 274, 'max_features': 0.8053072216625395, 'max_samples': 0.7012479869819195, 'min_samples_leaf': 2, 'min_samples_split': 7, 'n_estimators': 93, 'oob_score': True, 'warm_start': False} | Indexes: range(0, 500000) | Loss: nan | Elapsed_time: 0.7195 seconds\n",
      "Params: {'bootstrap': False, 'ccp_alpha': 0.0, 'class_weight': 'balanced', 'criterion': 'entropy', 'max_depth': 274, 'max_features': 0.8053072216625395, 'max_samples': 0.7012479869819195, 'min_samples_leaf': 2, 'min_samples_split': 7, 'n_estimators': 93, 'oob_score': True, 'warm_start': False} | Indexes: range(0, 500000) | Loss: nan | Elapsed_time: 0.7043 seconds\n",
      "Params: {'bootstrap': False, 'ccp_alpha': 0.0, 'class_weight': 'balanced', 'criterion': 'entropy', 'max_depth': 274, 'max_features': 0.8053072216625395, 'max_samples': 0.7012479869819195, 'min_samples_leaf': 2, 'min_samples_split': 7, 'n_estimators': 93, 'oob_score': True, 'warm_start': False} | Indexes: range(0, 500000) | Loss: nan | Elapsed_time: 0.7024 seconds\n",
      "Params: {'bootstrap': False, 'ccp_alpha': 0.0, 'class_weight': 'balanced', 'criterion': 'entropy', 'max_depth': 274, 'max_features': 0.8053072216625395, 'max_samples': 0.7012479869819195, 'min_samples_leaf': 2, 'min_samples_split': 7, 'n_estimators': 93, 'oob_score': True, 'warm_start': False} | Indexes: range(0, 500000) | Loss: nan | Elapsed_time: 0.9523 seconds\n",
      "Params: {'bootstrap': False, 'ccp_alpha': 0.0, 'class_weight': 'balanced', 'criterion': 'entropy', 'max_depth': 274, 'max_features': 0.8053072216625395, 'max_samples': 0.7012479869819195, 'min_samples_leaf': 2, 'min_samples_split': 7, 'n_estimators': 93, 'oob_score': True, 'warm_start': False} | Indexes: range(0, 500000) | Loss: nan | Elapsed_time: 0.6872 seconds\n",
      "Params: {'bootstrap': False, 'ccp_alpha': 0.0, 'class_weight': 'balanced', 'criterion': 'entropy', 'max_depth': 274, 'max_features': 0.8053072216625395, 'max_samples': 0.7012479869819195, 'min_samples_leaf': 2, 'min_samples_split': 7, 'n_estimators': 93, 'oob_score': True, 'warm_start': False} | Indexes: range(0, 500000) | Loss: nan | Elapsed_time: 0.7153 seconds\n",
      "Params: {'bootstrap': False, 'ccp_alpha': 0.0, 'class_weight': 'balanced', 'criterion': 'entropy', 'max_depth': 274, 'max_features': 0.8053072216625395, 'max_samples': 0.7012479869819195, 'min_samples_leaf': 2, 'min_samples_split': 7, 'n_estimators': 93, 'oob_score': True, 'warm_start': False} | Indexes: range(0, 500000) | Loss: nan | Elapsed_time: 0.7105 seconds\n",
      "Params: {'bootstrap': False, 'ccp_alpha': 0.0, 'class_weight': 'balanced', 'criterion': 'entropy', 'max_depth': 274, 'max_features': 0.8053072216625395, 'max_samples': 0.7012479869819195, 'min_samples_leaf': 2, 'min_samples_split': 7, 'n_estimators': 93, 'oob_score': True, 'warm_start': False} | Indexes: range(0, 500000) | Loss: nan | Elapsed_time: 0.7037 seconds\n",
      "Params: {'bootstrap': False, 'ccp_alpha': 0.0, 'class_weight': 'balanced', 'criterion': 'entropy', 'max_depth': 274, 'max_features': 0.8053072216625395, 'max_samples': 0.7012479869819195, 'min_samples_leaf': 2, 'min_samples_split': 7, 'n_estimators': 93, 'oob_score': True, 'warm_start': False} | Indexes: range(0, 500000) | Loss: nan | Elapsed_time: 0.7298 seconds\n",
      "Params: {'bootstrap': False, 'ccp_alpha': 0.0, 'class_weight': 'balanced', 'criterion': 'entropy', 'max_depth': 274, 'max_features': 0.8053072216625395, 'max_samples': 0.7012479869819195, 'min_samples_leaf': 2, 'min_samples_split': 7, 'n_estimators': 93, 'oob_score': True, 'warm_start': False} | Indexes: range(0, 500000) | Loss: nan | Elapsed_time: 0.7208 seconds\n",
      "Params: {'bootstrap': False, 'ccp_alpha': 0.0, 'class_weight': 'balanced', 'criterion': 'entropy', 'max_depth': 274, 'max_features': 0.8053072216625395, 'max_samples': 0.7012479869819195, 'min_samples_leaf': 2, 'min_samples_split': 7, 'n_estimators': 93, 'oob_score': True, 'warm_start': False} | Indexes: range(0, 500000) | Loss: nan | Elapsed_time: 0.7077 seconds\n",
      "Params: {'bootstrap': False, 'ccp_alpha': 0.0, 'class_weight': 'balanced', 'criterion': 'entropy', 'max_depth': 274, 'max_features': 0.8053072216625395, 'max_samples': 0.7012479869819195, 'min_samples_leaf': 2, 'min_samples_split': 7, 'n_estimators': 93, 'oob_score': True, 'warm_start': False} | Indexes: range(0, 500000) | Loss: nan | Elapsed_time: 0.7126 seconds\n",
      "Params: {'bootstrap': False, 'ccp_alpha': 0.0, 'class_weight': 'balanced', 'criterion': 'entropy', 'max_depth': 274, 'max_features': 0.8053072216625395, 'max_samples': 0.7012479869819195, 'min_samples_leaf': 2, 'min_samples_split': 7, 'n_estimators': 93, 'oob_score': True, 'warm_start': False} | Indexes: range(0, 500000) | Loss: nan | Elapsed_time: 0.8404 seconds\n",
      "Params: {'bootstrap': False, 'ccp_alpha': 0.0, 'class_weight': 'balanced', 'criterion': 'entropy', 'max_depth': 274, 'max_features': 0.8053072216625395, 'max_samples': 0.7012479869819195, 'min_samples_leaf': 2, 'min_samples_split': 7, 'n_estimators': 93, 'oob_score': True, 'warm_start': False} | Indexes: range(0, 500000) | Loss: nan | Elapsed_time: 0.6963 seconds\n",
      "Params: {'bootstrap': False, 'ccp_alpha': 0.0, 'class_weight': 'balanced', 'criterion': 'entropy', 'max_depth': 274, 'max_features': 0.8053072216625395, 'max_samples': 0.7012479869819195, 'min_samples_leaf': 2, 'min_samples_split': 7, 'n_estimators': 93, 'oob_score': True, 'warm_start': False} | Indexes: range(0, 500000) | Loss: nan | Elapsed_time: 0.7007 seconds\n",
      "Params: {'bootstrap': False, 'ccp_alpha': 0.0, 'class_weight': 'balanced', 'criterion': 'entropy', 'max_depth': 274, 'max_features': 0.8053072216625395, 'max_samples': 0.7012479869819195, 'min_samples_leaf': 2, 'min_samples_split': 7, 'n_estimators': 93, 'oob_score': True, 'warm_start': False} | Indexes: range(0, 500000) | Loss: nan | Elapsed_time: 0.7011 seconds\n",
      "Params: {'bootstrap': False, 'ccp_alpha': 0.0, 'class_weight': 'balanced', 'criterion': 'entropy', 'max_depth': 274, 'max_features': 0.8053072216625395, 'max_samples': 0.7012479869819195, 'min_samples_leaf': 2, 'min_samples_split': 7, 'n_estimators': 93, 'oob_score': True, 'warm_start': False} | Indexes: range(0, 500000) | Loss: nan | Elapsed_time: 0.7030 seconds\n",
      "Params: {'bootstrap': False, 'ccp_alpha': 0.0, 'class_weight': 'balanced', 'criterion': 'entropy', 'max_depth': 274, 'max_features': 0.8053072216625395, 'max_samples': 0.7012479869819195, 'min_samples_leaf': 2, 'min_samples_split': 7, 'n_estimators': 93, 'oob_score': True, 'warm_start': False} | Indexes: range(0, 500000) | Loss: nan | Elapsed_time: 0.7012 seconds\n",
      "Params: {'bootstrap': False, 'ccp_alpha': 0.0, 'class_weight': 'balanced', 'criterion': 'entropy', 'max_depth': 274, 'max_features': 0.8053072216625395, 'max_samples': 0.7012479869819195, 'min_samples_leaf': 2, 'min_samples_split': 7, 'n_estimators': 93, 'oob_score': True, 'warm_start': False} | Indexes: range(0, 500000) | Loss: nan | Elapsed_time: 0.7174 seconds\n",
      "Params: {'bootstrap': False, 'ccp_alpha': 0.0, 'class_weight': 'balanced', 'criterion': 'entropy', 'max_depth': 274, 'max_features': 0.8053072216625395, 'max_samples': 0.7012479869819195, 'min_samples_leaf': 2, 'min_samples_split': 7, 'n_estimators': 93, 'oob_score': True, 'warm_start': False} | Indexes: range(0, 500000) | Loss: nan | Elapsed_time: 0.7004 seconds\n",
      "Params: {'bootstrap': False, 'ccp_alpha': 0.0, 'class_weight': 'balanced', 'criterion': 'entropy', 'max_depth': 274, 'max_features': 0.8053072216625395, 'max_samples': 0.7012479869819195, 'min_samples_leaf': 2, 'min_samples_split': 7, 'n_estimators': 93, 'oob_score': True, 'warm_start': False} | Indexes: range(0, 500000) | Loss: nan | Elapsed_time: 0.7346 seconds\n",
      "Params: {'bootstrap': False, 'ccp_alpha': 0.0, 'class_weight': 'balanced', 'criterion': 'entropy', 'max_depth': 274, 'max_features': 0.8053072216625395, 'max_samples': 0.7012479869819195, 'min_samples_leaf': 2, 'min_samples_split': 7, 'n_estimators': 93, 'oob_score': True, 'warm_start': False} | Indexes: range(0, 500000) | Loss: nan | Elapsed_time: 0.8281 seconds\n",
      "Params: {'bootstrap': False, 'ccp_alpha': 0.0, 'class_weight': 'balanced', 'criterion': 'entropy', 'max_depth': 274, 'max_features': 0.8053072216625395, 'max_samples': 0.7012479869819195, 'min_samples_leaf': 2, 'min_samples_split': 7, 'n_estimators': 93, 'oob_score': True, 'warm_start': False} | Indexes: range(0, 500000) | Loss: nan | Elapsed_time: 0.7239 seconds\n",
      "Params: {'bootstrap': False, 'ccp_alpha': 0.0, 'class_weight': 'balanced', 'criterion': 'entropy', 'max_depth': 274, 'max_features': 0.8053072216625395, 'max_samples': 0.7012479869819195, 'min_samples_leaf': 2, 'min_samples_split': 7, 'n_estimators': 93, 'oob_score': True, 'warm_start': False} | Indexes: range(0, 500000) | Loss: nan | Elapsed_time: 0.7200 seconds\n",
      "Params: {'bootstrap': False, 'ccp_alpha': 0.0, 'class_weight': 'balanced', 'criterion': 'entropy', 'max_depth': 274, 'max_features': 0.8053072216625395, 'max_samples': 0.7012479869819195, 'min_samples_leaf': 2, 'min_samples_split': 7, 'n_estimators': 93, 'oob_score': True, 'warm_start': False} | Indexes: range(0, 500000) | Loss: nan | Elapsed_time: 0.7171 seconds\n",
      "Params: {'bootstrap': False, 'ccp_alpha': 0.0, 'class_weight': 'balanced', 'criterion': 'entropy', 'max_depth': 274, 'max_features': 0.8053072216625395, 'max_samples': 0.7012479869819195, 'min_samples_leaf': 2, 'min_samples_split': 7, 'n_estimators': 93, 'oob_score': True, 'warm_start': False} | Indexes: range(0, 500000) | Loss: nan | Elapsed_time: 0.7135 seconds\n",
      "Params: {'bootstrap': False, 'ccp_alpha': 0.0, 'class_weight': 'balanced', 'criterion': 'entropy', 'max_depth': 274, 'max_features': 0.8053072216625395, 'max_samples': 0.7012479869819195, 'min_samples_leaf': 2, 'min_samples_split': 7, 'n_estimators': 93, 'oob_score': True, 'warm_start': False} | Indexes: range(0, 500000) | Loss: nan | Elapsed_time: 0.7317 seconds\n",
      "Params: {'bootstrap': False, 'ccp_alpha': 0.0, 'class_weight': 'balanced', 'criterion': 'entropy', 'max_depth': 274, 'max_features': 0.8053072216625395, 'max_samples': 0.7012479869819195, 'min_samples_leaf': 2, 'min_samples_split': 7, 'n_estimators': 93, 'oob_score': True, 'warm_start': False} | Indexes: range(0, 500000) | Loss: nan | Elapsed_time: 0.7102 seconds\n",
      "Params: {'bootstrap': False, 'ccp_alpha': 0.0, 'class_weight': 'balanced', 'criterion': 'entropy', 'max_depth': 274, 'max_features': 0.8053072216625395, 'max_samples': 0.7012479869819195, 'min_samples_leaf': 2, 'min_samples_split': 7, 'n_estimators': 93, 'oob_score': True, 'warm_start': False} | Indexes: range(0, 500000) | Loss: nan | Elapsed_time: 0.6874 seconds\n",
      "100%|█████████████████████████████████████████████| 100/100 [25:48<00:00, 15.48s/trial, best loss: 0.15806089471314572]\n",
      "Wall time: 25min 49s\n"
     ]
    }
   ],
   "source": [
    "%%time\n",
    "# Importación de librerías.\n",
    "from sklearn.ensemble import RandomForestClassifier\n",
    "from sklearn.model_selection import StratifiedKFold, cross_validate\n",
    "from hyperopt import fmin, hp, tpe, space_eval, Trials\n",
    "from hyperopt.early_stop import no_progress_loss\n",
    "from math import log\n",
    "\n",
    "# Definición de la función objetivo.\n",
    "def objective_func(hyperparameters):\n",
    "\n",
    "    global i, scorings\n",
    "    start_time = time.time()\n",
    "    i += 1\n",
    "    \n",
    "    hyperparameters['n_estimators'] = int(hyperparameters['n_estimators'])\n",
    "    hyperparameters['min_samples_leaf'] = int(hyperparameters['min_samples_leaf'])\n",
    "    hyperparameters['min_samples_split'] = int(hyperparameters['min_samples_split'])\n",
    "    \n",
    "    if hyperparameters['ccp_alpha'] < 0:\n",
    "        hyperparameters['ccp_alpha'] = 0.0\n",
    "\n",
    "    clf = RandomForestClassifier(n_jobs = -1, random_state = 42, **hyperparameters)\n",
    "    skf = StratifiedKFold(n_splits = 4, shuffle = True, random_state = 42)\n",
    "    cv = cross_validate(estimator = clf, X = X_train, y = y_train, cv = skf, verbose = False, n_jobs = -1, \n",
    "                        scoring = ('precision', 'recall', 'roc_auc', 'accuracy', 'f1'))\n",
    "    \n",
    "    loss = 1 - cv['test_f1'].mean() + cv['test_f1'].std()\n",
    "    \n",
    "    # Almacenamiento de scorings.\n",
    "    scorings.append({'trial': i,\n",
    "                      'params' : clf.get_params(),\n",
    "                      'scorings' : {'Recall': cv['test_recall'].mean(),\n",
    "                                    'Precision': cv['test_precision'].mean(),\n",
    "                                    'AUC': cv['test_roc_auc'].mean(),\n",
    "                                    'Accuracy': cv['test_accuracy'].mean(),\n",
    "                                    'Recall_Std': cv['test_recall'].std(),\n",
    "                                    'Precision_Std': cv['test_precision'].std(),\n",
    "                                    'AUC_Std': cv['test_roc_auc'].std(),\n",
    "                                    'Accuracy_Std': cv['test_accuracy'].std(),\n",
    "                                    'F1-Score': cv['test_f1'].mean()}\n",
    "                         }\n",
    "                        )\n",
    "    \n",
    "    elapsed_time = time.time() - start_time\n",
    "    print('Params: %s | Indexes: %s | Loss: %.4f | Elapsed_time: %.4f seconds' % \n",
    "          (hyperparameters, index, loss, elapsed_time))\n",
    "    return loss\n",
    "\n",
    "# Definición del espacio / dominio de parámetros.\n",
    "search_space = {'n_estimators' : hp.choice('n_estimators', [93]),\n",
    "                'max_depth' : hp.choice('max_depth', [274]),\n",
    "                'min_samples_leaf' : hp.choice('min_samples_leaf', [2]),\n",
    "                'min_samples_split' : hp.choice('min_samples_split', [7]),\n",
    "                'class_weight' : hp.choice('class_weight', ['balanced']),\n",
    "                'criterion' : hp.choice('criterion', ['entropy']),\n",
    "                'max_features' : hp.choice('max_features', [0.8053072216625395]),\n",
    "                'max_samples' : hp.choice('max_samples', [0.7012479869819195]),\n",
    "                'bootstrap' : hp.choice('bootstrap', [True, False]),\n",
    "                'oob_score' : hp.choice('oob_score', [True, False]),\n",
    "                'warm_start': hp.choice('warm_start', [True, False]),\n",
    "                'ccp_alpha' : hp.normal('ccp_alpha', 0.0, 0.05)\n",
    "               }\n",
    "\n",
    "# Ejecución del iterador.\n",
    "i = -1\n",
    "scorings = []\n",
    "index = range(500000)\n",
    "rstate = np.random.default_rng(42)\n",
    "trials = Trials() # Para el logging de resultados.\n",
    "X_train = X.iloc[index, :]\n",
    "y_train = y.iloc[index]\n",
    "\n",
    "best_params = fmin(fn = objective_func, space = search_space, algo = tpe.suggest, max_evals = 100, trials = trials, early_stop_fn = no_progress_loss(100), rstate = rstate)"
   ]
  },
  {
   "cell_type": "markdown",
   "id": "3611d856-d9b4-409a-ab05-ca9d0d7df2d7",
   "metadata": {
    "jp-MarkdownHeadingCollapsed": true,
    "tags": []
   },
   "source": [
    "#### 6.2.6. Bagging Neural Networks"
   ]
  },
  {
   "cell_type": "markdown",
   "id": "673b0ff1-574a-4269-9577-b127300bc020",
   "metadata": {
    "jp-MarkdownHeadingCollapsed": true,
    "tags": []
   },
   "source": [
    "##### 6.2.6.1. Optimización de parámetros - Hyperopt"
   ]
  },
  {
   "cell_type": "markdown",
   "id": "25c17442-d6ec-489f-9385-f789c3ad2e8a",
   "metadata": {},
   "source": [
    "Se toma el modelo optimizado y se aplica un ensamble de tipo bagging."
   ]
  },
  {
   "cell_type": "code",
   "execution_count": null,
   "id": "2ff07a42-af74-4f94-ad01-e9532ad30a74",
   "metadata": {
    "tags": []
   },
   "outputs": [],
   "source": [
    "# Trial ID : 78\n",
    "# Loss : 0.09855398882724825\n",
    "# Best Params : {'activation': 'tanh', 'alpha': 9.22122898937122e-05, 'hidden_layer_1': 3, \n",
    "# 'hidden_layer_2': 6, 'hidden_layer_3': 8, 'samples': 500000, 'scaler': \n",
    "#     RobustScaler(), 'selected_columns': ('day', 'hour', 'idOrig', 'idDest'), 'solver': 'lbfgs'}"
   ]
  },
  {
   "cell_type": "code",
   "execution_count": 7,
   "id": "126c602d-92eb-477c-998e-1ef79c193a18",
   "metadata": {
    "tags": []
   },
   "outputs": [
    {
     "name": "stdout",
     "output_type": "stream",
     "text": [
      "Trial: 0 | Shape: (50900, 10) | Loss: 0.1990 | Elapsed_time: 8.0383 seconds                                            \n",
      "Trial: 1 | Shape: (50900, 10) | Loss: 0.1937 | Elapsed_time: 85.5910 seconds                                           \n",
      "Trial: 2 | Shape: (50900, 10) | Loss: 0.2071 | Elapsed_time: 7.1051 seconds                                            \n",
      "Trial: 3 | Shape: (50900, 10) | Loss: 0.1712 | Elapsed_time: 54.5541 seconds                                           \n",
      "Trial: 4 | Shape: (50900, 10) | Loss: 0.2033 | Elapsed_time: 12.7748 seconds                                           \n",
      "Trial: 5 | Shape: (50900, 10) | Loss: 0.1965 | Elapsed_time: 53.9100 seconds                                           \n",
      "Trial: 6 | Shape: (50900, 10) | Loss: 0.1857 | Elapsed_time: 65.3537 seconds                                           \n",
      "Trial: 7 | Shape: (50900, 10) | Loss: 0.2261 | Elapsed_time: 46.4726 seconds                                           \n",
      "Trial: 8 | Shape: (50900, 10) | Loss: 1.1438 | Elapsed_time: 4.8789 seconds                                            \n",
      "Trial: 9 | Shape: (50900, 10) | Loss: 0.1965 | Elapsed_time: 75.0183 seconds                                           \n",
      "Trial: 10 | Shape: (50900, 10) | Loss: 1.0006 | Elapsed_time: 3.4805 seconds                                           \n",
      "Trial: 11 | Shape: (50900, 10) | Loss: 0.1682 | Elapsed_time: 76.1634 seconds                                          \n",
      "Trial: 12 | Shape: (50900, 10) | Loss: 0.2010 | Elapsed_time: 19.5926 seconds                                          \n",
      "Trial: 13 | Shape: (50900, 10) | Loss: 0.1965 | Elapsed_time: 51.1944 seconds                                          \n",
      "Trial: 14 | Shape: (50900, 10) | Loss: 0.2573 | Elapsed_time: 37.4428 seconds                                          \n",
      "Trial: 15 | Shape: (50900, 10) | Loss: 0.7377 | Elapsed_time: 6.9152 seconds                                           \n",
      "Trial: 16 | Shape: (50900, 10) | Loss: 0.1937 | Elapsed_time: 56.8964 seconds                                          \n",
      "Trial: 17 | Shape: (50900, 10) | Loss: 0.1580 | Elapsed_time: 32.9701 seconds                                          \n",
      "Trial: 18 | Shape: (50900, 10) | Loss: 0.1963 | Elapsed_time: 69.3821 seconds                                          \n",
      "Trial: 19 | Shape: (50900, 10) | Loss: 0.1723 | Elapsed_time: 6.6432 seconds                                           \n",
      "100%|███████████████████████████████████████████████| 20/20 [12:54<00:00, 38.73s/trial, best loss: 0.15796455473909687]\n",
      "\n",
      "Best Trial:\n",
      "Trial ID : 17\n",
      "Loss : 0.15796455473909687\n",
      "Params : {'filtered_columns': ('day', 'hour', 'idOrig', 'idDest'), 'params': {'max_features': 0.8701366586546666, 'max_samples': 0.8206164132273124, 'n_estimators': 10}, 'scaler': RobustScaler()}\n",
      "\n",
      "Json file: 20220301_085107.json\n",
      "\n",
      "Scoring details:\n",
      "\n",
      "      Recall Precision       AUC  Accuracy Recall_Std Precision_Std   AUC_Std Accuracy_Std  F1-Score\n",
      "0   0.785846  0.953125  0.961833  0.999666   0.096586      0.051822  0.061698     0.000102   0.85584\n",
      "1   0.800551    0.9625  0.999787  0.999705   0.094392       0.03796  0.000223      0.00014  0.871889\n",
      "2   0.785846  0.940257  0.983933  0.999646   0.096586      0.072061  0.018712     0.000118  0.849601\n",
      "3   0.800551       1.0  0.988542  0.999745   0.094392           0.0  0.019717     0.000116   0.88622\n",
      "4   0.740809   0.96875  0.984215  0.999627   0.072301      0.054127   0.02686     0.000065  0.835381\n",
      "5   0.755515       1.0  0.991968  0.999686   0.081112           0.0  0.013282     0.000096  0.858206\n",
      "6    0.77114  0.979167  0.993758  0.999686   0.056859      0.036084  0.010218     0.000096  0.862327\n",
      "7   0.769301  0.979167  0.983521  0.999686    0.12247      0.036084  0.028161     0.000167  0.856967\n",
      "8   0.171875  0.229167  0.860629    0.9989   0.297696      0.396928  0.051303     0.000364  0.196429\n",
      "9   0.755515       1.0  0.998001  0.999686   0.081112           0.0  0.003131     0.000096  0.858206\n",
      "10   0.34375  0.441558  0.846417  0.999077   0.346579       0.44194  0.040566     0.000414  0.385185\n",
      "11  0.785846       1.0  0.991006  0.999725   0.073638           0.0  0.014923     0.000088  0.878171\n",
      "12  0.800551  0.947917  0.989769  0.999686   0.094392      0.054127  0.014898     0.000147   0.86526\n",
      "13  0.755515       1.0  0.993708  0.999686   0.081112           0.0  0.009889     0.000096  0.858206\n",
      "14   0.70864       1.0  0.994171  0.999627   0.116995           0.0  0.009645      0.00014  0.823921\n",
      "15  0.610294  0.654208  0.942479  0.999371    0.36359       0.37928  0.051676      0.00042  0.628544\n",
      "16  0.800551    0.9625  0.990314  0.999705   0.094392       0.03796  0.016374      0.00014  0.871889\n",
      "17  0.786765       1.0  0.977482  0.999725   0.057487           0.0  0.038392     0.000068  0.879455\n",
      "18  0.770221       1.0  0.999007  0.999705   0.096064           0.0  0.001138     0.000116  0.866775\n",
      "19  0.801471   0.96875  0.977392  0.999705   0.070957      0.054127   0.03806     0.000102  0.874338\n"
     ]
    }
   ],
   "source": [
    "# Importación de librerías.\n",
    "from sklearn.neural_network import MLPClassifier\n",
    "from sklearn.model_selection import StratifiedKFold, cross_validate, StratifiedShuffleSplit\n",
    "from sklearn.preprocessing import RobustScaler\n",
    "from sklearn.ensemble import BaggingClassifier\n",
    "from hyperopt import fmin, hp, tpe, space_eval, Trials\n",
    "from hyperopt.early_stop import no_progress_loss\n",
    "from datetime import datetime\n",
    "import json\n",
    "\n",
    "# Definición de la función objetivo.\n",
    "def objective_func(search_space):\n",
    "    \n",
    "    global i, scorings, estimator, X_train, y_train\n",
    "    start_time = time.time()\n",
    "    i += 1\n",
    "    \n",
    "    scaler = search_space['scaler']\n",
    "    \n",
    "    X_train = X.iloc[indexes, :]\n",
    "    X_train = X_train.drop(labels = list(search_space['filtered_columns']), axis = 1, inplace = False)\n",
    "    X_train = scaler.fit_transform(X_train)\n",
    "    y_train = y.iloc[indexes]\n",
    "        \n",
    "    estimator.set_params(**search_space['params'])\n",
    "    skf = StratifiedKFold(random_state = 42, n_splits = 4, shuffle = True)\n",
    "    cv = cross_validate(estimator = estimator, X = X_train, y = y_train, cv = skf, verbose = False, n_jobs = -1, scoring = ('precision', 'recall', 'roc_auc', 'accuracy', 'f1'))\n",
    "    \n",
    "    loss = 1 - cv['test_f1'].mean() + cv['test_f1'].std()\n",
    "\n",
    "    scorings.append({'trial': i,\n",
    "                     'search_space' : str(search_space),\n",
    "                     'scorings' : {'Recall': cv['test_recall'].mean(),\n",
    "                                   'Precision': cv['test_precision'].mean(),\n",
    "                                   'AUC': cv['test_roc_auc'].mean(),\n",
    "                                   'Accuracy': cv['test_accuracy'].mean(),\n",
    "                                   'Recall_Std': cv['test_recall'].std(),\n",
    "                                   'Precision_Std': cv['test_precision'].std(),\n",
    "                                   'AUC_Std': cv['test_roc_auc'].std(),\n",
    "                                   'Accuracy_Std': cv['test_accuracy'].std(),\n",
    "                                   'F1-Score': cv['test_f1'].mean()}\n",
    "                    }\n",
    "                   )\n",
    "    \n",
    "    elapsed_time = time.time() - start_time\n",
    "    \n",
    "    print('Trial: %i | Shape: %s | Loss: %.4f | Elapsed_time: %.4f seconds' % (i, X_train.shape, loss, elapsed_time))\n",
    "    \n",
    "    return loss\n",
    "\n",
    "# Definición del espacio / dominio de parámetros.\n",
    "clf = MLPClassifier(activation = 'tanh', alpha = 9.22122898937122e-05, hidden_layer_sizes = (3,6,8,), solver = 'lbfgs')\n",
    "estimator = BaggingClassifier(base_estimator = clf, n_jobs = -1, random_state = 42)\n",
    "sample_rate = 0.01\n",
    "search_space = {'scaler' : hp.choice('scaler', [RobustScaler()]),\n",
    "                'filtered_columns' : hp.choice('filtered_columns', [['day', 'hour', 'idOrig', 'idDest']]),\n",
    "                'params' : {'n_estimators' : hp.choice('n_estimators', [1, 5, 10, 15, 20]), \n",
    "                            'max_samples' : hp.uniform('max_samples', 0.8, 1.0),\n",
    "                            'max_features' : hp.uniform('max_features', 0.8, 1.0)\n",
    "                           }\n",
    "               }\n",
    "sss = StratifiedShuffleSplit(n_splits = 1, train_size = sample_rate, random_state = 42)\n",
    "indexes = list([train_index for train_index, test_index in sss.split(X, y)][0])\n",
    "\n",
    "# Ejecución del optimizador.\n",
    "i = -1\n",
    "scorings = []\n",
    "rstate = np.random.default_rng(42)\n",
    "trials = Trials() # Para el logging de resultados.\n",
    "best_params = fmin(fn = objective_func, space = search_space, algo = tpe.suggest, max_evals = 20, trials = trials, rstate = rstate)\n",
    "\n",
    "# Impresión de resultados.\n",
    "print('\\nBest Trial:')\n",
    "print('Trial ID :', trials.best_trial['tid'])\n",
    "print('Loss :', trials.best_trial['result']['loss'])\n",
    "print('Params :', space_eval(search_space, best_params), end = '\\n\\n')\n",
    "\n",
    "# Exportación de resultados a formato JSON.\n",
    "try:\n",
    "    os.mkdir('HyperOpt Optimizations')\n",
    "except:\n",
    "    None\n",
    "\n",
    "now = datetime.now()\n",
    "dt_string = now.strftime(\"%Y%m%d_%H%M%S\")\n",
    "path = os.getcwd() + '\\\\HyperOpt Optimizations\\\\'\n",
    "filename = 'Opt_' + dt_string + '.json'\n",
    "\n",
    "f = open(path + filename, 'w')\n",
    "json.dump(scorings, f)\n",
    "f.close()\n",
    "print('Json file: ' + dt_string + '.json', end = '\\n\\n')\n",
    "\n",
    "# Obtención de resultados en formato tabla para visualizar scorings y desvios estándar.\n",
    "scorings_df = pd.DataFrame(columns = list(scorings[0]['scorings'].keys()))\n",
    "for scoring in scorings:\n",
    "    scorings_df = scorings_df.append(scoring['scorings'], ignore_index = True)\n",
    "\n",
    "print('Scoring details:', end = '\\n\\n')\n",
    "with pd.option_context('display.max_rows', None, 'display.max_columns', None, 'display.width', 1000):  # more options can be specified also\n",
    "    print(scorings_df)"
   ]
  },
  {
   "cell_type": "markdown",
   "id": "181702a9-7938-4a79-98a0-5ca9df9514d8",
   "metadata": {
    "jp-MarkdownHeadingCollapsed": true,
    "tags": []
   },
   "source": [
    "#### 6.2.7. Bagging SVM"
   ]
  },
  {
   "cell_type": "code",
   "execution_count": 9,
   "id": "9a8ebeeb-5acc-4bf2-8fbc-547c662335b3",
   "metadata": {},
   "outputs": [
    {
     "name": "stdout",
     "output_type": "stream",
     "text": [
      "Trial: 0 | Shape: (509009, 10) | Loss: 0.7713 | Elapsed_time: 1.9565 seconds                                           \n",
      "Trial: 1 | Shape: (509009, 10) | Loss: 0.4943 | Elapsed_time: 19.5726 seconds                                          \n",
      "Trial: 2 | Shape: (509009, 10) | Loss: 0.7610 | Elapsed_time: 2.1026 seconds                                           \n",
      "Trial: 3 | Shape: (509009, 10) | Loss: 0.5413 | Elapsed_time: 13.8050 seconds                                          \n",
      "Trial: 4 | Shape: (509009, 10) | Loss: 1.0099 | Elapsed_time: 5.2716 seconds                                           \n",
      "Trial: 5 | Shape: (509009, 10) | Loss: 0.9148 | Elapsed_time: 14.0223 seconds                                          \n",
      "Trial: 6 | Shape: (509009, 10) | Loss: 0.9522 | Elapsed_time: 15.1940 seconds                                          \n",
      "Trial: 7 | Shape: (509009, 10) | Loss: 0.5897 | Elapsed_time: 10.3525 seconds                                          \n",
      "Trial: 8 | Shape: (509009, 10) | Loss: 0.9537 | Elapsed_time: 2.0419 seconds                                           \n",
      "Trial: 9 | Shape: (509009, 10) | Loss: 0.6211 | Elapsed_time: 18.9908 seconds                                          \n",
      "Trial: 10 | Shape: (509009, 10) | Loss: 0.9690 | Elapsed_time: 2.1503 seconds                                          \n",
      "Trial: 11 | Shape: (509009, 10) | Loss: 0.6859 | Elapsed_time: 19.9222 seconds                                         \n",
      "Trial: 12 | Shape: (509009, 10) | Loss: 0.7330 | Elapsed_time: 5.9215 seconds                                          \n",
      "Trial: 13 | Shape: (509009, 10) | Loss: 0.9238 | Elapsed_time: 15.1655 seconds                                         \n",
      "Trial: 14 | Shape: (509009, 10) | Loss: 1.0129 | Elapsed_time: 11.2770 seconds                                         \n",
      "Trial: 15 | Shape: (509009, 10) | Loss: 0.9708 | Elapsed_time: 2.1476 seconds                                          \n",
      "Trial: 16 | Shape: (509009, 10) | Loss: 0.5111 | Elapsed_time: 15.0500 seconds                                         \n",
      "Trial: 17 | Shape: (509009, 10) | Loss: 1.0000 | Elapsed_time: 10.3490 seconds                                         \n",
      "Trial: 18 | Shape: (509009, 10) | Loss: 0.7048 | Elapsed_time: 20.1423 seconds                                         \n",
      "Trial: 19 | Shape: (509009, 10) | Loss: 0.7958 | Elapsed_time: 1.9765 seconds                                          \n",
      "100%|████████████████████████████████████████████████| 20/20 [03:27<00:00, 10.39s/trial, best loss: 0.4942627825068484]\n",
      "\n",
      "Best Trial:\n",
      "Trial ID : 1\n",
      "Loss : 0.4942627825068484\n",
      "Params : {'filtered_columns': ('day', 'hour', 'idOrig', 'idDest'), 'params': {'max_features': 0.9721860963826869, 'max_samples': 0.9216498324342273, 'n_estimators': 20}, 'scaler': RobustScaler()}\n",
      "\n",
      "Json file: 20220301_090142.json\n",
      "\n",
      "Scoring details:\n",
      "\n",
      "      Recall Precision       AUC  Accuracy Recall_Std Precision_Std   AUC_Std Accuracy_Std  F1-Score\n",
      "0   0.571064  0.183102  0.897136  0.996171   0.110362       0.03142  0.045211     0.000277  0.276969\n",
      "1   0.374418   0.95363   0.87038  0.999169   0.027263      0.038891   0.01061     0.000047  0.537278\n",
      "2   0.567831  0.181958  0.898821  0.996112    0.08576      0.025492  0.033404     0.000535  0.274552\n",
      "3   0.343976  0.987118  0.890685  0.999147   0.045837      0.015149  0.016177     0.000058  0.508441\n",
      "4   0.056292       0.5  0.767057  0.998782   0.062952           0.5  0.034913     0.000081  0.100036\n",
      "5    0.07451       1.0  0.831376  0.998806   0.030317           0.0  0.015203     0.000036  0.137221\n",
      "6   0.083823       1.0  0.832965  0.998817   0.060596           0.0  0.016176      0.00008  0.149029\n",
      "7   0.321074  0.969984   0.87634   0.99911   0.059424        0.0222  0.012988      0.00007  0.478905\n",
      "8   0.197847  0.043991  0.586357  0.992713   0.037585      0.017336  0.026983     0.002229  0.070932\n",
      "9   0.266436  0.985577  0.832106  0.999047   0.032289      0.024982   0.01438     0.000039  0.418127\n",
      "10  0.226663  0.035225   0.60862  0.987992    0.06441      0.018121  0.070928     0.006138  0.058041\n",
      "11  0.243441   0.99359  0.832099  0.999022   0.055385      0.011103  0.016397      0.00007   0.38782\n",
      "12  0.197875  0.982008  0.786146  0.998961   0.043248      0.018436  0.012015     0.000059  0.327471\n",
      "13  0.062445       1.0  0.831658   0.99879    0.02303           0.0  0.022217     0.000032  0.116673\n",
      "14  0.009146      0.25  0.791507  0.998721   0.015842      0.433013  0.008066     0.000022  0.017647\n",
      "15   0.19939  0.029698  0.592014  0.989045   0.043404      0.013887  0.031396     0.003322  0.050973\n",
      "16   0.35461  0.965204  0.891438  0.999149   0.026933      0.041451  0.011445     0.000035  0.517753\n",
      "17       0.0       0.0  0.792798  0.998709        0.0           0.0  0.017734     0.000003       0.0\n",
      "18  0.216066  0.991667  0.833751  0.998986   0.042371      0.014434  0.017494     0.000055  0.352966\n",
      "19  0.539163  0.177334  0.877787  0.996222   0.143009      0.039672  0.072235     0.000259  0.266547\n"
     ]
    }
   ],
   "source": [
    "# Importación de librerías.\n",
    "from sklearn.svm import LinearSVC\n",
    "from sklearn.model_selection import StratifiedKFold, cross_validate, StratifiedShuffleSplit\n",
    "from sklearn.preprocessing import RobustScaler\n",
    "from sklearn.ensemble import BaggingClassifier\n",
    "from hyperopt import fmin, hp, tpe, space_eval, Trials\n",
    "from hyperopt.early_stop import no_progress_loss\n",
    "from datetime import datetime\n",
    "import json\n",
    "\n",
    "# Definición de la función objetivo.\n",
    "def objective_func(search_space):\n",
    "    \n",
    "    global i, scorings, estimator, X_train, y_train\n",
    "    start_time = time.time()\n",
    "    i += 1\n",
    "    \n",
    "    scaler = search_space['scaler']\n",
    "    \n",
    "    X_train = X.iloc[indexes, :]\n",
    "    X_train = X_train.drop(labels = list(search_space['filtered_columns']), axis = 1, inplace = False)\n",
    "    X_train = scaler.fit_transform(X_train)\n",
    "    y_train = y.iloc[indexes]\n",
    "        \n",
    "    estimator.set_params(**search_space['params'])\n",
    "    skf = StratifiedKFold(random_state = 42, n_splits = 4, shuffle = True)\n",
    "    cv = cross_validate(estimator = estimator, X = X_train, y = y_train, cv = skf, verbose = False, n_jobs = -1, scoring = ('precision', 'recall', 'roc_auc', 'accuracy', 'f1'))\n",
    "    \n",
    "    loss = 1 - cv['test_f1'].mean() + cv['test_f1'].std()\n",
    "\n",
    "    scorings.append({'trial': i,\n",
    "                     'search_space' : str(search_space),\n",
    "                     'scorings' : {'Recall': cv['test_recall'].mean(),\n",
    "                                   'Precision': cv['test_precision'].mean(),\n",
    "                                   'AUC': cv['test_roc_auc'].mean(),\n",
    "                                   'Accuracy': cv['test_accuracy'].mean(),\n",
    "                                   'Recall_Std': cv['test_recall'].std(),\n",
    "                                   'Precision_Std': cv['test_precision'].std(),\n",
    "                                   'AUC_Std': cv['test_roc_auc'].std(),\n",
    "                                   'Accuracy_Std': cv['test_accuracy'].std(),\n",
    "                                   'F1-Score': cv['test_f1'].mean()}\n",
    "                    }\n",
    "                   )\n",
    "    \n",
    "    elapsed_time = time.time() - start_time\n",
    "    \n",
    "    print('Trial: %i | Shape: %s | Loss: %.4f | Elapsed_time: %.4f seconds' % (i, X_train.shape, loss, elapsed_time))\n",
    "    \n",
    "    return loss\n",
    "\n",
    "# Definición del espacio / dominio de parámetros.\n",
    "clf = LinearSVC(random_state = 42, C = 1.2912110784758317, loss = 'squared_hinge', penalty = 'l2',\n",
    "                class_weight = None, dual = True, fit_intercept = False, intercept_scaling = 1.0058483479571696,\n",
    "                max_iter = 28, tol = 9.320556357088724e-05)\n",
    "estimator = BaggingClassifier(base_estimator = clf, n_jobs = -1, random_state = 42)\n",
    "sample_rate = 0.1\n",
    "search_space = {'scaler' : hp.choice('scaler', [RobustScaler()]),\n",
    "                'filtered_columns' : hp.choice('filtered_columns', [['day', 'hour', 'idOrig', 'idDest']]),\n",
    "                'params' : {'n_estimators' : hp.choice('n_estimators', [1, 5, 10, 15, 20]), \n",
    "                            'max_samples' : hp.uniform('max_samples', 0.8, 1.0),\n",
    "                            'max_features' : hp.uniform('max_features', 0.8, 1.0)\n",
    "                           }\n",
    "               }\n",
    "sss = StratifiedShuffleSplit(n_splits = 1, train_size = sample_rate, random_state = 42)\n",
    "indexes = list([train_index for train_index, test_index in sss.split(X, y)][0])\n",
    "\n",
    "# Ejecución del optimizador.\n",
    "i = -1\n",
    "scorings = []\n",
    "rstate = np.random.default_rng(42)\n",
    "trials = Trials() # Para el logging de resultados.\n",
    "best_params = fmin(fn = objective_func, space = search_space, algo = tpe.suggest, max_evals = 20, trials = trials, rstate = rstate)\n",
    "\n",
    "# Impresión de resultados.\n",
    "print('\\nBest Trial:')\n",
    "print('Trial ID :', trials.best_trial['tid'])\n",
    "print('Loss :', trials.best_trial['result']['loss'])\n",
    "print('Params :', space_eval(search_space, best_params), end = '\\n\\n')\n",
    "\n",
    "# Exportación de resultados a formato JSON.\n",
    "try:\n",
    "    os.mkdir('HyperOpt Optimizations')\n",
    "except:\n",
    "    None\n",
    "\n",
    "now = datetime.now()\n",
    "dt_string = now.strftime(\"%Y%m%d_%H%M%S\")\n",
    "path = os.getcwd() + '\\\\HyperOpt Optimizations\\\\'\n",
    "filename = 'Opt_' + dt_string + '.json'\n",
    "\n",
    "f = open(path + filename, 'w')\n",
    "json.dump(scorings, f)\n",
    "f.close()\n",
    "print('Json file: ' + dt_string + '.json', end = '\\n\\n')\n",
    "\n",
    "# Obtención de resultados en formato tabla para visualizar scorings y desvios estándar.\n",
    "scorings_df = pd.DataFrame(columns = list(scorings[0]['scorings'].keys()))\n",
    "for scoring in scorings:\n",
    "    scorings_df = scorings_df.append(scoring['scorings'], ignore_index = True)\n",
    "\n",
    "print('Scoring details:', end = '\\n\\n')\n",
    "with pd.option_context('display.max_rows', None, 'display.max_columns', None, 'display.width', 1000):  # more options can be specified also\n",
    "    print(scorings_df)"
   ]
  },
  {
   "cell_type": "markdown",
   "id": "392b389d-c7bd-446b-aba3-c9b737df44fb",
   "metadata": {
    "tags": []
   },
   "source": [
    "#### 6.2.8. Gradient Boosted Trees"
   ]
  },
  {
   "cell_type": "code",
   "execution_count": 12,
   "id": "1a5d30d1-5e66-4749-a552-9a7c1a148774",
   "metadata": {
    "collapsed": true,
    "jupyter": {
     "outputs_hidden": true,
     "source_hidden": true
    },
    "tags": []
   },
   "outputs": [
    {
     "name": "stdout",
     "output_type": "stream",
     "text": [
      "Trial: 0 | Loss: 0.2567 | Elapsed_time: 2.3215 seconds                                                                 \n",
      "Trial: 1 | Loss: 0.6329 | Elapsed_time: 18.4464 seconds                                                                \n",
      "Trial: 2 | Loss: 0.3193 | Elapsed_time: 1.9007 seconds                                                                 \n",
      "Trial: 3 | Loss: 0.8190 | Elapsed_time: 17.2005 seconds                                                                \n",
      "Trial: 4 | Loss: 0.2495 | Elapsed_time: 2.2122 seconds                                                                 \n",
      "Trial: 5 | Loss: 0.5280 | Elapsed_time: 26.2528 seconds                                                                \n",
      "Trial: 6 | Loss: 0.4610 | Elapsed_time: 30.1860 seconds                                                                \n",
      "Trial: 7 | Loss: 0.3193 | Elapsed_time: 1.9918 seconds                                                                 \n",
      "Trial: 8 | Loss: 0.2567 | Elapsed_time: 2.2841 seconds                                                                 \n",
      "Trial: 9 | Loss: 0.8190 | Elapsed_time: 17.3069 seconds                                                                \n",
      "100%|███████████████████████████████████████████████| 10/10 [02:00<00:00, 12.02s/trial, best loss: 0.24945454830702993]\n",
      "\n",
      "Best Trial:\n",
      "Trial ID : 4\n",
      "Loss : 0.24945454830702993\n",
      "Params : {'filtered_columns': ('day', 'hour', 'idOrig', 'idDest'), 'params': {'max_depth': 5, 'max_features': 0.8193289291354019, 'n_estimators': 1}, 'scaler': RobustScaler()}\n",
      "\n",
      "Json file: 20220301_091139.json\n",
      "\n",
      "Scoring details:\n",
      "\n",
      "     Recall Precision       AUC  Accuracy Recall_Std Precision_Std   AUC_Std Accuracy_Std  F1-Score\n",
      "0  0.675831  0.889531  0.847153  0.999472   0.045451      0.021557  0.021314     0.000038  0.766711\n",
      "1  0.447127  0.787955  0.736298  0.999124   0.204774      0.023518  0.256286     0.000174  0.538827\n",
      "2  0.659054   0.78322  0.838055  0.999322   0.035304      0.044757  0.017098     0.000086  0.715199\n",
      "3   0.50048  0.516458  0.791693  0.994678   0.134319      0.329409  0.140256     0.007584  0.451954\n",
      "4  0.675813  0.893041  0.848834  0.999475   0.037048      0.021645  0.018604     0.000026  0.768302\n",
      "5  0.444309   0.76972  0.697542  0.999112   0.078456      0.113907  0.116768     0.000167  0.562076\n",
      "6  0.523725  0.793351  0.767885  0.999214   0.099931      0.065811  0.128212     0.000163  0.628487\n",
      "7  0.659054   0.78322  0.838055  0.999322   0.035304      0.044757  0.017098     0.000086  0.715199\n",
      "8  0.675831  0.889531  0.847153  0.999472   0.045451      0.021557  0.021314     0.000038  0.766711\n",
      "9   0.50048  0.516458  0.791693  0.994678   0.134319      0.329409  0.140256     0.007584  0.451954\n"
     ]
    }
   ],
   "source": [
    "# Importación de librerías.\n",
    "from sklearn.model_selection import StratifiedKFold, cross_validate, StratifiedShuffleSplit\n",
    "from sklearn.preprocessing import RobustScaler\n",
    "from sklearn.ensemble import GradientBoostingClassifier\n",
    "from hyperopt import fmin, hp, tpe, space_eval, Trials\n",
    "from hyperopt.early_stop import no_progress_loss\n",
    "from datetime import datetime\n",
    "import json\n",
    "\n",
    "# Definición de la función objetivo.\n",
    "def objective_func(search_space):\n",
    "    \n",
    "    global i, scorings, estimator, X_train, y_train\n",
    "    start_time = time.time()\n",
    "    i += 1\n",
    "    \n",
    "    scaler = search_space['scaler']\n",
    "    \n",
    "    X_train = X.iloc[indexes, :]\n",
    "    X_train = X_train.drop(labels = list(search_space['filtered_columns']), axis = 1, inplace = False)\n",
    "    X_train = scaler.fit_transform(X_train)\n",
    "    y_train = y.iloc[indexes]\n",
    "        \n",
    "    estimator.set_params(**search_space['params'])\n",
    "    skf = StratifiedKFold(random_state = 42, n_splits = 4, shuffle = True)\n",
    "    cv = cross_validate(estimator = estimator, X = X_train, y = y_train, cv = skf, verbose = False, n_jobs = -1, scoring = ('precision', 'recall', 'roc_auc', 'accuracy', 'f1'))\n",
    "    \n",
    "    loss = 1 - cv['test_f1'].mean() + cv['test_f1'].std()\n",
    "\n",
    "    scorings.append({'trial': i,\n",
    "                     'search_space' : str(search_space),\n",
    "                     'scorings' : {'Recall': cv['test_recall'].mean(),\n",
    "                                   'Precision': cv['test_precision'].mean(),\n",
    "                                   'AUC': cv['test_roc_auc'].mean(),\n",
    "                                   'Accuracy': cv['test_accuracy'].mean(),\n",
    "                                   'Recall_Std': cv['test_recall'].std(),\n",
    "                                   'Precision_Std': cv['test_precision'].std(),\n",
    "                                   'AUC_Std': cv['test_roc_auc'].std(),\n",
    "                                   'Accuracy_Std': cv['test_accuracy'].std(),\n",
    "                                   'F1-Score': cv['test_f1'].mean()}\n",
    "                    }\n",
    "                   )\n",
    "    \n",
    "    elapsed_time = time.time() - start_time\n",
    "    \n",
    "    print('Trial: %i | Loss: %.4f | Elapsed_time: %.4f seconds' % (i, loss, elapsed_time))\n",
    "    \n",
    "    return loss\n",
    "\n",
    "# Definición del espacio / dominio de parámetros.\n",
    "estimator = GradientBoostingClassifier(random_state = 42)\n",
    "sample_rate = 0.1\n",
    "search_space = {'scaler' : hp.choice('scaler', [RobustScaler()]),\n",
    "                'filtered_columns' : hp.choice('filtered_columns', [['day', 'hour', 'idOrig', 'idDest']]),\n",
    "                'params' : {'n_estimators' : hp.choice('n_estimators', [1, 20]),\n",
    "                            'max_features' : hp.uniform('max_features', 0.8, 1.0),\n",
    "                            'max_depth' : hp.choice('max_depth', [3, 5])\n",
    "                           }\n",
    "               }\n",
    "sss = StratifiedShuffleSplit(n_splits = 1, train_size = sample_rate, random_state = 42)\n",
    "indexes = list([train_index for train_index, test_index in sss.split(X, y)][0])\n",
    "\n",
    "# Ejecución del optimizador.\n",
    "i = -1\n",
    "scorings = []\n",
    "rstate = np.random.default_rng(42)\n",
    "trials = Trials() # Para el logging de resultados.\n",
    "best_params = fmin(fn = objective_func, space = search_space, algo = tpe.suggest, max_evals = 10, trials = trials, rstate = rstate)\n",
    "\n",
    "# Impresión de resultados.\n",
    "print('\\nBest Trial:')\n",
    "print('Trial ID :', trials.best_trial['tid'])\n",
    "print('Loss :', trials.best_trial['result']['loss'])\n",
    "print('Params :', space_eval(search_space, best_params), end = '\\n\\n')\n",
    "\n",
    "# Exportación de resultados a formato JSON.\n",
    "try:\n",
    "    os.mkdir('HyperOpt Optimizations')\n",
    "except:\n",
    "    None\n",
    "\n",
    "now = datetime.now()\n",
    "dt_string = now.strftime(\"%Y%m%d_%H%M%S\")\n",
    "path = os.getcwd() + '\\\\HyperOpt Optimizations\\\\'\n",
    "filename= 'Opt_' + dt_string + '.json'\n",
    "\n",
    "f = open(path + filename, 'w')\n",
    "json.dump(scorings, f)\n",
    "f.close()\n",
    "print('Json file: ' + dt_string + '.json', end = '\\n\\n')\n",
    "\n",
    "# Obtención de resultados en formato tabla para visualizar scorings y desvios estándar.\n",
    "scorings_df = pd.DataFrame(columns = list(scorings[0]['scorings'].keys()))\n",
    "for scoring in scorings:\n",
    "    scorings_df = scorings_df.append(scoring['scorings'], ignore_index = True)\n",
    "\n",
    "print('Scoring details:', end = '\\n\\n')\n",
    "with pd.option_context('display.max_rows', None, 'display.max_columns', None, 'display.width', 1000):  # more options can be specified also\n",
    "    print(scorings_df)"
   ]
  },
  {
   "cell_type": "markdown",
   "id": "1c5dd2cf-b45b-4a52-b048-33a6c3dea8b6",
   "metadata": {
    "tags": []
   },
   "source": [
    "#### 6.2.9. XGBoost"
   ]
  },
  {
   "attachments": {
    "4405493e-07f9-49ce-b9d7-c38c575125ac.png": {
     "image/png": "[encoded data removed]"
    }
   },
   "cell_type": "markdown",
   "id": "62b07127-7e87-40da-8da7-a661daf48d82",
   "metadata": {},
   "source": [
    "https://www.kaggle.com/prashant111/xgboost-k-fold-cv-feature-importance\n",
    "\n",
    "https://xgboost.readthedocs.io/en/stable/index.html\n",
    "\n",
    "https://www.datacamp.com/community/tutorials/xgboost-in-python?utm_source=adwords_ppc&utm_medium=cpc&utm_campaignid=1455363063&utm_adgroupid=65083631748&utm_device=c&utm_keyword=&utm_matchtype=&utm_network=g&utm_adpostion=&utm_creative=278443377095&utm_targetid=aud-392016246653:dsa-429603003980&utm_loc_interest_ms=&utm_loc_physical_ms=1000073\n",
    "\n",
    "![image.png](attachment:4405493e-07f9-49ce-b9d7-c38c575125ac.png)"
   ]
  },
  {
   "cell_type": "markdown",
   "id": "94ac0839-4b5d-450c-a806-4560cae38b0a",
   "metadata": {
    "jp-MarkdownHeadingCollapsed": true,
    "tags": []
   },
   "source": [
    "##### 6.2.9.1. Primera optimización de hiperparámetros"
   ]
  },
  {
   "cell_type": "code",
   "execution_count": 20,
   "id": "bc9b1719-d5e2-4ed4-9572-f1a3531cddb4",
   "metadata": {},
   "outputs": [],
   "source": [
    "import json\n",
    "from datetime import datetime\n",
    "from hyperopt import fmin, hp, tpe, space_eval, Trials\n",
    "\n",
    "# Función para la impresión de resultados.\n",
    "def hyperopt_printer(trials):\n",
    "    print('\\nBest Trial:')\n",
    "    print('Trial ID :', trials.best_trial['tid'])\n",
    "    print('Loss :', trials.best_trial['result']['loss'])\n",
    "    print('Params :', space_eval(search_space, best_params), end = '\\n\\n')\n",
    "\n",
    "# Función para exportación de resultados a formato JSON.\n",
    "def json_export(scorings):\n",
    "    try:\n",
    "        os.mkdir('HyperOpt Optimizations')\n",
    "    except:\n",
    "        None\n",
    "\n",
    "    now = datetime.now()\n",
    "    dt_string = now.strftime(\"%Y%m%d_%H%M%S\")\n",
    "    path = os.getcwd() + '\\\\HyperOpt Optimizations\\\\'\n",
    "    filename = 'Opt_' + dt_string + '.json'\n",
    "\n",
    "    f = open(path + filename, 'w')\n",
    "    json.dump(scorings, f)\n",
    "    f.close()\n",
    "    print('Json file: ' + dt_string + '.json', end = '\\n\\n')\n",
    "\n",
    "# Función para la obtención de resultados en formato tabla para visualizar scorings y desvios estándar.\n",
    "def scorings_to_df(scorings):\n",
    "    scorings_df = pd.DataFrame(columns = list(scorings[0]['scorings'].keys()))\n",
    "    for scoring in scorings:\n",
    "        scorings_df = scorings_df.append(scoring['scorings'], ignore_index = True)\n",
    "\n",
    "    print('Scoring details:', end = '\\n\\n')\n",
    "    with pd.option_context('display.max_rows', None, 'display.max_columns', None, 'display.width', 1000):  # more options can be specified also\n",
    "        print(scorings_df)"
   ]
  },
  {
   "cell_type": "code",
   "execution_count": 17,
   "id": "015412c4-f161-4f16-9b4f-c55509bad295",
   "metadata": {},
   "outputs": [
    {
     "name": "stdout",
     "output_type": "stream",
     "text": [
      "Trial: 0 | Loss: 0.1604 | Elapsed_time: 36.4993 seconds                                                                \n",
      "Trial: 1 | Loss: 0.1427 | Elapsed_time: 8.9524 seconds                                                                 \n",
      "Trial: 2 | Loss: 0.2046 | Elapsed_time: 6.2151 seconds                                                                 \n",
      "Trial: 3 | Loss: 0.1485 | Elapsed_time: 5.9427 seconds                                                                 \n",
      "Trial: 4 | Loss: 0.1527 | Elapsed_time: 21.3550 seconds                                                                \n",
      "Trial: 5 | Loss: 0.1567 | Elapsed_time: 11.4025 seconds                                                                \n",
      "Trial: 6 | Loss: 0.1535 | Elapsed_time: 3.6197 seconds                                                                 \n",
      "Trial: 7 | Loss: 0.1461 | Elapsed_time: 14.5919 seconds                                                                \n",
      "Trial: 8 | Loss: 0.1768 | Elapsed_time: 15.2954 seconds                                                                \n",
      "Trial: 9 | Loss: 0.1427 | Elapsed_time: 10.3500 seconds                                                                \n",
      "Trial: 10 | Loss: 0.3075 | Elapsed_time: 7.8490 seconds                                                                \n",
      "Trial: 11 | Loss: 0.1538 | Elapsed_time: 7.4801 seconds                                                                \n",
      "Trial: 12 | Loss: 0.1401 | Elapsed_time: 10.7791 seconds                                                               \n",
      "Trial: 13 | Loss: 0.1461 | Elapsed_time: 11.6994 seconds                                                               \n",
      "Trial: 14 | Loss: 0.2270 | Elapsed_time: 1.0154 seconds                                                                \n",
      "Trial: 15 | Loss: 0.1824 | Elapsed_time: 21.4150 seconds                                                               \n",
      "Trial: 16 | Loss: 0.1547 | Elapsed_time: 16.5902 seconds                                                               \n",
      "Trial: 17 | Loss: 0.1520 | Elapsed_time: 18.5642 seconds                                                               \n",
      "Trial: 18 | Loss: 0.1512 | Elapsed_time: 6.3187 seconds                                                                \n",
      "Trial: 19 | Loss: 0.1633 | Elapsed_time: 22.4822 seconds                                                               \n",
      "Trial: 20 | Loss: 0.1392 | Elapsed_time: 9.1401 seconds                                                                \n",
      "Trial: 21 | Loss: 0.1464 | Elapsed_time: 17.0314 seconds                                                               \n",
      "Trial: 22 | Loss: 0.1884 | Elapsed_time: 2.3665 seconds                                                                \n",
      "Trial: 23 | Loss: 0.1599 | Elapsed_time: 26.1103 seconds                                                               \n",
      "Trial: 24 | Loss: 0.1526 | Elapsed_time: 15.6717 seconds                                                               \n",
      "Trial: 25 | Loss: 0.1599 | Elapsed_time: 22.4388 seconds                                                               \n",
      "Trial: 26 | Loss: 0.1525 | Elapsed_time: 14.0335 seconds                                                               \n",
      "Trial: 27 | Loss: 0.1413 | Elapsed_time: 8.3336 seconds                                                                \n",
      "Trial: 28 | Loss: 0.1501 | Elapsed_time: 23.6325 seconds                                                               \n",
      "Trial: 29 | Loss: 0.1449 | Elapsed_time: 15.9411 seconds                                                               \n",
      "Trial: 30 | Loss: 0.1490 | Elapsed_time: 13.5548 seconds                                                               \n",
      "Trial: 31 | Loss: 0.1484 | Elapsed_time: 9.7717 seconds                                                                \n",
      "Trial: 32 | Loss: 0.1443 | Elapsed_time: 13.2272 seconds                                                               \n",
      "Trial: 33 | Loss: 0.1578 | Elapsed_time: 10.2759 seconds                                                               \n",
      "Trial: 34 | Loss: 0.1512 | Elapsed_time: 22.5911 seconds                                                               \n",
      "Trial: 35 | Loss: 0.1584 | Elapsed_time: 27.5381 seconds                                                               \n",
      "Trial: 36 | Loss: 0.1434 | Elapsed_time: 7.4775 seconds                                                                \n",
      "Trial: 37 | Loss: 0.1501 | Elapsed_time: 19.6695 seconds                                                               \n",
      "Trial: 38 | Loss: 0.1443 | Elapsed_time: 18.0294 seconds                                                               \n",
      "Trial: 39 | Loss: 0.1883 | Elapsed_time: 10.7593 seconds                                                               \n",
      "Trial: 40 | Loss: 0.1533 | Elapsed_time: 13.5809 seconds                                                               \n",
      "Trial: 41 | Loss: 0.1560 | Elapsed_time: 15.7486 seconds                                                               \n",
      "Trial: 42 | Loss: 0.1569 | Elapsed_time: 22.1478 seconds                                                               \n",
      "Trial: 43 | Loss: 0.2096 | Elapsed_time: 4.5988 seconds                                                                \n",
      "Trial: 44 | Loss: 0.1506 | Elapsed_time: 19.5139 seconds                                                               \n",
      "Trial: 45 | Loss: 0.1493 | Elapsed_time: 11.9822 seconds                                                               \n",
      "Trial: 46 | Loss: 0.1517 | Elapsed_time: 16.5593 seconds                                                               \n",
      "Trial: 47 | Loss: 0.1722 | Elapsed_time: 4.9716 seconds                                                                \n",
      "Trial: 48 | Loss: 0.1796 | Elapsed_time: 22.0291 seconds                                                               \n",
      "Trial: 49 | Loss: 0.1508 | Elapsed_time: 5.8776 seconds                                                                \n",
      "Trial: 50 | Loss: 0.1469 | Elapsed_time: 4.8984 seconds                                                                \n",
      "Trial: 51 | Loss: 0.1505 | Elapsed_time: 14.4322 seconds                                                               \n",
      "Trial: 52 | Loss: 0.1482 | Elapsed_time: 15.1203 seconds                                                               \n",
      "Trial: 53 | Loss: 0.1515 | Elapsed_time: 26.6637 seconds                                                               \n",
      "Trial: 54 | Loss: 0.1473 | Elapsed_time: 15.8052 seconds                                                               \n",
      "Trial: 55 | Loss: 0.2238 | Elapsed_time: 2.4262 seconds                                                                \n",
      "Trial: 56 | Loss: 0.1533 | Elapsed_time: 27.7999 seconds                                                               \n",
      "Trial: 57 | Loss: 0.1487 | Elapsed_time: 13.8933 seconds                                                               \n",
      "Trial: 58 | Loss: 0.1410 | Elapsed_time: 4.6595 seconds                                                                \n",
      "Trial: 59 | Loss: 0.1599 | Elapsed_time: 23.0860 seconds                                                               \n",
      "Trial: 60 | Loss: 0.1523 | Elapsed_time: 9.9493 seconds                                                                \n",
      "Trial: 61 | Loss: 0.1561 | Elapsed_time: 25.5381 seconds                                                               \n",
      "Trial: 62 | Loss: 0.1541 | Elapsed_time: 26.9383 seconds                                                               \n",
      "Trial: 63 | Loss: 0.1539 | Elapsed_time: 15.1608 seconds                                                               \n",
      "Trial: 64 | Loss: 0.2248 | Elapsed_time: 1.6724 seconds                                                                \n",
      "Trial: 65 | Loss: 0.1506 | Elapsed_time: 10.9463 seconds                                                               \n",
      "Trial: 66 | Loss: 0.1506 | Elapsed_time: 11.1449 seconds                                                               \n",
      "Trial: 67 | Loss: 0.1430 | Elapsed_time: 6.1964 seconds                                                                \n",
      "Trial: 68 | Loss: 0.1506 | Elapsed_time: 10.9663 seconds                                                               \n",
      "Trial: 69 | Loss: 0.1427 | Elapsed_time: 10.1551 seconds                                                               \n",
      "Trial: 70 | Loss: 0.1528 | Elapsed_time: 7.2092 seconds                                                                \n",
      "Trial: 71 | Loss: 0.1485 | Elapsed_time: 14.4834 seconds                                                               \n",
      "Trial: 72 | Loss: 0.1510 | Elapsed_time: 9.2212 seconds                                                                \n",
      "Trial: 73 | Loss: 0.1555 | Elapsed_time: 18.5816 seconds                                                               \n",
      "Trial: 74 | Loss: 0.1392 | Elapsed_time: 9.1964 seconds                                                                \n",
      "Trial: 75 | Loss: 0.1392 | Elapsed_time: 10.5106 seconds                                                               \n",
      "Trial: 76 | Loss: 0.1461 | Elapsed_time: 11.6239 seconds                                                               \n",
      "Trial: 77 | Loss: 0.1501 | Elapsed_time: 21.9538 seconds                                                               \n",
      "Trial: 78 | Loss: 0.1447 | Elapsed_time: 14.5256 seconds                                                               \n",
      "Trial: 79 | Loss: 0.1392 | Elapsed_time: 9.5506 seconds                                                                \n",
      "Trial: 80 | Loss: 0.1442 | Elapsed_time: 10.2250 seconds                                                               \n",
      "Trial: 81 | Loss: 0.1810 | Elapsed_time: 4.0944 seconds                                                                \n",
      "Trial: 82 | Loss: 0.1489 | Elapsed_time: 16.1909 seconds                                                               \n",
      "Trial: 83 | Loss: 0.1491 | Elapsed_time: 16.5098 seconds                                                               \n",
      "Trial: 84 | Loss: 0.1542 | Elapsed_time: 24.0483 seconds                                                               \n",
      "Trial: 85 | Loss: 0.1563 | Elapsed_time: 24.8593 seconds                                                               \n",
      "Trial: 86 | Loss: 0.1928 | Elapsed_time: 2.0629 seconds                                                                \n",
      "Trial: 87 | Loss: 0.1515 | Elapsed_time: 15.6665 seconds                                                               \n",
      "Trial: 88 | Loss: 0.1584 | Elapsed_time: 30.9271 seconds                                                               \n",
      "Trial: 89 | Loss: 0.1599 | Elapsed_time: 24.5142 seconds                                                               \n",
      "Trial: 90 | Loss: 0.1476 | Elapsed_time: 27.0387 seconds                                                               \n",
      "Trial: 91 | Loss: 0.1560 | Elapsed_time: 18.0174 seconds                                                               \n",
      "Trial: 92 | Loss: 0.2042 | Elapsed_time: 7.0886 seconds                                                                \n",
      "Trial: 93 | Loss: 0.1453 | Elapsed_time: 27.8954 seconds                                                               \n",
      "Trial: 94 | Loss: 0.1531 | Elapsed_time: 3.8369 seconds                                                                \n",
      "Trial: 95 | Loss: 0.1531 | Elapsed_time: 10.0055 seconds                                                               \n",
      "Trial: 96 | Loss: 0.1501 | Elapsed_time: 23.2891 seconds                                                               \n",
      "Trial: 97 | Loss: 0.1434 | Elapsed_time: 7.4679 seconds                                                                \n",
      "Trial: 98 | Loss: 0.1446 | Elapsed_time: 19.3596 seconds                                                               \n",
      "Trial: 99 | Loss: 0.1789 | Elapsed_time: 13.4477 seconds                                                               \n",
      "100%|█████████████████████████████████████████████| 100/100 [23:55<00:00, 14.36s/trial, best loss: 0.13923520387039723]\n",
      "Wall time: 23min 57s\n"
     ]
    }
   ],
   "source": [
    "import xgboost as xgb\n",
    "from sklearn.model_selection import StratifiedKFold, cross_validate, StratifiedShuffleSplit\n",
    "from hyperopt import fmin, hp, tpe, space_eval, Trials\n",
    "from hyperopt.early_stop import no_progress_loss\n",
    "\n",
    "sss = StratifiedShuffleSplit(n_splits = 1, train_size = 0.1, random_state = 42)\n",
    "indexes = list([train_index for train_index, test_index in sss.split(X, y)][0])\n",
    "\n",
    "X_train = X.iloc[indexes, :]\n",
    "y_train = y.iloc[indexes]\n",
    "\n",
    "# Definición del espacio / dominio de parámetros.\n",
    "search_space = {'n_estimators' : hp.randint('a', 5, 1000),\n",
    "                'max_depth' : hp.randint('b', 3, 20),\n",
    "                'random_state' : 42, \n",
    "                'tree_method' : 'gpu_hist', \n",
    "                'gpu_id' : 0,\n",
    "                'learning_rate' : hp.choice('c', [0.01, 0.05, 0.1, 0.15, 0.2])           \n",
    "                }\n",
    "\n",
    "# Definición de la función objetivo.\n",
    "def objective_func(search_space):\n",
    "    \n",
    "    global i, scorings, estimator, X_train, y_train\n",
    "    start_time = time.time()\n",
    "    i += 1\n",
    "    \n",
    "    clf = xgb.XGBClassifier(**search_space)\n",
    "    skf = StratifiedKFold(random_state = 42, n_splits = 4, shuffle = True)\n",
    "    cv = cross_validate(estimator = clf, X = X_train, y = y_train, cv = skf, verbose = 0, n_jobs = -1, scoring = ('precision', 'recall', 'roc_auc', 'accuracy', 'f1'))\n",
    "    \n",
    "    loss = 1 - cv['test_f1'].mean() + cv['test_f1'].std()\n",
    "\n",
    "    scorings.append({'trial': i,\n",
    "                     'search_space' : str(search_space),\n",
    "                     'scorings' : {'Recall': cv['test_recall'].mean(),\n",
    "                                   'Precision': cv['test_precision'].mean(),\n",
    "                                   'AUC': cv['test_roc_auc'].mean(),\n",
    "                                   'Accuracy': cv['test_accuracy'].mean(),\n",
    "                                   'Recall_Std': cv['test_recall'].std(),\n",
    "                                   'Precision_Std': cv['test_precision'].std(),\n",
    "                                   'AUC_Std': cv['test_roc_auc'].std(),\n",
    "                                   'Accuracy_Std': cv['test_accuracy'].std(),\n",
    "                                   'F1-Score': cv['test_f1'].mean()}\n",
    "                    }\n",
    "                   )\n",
    "    \n",
    "    elapsed_time = time.time() - start_time\n",
    "    \n",
    "    print('Trial: %i | Loss: %.4f | Elapsed_time: %.4f seconds' % (i, loss, elapsed_time))\n",
    "    \n",
    "    return loss\n",
    "\n",
    "# Ejecución del optimizador.\n",
    "i = -1\n",
    "scorings = []\n",
    "rstate = np.random.default_rng(42)\n",
    "trials = Trials() # Para el logging de resultados.\n",
    "best_params = fmin(fn = objective_func, space = search_space, algo = tpe.suggest, max_evals = 100, trials = trials, rstate = rstate)"
   ]
  },
  {
   "cell_type": "code",
   "execution_count": 25,
   "id": "520adb76-1fd5-493d-a27a-af52d8fd4fbf",
   "metadata": {},
   "outputs": [
    {
     "name": "stdout",
     "output_type": "stream",
     "text": [
      "\n",
      "Best Trial:\n",
      "Trial ID : 20\n",
      "Loss : 0.13923520387039723\n",
      "Params : {'gpu_id': 0, 'learning_rate': 0.05, 'max_depth': 7, 'n_estimators': 287, 'random_state': 42, 'tree_method': 'gpu_hist'}\n",
      "\n",
      "Json file: 20220301_110121.json\n",
      "\n",
      "Scoring details:\n",
      "\n",
      "      Recall Precision       AUC  Accuracy Recall_Std Precision_Std   AUC_Std Accuracy_Std  F1-Score\n",
      "0   0.774704  0.965925  0.998369  0.999674   0.029126      0.012985  0.001234     0.000042  0.859526\n",
      "1   0.794494   0.96523  0.998302  0.999697   0.027237      0.009593  0.002083     0.000028    0.8712\n",
      "2   0.709294  0.979512   0.96284  0.999605   0.043339      0.008091  0.031919     0.000048  0.821845\n",
      "3   0.794484  0.964809  0.999307  0.999697   0.029581      0.008046  0.000378     0.000042  0.871155\n",
      "4   0.792969  0.957706  0.999231  0.999688   0.028462      0.012733  0.000328     0.000044  0.867366\n",
      "5   0.788396  0.955667  0.999168   0.99968   0.029588      0.011742  0.000417     0.000044  0.863768\n",
      "6    0.78689  0.963199  0.998906  0.999686   0.029056      0.019046   0.00062     0.000042  0.865777\n",
      "7   0.794494  0.965257  0.997475  0.999697   0.030459      0.012776  0.002146     0.000036  0.871159\n",
      "8   0.724483  0.973558  0.991027  0.999619   0.012185      0.008251  0.004427     0.000014  0.830659\n",
      "9   0.794494   0.96523  0.998352  0.999697   0.027237      0.009593  0.001991     0.000028    0.8712\n",
      "10  0.572238  0.982111  0.983578  0.999434   0.037304      0.014284   0.00471     0.000046  0.722322\n",
      "11  0.791436  0.956008  0.999205  0.999684   0.032598      0.007847  0.000355      0.00004  0.865575\n",
      "12  0.794503  0.968662  0.998708  0.999701   0.021003      0.011284  0.001077     0.000028  0.872783\n",
      "13  0.792969  0.956378  0.997502  0.999686   0.025353       0.01196  0.002184     0.000025  0.866683\n",
      "14  0.669678  0.988828   0.90576  0.999564   0.034063      0.011413  0.015114     0.000046  0.798059\n",
      "15  0.727504  0.973694  0.994824  0.999623   0.023831      0.007958  0.002895     0.000028  0.832518\n",
      "16  0.789939  0.955669   0.99921  0.999682   0.027546      0.009362  0.000399     0.000042  0.864761\n",
      "17   0.78689  0.955959  0.998343  0.999678   0.026018      0.013031  0.002015     0.000031  0.862895\n",
      "18  0.785375  0.964433  0.998274  0.999686   0.025743      0.006526  0.002034     0.000035  0.865543\n",
      "19  0.754915  0.968899  0.997273  0.999652   0.017841      0.010347  0.002223     0.000024  0.848478\n",
      "20  0.796018  0.970433  0.998931  0.999705   0.022397      0.008423  0.000493     0.000029  0.874417\n",
      "21  0.794484  0.963442  0.998542  0.999695   0.029581      0.012452  0.001637     0.000035  0.870442\n",
      "22  0.727531  0.989677  0.984939  0.999639   0.039483      0.003381  0.005113      0.00005  0.837983\n",
      "23  0.789902  0.953986  0.999199   0.99968   0.033807      0.014944  0.000336     0.000051  0.863918\n",
      "24   0.78993  0.961218  0.999225  0.999688   0.028923       0.01349  0.000287     0.000042  0.866918\n",
      "25  0.786881  0.953776  0.999125  0.999676   0.031858      0.010888  0.000434     0.000047  0.862058\n",
      "26   0.78993  0.961189  0.999025  0.999688   0.028923      0.012434  0.000493     0.000042  0.866913\n",
      "27  0.791454  0.972071   0.99879  0.999701   0.020599      0.010472  0.000642     0.000029  0.872355\n",
      "28  0.791463  0.959604  0.998281  0.999688   0.029128      0.010047  0.002017     0.000036   0.86712\n",
      "29  0.794503  0.965109  0.998633  0.999697   0.024666      0.014184  0.001514     0.000035  0.871288\n",
      "30  0.796018  0.961491  0.999329  0.999695   0.027602      0.015248  0.000218     0.000043   0.87073\n",
      "31  0.791445  0.964913  0.998613  0.999694   0.031091      0.004851  0.001277     0.000035  0.869217\n",
      "32  0.794503  0.968551  0.999228  0.999701   0.024666      0.012579  0.000311     0.000037  0.872738\n",
      "33  0.785347  0.955714  0.999096  0.999676   0.029302      0.014629  0.000633     0.000042  0.861893\n",
      "34  0.794484  0.956069  0.999196  0.999688   0.026603      0.013316  0.000315     0.000041  0.867617\n",
      "35  0.789902  0.955779  0.999156  0.999682   0.033807       0.01344  0.000431     0.000049  0.864629\n",
      "36  0.791454  0.966993  0.996711  0.999695   0.024324      0.014928  0.002298     0.000029  0.870127\n",
      "37   0.78993  0.955894  0.999212  0.999682   0.022403      0.011025  0.000368     0.000032  0.864847\n",
      "38  0.792979   0.96313  0.998284  0.999694    0.02257      0.008362  0.002008     0.000029  0.869619\n",
      "39  0.732086  0.979625  0.981854  0.999635   0.038509      0.003941  0.004707     0.000049  0.837394\n",
      "40  0.791426  0.956042  0.999187  0.999684   0.032354       0.00763  0.000355     0.000038  0.865573\n",
      "41  0.789921  0.955784  0.999128  0.999682    0.03144      0.009975  0.000502     0.000044  0.864674\n",
      "42  0.788396  0.959291  0.999247  0.999684   0.032863      0.012684  0.000301     0.000047  0.865152\n",
      "43  0.698623  0.981108  0.924211  0.999593   0.039205      0.006238   0.01071     0.000045  0.815365\n",
      "44  0.794484  0.958086  0.999025   0.99969   0.029581      0.016067  0.000785     0.000041  0.868291\n",
      "45  0.789921   0.95851  0.997493  0.999684   0.028329      0.021744  0.002107     0.000032  0.865526\n",
      "46   0.78993  0.952404  0.999096  0.999678   0.025508      0.007379  0.000617     0.000031  0.863338\n",
      "47  0.756458  0.965089  0.998287   0.99965   0.031465      0.006208  0.001297      0.00004  0.847772\n",
      "48  0.730552  0.971785  0.994781  0.999625   0.020869      0.008419  0.002921     0.000026   0.83388\n",
      "49  0.779278  0.969954  0.998292  0.999684   0.023161      0.013163  0.001272     0.000031  0.863975\n",
      "50  0.776238  0.979255  0.996385   0.99969   0.021456      0.013845  0.002563     0.000026  0.865743\n",
      "51   0.79296  0.961357   0.99925  0.999692   0.031312      0.008888  0.000356      0.00004  0.868721\n",
      "52  0.788405  0.957628   0.99828  0.999682   0.023585       0.00478  0.002038     0.000025  0.864572\n",
      "53  0.791426  0.959571  0.999239  0.999688   0.029341      0.012298  0.000325     0.000039  0.867106\n",
      "54  0.794503  0.961474  0.999015  0.999694   0.025409      0.013363  0.000404     0.000037  0.869818\n",
      "55  0.678816  0.984784  0.911912  0.999572   0.039101      0.009378  0.010255     0.000048   0.80295\n",
      "56  0.791445   0.95418   0.99923  0.999682   0.026578      0.012727  0.000401     0.000039  0.865008\n",
      "57  0.791454  0.957988  0.998059  0.999686   0.027549      0.012073  0.002257     0.000031  0.866424\n",
      "58  0.796018  0.975968  0.997379  0.999711   0.028918      0.011387  0.001686     0.000037  0.876515\n",
      "59  0.786881  0.953776  0.999181  0.999676   0.031858      0.010888  0.000384     0.000047  0.862058\n",
      "60  0.792979  0.957674  0.999164  0.999688   0.026369      0.014061  0.000469     0.000044  0.867415\n",
      "61  0.786881  0.955674  0.999252  0.999678   0.028468      0.011209  0.000352      0.00004  0.862845\n",
      "62  0.779268  0.969966  0.998638  0.999684   0.028613      0.013033  0.000726     0.000037  0.863868\n",
      "63  0.791454  0.957658  0.999049  0.999686   0.031039      0.010362  0.000379     0.000043   0.86636\n",
      "64  0.677328  0.993194   0.92147  0.999578   0.040838      0.007394  0.011221     0.000056  0.804765\n",
      "65  0.788396  0.958479  0.997409  0.999682   0.029588      0.021708  0.002153     0.000032  0.864549\n",
      "66  0.788396  0.958479  0.997418  0.999682   0.029588      0.021708  0.002148     0.000032  0.864549\n",
      "67  0.794503  0.970738  0.997397  0.999703   0.028184      0.016111   0.00205     0.000035   0.87342\n",
      "68  0.788396  0.958479   0.99741  0.999682   0.029588      0.021708  0.002154     0.000032  0.864549\n",
      "69  0.794494   0.96523  0.998344  0.999697   0.027237      0.009593  0.002006     0.000028    0.8712\n",
      "70  0.785375    0.9608  0.998233  0.999682   0.025743      0.004108    0.0021     0.000035  0.864091\n",
      "71   0.78993  0.957854   0.99825  0.999684   0.026226      0.009479  0.001951     0.000028   0.86549\n",
      "72  0.791445  0.954177  0.998145  0.999682   0.026578      0.005609  0.002275     0.000033  0.864972\n",
      "73  0.785366   0.95738  0.998947  0.999678   0.027554      0.010339  0.000823     0.000038  0.862634\n",
      "74  0.796018  0.970433  0.998931  0.999705   0.022397      0.008423  0.000493     0.000029  0.874417\n",
      "75  0.796018  0.970433  0.998698  0.999705   0.022397      0.008423  0.001031     0.000029  0.874417\n",
      "76   0.78993  0.966829  0.998707  0.999694   0.025508      0.014023  0.001213     0.000032  0.869157\n",
      "77  0.792979  0.963151  0.998308  0.999694   0.029685       0.01297   0.00197     0.000042   0.86952\n",
      "78  0.794494   0.96333  0.999054  0.999695   0.024354      0.012676  0.000381     0.000033   0.87055\n",
      "79  0.796018  0.970433  0.998798  0.999705   0.022397      0.008423  0.000732     0.000029  0.874417\n",
      "80  0.780793    0.9799  0.996459  0.999695    0.02912      0.017157    0.0026     0.000023   0.86848\n",
      "81   0.73058  0.971964  0.997112  0.999625   0.024286       0.01123  0.002254     0.000029  0.833846\n",
      "82  0.792979   0.96139  0.999082  0.999692   0.026369      0.013404  0.000354     0.000039  0.868858\n",
      "83  0.792988  0.955903  0.999165  0.999686   0.024089      0.005401  0.000437     0.000034  0.866699\n",
      "84  0.789911  0.959425  0.999211  0.999686   0.030891      0.012516   0.00034     0.000043  0.866135\n",
      "85  0.765567  0.973154  0.998836   0.99967    0.02167       0.01059  0.000505     0.000026  0.856736\n",
      "86  0.722977  0.985627  0.980267  0.999629   0.039201      0.010335  0.006142     0.000051  0.833489\n",
      "87   0.78993  0.954139  0.999213   0.99968   0.022403      0.012623  0.000377     0.000034  0.864134\n",
      "88  0.789902  0.955779  0.999182  0.999682   0.033807       0.01344  0.000403     0.000049  0.864629\n",
      "89  0.789902  0.953986  0.999174   0.99968   0.033807      0.014944  0.000355     0.000051  0.863918\n",
      "90  0.792979  0.959897  0.998241   0.99969   0.029685      0.011902  0.002056     0.000032  0.868049\n",
      "91  0.789921  0.955784  0.999137  0.999682    0.03144      0.009975  0.000487     0.000044  0.864674\n",
      "92  0.713867  0.977853  0.984377  0.999609   0.047904      0.010417  0.005599     0.000051  0.824073\n",
      "93  0.791445  0.961506  0.998452   0.99969   0.026578      0.008009  0.001839     0.000025  0.867862\n",
      "94  0.777753  0.968046  0.998382   0.99968   0.023628       0.01364  0.001255     0.000033   0.86228\n",
      "95  0.785347  0.961305  0.998899  0.999682   0.030545      0.012915  0.000618     0.000034  0.864006\n",
      "96  0.791463  0.959604  0.998288  0.999688   0.029128      0.010047  0.002015     0.000036   0.86712\n",
      "97  0.791454  0.966993  0.996717  0.999695   0.024324      0.014928  0.002303     0.000029  0.870127\n",
      "98  0.797542  0.961608  0.999182  0.999697   0.023933      0.013337  0.000378     0.000036  0.871722\n",
      "99  0.729047  0.973682  0.991038  0.999625   0.018873      0.008244  0.004464     0.000024  0.833633\n"
     ]
    }
   ],
   "source": [
    "hyperopt_printer(trials)\n",
    "json_export(scorings)\n",
    "scorings_to_df(scorings)"
   ]
  },
  {
   "cell_type": "markdown",
   "id": "3decefe3-a724-4a9f-ad93-26ff9598836a",
   "metadata": {
    "jp-MarkdownHeadingCollapsed": true,
    "tags": []
   },
   "source": [
    "##### 6.2.9.2. Segunda optimización de hiperparámetros"
   ]
  },
  {
   "cell_type": "code",
   "execution_count": 28,
   "id": "7e0340b0-363b-49f4-8be9-16b85db0b579",
   "metadata": {},
   "outputs": [
    {
     "name": "stdout",
     "output_type": "stream",
     "text": [
      "Trial: 0 | Loss: 1.0000 | Elapsed_time: 3.4508 seconds                                                                 \n",
      "Trial: 1 | Loss: 1.0000 | Elapsed_time: 3.2265 seconds                                                                 \n",
      "Trial: 2 | Loss: 1.0000 | Elapsed_time: 3.6712 seconds                                                                 \n",
      "Trial: 3 | Loss: 1.0000 | Elapsed_time: 3.9724 seconds                                                                 \n",
      "Trial: 4 | Loss: 1.0026 | Elapsed_time: 5.2749 seconds                                                                 \n",
      "Trial: 5 | Loss: 0.2425 | Elapsed_time: 8.3376 seconds                                                                 \n",
      "Trial: 6 | Loss: 1.0000 | Elapsed_time: 3.5965 seconds                                                                 \n",
      "Trial: 7 | Loss: 1.0000 | Elapsed_time: 3.5351 seconds                                                                 \n",
      "Trial: 8 | Loss: 0.8290 | Elapsed_time: 5.8730 seconds                                                                 \n",
      "Trial: 9 | Loss: 1.0000 | Elapsed_time: 3.5540 seconds                                                                 \n",
      "Trial: 10 | Loss: 1.0000 | Elapsed_time: 3.6946 seconds                                                                \n",
      "Trial: 11 | Loss: 0.5135 | Elapsed_time: 6.9767 seconds                                                                \n",
      "Trial: 12 | Loss: 1.0000 | Elapsed_time: 3.6960 seconds                                                                \n",
      "Trial: 13 | Loss: 1.0000 | Elapsed_time: 3.8327 seconds                                                                \n",
      "Trial: 14 | Loss: 1.0000 | Elapsed_time: 3.6090 seconds                                                                \n",
      "Trial: 15 | Loss: 0.9965 | Elapsed_time: 5.8261 seconds                                                                \n",
      "Trial: 16 | Loss: 1.0000 | Elapsed_time: 3.4788 seconds                                                                \n",
      "Trial: 17 | Loss: 1.0000 | Elapsed_time: 3.6019 seconds                                                                \n",
      "Trial: 18 | Loss: 0.9424 | Elapsed_time: 5.3981 seconds                                                                \n",
      "Trial: 19 | Loss: 1.0000 | Elapsed_time: 3.4008 seconds                                                                \n",
      "Trial: 20 | Loss: 0.4582 | Elapsed_time: 6.5833 seconds                                                                \n",
      "Trial: 21 | Loss: 0.1898 | Elapsed_time: 10.5711 seconds                                                               \n",
      "Trial: 22 | Loss: 0.5318 | Elapsed_time: 6.6327 seconds                                                                \n",
      "Trial: 23 | Loss: 0.1597 | Elapsed_time: 10.5365 seconds                                                               \n",
      "Trial: 24 | Loss: 0.4649 | Elapsed_time: 5.8840 seconds                                                                \n",
      "Trial: 25 | Loss: 0.7506 | Elapsed_time: 5.0418 seconds                                                                \n",
      "Trial: 26 | Loss: 0.1917 | Elapsed_time: 8.1866 seconds                                                                \n",
      "Trial: 27 | Loss: 0.2062 | Elapsed_time: 8.7986 seconds                                                                \n",
      "Trial: 28 | Loss: 0.4562 | Elapsed_time: 8.1748 seconds                                                                \n",
      "Trial: 29 | Loss: 1.0000 | Elapsed_time: 4.1150 seconds                                                                \n",
      "Trial: 30 | Loss: 0.8549 | Elapsed_time: 5.9734 seconds                                                                \n",
      "Trial: 31 | Loss: 0.6587 | Elapsed_time: 5.7816 seconds                                                                \n",
      "Trial: 32 | Loss: 0.9414 | Elapsed_time: 5.6808 seconds                                                                \n",
      "Trial: 33 | Loss: 0.1785 | Elapsed_time: 9.1500 seconds                                                                \n",
      "Trial: 34 | Loss: 0.9949 | Elapsed_time: 5.3274 seconds                                                                \n",
      "Trial: 35 | Loss: 1.0000 | Elapsed_time: 4.2807 seconds                                                                \n",
      "Trial: 36 | Loss: 0.2906 | Elapsed_time: 7.8605 seconds                                                                \n",
      "Trial: 37 | Loss: 0.3721 | Elapsed_time: 7.0652 seconds                                                                \n",
      "Trial: 38 | Loss: 0.9874 | Elapsed_time: 5.4483 seconds                                                                \n",
      "Trial: 39 | Loss: 0.9606 | Elapsed_time: 5.3881 seconds                                                                \n",
      "Trial: 40 | Loss: 1.0000 | Elapsed_time: 4.8562 seconds                                                                \n",
      "Trial: 41 | Loss: 0.7814 | Elapsed_time: 5.8343 seconds                                                                \n",
      "Trial: 42 | Loss: 0.1886 | Elapsed_time: 8.3986 seconds                                                                \n",
      "Trial: 43 | Loss: 0.3649 | Elapsed_time: 7.1040 seconds                                                                \n",
      "Trial: 44 | Loss: 1.0000 | Elapsed_time: 3.3653 seconds                                                                \n",
      "Trial: 45 | Loss: 1.0000 | Elapsed_time: 5.1660 seconds                                                                \n",
      "Trial: 46 | Loss: 0.9525 | Elapsed_time: 3.9938 seconds                                                                \n",
      "Trial: 47 | Loss: 1.0000 | Elapsed_time: 3.5855 seconds                                                                \n",
      "Trial: 48 | Loss: 0.4954 | Elapsed_time: 6.5694 seconds                                                                \n",
      "Trial: 49 | Loss: 1.0000 | Elapsed_time: 4.2660 seconds                                                                \n",
      "Trial: 50 | Loss: 0.9039 | Elapsed_time: 5.8043 seconds                                                                \n",
      "Trial: 51 | Loss: 1.0000 | Elapsed_time: 3.3582 seconds                                                                \n",
      "Trial: 52 | Loss: 0.2056 | Elapsed_time: 7.6626 seconds                                                                \n",
      "Trial: 53 | Loss: 0.9016 | Elapsed_time: 5.5823 seconds                                                                \n",
      "Trial: 54 | Loss: 0.2152 | Elapsed_time: 7.0863 seconds                                                                \n",
      "Trial: 55 | Loss: 1.0000 | Elapsed_time: 5.1449 seconds                                                                \n",
      "Trial: 56 | Loss: 1.0000 | Elapsed_time: 4.8212 seconds                                                                \n",
      "Trial: 57 | Loss: 1.0000 | Elapsed_time: 3.5339 seconds                                                                \n",
      "Trial: 58 | Loss: 0.5180 | Elapsed_time: 6.2865 seconds                                                                \n",
      "Trial: 59 | Loss: 1.0000 | Elapsed_time: 4.0584 seconds                                                                \n",
      "Trial: 60 | Loss: 1.0000 | Elapsed_time: 3.4983 seconds                                                                \n",
      "Trial: 61 | Loss: 1.0000 | Elapsed_time: 3.3881 seconds                                                                \n",
      "Trial: 62 | Loss: 0.1855 | Elapsed_time: 8.4583 seconds                                                                \n",
      "Trial: 63 | Loss: 1.0000 | Elapsed_time: 3.4746 seconds                                                                \n",
      "Trial: 64 | Loss: 1.0000 | Elapsed_time: 3.8544 seconds                                                                \n",
      "Trial: 65 | Loss: 0.1832 | Elapsed_time: 8.4720 seconds                                                                \n",
      "Trial: 66 | Loss: 0.1727 | Elapsed_time: 9.6433 seconds                                                                \n",
      "Trial: 67 | Loss: 0.1845 | Elapsed_time: 8.9980 seconds                                                                \n",
      "Trial: 68 | Loss: 0.1819 | Elapsed_time: 9.9647 seconds                                                                \n",
      "Trial: 69 | Loss: 0.1673 | Elapsed_time: 9.6434 seconds                                                                \n",
      "Trial: 70 | Loss: 0.3089 | Elapsed_time: 7.8730 seconds                                                                \n",
      "Trial: 71 | Loss: 0.1835 | Elapsed_time: 9.3195 seconds                                                                \n",
      "Trial: 72 | Loss: 0.1979 | Elapsed_time: 8.0153 seconds                                                                \n",
      "Trial: 73 | Loss: 0.4822 | Elapsed_time: 6.4924 seconds                                                                \n",
      "Trial: 74 | Loss: 0.1913 | Elapsed_time: 9.3819 seconds                                                                \n",
      "Trial: 75 | Loss: 0.1986 | Elapsed_time: 8.0864 seconds                                                                \n",
      "Trial: 76 | Loss: 0.1862 | Elapsed_time: 8.5103 seconds                                                                \n",
      "Trial: 77 | Loss: 0.9197 | Elapsed_time: 6.8765 seconds                                                                \n",
      "Trial: 78 | Loss: 0.1850 | Elapsed_time: 11.0220 seconds                                                               \n",
      "Trial: 79 | Loss: 0.8215 | Elapsed_time: 5.5884 seconds                                                                \n",
      "Trial: 80 | Loss: 0.9733 | Elapsed_time: 5.6138 seconds                                                                \n",
      "Trial: 81 | Loss: 0.8113 | Elapsed_time: 5.9439 seconds                                                                \n",
      "Trial: 82 | Loss: 0.1846 | Elapsed_time: 8.4776 seconds                                                                \n",
      "Trial: 83 | Loss: 0.2106 | Elapsed_time: 8.0661 seconds                                                                \n",
      "Trial: 84 | Loss: 1.0000 | Elapsed_time: 5.0025 seconds                                                                \n",
      "Trial: 85 | Loss: 1.0000 | Elapsed_time: 4.0530 seconds                                                                \n",
      "Trial: 86 | Loss: 0.1726 | Elapsed_time: 9.0478 seconds                                                                \n",
      "Trial: 87 | Loss: 0.9384 | Elapsed_time: 4.9696 seconds                                                                \n",
      "Trial: 88 | Loss: 0.1808 | Elapsed_time: 8.4975 seconds                                                                \n",
      "Trial: 89 | Loss: 1.0000 | Elapsed_time: 3.4288 seconds                                                                \n",
      "Trial: 90 | Loss: 0.2284 | Elapsed_time: 9.3257 seconds                                                                \n",
      "Trial: 91 | Loss: 1.0000 | Elapsed_time: 3.7659 seconds                                                                \n",
      "Trial: 92 | Loss: 0.2193 | Elapsed_time: 8.0909 seconds                                                                \n",
      "Trial: 93 | Loss: 0.4071 | Elapsed_time: 7.2578 seconds                                                                \n",
      "Trial: 94 | Loss: 0.5816 | Elapsed_time: 6.0419 seconds                                                                \n",
      "Trial: 95 | Loss: 0.2039 | Elapsed_time: 8.6469 seconds                                                                \n",
      "Trial: 96 | Loss: 0.1857 | Elapsed_time: 7.7752 seconds                                                                \n",
      "Trial: 97 | Loss: 0.2000 | Elapsed_time: 7.6606 seconds                                                                \n",
      "Trial: 98 | Loss: 0.4035 | Elapsed_time: 6.7236 seconds                                                                \n",
      "Trial: 99 | Loss: 0.5222 | Elapsed_time: 7.0650 seconds                                                                \n",
      "100%|█████████████████████████████████████████████| 100/100 [10:19<00:00,  6.20s/trial, best loss: 0.15968534566137652]\n"
     ]
    }
   ],
   "source": [
    "# Params : {'gpu_id': 0, 'learning_rate': 0.05, 'max_depth': 7, 'n_estimators': 287, 'random_state': 42, 'tree_method': 'gpu_hist'}\n",
    "\n",
    "import xgboost as xgb\n",
    "from sklearn.model_selection import StratifiedKFold, cross_validate, StratifiedShuffleSplit\n",
    "from hyperopt import fmin, hp, tpe, space_eval, Trials\n",
    "from hyperopt.early_stop import no_progress_loss\n",
    "\n",
    "sss = StratifiedShuffleSplit(n_splits = 1, train_size = 0.1, random_state = 42)\n",
    "indexes = list([train_index for train_index, test_index in sss.split(X, y)][0])\n",
    "\n",
    "X_train = X.iloc[indexes, :]\n",
    "y_train = y.iloc[indexes]\n",
    "\n",
    "# Definición del espacio / dominio de parámetros.\n",
    "search_space = {'n_estimators' : 287,\n",
    "                'max_depth' : 7,\n",
    "                'random_state' : 42, \n",
    "                'tree_method' : 'gpu_hist', \n",
    "                'gpu_id' : 0,\n",
    "                'learning_rate' : 0.05,\n",
    "                'gamma' : hp.uniform('a', 0, 1),\n",
    "                'min_child_weight' : hp.uniform('b', 0, 1),\n",
    "                'max_delta_step' : hp.uniform('c', 0, 1),\n",
    "                'subsample' : hp.uniform('d', 0, 1),\n",
    "                'colsample_bytree' : hp.uniform('e', 0, 1),\n",
    "                'colsample_bylevel' : hp.uniform('f', 0, 1),\n",
    "                'colsample_bynode' : hp.uniform('g', 0, 1),\n",
    "                'reg_alpha' : hp.uniform('h', 0, 1),\n",
    "                'reg_lambda' : hp.uniform('i', 0, 1),\n",
    "                'scale_pos_weight' : hp.uniform('j', 0, 1)\n",
    "                }\n",
    "\n",
    "# Definición de la función objetivo.\n",
    "def objective_func(search_space):\n",
    "    \n",
    "    global i, scorings, estimator, X_train, y_train\n",
    "    start_time = time.time()\n",
    "    i += 1\n",
    "    \n",
    "    clf = xgb.XGBClassifier(**search_space)\n",
    "    skf = StratifiedKFold(random_state = 42, n_splits = 4, shuffle = True)\n",
    "    cv = cross_validate(estimator = clf, X = X_train, y = y_train, cv = skf, verbose = 0, n_jobs = -1, scoring = ('precision', 'recall', 'roc_auc', 'accuracy', 'f1'))\n",
    "    \n",
    "    loss = 1 - cv['test_f1'].mean() + cv['test_f1'].std()\n",
    "\n",
    "    scorings.append({'trial': i,\n",
    "                     'search_space' : str(search_space),\n",
    "                     'scorings' : {'Recall': cv['test_recall'].mean(),\n",
    "                                   'Precision': cv['test_precision'].mean(),\n",
    "                                   'AUC': cv['test_roc_auc'].mean(),\n",
    "                                   'Accuracy': cv['test_accuracy'].mean(),\n",
    "                                   'Recall_Std': cv['test_recall'].std(),\n",
    "                                   'Precision_Std': cv['test_precision'].std(),\n",
    "                                   'AUC_Std': cv['test_roc_auc'].std(),\n",
    "                                   'Accuracy_Std': cv['test_accuracy'].std(),\n",
    "                                   'F1-Score': cv['test_f1'].mean()}\n",
    "                    }\n",
    "                   )\n",
    "    \n",
    "    elapsed_time = time.time() - start_time\n",
    "    \n",
    "    print('Trial: %i | Loss: %.4f | Elapsed_time: %.4f seconds' % (i, loss, elapsed_time))\n",
    "    \n",
    "    return loss\n",
    "\n",
    "# Ejecución del optimizador.\n",
    "i = -1\n",
    "scorings = []\n",
    "rstate = np.random.default_rng(42)\n",
    "trials = Trials() # Para el logging de resultados.\n",
    "best_params = fmin(fn = objective_func, space = search_space, algo = tpe.suggest, max_evals = 100, trials = trials, rstate = rstate)"
   ]
  },
  {
   "cell_type": "code",
   "execution_count": 29,
   "id": "56f8e357-a8e4-4f01-bc97-ff4f51175e95",
   "metadata": {},
   "outputs": [
    {
     "name": "stdout",
     "output_type": "stream",
     "text": [
      "\n",
      "Best Trial:\n",
      "Trial ID : 23\n",
      "Loss : 0.15968534566137652\n",
      "Params : {'colsample_bylevel': 0.67144859255828, 'colsample_bynode': 0.7831315094844271, 'colsample_bytree': 0.8014899183766985, 'gamma': 0.014974393635115657, 'gpu_id': 0, 'learning_rate': 0.05, 'max_delta_step': 0.9959894166399985, 'max_depth': 7, 'min_child_weight': 0.7431045276160863, 'n_estimators': 287, 'random_state': 42, 'reg_alpha': 0.5395766188121431, 'reg_lambda': 0.3611246194409444, 'scale_pos_weight': 0.9983922138002084, 'subsample': 0.9933497238368184, 'tree_method': 'gpu_hist'}\n",
      "\n",
      "Json file: 20220301_112146.json\n",
      "\n",
      "Scoring details:\n",
      "\n",
      "      Recall Precision       AUC  Accuracy Recall_Std Precision_Std   AUC_Std Accuracy_Std  F1-Score\n",
      "0        0.0       0.0  0.732324  0.998709        0.0           0.0  0.026705     0.000003       0.0\n",
      "1        0.0       0.0       0.5  0.998709        0.0           0.0       0.0     0.000003       0.0\n",
      "2        0.0       0.0  0.911633  0.998709        0.0           0.0  0.021581     0.000003       0.0\n",
      "3        0.0       0.0  0.961861  0.998709        0.0           0.0  0.005342     0.000003       0.0\n",
      "4    0.00607       0.5  0.984556  0.998717   0.007423           0.5   0.00317     0.000007  0.011959\n",
      "5   0.649945  0.992923  0.997272  0.999542      0.037       0.00777  0.000823     0.000051  0.785093\n",
      "6        0.0       0.0  0.516736  0.998709        0.0           0.0  0.004541     0.000003       0.0\n",
      "7        0.0       0.0       0.5  0.998709        0.0           0.0       0.0     0.000003       0.0\n",
      "8   0.117166       1.0  0.984156  0.998861    0.02356           0.0  0.002909     0.000029  0.208955\n",
      "9        0.0       0.0  0.511433  0.998709        0.0           0.0  0.007584     0.000003       0.0\n",
      "10       0.0       0.0       0.5  0.998709        0.0           0.0       0.0     0.000003       0.0\n",
      "11  0.350074   0.99569  0.992286  0.999159   0.028066      0.007466  0.001345     0.000036  0.517379\n",
      "12       0.0       0.0  0.516736  0.998709        0.0           0.0  0.004541     0.000003       0.0\n",
      "13       0.0       0.0   0.94471  0.998709        0.0           0.0  0.010343     0.000003       0.0\n",
      "14       0.0       0.0  0.690186  0.998709        0.0           0.0  0.035665     0.000003       0.0\n",
      "15  0.006088      0.75  0.967199  0.998717   0.004312      0.433013  0.005422     0.000007  0.012066\n",
      "16       0.0       0.0  0.810466  0.998709        0.0           0.0  0.047521     0.000003       0.0\n",
      "17       0.0       0.0       0.5  0.998709        0.0           0.0       0.0     0.000003       0.0\n",
      "18  0.068431       1.0  0.986519  0.998798   0.038236           0.0  0.001839     0.000047   0.12566\n",
      "19       0.0       0.0  0.548185  0.998709        0.0           0.0  0.025966     0.000003       0.0\n",
      "20  0.410966       1.0  0.991192   0.99924   0.040162           0.0  0.002709     0.000052  0.581404\n",
      "21  0.719937  0.989917  0.998001  0.999629     0.0353      0.013341  0.000633     0.000044  0.833024\n",
      "22   0.35922       1.0  0.994198  0.999173   0.052876           0.0  0.000999     0.000068  0.526309\n",
      "23  0.759497  0.984521  0.998621  0.999674    0.02688      0.012935  0.000751     0.000034  0.857153\n",
      "24  0.395686  0.996094  0.994675  0.999218   0.029397      0.006766  0.000671     0.000037  0.565764\n",
      "25  0.150702  0.990741  0.971975  0.998902    0.00821      0.016038   0.00605     0.000012  0.261484\n",
      "26  0.712288  0.989902   0.99829  0.999619   0.031833       0.01045  0.000578     0.000034  0.827884\n",
      "27  0.686456  0.991342  0.997347  0.999587   0.023765      0.010558  0.000534     0.000033  0.810942\n",
      "28  0.401755  0.996667  0.997097  0.999226    0.02908      0.005774  0.000563     0.000033  0.571967\n",
      "29       0.0       0.0  0.951206  0.998709        0.0           0.0  0.013284     0.000003       0.0\n",
      "30  0.091353       1.0  0.988911  0.998827   0.013092           0.0  0.002383      0.00002  0.167148\n",
      "31  0.223707       1.0  0.989554  0.998998   0.017955           0.0  0.001984     0.000021   0.36527\n",
      "32  0.038045       1.0  0.987588  0.998758   0.007884           0.0   0.00313      0.00001   0.07319\n",
      "33  0.735135  0.990278  0.998185  0.999648   0.037126      0.010161  0.001037      0.00004  0.843129\n",
      "34  0.012186      0.75  0.985733  0.998725   0.009647      0.433013  0.003019     0.000014  0.023899\n",
      "35       0.0       0.0  0.944102  0.998709        0.0           0.0  0.006279     0.000003       0.0\n",
      "36  0.572302       1.0  0.996838  0.999448   0.022865           0.0  0.000382      0.00003  0.727714\n",
      "37  0.517415  0.997396  0.997504  0.999375   0.058385      0.004511   0.00048     0.000073  0.679269\n",
      "38  0.024381       1.0  0.984098  0.998741   0.018302           0.0  0.002128     0.000026  0.046988\n",
      "39  0.024344       1.0  0.962187  0.998741   0.004247           0.0  0.014205     0.000003  0.047497\n",
      "40       0.0       0.0  0.980557  0.998709        0.0           0.0  0.005917     0.000003       0.0\n",
      "41  0.129379       1.0  0.992466  0.998876   0.006697           0.0  0.002681      0.00001  0.229054\n",
      "42  0.721434  0.990095  0.998062  0.999631    0.03636      0.013013  0.000938     0.000042   0.83399\n",
      "43  0.506938  0.993919  0.996354   0.99936   0.039422      0.006137  0.000575     0.000053  0.670547\n",
      "44       0.0       0.0       0.5  0.998709        0.0           0.0       0.0     0.000003       0.0\n",
      "45       0.0       0.0  0.983477  0.998709        0.0           0.0  0.001775     0.000003       0.0\n",
      "46  0.033472       1.0  0.516736  0.998752   0.009082           0.0  0.004541      0.00001  0.064625\n",
      "47       0.0       0.0  0.875533  0.998709        0.0           0.0  0.018252     0.000003       0.0\n",
      "48   0.36832  0.992248  0.992299  0.999181   0.029747      0.007753  0.001762     0.000036  0.536429\n",
      "49       0.0       0.0  0.950023  0.998709        0.0           0.0  0.004422     0.000003       0.0\n",
      "50  0.062435       1.0  0.987982   0.99879   0.011819           0.0  0.002643     0.000018  0.117297\n",
      "51       0.0       0.0       0.5  0.998709        0.0           0.0       0.0     0.000003       0.0\n",
      "52  0.697127  0.995652  0.997888  0.999605   0.035997      0.007531  0.000589     0.000049  0.819564\n",
      "53  0.092785       1.0  0.983875  0.998829   0.041013           0.0  0.002623     0.000051  0.167231\n",
      "54  0.677328  0.995575  0.997972   0.99958   0.028831      0.007664  0.000822     0.000039  0.805826\n",
      "55  0.003049       0.5  0.986233  0.998713   0.003049           0.5  0.002315     0.000007  0.006061\n",
      "56       0.0       0.0  0.977768  0.998709        0.0           0.0  0.007314     0.000003       0.0\n",
      "57       0.0       0.0  0.857424  0.998709        0.0           0.0  0.033824     0.000003       0.0\n",
      "58  0.354647  0.995763  0.991917  0.999165   0.036715      0.007339  0.001354     0.000048  0.521934\n",
      "59       0.0       0.0  0.961866  0.998709        0.0           0.0  0.012879     0.000003       0.0\n",
      "60       0.0       0.0   0.57786  0.998709        0.0           0.0  0.008347     0.000003       0.0\n",
      "61       0.0       0.0  0.516736  0.998709        0.0           0.0  0.004541     0.000003       0.0\n",
      "62  0.729056  0.996044  0.998197  0.999646   0.041561      0.003959  0.000976      0.00005  0.841143\n",
      "63       0.0       0.0  0.516736  0.998709        0.0           0.0  0.004541     0.000003       0.0\n",
      "64       0.0       0.0  0.960297  0.998709        0.0           0.0  0.008152     0.000003       0.0\n",
      "65  0.730571  0.994167  0.998232  0.999646    0.04044      0.006365   0.00082     0.000046   0.84145\n",
      "66  0.741223  0.988223  0.998651  0.999654   0.033154      0.008635   0.00062     0.000036  0.846528\n",
      "67  0.732095  0.990231   0.99848  0.999644   0.041699      0.010225  0.000566     0.000047  0.840962\n",
      "68  0.730571   0.98828  0.998556   0.99964   0.036323      0.013031  0.000592     0.000039  0.839387\n",
      "69  0.745806  0.992186  0.998521  0.999664   0.030361      0.009644  0.000968     0.000036    0.8511\n",
      "70  0.588904  0.993478  0.997836  0.999464   0.062362      0.011296  0.000607     0.000071   0.73718\n",
      "71  0.732105  0.992092  0.998739  0.999646   0.040282      0.009799  0.000667     0.000049  0.841767\n",
      "72  0.710791  0.995868  0.998178  0.999623   0.039268      0.007157  0.000832      0.00005  0.828865\n",
      "73   0.37136       1.0  0.997374  0.999189    0.02194           0.0  0.000715     0.000027  0.541219\n",
      "74  0.718413  0.991899  0.998354  0.999629   0.037209       0.01004  0.000882     0.000046  0.832656\n",
      "75  0.709294  0.993697     0.998  0.999619   0.036848      0.010916  0.000406      0.00005  0.827203\n",
      "76  0.724501  0.993964  0.998337  0.999639   0.037208      0.006765  0.000618     0.000045  0.837493\n",
      "77  0.051728       1.0  0.993269  0.998776   0.009959           0.0  0.001323      0.00001  0.098197\n",
      "78  0.727513  0.990234  0.998267  0.999639   0.037915      0.012807  0.000914     0.000043  0.838031\n",
      "79  0.124769       1.0  0.980292   0.99887   0.026518           0.0  0.007538     0.000033  0.220858\n",
      "80  0.027421       1.0  0.990305  0.998745   0.013991           0.0  0.002242      0.00002  0.053019\n",
      "81  0.121785       1.0   0.98755  0.998866   0.017893           0.0  0.003691     0.000024  0.216681\n",
      "82  0.730562  0.990248  0.998252  0.999642   0.040723      0.010177  0.000738     0.000045  0.839966\n",
      "83  0.678825   0.99569  0.997652  0.999582    0.02549      0.007466  0.000845     0.000032  0.806962\n",
      "84       0.0       0.0  0.993329  0.998709        0.0           0.0  0.000682     0.000003       0.0\n",
      "85       0.0       0.0   0.93996  0.998709        0.0           0.0  0.005676     0.000003       0.0\n",
      "86  0.736669  0.990201  0.998588   0.99965   0.029784      0.010241   0.00061     0.000032   0.84434\n",
      "87  0.045676       1.0  0.989549  0.998768   0.014008           0.0  0.001758      0.00002  0.087021\n",
      "88  0.727531  0.987976  0.997923  0.999637   0.029514      0.011868  0.000781     0.000035  0.837535\n",
      "89       0.0       0.0  0.655304  0.998709        0.0           0.0  0.016751     0.000003       0.0\n",
      "90  0.656033   0.99537  0.997254  0.999552   0.025013      0.008019  0.000269     0.000036  0.790588\n",
      "91       0.0       0.0  0.611523  0.998709        0.0           0.0  0.015981     0.000003       0.0\n",
      "92  0.663609  0.991189  0.997575  0.999558   0.020599      0.010744  0.000225     0.000024  0.794714\n",
      "93  0.442886  0.993671    0.9966  0.999277    0.02133      0.010962  0.000531     0.000023  0.612279\n",
      "94  0.304425  0.994681  0.990601    0.9991   0.040292      0.009213  0.001586     0.000053  0.464816\n",
      "95  0.701681  0.993644  0.997528  0.999609   0.036771      0.011009  0.000378      0.00005  0.821968\n",
      "96  0.727531   0.99403  0.998261  0.999642   0.039483      0.006665  0.000833     0.000047  0.839452\n",
      "97  0.704721  0.993697  0.998119  0.999613   0.034596      0.010916  0.000484     0.000046  0.824126\n",
      "98  0.452005  0.993902  0.996856  0.999289   0.027158      0.010561  0.000645      0.00003  0.620788\n",
      "99    0.3409       1.0  0.996111  0.999149   0.026996           0.0  0.000665     0.000034  0.507859\n"
     ]
    }
   ],
   "source": [
    "hyperopt_printer(trials)\n",
    "json_export(scorings)\n",
    "scorings_to_df(scorings)"
   ]
  },
  {
   "cell_type": "markdown",
   "id": "5ab72982-1fef-4f6b-8c5c-6856c136cb75",
   "metadata": {
    "tags": []
   },
   "source": [
    "##### 6.2.9.3. Tercera optimización de hiperparámetros"
   ]
  },
  {
   "cell_type": "code",
   "execution_count": 31,
   "id": "3f9b9ffa-3d28-413d-a581-14877d1b8a4b",
   "metadata": {},
   "outputs": [
    {
     "name": "stdout",
     "output_type": "stream",
     "text": [
      "Trial: 0 | Loss: 1.0000 | Elapsed_time: 1.2411 seconds                                                                 \n",
      "Trial: 1 | Loss: 0.1482 | Elapsed_time: 30.3693 seconds                                                                \n",
      "Trial: 2 | Loss: 0.4813 | Elapsed_time: 4.2402 seconds                                                                 \n",
      "Trial: 3 | Loss: 0.1481 | Elapsed_time: 23.0924 seconds                                                                \n",
      "Trial: 4 | Loss: 0.1581 | Elapsed_time: 10.8071 seconds                                                                \n",
      "Trial: 5 | Loss: 0.1482 | Elapsed_time: 26.5306 seconds                                                                \n",
      "Trial: 6 | Loss: 0.1482 | Elapsed_time: 27.0549 seconds                                                                \n",
      "Trial: 7 | Loss: 0.1560 | Elapsed_time: 17.4966 seconds                                                                \n",
      "Trial: 8 | Loss: 1.0000 | Elapsed_time: 1.2934 seconds                                                                 \n",
      "Trial: 9 | Loss: 0.1489 | Elapsed_time: 31.6714 seconds                                                                \n",
      "Trial: 10 | Loss: 0.9604 | Elapsed_time: 1.7773 seconds                                                                \n",
      "Trial: 11 | Loss: 0.1482 | Elapsed_time: 30.3919 seconds                                                               \n",
      "Trial: 12 | Loss: 0.1571 | Elapsed_time: 12.4233 seconds                                                               \n",
      "Trial: 13 | Loss: 0.1487 | Elapsed_time: 25.3793 seconds                                                               \n",
      "Trial: 14 | Loss: 0.1532 | Elapsed_time: 19.6616 seconds                                                               \n",
      "Trial: 15 | Loss: 0.1761 | Elapsed_time: 6.9100 seconds                                                                \n",
      "Trial: 16 | Loss: 0.1487 | Elapsed_time: 24.9011 seconds                                                               \n",
      "Trial: 17 | Loss: 0.1514 | Elapsed_time: 21.2439 seconds                                                               \n",
      "Trial: 18 | Loss: 0.1492 | Elapsed_time: 32.3466 seconds                                                               \n",
      "Trial: 19 | Loss: 0.1757 | Elapsed_time: 7.1103 seconds                                                                \n",
      "100%|███████████████████████████████████████████████| 20/20 [05:56<00:00, 17.81s/trial, best loss: 0.14813874213581021]\n"
     ]
    }
   ],
   "source": [
    "# Params : {'colsample_bylevel': 0.67144859255828, 'colsample_bynode': 0.7831315094844271, 'colsample_bytree': 0.8014899183766985, \n",
    "# 'gamma': 0.014974393635115657, 'gpu_id': 0, 'learning_rate': 0.05, 'max_delta_step': 0.9959894166399985, 'max_depth': 7, \n",
    "# 'min_child_weight': 0.7431045276160863, 'n_estimators': 287, 'random_state': 42, 'reg_alpha': 0.5395766188121431, 'reg_lambda': 0.3611246194409444, \n",
    "# 'scale_pos_weight': 0.9983922138002084, 'subsample': 0.9933497238368184, 'tree_method': 'gpu_hist'}\n",
    "\n",
    "import xgboost as xgb\n",
    "from sklearn.model_selection import StratifiedKFold, cross_validate, StratifiedShuffleSplit\n",
    "from hyperopt import fmin, hp, tpe, space_eval, Trials\n",
    "from hyperopt.early_stop import no_progress_loss\n",
    "\n",
    "sss = StratifiedShuffleSplit(n_splits = 1, train_size = 0.1, random_state = 42)\n",
    "indexes = list([train_index for train_index, test_index in sss.split(X, y)][0])\n",
    "\n",
    "X_train = X.iloc[indexes, :]\n",
    "y_train = y.iloc[indexes]\n",
    "\n",
    "# Definición del espacio / dominio de parámetros.\n",
    "search_space = {'n_estimators': hp.randint('a', 1, 1000), 'colsample_bylevel': 0.67144859255828, 'colsample_bynode': 0.7831315094844271, 'colsample_bytree': 0.8014899183766985, \n",
    "                'gamma': 0.014974393635115657, 'gpu_id': 0, 'learning_rate': 0.05, 'max_delta_step': 0.9959894166399985, 'max_depth': 7, \n",
    "                'min_child_weight': 0.7431045276160863, 'random_state': 42, 'reg_alpha': 0.5395766188121431, 'reg_lambda': 0.3611246194409444, \n",
    "                'scale_pos_weight': 0.9983922138002084, 'subsample': 0.9933497238368184, 'tree_method': 'gpu_hist'}\n",
    "\n",
    "# Definición de la función objetivo.\n",
    "def objective_func(search_space):\n",
    "    \n",
    "    global i, scorings, estimator, X_train, y_train\n",
    "    start_time = time.time()\n",
    "    i += 1\n",
    "    \n",
    "    clf = xgb.XGBClassifier(**search_space)\n",
    "    skf = StratifiedKFold(random_state = 42, n_splits = 4, shuffle = True)\n",
    "    cv = cross_validate(estimator = clf, X = X_train, y = y_train, cv = skf, verbose = 0, n_jobs = -1, scoring = ('precision', 'recall', 'roc_auc', 'accuracy', 'f1'))\n",
    "    \n",
    "    loss = 1 - cv['test_f1'].mean() + cv['test_f1'].std()\n",
    "\n",
    "    scorings.append({'trial': i,\n",
    "                     'search_space' : str(search_space),\n",
    "                     'scorings' : {'Recall': cv['test_recall'].mean(),\n",
    "                                   'Precision': cv['test_precision'].mean(),\n",
    "                                   'AUC': cv['test_roc_auc'].mean(),\n",
    "                                   'Accuracy': cv['test_accuracy'].mean(),\n",
    "                                   'Recall_Std': cv['test_recall'].std(),\n",
    "                                   'Precision_Std': cv['test_precision'].std(),\n",
    "                                   'AUC_Std': cv['test_roc_auc'].std(),\n",
    "                                   'Accuracy_Std': cv['test_accuracy'].std(),\n",
    "                                   'F1-Score': cv['test_f1'].mean()}\n",
    "                    }\n",
    "                   )\n",
    "    \n",
    "    elapsed_time = time.time() - start_time\n",
    "    \n",
    "    print('Trial: %i | Loss: %.4f | Elapsed_time: %.4f seconds' % (i, loss, elapsed_time))\n",
    "    \n",
    "    return loss\n",
    "\n",
    "# Ejecución del optimizador.\n",
    "i = -1\n",
    "scorings = []\n",
    "rstate = np.random.default_rng(42)\n",
    "trials = Trials() # Para el logging de resultados.\n",
    "best_params = fmin(fn = objective_func, space = search_space, algo = tpe.suggest, max_evals = 20, trials = trials, rstate = rstate)"
   ]
  },
  {
   "cell_type": "code",
   "execution_count": 32,
   "id": "3eb346d2-5d37-44fc-8e82-6b62677558ac",
   "metadata": {},
   "outputs": [
    {
     "name": "stdout",
     "output_type": "stream",
     "text": [
      "\n",
      "Best Trial:\n",
      "Trial ID : 3\n",
      "Loss : 0.14813874213581021\n",
      "Params : {'colsample_bylevel': 0.67144859255828, 'colsample_bynode': 0.7831315094844271, 'colsample_bytree': 0.8014899183766985, 'gamma': 0.014974393635115657, 'gpu_id': 0, 'learning_rate': 0.05, 'max_delta_step': 0.9959894166399985, 'max_depth': 7, 'min_child_weight': 0.7431045276160863, 'n_estimators': 630, 'random_state': 42, 'reg_alpha': 0.5395766188121431, 'reg_lambda': 0.3611246194409444, 'scale_pos_weight': 0.9983922138002084, 'subsample': 0.9933497238368184, 'tree_method': 'gpu_hist'}\n",
      "\n",
      "Json file: 20220301_114133.json\n",
      "\n",
      "Scoring details:\n",
      "\n",
      "      Recall Precision       AUC  Accuracy Recall_Std Precision_Std   AUC_Std Accuracy_Std  F1-Score\n",
      "0        0.0       0.0  0.519754  0.998709        0.0           0.0  0.002624     0.000003       0.0\n",
      "1   0.776247  0.979217  0.998318   0.99969   0.022634      0.013991  0.001906      0.00003  0.865734\n",
      "2   0.397145       1.0  0.994407  0.999222   0.047902           0.0  0.001127      0.00006   0.56686\n",
      "3   0.777772  0.983037  0.998259  0.999695   0.025003      0.015868   0.00181     0.000035  0.868146\n",
      "4   0.761022  0.984538  0.998591  0.999676   0.025756      0.012945   0.00083     0.000034  0.858158\n",
      "5   0.776247  0.979217  0.998321   0.99969   0.022634      0.013991  0.001837      0.00003  0.865734\n",
      "6   0.776247  0.979217  0.998312   0.99969   0.022634      0.013991  0.001858      0.00003  0.865734\n",
      "7   0.768625  0.982942  0.998349  0.999684   0.029702      0.015814  0.001402     0.000038  0.862236\n",
      "8        0.0       0.0  0.533436  0.998709        0.0           0.0  0.021073     0.000003       0.0\n",
      "9   0.777762  0.975835  0.998326  0.999688   0.023153      0.019751  0.001909     0.000031  0.865255\n",
      "10  0.022829       1.0  0.911494  0.998739    0.00262           0.0  0.007102     0.000004  0.044626\n",
      "11  0.776247  0.979217  0.998317   0.99969   0.022634      0.013991  0.001909      0.00003  0.865734\n",
      "12  0.762537  0.984609  0.998601  0.999678   0.026392      0.012821  0.000855     0.000033  0.859119\n",
      "13  0.776247  0.981055  0.998272  0.999692   0.022634      0.015094  0.001867     0.000033   0.86648\n",
      "14  0.773198  0.982988  0.998276   0.99969   0.029136      0.015841  0.001629     0.000039  0.865165\n",
      "15  0.730571   0.98822  0.998161   0.99964   0.028264      0.013048  0.000778     0.000029  0.839591\n",
      "16  0.776247  0.981055   0.99826  0.999692   0.022634      0.015094  0.001865     0.000033   0.86648\n",
      "17  0.774723  0.983005  0.998285  0.999692   0.027687       0.01585  0.001681     0.000037  0.866164\n",
      "18  0.776247   0.97746  0.998313  0.999688   0.022634      0.016974  0.001935     0.000031   0.86502\n",
      "19  0.732095  0.986119    0.9982   0.99964    0.02745      0.011576  0.000725     0.000029  0.839886\n"
     ]
    }
   ],
   "source": [
    "hyperopt_printer(trials)\n",
    "json_export(scorings)\n",
    "scorings_to_df(scorings)"
   ]
  },
  {
   "cell_type": "markdown",
   "id": "1d08778e-407e-4996-ab4d-c6fefb81abe1",
   "metadata": {
    "tags": []
   },
   "source": [
    "##### 6.2.9.4. Evaluación en el conjunto de validación"
   ]
  },
  {
   "cell_type": "code",
   "execution_count": 36,
   "id": "32fdfb44-f6ab-457f-9cb6-43389ee7ce56",
   "metadata": {
    "tags": []
   },
   "outputs": [
    {
     "name": "stdout",
     "output_type": "stream",
     "text": [
      "[11:53:11] WARNING: C:/Users/Administrator/workspace/xgboost-win64_release_1.5.1/src/learner.cc:1115: Starting in XGBoost 1.3.0, the default evaluation metric used with the objective 'binary:logistic' was changed from 'error' to 'logloss'. Explicitly set eval_metric if you'd like to restore the old behavior.\n",
      "Recall: 0.8357\n",
      "Precision: 0.9744\n",
      "AUC: 0.9178\n",
      "Accuracy: 0.9998\n",
      "F1-Score: 0.8997\n"
     ]
    }
   ],
   "source": [
    "# Evaluación con el conjunto de validación.\n",
    "import xgboost as xgb\n",
    "from sklearn.metrics import f1_score, accuracy_score, precision_score, recall_score, roc_auc_score\n",
    "\n",
    "params = {'n_estimators': 630, 'colsample_bylevel': 0.67144859255828, 'colsample_bynode': 0.7831315094844271, 'colsample_bytree': 0.8014899183766985, \n",
    "            'gamma': 0.014974393635115657, 'gpu_id': 0, 'learning_rate': 0.05, 'max_delta_step': 0.9959894166399985, 'max_depth': 7, \n",
    "            'min_child_weight': 0.7431045276160863, 'random_state': 42, 'reg_alpha': 0.5395766188121431, 'reg_lambda': 0.3611246194409444, \n",
    "            'scale_pos_weight': 0.9983922138002084, 'subsample': 0.9933497238368184, 'tree_method': 'gpu_hist'}\n",
    "\n",
    "clf = xgb.XGBClassifier(**params)\n",
    "\n",
    "X_train = X\n",
    "y_train = y\n",
    "\n",
    "X_test = df_validation.drop(labels = ['isFraud', 'isFlaggedFraud'], axis = 1, inplace = False)\n",
    "y_test = df_validation['isFraud']\n",
    "\n",
    "clf.fit(X = X_train, y = y_train)\n",
    "\n",
    "y_pred = clf.predict(X_test)\n",
    "\n",
    "print('Recall: %.4f' % recall_score(y_true = y_test, y_pred = y_pred))\n",
    "print('Precision: %.4f' % precision_score(y_true = y_test, y_pred = y_pred))\n",
    "print('AUC: %.4f' % roc_auc_score(y_true = y_test, y_score = y_pred))\n",
    "print('Accuracy: %.4f' % accuracy_score(y_true = y_test, y_pred = y_pred))\n",
    "print('F1-Score: %.4f' % f1_score(y_true = y_test, y_pred = y_pred))"
   ]
  },
  {
   "cell_type": "code",
   "execution_count": null,
   "id": "29f1afb9-e7db-48b8-a517-81dcbc5cdd85",
   "metadata": {},
   "outputs": [],
   "source": []
  },
  {
   "cell_type": "code",
   "execution_count": null,
   "id": "195e4bdb-f548-41f0-9b10-e9cff018d3a7",
   "metadata": {},
   "outputs": [],
   "source": []
  },
  {
   "cell_type": "code",
   "execution_count": null,
   "id": "a44784a6-8ce1-4027-a9a1-f71dd949b789",
   "metadata": {},
   "outputs": [],
   "source": []
  },
  {
   "cell_type": "code",
   "execution_count": null,
   "id": "165af0cd-1aac-4157-9a9b-d8f69e74a9bf",
   "metadata": {},
   "outputs": [],
   "source": []
  },
  {
   "cell_type": "code",
   "execution_count": null,
   "id": "00bf8da3-c204-4e65-977c-648020d7d036",
   "metadata": {},
   "outputs": [],
   "source": []
  },
  {
   "cell_type": "markdown",
   "id": "cc67a83d-8cf9-4e14-8c57-8fcbe4ef0bd8",
   "metadata": {
    "jp-MarkdownHeadingCollapsed": true,
    "tags": []
   },
   "source": [
    "## Otros"
   ]
  },
  {
   "cell_type": "markdown",
   "id": "86079166-389c-437d-a6d9-f545d637c2a0",
   "metadata": {
    "tags": []
   },
   "source": [
    "##### *Optimización con Optuna*"
   ]
  },
  {
   "cell_type": "code",
   "execution_count": null,
   "id": "22ce4457-17b8-4a76-a3f9-ad19eabb6241",
   "metadata": {
    "collapsed": true,
    "jupyter": {
     "outputs_hidden": true,
     "source_hidden": true
    }
   },
   "outputs": [],
   "source": [
    "# https://optuna.org/\n",
    "# https://towardsdatascience.com/tuning-hyperparameters-with-optuna-af342facc549"
   ]
  }
 ],
 "metadata": {
  "kernelspec": {
   "display_name": "Python 3 (ipykernel)",
   "language": "python",
   "name": "python3"
  },
  "language_info": {
   "codemirror_mode": {
    "name": "ipython",
    "version": 3
   },
   "file_extension": ".py",
   "mimetype": "text/x-python",
   "name": "python",
   "nbconvert_exporter": "python",
   "pygments_lexer": "ipython3",
   "version": "3.9.7"
  },
  "toc-autonumbering": false
 },
 "nbformat": 4,
 "nbformat_minor": 5
}
