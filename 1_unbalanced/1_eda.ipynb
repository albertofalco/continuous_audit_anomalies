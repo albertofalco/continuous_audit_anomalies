{
 "cells": [
  {
   "cell_type": "markdown",
   "id": "3feabdbc-b928-433a-a071-164bf85b2837",
   "metadata": {
    "tags": []
   },
   "source": [
    "# Detección de anomalías en un marco de auditoría continua"
   ]
  },
  {
   "cell_type": "markdown",
   "id": "0bd682cc",
   "metadata": {
    "jp-MarkdownHeadingCollapsed": true,
    "tags": []
   },
   "source": [
    "## Referencias\n",
    "\n",
    "PaySim:\n",
    "\n",
    "- https://github.com/EdgarLopezPhD/PaySim\n",
    "- https://www.kaggle.com/ealaxi/paysim1\n",
    "\n",
    "GitHub:\n",
    "\n",
    "- https://github.com/albertofalco/continous_audit_anomalies\n",
    "\n",
    "Análisis exploratorio:\n",
    "\n",
    "- https://github.com/pandas-profiling/pandas-profiling\n",
    "\n",
    "Optimización de hyperparámetros:\n",
    "\n",
    "- https://towardsdatascience.com/a-conceptual-explanation-of-bayesian-model-based-hyperparameter-optimization-for-machine-learning-b8172278050f\n",
    "- https://proceedings.neurips.cc/paper/2011/file/86e8f7ab32cfd12577bc2619bc635690-Paper.pdf\n",
    "- http://proceedings.mlr.press/v28/bergstra13.pdf\n",
    "- https://static.sigopt.com/b/20a144d208ef255d3b981ce419667ec25d8412e2/static/pdf/SigOpt_Bayesian_Optimization_Primer.pdf\n",
    "- https://www.cs.ox.ac.uk/people/nando.defreitas/publications/BayesOptLoop.pdf\n",
    "- https://machinelearningmastery.com/what-is-bayesian-optimization\n",
    "- https://towardsdatascience.com/optimise-your-hyperparameter-tuning-with-hyperopt-861573239eb5\n",
    "- https://github.com/hyperopt/hyperopt/wiki/FMin\n",
    "- https://github.com/hyperopt\n",
    "- https://www.youtube.com/watch?v=tdwgR1AqQ8Y\n",
    "- https://www.youtube.com/watch?v=5nYqK-HaoKY\n",
    "- https://towardsdatascience.com/hyperparameters-optimization-526348bb8e2d\n"
   ]
  },
  {
   "cell_type": "markdown",
   "id": "9f959365",
   "metadata": {
    "jp-MarkdownHeadingCollapsed": true,
    "tags": []
   },
   "source": [
    "## Atributos del dataset\n",
    "\n",
    "- step - maps a unit of time in the real world. In this case 1 step is 1 hour of time. Total steps 744 (30 days simulation).\n",
    "- type - CASH-IN, CASH-OUT, DEBIT, PAYMENT and TRANSFER.\n",
    "- amount - amount of the transaction in local currency.\n",
    "- nameOrig - customer who started the transaction\n",
    "- oldbalanceOrig - initial balance before the transaction\n",
    "- newbalanceOrig - new balance after the transaction\n",
    "- nameDest - customer who is the recipient of the transaction\n",
    "- oldbalanceDest - initial balance recipient before the transaction. Note that there is not information for customers that start with M (Merchants).\n",
    "- newbalanceDest - new balance recipient after the transaction. Note that there is not information for customers that start with M (Merchants).\n",
    "- isFraud - This is the transactions made by the fraudulent agents inside the simulation. In this specific dataset the fraudulent behavior of the agents aims to profit by taking control or customers accounts and try to empty the funds by transferring to another account and then cashing out of the system.\n",
    "- isFlaggedFraud - The business model aims to control massive transfers from one account to another and flags illegal attempts. An illegal attempt in this dataset is an attempt to transfer more than 200.000 in a single transaction."
   ]
  },
  {
   "cell_type": "markdown",
   "id": "66754135",
   "metadata": {
    "tags": []
   },
   "source": [
    "## 1. Configuración inicial"
   ]
  },
  {
   "cell_type": "code",
   "execution_count": 1,
   "id": "96bdcf9a",
   "metadata": {
    "tags": []
   },
   "outputs": [],
   "source": [
    "# Importación de librerias generales\n",
    "import pandas as pd\n",
    "import numpy as np\n",
    "import os\n",
    "import time"
   ]
  },
  {
   "cell_type": "code",
   "execution_count": 2,
   "id": "005f95fd-5080-459b-9e2e-d133c7906c09",
   "metadata": {},
   "outputs": [],
   "source": [
    "# Instalación de librerías necesarias.\n",
    "os.chdir('..')\n",
    "! pip install -q -r requirements.txt"
   ]
  },
  {
   "cell_type": "code",
   "execution_count": 3,
   "id": "75e33902",
   "metadata": {},
   "outputs": [
    {
     "name": "stdout",
     "output_type": "stream",
     "text": [
      "D:\\Alberto\\OneDrive - Económicas - UBA\\11 Trabajo Final de Especializacion\\continous_audit_anomalies\n"
     ]
    }
   ],
   "source": [
    "# Impresión del directorio de trabajo.\n",
    "print(os.getcwd())"
   ]
  },
  {
   "cell_type": "code",
   "execution_count": 4,
   "id": "9dee4857",
   "metadata": {},
   "outputs": [],
   "source": [
    "# Configuración de punto flotante para pandas.\n",
    "pd.options.display.float_format = '{:.2f}'.format"
   ]
  },
  {
   "cell_type": "markdown",
   "id": "9ca025d7-cf89-49e4-86d3-7c8814b7e42f",
   "metadata": {
    "tags": []
   },
   "source": [
    "## 2. Lectura del dataset"
   ]
  },
  {
   "cell_type": "code",
   "execution_count": 5,
   "id": "4aaf7e18",
   "metadata": {},
   "outputs": [],
   "source": [
    "# Lectura del dataset en formato csv.\n",
    "file = 'fraud_detection_dataset.csv'\n",
    "df = pd.read_csv(file)"
   ]
  },
  {
   "cell_type": "code",
   "execution_count": 6,
   "id": "a7de1949",
   "metadata": {},
   "outputs": [
    {
     "data": {
      "text/html": [
       "<div>\n",
       "<style scoped>\n",
       "    .dataframe tbody tr th:only-of-type {\n",
       "        vertical-align: middle;\n",
       "    }\n",
       "\n",
       "    .dataframe tbody tr th {\n",
       "        vertical-align: top;\n",
       "    }\n",
       "\n",
       "    .dataframe thead th {\n",
       "        text-align: right;\n",
       "    }\n",
       "</style>\n",
       "<table border=\"1\" class=\"dataframe\">\n",
       "  <thead>\n",
       "    <tr style=\"text-align: right;\">\n",
       "      <th></th>\n",
       "      <th>step</th>\n",
       "      <th>type</th>\n",
       "      <th>amount</th>\n",
       "      <th>nameOrig</th>\n",
       "      <th>oldbalanceOrg</th>\n",
       "      <th>newbalanceOrig</th>\n",
       "      <th>nameDest</th>\n",
       "      <th>oldbalanceDest</th>\n",
       "      <th>newbalanceDest</th>\n",
       "      <th>isFraud</th>\n",
       "      <th>isFlaggedFraud</th>\n",
       "    </tr>\n",
       "  </thead>\n",
       "  <tbody>\n",
       "    <tr>\n",
       "      <th>0</th>\n",
       "      <td>1</td>\n",
       "      <td>PAYMENT</td>\n",
       "      <td>9839.64</td>\n",
       "      <td>C1231006815</td>\n",
       "      <td>170136.00</td>\n",
       "      <td>160296.36</td>\n",
       "      <td>M1979787155</td>\n",
       "      <td>0.00</td>\n",
       "      <td>0.00</td>\n",
       "      <td>0</td>\n",
       "      <td>0</td>\n",
       "    </tr>\n",
       "    <tr>\n",
       "      <th>1</th>\n",
       "      <td>1</td>\n",
       "      <td>PAYMENT</td>\n",
       "      <td>1864.28</td>\n",
       "      <td>C1666544295</td>\n",
       "      <td>21249.00</td>\n",
       "      <td>19384.72</td>\n",
       "      <td>M2044282225</td>\n",
       "      <td>0.00</td>\n",
       "      <td>0.00</td>\n",
       "      <td>0</td>\n",
       "      <td>0</td>\n",
       "    </tr>\n",
       "    <tr>\n",
       "      <th>2</th>\n",
       "      <td>1</td>\n",
       "      <td>TRANSFER</td>\n",
       "      <td>181.00</td>\n",
       "      <td>C1305486145</td>\n",
       "      <td>181.00</td>\n",
       "      <td>0.00</td>\n",
       "      <td>C553264065</td>\n",
       "      <td>0.00</td>\n",
       "      <td>0.00</td>\n",
       "      <td>1</td>\n",
       "      <td>0</td>\n",
       "    </tr>\n",
       "    <tr>\n",
       "      <th>3</th>\n",
       "      <td>1</td>\n",
       "      <td>CASH_OUT</td>\n",
       "      <td>181.00</td>\n",
       "      <td>C840083671</td>\n",
       "      <td>181.00</td>\n",
       "      <td>0.00</td>\n",
       "      <td>C38997010</td>\n",
       "      <td>21182.00</td>\n",
       "      <td>0.00</td>\n",
       "      <td>1</td>\n",
       "      <td>0</td>\n",
       "    </tr>\n",
       "    <tr>\n",
       "      <th>4</th>\n",
       "      <td>1</td>\n",
       "      <td>PAYMENT</td>\n",
       "      <td>11668.14</td>\n",
       "      <td>C2048537720</td>\n",
       "      <td>41554.00</td>\n",
       "      <td>29885.86</td>\n",
       "      <td>M1230701703</td>\n",
       "      <td>0.00</td>\n",
       "      <td>0.00</td>\n",
       "      <td>0</td>\n",
       "      <td>0</td>\n",
       "    </tr>\n",
       "  </tbody>\n",
       "</table>\n",
       "</div>"
      ],
      "text/plain": [
       "   step      type   amount     nameOrig  oldbalanceOrg  newbalanceOrig  \\\n",
       "0     1   PAYMENT  9839.64  C1231006815      170136.00       160296.36   \n",
       "1     1   PAYMENT  1864.28  C1666544295       21249.00        19384.72   \n",
       "2     1  TRANSFER   181.00  C1305486145         181.00            0.00   \n",
       "3     1  CASH_OUT   181.00   C840083671         181.00            0.00   \n",
       "4     1   PAYMENT 11668.14  C2048537720       41554.00        29885.86   \n",
       "\n",
       "      nameDest  oldbalanceDest  newbalanceDest  isFraud  isFlaggedFraud  \n",
       "0  M1979787155            0.00            0.00        0               0  \n",
       "1  M2044282225            0.00            0.00        0               0  \n",
       "2   C553264065            0.00            0.00        1               0  \n",
       "3    C38997010        21182.00            0.00        1               0  \n",
       "4  M1230701703            0.00            0.00        0               0  "
      ]
     },
     "execution_count": 6,
     "metadata": {},
     "output_type": "execute_result"
    }
   ],
   "source": [
    "# Impresión de los primeros registros.\n",
    "df.head()"
   ]
  },
  {
   "cell_type": "code",
   "execution_count": 7,
   "id": "a749bcb7",
   "metadata": {},
   "outputs": [
    {
     "name": "stdout",
     "output_type": "stream",
     "text": [
      "Rows: 6362620\n",
      "Columns: 11\n"
     ]
    }
   ],
   "source": [
    "# Tamaño del dataset.\n",
    "print('Rows: %i' % df.shape[0])\n",
    "print('Columns: %i' % df.shape[1])"
   ]
  },
  {
   "cell_type": "code",
   "execution_count": 8,
   "id": "99b15898-253b-4e6b-a070-d300e697de43",
   "metadata": {},
   "outputs": [],
   "source": [
    "# Corrección del nombre de columnas.\n",
    "df.columns = ['step', 'type', 'amount', 'nameOrig', 'oldbalanceOrig', 'newbalanceOrig', \n",
    "              'nameDest', 'oldbalanceDest', 'newbalanceDest', 'isFraud', \n",
    "              'isFlaggedFraud']"
   ]
  },
  {
   "cell_type": "markdown",
   "id": "6b4a2930-63d6-4cab-8bb3-a16a4cf5c4bc",
   "metadata": {
    "tags": []
   },
   "source": [
    "## 3. Análisis exploratorio inicial"
   ]
  },
  {
   "cell_type": "markdown",
   "id": "2b371750-8aa9-43ad-bca5-536a71c74b51",
   "metadata": {},
   "source": [
    "### 3.1. Estadísticas descriptivas"
   ]
  },
  {
   "cell_type": "code",
   "execution_count": 9,
   "id": "dddcfd37",
   "metadata": {
    "scrolled": true
   },
   "outputs": [
    {
     "data": {
      "text/html": [
       "<div>\n",
       "<style scoped>\n",
       "    .dataframe tbody tr th:only-of-type {\n",
       "        vertical-align: middle;\n",
       "    }\n",
       "\n",
       "    .dataframe tbody tr th {\n",
       "        vertical-align: top;\n",
       "    }\n",
       "\n",
       "    .dataframe thead th {\n",
       "        text-align: right;\n",
       "    }\n",
       "</style>\n",
       "<table border=\"1\" class=\"dataframe\">\n",
       "  <thead>\n",
       "    <tr style=\"text-align: right;\">\n",
       "      <th></th>\n",
       "      <th>step</th>\n",
       "      <th>amount</th>\n",
       "      <th>oldbalanceOrig</th>\n",
       "      <th>newbalanceOrig</th>\n",
       "      <th>oldbalanceDest</th>\n",
       "      <th>newbalanceDest</th>\n",
       "      <th>isFraud</th>\n",
       "      <th>isFlaggedFraud</th>\n",
       "    </tr>\n",
       "  </thead>\n",
       "  <tbody>\n",
       "    <tr>\n",
       "      <th>count</th>\n",
       "      <td>6362620.00</td>\n",
       "      <td>6362620.00</td>\n",
       "      <td>6362620.00</td>\n",
       "      <td>6362620.00</td>\n",
       "      <td>6362620.00</td>\n",
       "      <td>6362620.00</td>\n",
       "      <td>6362620.00</td>\n",
       "      <td>6362620.00</td>\n",
       "    </tr>\n",
       "    <tr>\n",
       "      <th>mean</th>\n",
       "      <td>243.40</td>\n",
       "      <td>179861.90</td>\n",
       "      <td>833883.10</td>\n",
       "      <td>855113.67</td>\n",
       "      <td>1100701.67</td>\n",
       "      <td>1224996.40</td>\n",
       "      <td>0.00</td>\n",
       "      <td>0.00</td>\n",
       "    </tr>\n",
       "    <tr>\n",
       "      <th>std</th>\n",
       "      <td>142.33</td>\n",
       "      <td>603858.23</td>\n",
       "      <td>2888242.67</td>\n",
       "      <td>2924048.50</td>\n",
       "      <td>3399180.11</td>\n",
       "      <td>3674128.94</td>\n",
       "      <td>0.04</td>\n",
       "      <td>0.00</td>\n",
       "    </tr>\n",
       "    <tr>\n",
       "      <th>min</th>\n",
       "      <td>1.00</td>\n",
       "      <td>0.00</td>\n",
       "      <td>0.00</td>\n",
       "      <td>0.00</td>\n",
       "      <td>0.00</td>\n",
       "      <td>0.00</td>\n",
       "      <td>0.00</td>\n",
       "      <td>0.00</td>\n",
       "    </tr>\n",
       "    <tr>\n",
       "      <th>25%</th>\n",
       "      <td>156.00</td>\n",
       "      <td>13389.57</td>\n",
       "      <td>0.00</td>\n",
       "      <td>0.00</td>\n",
       "      <td>0.00</td>\n",
       "      <td>0.00</td>\n",
       "      <td>0.00</td>\n",
       "      <td>0.00</td>\n",
       "    </tr>\n",
       "    <tr>\n",
       "      <th>50%</th>\n",
       "      <td>239.00</td>\n",
       "      <td>74871.94</td>\n",
       "      <td>14208.00</td>\n",
       "      <td>0.00</td>\n",
       "      <td>132705.66</td>\n",
       "      <td>214661.44</td>\n",
       "      <td>0.00</td>\n",
       "      <td>0.00</td>\n",
       "    </tr>\n",
       "    <tr>\n",
       "      <th>75%</th>\n",
       "      <td>335.00</td>\n",
       "      <td>208721.48</td>\n",
       "      <td>107315.18</td>\n",
       "      <td>144258.41</td>\n",
       "      <td>943036.71</td>\n",
       "      <td>1111909.25</td>\n",
       "      <td>0.00</td>\n",
       "      <td>0.00</td>\n",
       "    </tr>\n",
       "    <tr>\n",
       "      <th>max</th>\n",
       "      <td>743.00</td>\n",
       "      <td>92445516.64</td>\n",
       "      <td>59585040.37</td>\n",
       "      <td>49585040.37</td>\n",
       "      <td>356015889.35</td>\n",
       "      <td>356179278.92</td>\n",
       "      <td>1.00</td>\n",
       "      <td>1.00</td>\n",
       "    </tr>\n",
       "  </tbody>\n",
       "</table>\n",
       "</div>"
      ],
      "text/plain": [
       "            step      amount  oldbalanceOrig  newbalanceOrig  oldbalanceDest  \\\n",
       "count 6362620.00  6362620.00      6362620.00      6362620.00      6362620.00   \n",
       "mean      243.40   179861.90       833883.10       855113.67      1100701.67   \n",
       "std       142.33   603858.23      2888242.67      2924048.50      3399180.11   \n",
       "min         1.00        0.00            0.00            0.00            0.00   \n",
       "25%       156.00    13389.57            0.00            0.00            0.00   \n",
       "50%       239.00    74871.94        14208.00            0.00       132705.66   \n",
       "75%       335.00   208721.48       107315.18       144258.41       943036.71   \n",
       "max       743.00 92445516.64     59585040.37     49585040.37    356015889.35   \n",
       "\n",
       "       newbalanceDest    isFraud  isFlaggedFraud  \n",
       "count      6362620.00 6362620.00      6362620.00  \n",
       "mean       1224996.40       0.00            0.00  \n",
       "std        3674128.94       0.04            0.00  \n",
       "min              0.00       0.00            0.00  \n",
       "25%              0.00       0.00            0.00  \n",
       "50%         214661.44       0.00            0.00  \n",
       "75%        1111909.25       0.00            0.00  \n",
       "max      356179278.92       1.00            1.00  "
      ]
     },
     "execution_count": 9,
     "metadata": {},
     "output_type": "execute_result"
    }
   ],
   "source": [
    "# Obtención de estadisticas descriptivas.\n",
    "df.describe()"
   ]
  },
  {
   "cell_type": "markdown",
   "id": "a6e99143-85b5-437b-842a-3205479a6f3f",
   "metadata": {
    "tags": []
   },
   "source": [
    "### 3.2. Verificaciones de integridad y consistencia"
   ]
  },
  {
   "cell_type": "code",
   "execution_count": 10,
   "id": "f844593a",
   "metadata": {},
   "outputs": [
    {
     "name": "stdout",
     "output_type": "stream",
     "text": [
      "Valores unicos: \n",
      "step: 1 2 3 4 5 6 7 8 9 10 11 12 13 14 15 16 17 18 19 20 21 22 23 24 25 26 27 28 29 30 31 32 33 34 35 36 37 38 39 40 41 42 43 44 45 46 47 48 49 50 51 52 53 54 55 56 57 58 59 60 61 62 63 64 65 66 67 68 69 70 71 72 73 74 75 76 77 78 79 80 81 82 83 84 85 86 87 88 89 90 91 92 93 94 95 96 97 98 99 100 101 102 103 104 105 106 107 108 109 110 111 112 113 114 115 116 117 118 119 120 121 122 123 124 125 126 127 128 129 130 131 132 133 134 135 136 137 138 139 140 141 142 143 144 145 146 147 148 149 150 151 152 153 154 155 156 157 158 159 160 161 162 163 164 165 166 167 168 169 170 171 172 173 174 175 176 177 178 179 180 181 182 183 184 185 186 187 188 189 190 191 192 193 194 195 196 197 198 199 200 201 202 203 204 205 206 207 208 209 210 211 212 213 214 215 216 217 218 219 220 221 222 223 224 225 226 227 228 229 230 231 232 233 234 235 236 237 238 239 240 241 242 243 244 245 246 247 248 249 250 251 252 253 254 255 256 257 258 259 260 261 262 263 264 265 266 267 268 269 270 271 272 273 274 275 276 277 278 279 280 281 282 283 284 285 286 287 288 289 290 291 292 293 294 295 296 297 298 299 300 301 302 303 304 305 306 307 308 309 310 311 312 313 314 315 316 317 318 319 320 321 322 323 324 325 326 327 328 329 330 331 332 333 334 335 336 337 338 339 340 341 342 343 344 345 346 347 348 349 350 351 352 353 354 355 356 357 358 359 360 361 362 363 364 365 366 367 368 369 370 371 372 373 374 375 376 377 378 379 380 381 382 383 384 385 386 387 388 389 390 391 392 393 394 395 396 397 398 399 400 401 402 403 404 405 406 407 408 409 410 411 412 413 414 415 416 417 418 419 420 421 422 423 424 425 426 427 428 429 430 431 432 433 434 435 436 437 438 439 440 441 442 443 444 445 446 447 448 449 450 451 452 453 454 455 456 457 458 459 460 461 462 463 464 465 466 467 468 469 470 471 472 473 474 475 476 477 478 479 480 481 482 483 484 485 486 487 488 489 490 491 492 493 494 495 496 497 498 499 500 501 502 503 504 505 506 507 508 509 510 511 512 513 514 515 516 517 518 519 520 521 522 523 524 525 526 527 528 529 530 531 532 533 534 535 536 537 538 539 540 541 542 543 544 545 546 547 548 549 550 551 552 553 554 555 556 557 558 559 560 561 562 563 564 565 566 567 568 569 570 571 572 573 574 575 576 577 578 579 580 581 582 583 584 585 586 587 588 589 590 591 592 593 594 595 596 597 598 599 600 601 602 603 604 605 606 607 608 609 610 611 612 613 614 615 616 617 618 619 620 621 622 623 624 625 626 627 628 629 630 631 632 633 634 635 636 637 638 639 640 641 642 643 644 645 646 647 648 649 650 651 652 653 654 655 656 657 658 659 660 661 662 663 664 665 666 667 668 669 670 671 672 673 674 675 676 677 678 679 680 681 682 683 684 685 686 687 688 689 690 691 692 693 694 695 696 697 698 699 700 701 702 703 704 705 706 707 708 709 710 711 712 713 714 715 716 717 718 719 720 721 722 723 724 725 726 727 728 729 730 731 732 733 734 735 736 737 738 739 740 741 742 743\n",
      "type: PAYMENT TRANSFER CASH_OUT DEBIT CASH_IN\n",
      "isFraud: 0 1\n",
      "isFlaggedFraud: 0 1\n"
     ]
    }
   ],
   "source": [
    "# Valores únicos.\n",
    "print('Valores unicos: ')\n",
    "print('step:', * df['step'].unique(), sep = ' ', end = '\\n')\n",
    "print('type:', * df['type'].unique(), sep = ' ', end = '\\n')\n",
    "print('isFraud:', * df['isFraud'].unique(), sep = ' ', end = '\\n')\n",
    "print('isFlaggedFraud:', * df['isFlaggedFraud'].unique(), sep = ' ', end = '\\n')"
   ]
  },
  {
   "cell_type": "code",
   "execution_count": 11,
   "id": "e4a3c043",
   "metadata": {},
   "outputs": [
    {
     "name": "stdout",
     "output_type": "stream",
     "text": [
      "Type: \n",
      "\n",
      "CASH_OUT    2237500\n",
      "PAYMENT     2151495\n",
      "CASH_IN     1399284\n",
      "TRANSFER     532909\n",
      "DEBIT         41432\n",
      "Name: type, dtype: int64\n",
      "\n",
      "isFraud: \n",
      "\n",
      "0    6354407\n",
      "1       8213\n",
      "Name: isFraud, dtype: int64\n",
      "\n",
      "isFlaggedFraud: \n",
      "\n",
      "0    6362604\n",
      "1         16\n",
      "Name: isFlaggedFraud, dtype: int64\n"
     ]
    }
   ],
   "source": [
    "# Tabla de frecuencia absoluta para atributos relevantes.\n",
    "print('Type: \\n\\n', df['type'].value_counts(), sep = '', end = '\\n\\n')\n",
    "print('isFraud: \\n\\n', df['isFraud'].value_counts(), sep = '', end = '\\n\\n')\n",
    "print('isFlaggedFraud: \\n\\n', df['isFlaggedFraud'].value_counts(), sep = '', end = '\\n')"
   ]
  },
  {
   "cell_type": "code",
   "execution_count": 12,
   "id": "b531e449",
   "metadata": {},
   "outputs": [
    {
     "name": "stdout",
     "output_type": "stream",
     "text": [
      "Proporción de valores únicos para el atributo \"originante\" (\"nameOrig\"): 0.9985\n",
      "Proporción de valores únicos para el atributo \"destinatario\" (\"nameDest\"): 0.4279\n"
     ]
    }
   ],
   "source": [
    "# Proporción de originantes y destinatarios únicos sobre totales.\n",
    "print('Proporción de valores únicos para el atributo \"originante\" (\"nameOrig\"): %.4f' % (len(df['nameOrig'].unique()) / len(df['nameOrig'])))\n",
    "print('Proporción de valores únicos para el atributo \"destinatario\" (\"nameDest\"): %.4f' % (len(df['nameDest'].unique()) / len(df['nameDest'])))"
   ]
  },
  {
   "cell_type": "code",
   "execution_count": 13,
   "id": "c91c5525",
   "metadata": {},
   "outputs": [
    {
     "name": "stdout",
     "output_type": "stream",
     "text": [
      "Enumeración de los 10 destinatarios más recurrentes: \n",
      "\n",
      "C1286084959    113\n",
      "C985934102     109\n",
      "C665576141     105\n",
      "C2083562754    102\n",
      "C248609774     101\n",
      "C1590550415    101\n",
      "C451111351      99\n",
      "C1789550256     99\n",
      "C1360767589     98\n",
      "C1023714065     97\n",
      "Name: nameDest, dtype: int64\n"
     ]
    }
   ],
   "source": [
    "# Obtención de los 10 destinatarios más recurrentes. Control de inconsistencias.\n",
    "print('Enumeración de los 10 destinatarios más recurrentes: ', end = '\\n\\n')\n",
    "print(df['nameDest'].value_counts().head(10))"
   ]
  },
  {
   "cell_type": "code",
   "execution_count": 14,
   "id": "c4793780-8c29-44c4-bf48-c6f4ec8a7fd1",
   "metadata": {
    "tags": []
   },
   "outputs": [
    {
     "name": "stdout",
     "output_type": "stream",
     "text": [
      "Control de saldos de originantes: 38.08% correcto\n",
      "Control de saldos de destinatarios: 43.58% correcto\n"
     ]
    }
   ],
   "source": [
    "# Control de consistencia entre saldos y montos de transacciones.\n",
    "# Se controla la diferencia entre el saldo anterior y el nuevo saldo con el monto de cada transacción.\n",
    "df_control = df.copy()\n",
    "\n",
    "df_control['difOrig'] = abs(round(df_control['newbalanceOrig'] - df_control['oldbalanceOrig'], 2))\n",
    "df_control['difDest'] = abs(round(df_control['newbalanceDest'] - df_control['oldbalanceDest'], 2))\n",
    "df_control['controlOrig'] = (df_control['amount'] == df_control['difOrig'])\n",
    "df_control['controlDest'] = (df_control['amount'] == df_control['difDest'])\n",
    "\n",
    "print('Control de saldos de originantes: {x:.2%} correcto'.format(x = (df_control['controlOrig'].value_counts() / len(df_control))[1]))\n",
    "print('Control de saldos de destinatarios: {x:.2%} correcto'.format(x = (df_control['controlDest'].value_counts() / len(df_control))[1]))"
   ]
  },
  {
   "cell_type": "code",
   "execution_count": 15,
   "id": "89be3e10-9b18-4a52-849e-336f6c8a0f54",
   "metadata": {},
   "outputs": [
    {
     "name": "stdout",
     "output_type": "stream",
     "text": [
      "Control de saldos originantes / destinatarios: 68.17% correcto\n"
     ]
    }
   ],
   "source": [
    "# Control de consistencia entre saldos y montos de transacciones.\n",
    "# Se verifica el porcentaje de correctos si alguna de las dos condiciones se cumple.\n",
    "df_control['controlBoth'] = df_control.loc[:, ['controlOrig', 'controlDest']].any(axis = 1)\n",
    "print('Control de saldos originantes / destinatarios: {x:.2%} correcto'.format(x = (df_control['controlBoth'].value_counts() / len(df_control))[1]))"
   ]
  },
  {
   "cell_type": "markdown",
   "id": "0b01850a-9c17-42e2-887a-d7c6f277fabb",
   "metadata": {},
   "source": [
    "Existe un 30% aproximado de registros en los cuales el monto de la transacción no es consistente con los ajustes de los saldos como consecuencia de la transacción, ya sea en el originante o en el destinatario."
   ]
  },
  {
   "cell_type": "code",
   "execution_count": 16,
   "id": "f7e5aa0a-d7f4-430a-bda5-e414f83acdfc",
   "metadata": {},
   "outputs": [
    {
     "name": "stdout",
     "output_type": "stream",
     "text": [
      "Transacciones fraudulentas: 8213\n",
      "Transacciones calificadas como fraudulentas: 16\n"
     ]
    }
   ],
   "source": [
    "# Frecuencia de fraudes reales y fraudes detectados por el modelo baseline.\n",
    "print('Transacciones fraudulentas: {x}'.format(x = df['isFraud'].value_counts()[1]))\n",
    "print('Transacciones calificadas como fraudulentas: {x}'.format(x = df['isFlaggedFraud'].value_counts()[1]))"
   ]
  },
  {
   "cell_type": "markdown",
   "id": "1829bdfa-f8da-4d9a-aaa8-3ecdb2b698dc",
   "metadata": {
    "tags": []
   },
   "source": [
    "### 3.3. Pandas profiling"
   ]
  },
  {
   "cell_type": "code",
   "execution_count": null,
   "id": "bf9c3141-e259-43f9-8aa7-e2334f9d2820",
   "metadata": {
    "tags": []
   },
   "outputs": [],
   "source": [
    "# Importación de librerias\n",
    "from pandas_profiling import ProfileReport"
   ]
  },
  {
   "cell_type": "code",
   "execution_count": null,
   "id": "b99b502f-f283-4ca9-8709-b82a167ddd4a",
   "metadata": {
    "tags": []
   },
   "outputs": [],
   "source": [
    "# Configuración del profiling.\n",
    "profile = ProfileReport(df = df,\n",
    "                        title = \"Pandas Profiling Report\", \n",
    "                        correlations = None,\n",
    "                        interactions = None,\n",
    "                        sample = None,\n",
    "                        dark_mode = True,\n",
    "                        summarizer = None\n",
    "                       )"
   ]
  },
  {
   "cell_type": "code",
   "execution_count": null,
   "id": "b9b1dac0-835a-40ec-9fb5-17ef26b7c6b6",
   "metadata": {
    "tags": []
   },
   "outputs": [],
   "source": [
    "# Exportación y visualización del profiling.\n",
    "from datetime import datetime\n",
    "\n",
    "try:\n",
    "    os.mkdir('profiling_reports')\n",
    "except:\n",
    "    None\n",
    "\n",
    "now = datetime.now()\n",
    "dt_string = now.strftime(\"%Y%m%d_%H%M%S\")\n",
    "path = os.getcwd() + '\\\\profiling_reports\\\\'\n",
    "filename = 'profiling_' + dt_string + '.html'\n",
    "\n",
    "profile.to_file(path + filename)\n",
    "profile"
   ]
  },
  {
   "cell_type": "markdown",
   "id": "abdf2b08-bd9a-4c0c-a8b4-3b95878d94cf",
   "metadata": {
    "tags": []
   },
   "source": [
    "## 4. Evaluación del Modelo Baseline"
   ]
  },
  {
   "cell_type": "markdown",
   "id": "772b6586-135a-4190-a57e-92ecb906296a",
   "metadata": {
    "tags": []
   },
   "source": [
    "### 4.1. Scorings del baseline"
   ]
  },
  {
   "cell_type": "code",
   "execution_count": 17,
   "id": "37e9060c-b374-4e45-9011-d5f0210e2dce",
   "metadata": {},
   "outputs": [
    {
     "name": "stdout",
     "output_type": "stream",
     "text": [
      "Recall: 0.0019\n",
      "Precision: 1.0000\n",
      "AUC: 0.5010\n",
      "Accuracy: 0.9987\n",
      "F1-Score: 0.0039\n"
     ]
    }
   ],
   "source": [
    "# Recall and precision.\n",
    "# Precision: representa el porcentaje de verdaderos positivos respecto de aquellos casos caracterizados como positivos. Cuanto menor es la precision, significa que existen casos que el modelo está calificando incorrectamente como positivos.\n",
    "# Recall: representa el porcentaje de verdaderos positivos respecto de aquellos casos que son efectivamente positivos. Refiere al alcance del modelo para capturar los verdaderos positivos. Cuanto mayor sea el porcentaje, implica que mayor cantidad de verdaderos positivos captura.\n",
    "\n",
    "# Importación de librerías.\n",
    "from sklearn.metrics import precision_score, recall_score, f1_score, roc_auc_score, accuracy_score\n",
    "\n",
    "# Valores verdaderos y predichos.\n",
    "y_test = df['isFraud']\n",
    "y_pred = df['isFlaggedFraud']\n",
    "\n",
    "# Impresión de scorings.\n",
    "print('Recall: %.4f' % recall_score(y_true = y_test, y_pred = y_pred))\n",
    "print('Precision: %.4f' % precision_score(y_true = y_test, y_pred = y_pred))\n",
    "print('AUC: %.4f' % roc_auc_score(y_true = y_test, y_score = y_pred))\n",
    "print('Accuracy: %.4f' % accuracy_score(y_true = y_test, y_pred = y_pred))\n",
    "print('F1-Score: %.4f' % f1_score(y_true = y_test, y_pred = y_pred))"
   ]
  },
  {
   "cell_type": "markdown",
   "id": "70d9a80a-01ff-42fb-94f2-0f49aa2b351e",
   "metadata": {
    "tags": []
   },
   "source": [
    "### 4.2. Representación gráfica"
   ]
  },
  {
   "cell_type": "code",
   "execution_count": 18,
   "id": "b1d306dd-152d-41a6-8257-ba5748afa796",
   "metadata": {},
   "outputs": [
    {
     "data": {
      "image/png": "[encoded data removed]",
      "text/plain": [
       "<Figure size 720x432 with 1 Axes>"
      ]
     },
     "metadata": {
      "needs_background": "light"
     },
     "output_type": "display_data"
    },
    {
     "data": {
      "image/png": "[encoded data removed]",
      "text/plain": [
       "<Figure size 720x432 with 1 Axes>"
      ]
     },
     "metadata": {
      "needs_background": "light"
     },
     "output_type": "display_data"
    },
    {
     "data": {
      "image/png": "[encoded data removed]",
      "text/plain": [
       "<Figure size 720x432 with 1 Axes>"
      ]
     },
     "metadata": {
      "needs_background": "light"
     },
     "output_type": "display_data"
    }
   ],
   "source": [
    "# Exportación a png.\n",
    "from export import export_png\n",
    "\n",
    "export_png(filename = 'baseline_2', y_pred = y_pred, y_test = y_test)"
   ]
  },
  {
   "cell_type": "markdown",
   "id": "94ee7fc8-0cb4-4850-af39-1fe6e8b80c88",
   "metadata": {
    "tags": []
   },
   "source": [
    "## 5. Ingeniería de predictores"
   ]
  },
  {
   "cell_type": "code",
   "execution_count": 19,
   "id": "fd708093-c244-4fc0-94fb-8ace303db3f0",
   "metadata": {},
   "outputs": [],
   "source": [
    "# Se agregan 2 atributos adicionales para distinguir el día y hora de cada operación.\n",
    "# 31 x 24 = 744 horas\n",
    "from math import ceil\n",
    "df['day'] = df['step'] / 24\n",
    "df['day'] = df['day'].apply(lambda x: ceil(x))\n",
    "df['hour'] = df['step'] / 31\n",
    "df['hour'] = df['hour'].apply(lambda x: ceil(x))"
   ]
  },
  {
   "cell_type": "code",
   "execution_count": 20,
   "id": "77804f45-60d5-4643-9499-6f83bb14f91c",
   "metadata": {},
   "outputs": [],
   "source": [
    "# Filtro y orden de atributos.\n",
    "df = df.loc[:, ['day', 'hour', 'type', 'amount', 'nameOrig', 'oldbalanceOrig',\n",
    "              'newbalanceOrig', 'nameDest', 'oldbalanceDest', 'newbalanceDest',\n",
    "              'isFraud', 'isFlaggedFraud']]"
   ]
  },
  {
   "cell_type": "code",
   "execution_count": 21,
   "id": "9b852762-e766-434a-bbe8-2d9f5cd9718f",
   "metadata": {},
   "outputs": [],
   "source": [
    "# Conversión de variable 'type' a dummies.\n",
    "df = pd.get_dummies(df, columns = ['type'])"
   ]
  },
  {
   "cell_type": "code",
   "execution_count": 22,
   "id": "7a36e048-9b98-4296-b8f2-ec5279ec3b2c",
   "metadata": {},
   "outputs": [
    {
     "name": "stdout",
     "output_type": "stream",
     "text": [
      "Longitud ids: 12725240\n",
      "Longitud registros: 12725240\n"
     ]
    }
   ],
   "source": [
    "# Creación de serie uniendo las columnas 'nameOrig' y 'nameDest'.\n",
    "ids = pd.concat(objs = (df['nameOrig'], df['nameDest']))\n",
    "print('Longitud ids: %i' % len(ids))\n",
    "print('Longitud registros: %i' % (len(df['nameOrig']) * 2))"
   ]
  },
  {
   "cell_type": "code",
   "execution_count": 23,
   "id": "075daa7a-171d-4960-a868-6a558fbc71c5",
   "metadata": {},
   "outputs": [
    {
     "name": "stdout",
     "output_type": "stream",
     "text": [
      "Longitud valores unicos ids: 9073900\n"
     ]
    }
   ],
   "source": [
    "# Obtención de IDs únicos.\n",
    "ids_unique = ids.unique()\n",
    "print('Longitud valores unicos ids: %i' % len(ids_unique))"
   ]
  },
  {
   "cell_type": "code",
   "execution_count": 24,
   "id": "fdc1fbca-15e1-48ea-a210-754ffb94171e",
   "metadata": {},
   "outputs": [
    {
     "data": {
      "text/plain": [
       "array(['C1231006815', 'C1666544295', 'C1305486145', ..., 'C1850423904',\n",
       "       'C1881841831', 'C2080388513'], dtype=object)"
      ]
     },
     "execution_count": 24,
     "metadata": {},
     "output_type": "execute_result"
    }
   ],
   "source": [
    "# Visualización de IDs únicos.\n",
    "ids_unique"
   ]
  },
  {
   "cell_type": "code",
   "execution_count": 25,
   "id": "7d60c7b1-9269-4f58-b6f3-3b466c777c9b",
   "metadata": {},
   "outputs": [],
   "source": [
    "# Creación de diccionario con índice y el valor obtenido del dataframe.\n",
    "ids_dict = {j : i for i, j in enumerate(ids_unique)}"
   ]
  },
  {
   "cell_type": "code",
   "execution_count": 26,
   "id": "db47c410-dc36-42c0-95e0-a9e34b4bf288",
   "metadata": {},
   "outputs": [],
   "source": [
    "# Mapping de los IDs.\n",
    "df['idOrig'] = df['nameOrig'].map(ids_dict)\n",
    "df['idDest'] = df['nameDest'].map(ids_dict)"
   ]
  },
  {
   "cell_type": "code",
   "execution_count": 27,
   "id": "936a66a9-903a-4dbd-b61d-b97d99bd7c97",
   "metadata": {
    "tags": []
   },
   "outputs": [],
   "source": [
    "# Filtro y orden de atributos.\n",
    "columns = ['day', 'hour', 'amount', 'idOrig', 'oldbalanceOrig', 'newbalanceOrig',\n",
    "           'idDest', 'oldbalanceDest', 'newbalanceDest', 'type_CASH_IN', 'type_CASH_OUT',\n",
    "           'type_DEBIT', 'type_PAYMENT', 'type_TRANSFER', 'isFraud', 'isFlaggedFraud']\n",
    "df = df.loc[:, columns]"
   ]
  },
  {
   "cell_type": "code",
   "execution_count": 28,
   "id": "3e400c04-1fd2-4f8f-8960-19d2919f13c9",
   "metadata": {},
   "outputs": [],
   "source": [
    "# Se renombran las columnas\n",
    "df.columns = ['day', 'hour', 'amount', 'idOrig', 'oldbalanceOrig', 'newbalanceOrig',\n",
    "              'idDest', 'oldbalanceDest', 'newbalanceDest', 'Cash_in',\n",
    "              'Cash_out', 'Debit', 'Payment', 'Transfer',\n",
    "              'isFraud', 'isFlaggedFraud']"
   ]
  },
  {
   "cell_type": "markdown",
   "id": "aab3f82b-a453-4b11-bd99-d50bbb3c0dd7",
   "metadata": {
    "tags": []
   },
   "source": [
    "## 6. Backup del dataset preprocesado"
   ]
  },
  {
   "cell_type": "code",
   "execution_count": null,
   "id": "b4a5d26b-451d-45a9-b637-184769124721",
   "metadata": {},
   "outputs": [],
   "source": [
    "# Creacion de archivos csv para almacenar variables.\n",
    "df.to_csv(path_or_buf = 'df_preprocessed.csv', sep = ',', index = False)"
   ]
  },
  {
   "cell_type": "code",
   "execution_count": null,
   "id": "7420a9b7-b243-4a67-ba2b-7168d02e4951",
   "metadata": {},
   "outputs": [],
   "source": [
    "# Lectura de archivos de backup csv.\n",
    "df_preprocessed = pd.read_csv('df_preprocessed.csv')"
   ]
  }
 ],
 "metadata": {
  "kernelspec": {
   "display_name": "Python 3 (ipykernel)",
   "language": "python",
   "name": "python3"
  },
  "language_info": {
   "codemirror_mode": {
    "name": "ipython",
    "version": 3
   },
   "file_extension": ".py",
   "mimetype": "text/x-python",
   "name": "python",
   "nbconvert_exporter": "python",
   "pygments_lexer": "ipython3",
   "version": "3.9.12"
  }
 },
 "nbformat": 4,
 "nbformat_minor": 5
}
