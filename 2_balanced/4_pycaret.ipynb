{
 "cells": [
  {
   "cell_type": "markdown",
   "id": "45178782-ce4f-4e19-a9ef-b842b61111b0",
   "metadata": {
    "tags": []
   },
   "source": [
    "# Detección de anomalías en un marco de auditoría continua"
   ]
  },
  {
   "cell_type": "markdown",
   "id": "8aa9ea91-8f16-4e5c-8326-1ff762c6c9e9",
   "metadata": {
    "tags": []
   },
   "source": [
    "## 12. Datos desbalanceados - Modelos no supervisados - PyCaret"
   ]
  },
  {
   "cell_type": "markdown",
   "id": "d6871f95-f395-4f0e-b52b-9702a1797220",
   "metadata": {
    "tags": []
   },
   "source": [
    "### 12.1. Split del dataset"
   ]
  },
  {
   "cell_type": "markdown",
   "id": "0706273a-4fd4-4c7a-9ef2-a107adadc1ca",
   "metadata": {},
   "source": [
    "Split del dataset para reservar un conjunto de datos para validación posterior al entrenamiento y desarrollo de los modelos."
   ]
  },
  {
   "cell_type": "code",
   "execution_count": 1,
   "id": "089d4e65-f4d0-4c07-aaa4-c87f20bd9df4",
   "metadata": {
    "tags": []
   },
   "outputs": [],
   "source": [
    "# Importación de librerías\n",
    "import pandas as pd\n",
    "import numpy as np\n",
    "import os\n",
    "import time\n",
    "import joblib\n",
    "\n",
    "# ! pip install pandas\n",
    "# ! pip install numpy\n",
    "# ! pip install pycaret==2.3.5\n",
    "# ! pip install scipy==1.4.1\n",
    "# ! pip install joblib\n",
    "# ! pip install sklearn\n",
    "# ! pip install hyperopt"
   ]
  },
  {
   "cell_type": "code",
   "execution_count": 2,
   "id": "e15b1be9-f2ed-405f-9757-4efe9227e916",
   "metadata": {
    "tags": []
   },
   "outputs": [],
   "source": [
    "# Filtro de warnings.\n",
    "import warnings\n",
    "warnings.filterwarnings(\"ignore\")"
   ]
  },
  {
   "cell_type": "code",
   "execution_count": 3,
   "id": "b98dc28e-86a9-49b3-ae30-cab9e16aa0f1",
   "metadata": {
    "tags": []
   },
   "outputs": [
    {
     "data": {
      "text/html": [
       "<div>\n",
       "<style scoped>\n",
       "    .dataframe tbody tr th:only-of-type {\n",
       "        vertical-align: middle;\n",
       "    }\n",
       "\n",
       "    .dataframe tbody tr th {\n",
       "        vertical-align: top;\n",
       "    }\n",
       "\n",
       "    .dataframe thead th {\n",
       "        text-align: right;\n",
       "    }\n",
       "</style>\n",
       "<table border=\"1\" class=\"dataframe\">\n",
       "  <thead>\n",
       "    <tr style=\"text-align: right;\">\n",
       "      <th></th>\n",
       "      <th>day</th>\n",
       "      <th>hour</th>\n",
       "      <th>amount</th>\n",
       "      <th>idOrig</th>\n",
       "      <th>oldbalanceOrig</th>\n",
       "      <th>newbalanceOrig</th>\n",
       "      <th>idDest</th>\n",
       "      <th>oldbalanceDest</th>\n",
       "      <th>newbalanceDest</th>\n",
       "      <th>Cash_in</th>\n",
       "      <th>Cash_out</th>\n",
       "      <th>Debit</th>\n",
       "      <th>Payment</th>\n",
       "      <th>Transfer</th>\n",
       "      <th>isFraud</th>\n",
       "      <th>isFlaggedFraud</th>\n",
       "    </tr>\n",
       "  </thead>\n",
       "  <tbody>\n",
       "    <tr>\n",
       "      <th>0</th>\n",
       "      <td>1</td>\n",
       "      <td>1</td>\n",
       "      <td>9839.64</td>\n",
       "      <td>0</td>\n",
       "      <td>170136.0</td>\n",
       "      <td>160296.36</td>\n",
       "      <td>6353307</td>\n",
       "      <td>0.0</td>\n",
       "      <td>0.0</td>\n",
       "      <td>0</td>\n",
       "      <td>0</td>\n",
       "      <td>0</td>\n",
       "      <td>1</td>\n",
       "      <td>0</td>\n",
       "      <td>0</td>\n",
       "      <td>0</td>\n",
       "    </tr>\n",
       "    <tr>\n",
       "      <th>1</th>\n",
       "      <td>1</td>\n",
       "      <td>1</td>\n",
       "      <td>1864.28</td>\n",
       "      <td>1</td>\n",
       "      <td>21249.0</td>\n",
       "      <td>19384.72</td>\n",
       "      <td>6353308</td>\n",
       "      <td>0.0</td>\n",
       "      <td>0.0</td>\n",
       "      <td>0</td>\n",
       "      <td>0</td>\n",
       "      <td>0</td>\n",
       "      <td>1</td>\n",
       "      <td>0</td>\n",
       "      <td>0</td>\n",
       "      <td>0</td>\n",
       "    </tr>\n",
       "    <tr>\n",
       "      <th>2</th>\n",
       "      <td>1</td>\n",
       "      <td>1</td>\n",
       "      <td>181.00</td>\n",
       "      <td>2</td>\n",
       "      <td>181.0</td>\n",
       "      <td>0.00</td>\n",
       "      <td>6353309</td>\n",
       "      <td>0.0</td>\n",
       "      <td>0.0</td>\n",
       "      <td>0</td>\n",
       "      <td>0</td>\n",
       "      <td>0</td>\n",
       "      <td>0</td>\n",
       "      <td>1</td>\n",
       "      <td>1</td>\n",
       "      <td>0</td>\n",
       "    </tr>\n",
       "    <tr>\n",
       "      <th>3</th>\n",
       "      <td>1</td>\n",
       "      <td>1</td>\n",
       "      <td>181.00</td>\n",
       "      <td>3</td>\n",
       "      <td>181.0</td>\n",
       "      <td>0.00</td>\n",
       "      <td>6353310</td>\n",
       "      <td>21182.0</td>\n",
       "      <td>0.0</td>\n",
       "      <td>0</td>\n",
       "      <td>1</td>\n",
       "      <td>0</td>\n",
       "      <td>0</td>\n",
       "      <td>0</td>\n",
       "      <td>1</td>\n",
       "      <td>0</td>\n",
       "    </tr>\n",
       "    <tr>\n",
       "      <th>4</th>\n",
       "      <td>1</td>\n",
       "      <td>1</td>\n",
       "      <td>11668.14</td>\n",
       "      <td>4</td>\n",
       "      <td>41554.0</td>\n",
       "      <td>29885.86</td>\n",
       "      <td>6353311</td>\n",
       "      <td>0.0</td>\n",
       "      <td>0.0</td>\n",
       "      <td>0</td>\n",
       "      <td>0</td>\n",
       "      <td>0</td>\n",
       "      <td>1</td>\n",
       "      <td>0</td>\n",
       "      <td>0</td>\n",
       "      <td>0</td>\n",
       "    </tr>\n",
       "  </tbody>\n",
       "</table>\n",
       "</div>"
      ],
      "text/plain": [
       "   day  hour    amount  idOrig  oldbalanceOrig  newbalanceOrig   idDest  \\\n",
       "0    1     1   9839.64       0        170136.0       160296.36  6353307   \n",
       "1    1     1   1864.28       1         21249.0        19384.72  6353308   \n",
       "2    1     1    181.00       2           181.0            0.00  6353309   \n",
       "3    1     1    181.00       3           181.0            0.00  6353310   \n",
       "4    1     1  11668.14       4         41554.0        29885.86  6353311   \n",
       "\n",
       "   oldbalanceDest  newbalanceDest  Cash_in  Cash_out  Debit  Payment  \\\n",
       "0             0.0             0.0        0         0      0        1   \n",
       "1             0.0             0.0        0         0      0        1   \n",
       "2             0.0             0.0        0         0      0        0   \n",
       "3         21182.0             0.0        0         1      0        0   \n",
       "4             0.0             0.0        0         0      0        1   \n",
       "\n",
       "   Transfer  isFraud  isFlaggedFraud  \n",
       "0         0        0               0  \n",
       "1         0        0               0  \n",
       "2         1        1               0  \n",
       "3         0        1               0  \n",
       "4         0        0               0  "
      ]
     },
     "execution_count": 3,
     "metadata": {},
     "output_type": "execute_result"
    }
   ],
   "source": [
    "# Carga del dataset.\n",
    "os.chdir('..')\n",
    "df = pd.read_csv('df_preprocessed.csv')\n",
    "df.head()"
   ]
  },
  {
   "cell_type": "code",
   "execution_count": 4,
   "id": "d38b8494-4428-4d92-b105-efbc680fe313",
   "metadata": {
    "tags": []
   },
   "outputs": [],
   "source": [
    "# Split del dataset para reservar un conjunto de validación.\n",
    "from sklearn.model_selection import train_test_split\n",
    "df_training, df_validation = train_test_split(df, test_size = 0.2, random_state = 42, shuffle = True, stratify = np.array(df['isFraud']))"
   ]
  },
  {
   "cell_type": "code",
   "execution_count": 5,
   "id": "b878eb09-cff3-4736-98f5-5b81ca9c6806",
   "metadata": {
    "tags": []
   },
   "outputs": [
    {
     "name": "stdout",
     "output_type": "stream",
     "text": [
      "Proporcion de clases para dataset de training: 0.0013\n",
      "Proporcion de clases para dataset de validación: 0.0013\n"
     ]
    }
   ],
   "source": [
    "# Control de frecuencias de clases.\n",
    "print('Proporcion de clases para dataset de training: %.4f' % (df_training['isFraud'].value_counts()[1] / df_training['isFraud'].value_counts()[0]))\n",
    "print('Proporcion de clases para dataset de validación: %.4f' % (df_validation['isFraud'].value_counts()[1] / df_validation['isFraud'].value_counts()[0]))"
   ]
  },
  {
   "cell_type": "markdown",
   "id": "f9181e8e-65ab-4b1e-927b-5ffbea5dee65",
   "metadata": {
    "tags": []
   },
   "source": [
    "### 12.2. Balanceo de datos"
   ]
  },
  {
   "cell_type": "markdown",
   "id": "b3c9f792-a2c6-494f-963c-e92a9f10f07a",
   "metadata": {},
   "source": [
    "Para el balanceo de datos, se recurre a una técnica híbrida:\n",
    "- Por un lado, se submuestrean los registros de la clase mayoritaria, utilizando muestreo sin reposición.\n",
    "- Por otro lado, se sobremuestrean los registros de la clase minoritaria, utilizando muestreo con reposición.\n",
    "- Se recurre a un valor de k, que representa el factor de muestreo. A mayor k, mayor es la participación de casos de fraude dentro del nuevo dataset."
   ]
  },
  {
   "cell_type": "code",
   "execution_count": 6,
   "id": "b900e846-5528-48fa-9441-3977ae1549da",
   "metadata": {},
   "outputs": [],
   "source": [
    "# Función para el balanceo de datos.\n",
    "from sklearn.utils import resample\n",
    "\n",
    "def balancing(X, y, k):\n",
    "    # X = dataframe; y = series; k = float\n",
    "    \n",
    "    # Submuestreo de la clase mayoritaria.\n",
    "    index_majority_downsampled = resample(X[y == 0], \n",
    "                                       replace = False,\n",
    "                                       n_samples = int(len(X[y == 0]) * (1 - k)),\n",
    "                                       random_state = 42).index\n",
    "    \n",
    "    # Sobremuestreo de la clase minoritaria.\n",
    "    index_minority_oversampled = resample(X[y == 1], \n",
    "                                       replace = True,\n",
    "                                       n_samples = int(len(X[y == 1]) * (1 + k)),\n",
    "                                       random_state = 42).index\n",
    "    \n",
    "    indexes = list(index_majority_downsampled) + list(index_minority_oversampled)\n",
    "    \n",
    "    return indexes"
   ]
  },
  {
   "cell_type": "markdown",
   "id": "ee5d0018-f759-4879-989b-59253a149d66",
   "metadata": {
    "tags": []
   },
   "source": [
    "### 11.3. Detección de anomalías utilizando la librería PyCaret"
   ]
  },
  {
   "cell_type": "markdown",
   "id": "1bc8c680-f0e2-4bbb-bf59-a7a508bed44c",
   "metadata": {
    "tags": []
   },
   "source": [
    "https://towardsdatascience.com/unsupervised-anomaly-detection-in-python-f2e61be17c2b\n",
    "\n",
    "https://www.oreilly.com/library/view/hands-on-unsupervised-learning/9781492035633/ch04.html\n",
    "\n",
    "https://pycaret.org/"
   ]
  },
  {
   "cell_type": "markdown",
   "id": "e8d02235-7615-483f-9b63-345c18986c0c",
   "metadata": {
    "jp-MarkdownHeadingCollapsed": true,
    "tags": []
   },
   "source": [
    "#### 11.3.1. Optimización de hiperparámetros"
   ]
  },
  {
   "cell_type": "code",
   "execution_count": 7,
   "id": "bc8dbc88-4967-44a3-a673-62e024c1ce95",
   "metadata": {
    "tags": []
   },
   "outputs": [],
   "source": [
    "# Importación de librerías.\n",
    "import os\n",
    "import json\n",
    "from datetime import datetime\n",
    "from sklearn.model_selection import StratifiedKFold, StratifiedShuffleSplit\n",
    "from sklearn.metrics import f1_score, recall_score, precision_score, roc_auc_score, accuracy_score\n",
    "from hyperopt import fmin, hp, tpe, space_eval, Trials\n",
    "from pycaret.anomaly import *\n",
    "\n",
    "# Definición de la función objetivo.\n",
    "def objective_func(search_space):\n",
    "\n",
    "    global counter, scorings, df_subset\n",
    "    start_time = time.time()\n",
    "    counter += 1    \n",
    "    \n",
    "    kfold = StratifiedKFold(n_splits = 4, shuffle = True, random_state = 42)\n",
    "    \n",
    "    scores = {'accuracy' : [],\n",
    "              'recall' : [],\n",
    "              'precision' : [],\n",
    "              'f1_score' : [],\n",
    "              'roc_auc' : []\n",
    "             }\n",
    "    \n",
    "    scorings_trial = {}\n",
    "\n",
    "    for train, test in kfold.split(df_subset, y = df_subset.iloc[:, -2]):\n",
    "        \n",
    "        X_train = df_subset.iloc[train, :]\n",
    "        X_test = df_subset.iloc[test, :]\n",
    "        y_train = df_subset.iloc[train, -2]\n",
    "        y_test = df_subset.iloc[test, -2]\n",
    "        \n",
    "        indexes_train = balancing(X_train, y_train, 0.8)\n",
    "        indexes_test = balancing(X_test, y_test, 0.8)\n",
    "        \n",
    "        X_train = X_train.loc[indexes_train, :]\n",
    "        X_test = X_test.loc[indexes_test, :]\n",
    "        y_train = y_train.loc[indexes_train]\n",
    "        y_test = y_test.loc[indexes_test]       \n",
    "        \n",
    "        anom = setup(data = X_train,\n",
    "                     ignore_features = ['isFraud', 'isFlaggedFraud'], \n",
    "                     categorical_features = ['Cash_in', 'Cash_out', 'Debit', 'Payment', 'Transfer'],\n",
    "                     normalize = True,\n",
    "                     normalize_method = search_space['scaler'],\n",
    "                     silent = True,\n",
    "                     use_gpu = True,\n",
    "                     verbose = False,\n",
    "                     session_id = 42, \n",
    "                    )\n",
    "        \n",
    "        iforest = create_model(model = search_space['model'], fraction = search_space['fraction'], verbose = False)\n",
    "        \n",
    "        predictions = predict_model(iforest, data = X_test)\n",
    "        \n",
    "        y_pred = predictions.loc[:, 'Anomaly']\n",
    "        \n",
    "        scores['accuracy'].append(accuracy_score(y_true = y_test, y_pred = y_pred))\n",
    "        scores['recall'].append(recall_score(y_true = y_test, y_pred = y_pred))\n",
    "        scores['precision'].append(precision_score(y_true = y_test, y_pred = y_pred))\n",
    "        scores['f1_score'].append(f1_score(y_true = y_test, y_pred = y_pred))\n",
    "        scores['roc_auc'].append(roc_auc_score(y_true = y_test, y_score = y_pred))\n",
    "    \n",
    "    scorings_trial['trial'] = counter\n",
    "    scorings_trial['search_space'] = str(search_space)\n",
    "\n",
    "    for score in scores:\n",
    "        scorings_trial[score + '_mean'] = np.mean(scores[score])\n",
    "        scorings_trial[score + '_std'] = np.std(scores[score])\n",
    "\n",
    "    loss = 1 - scorings_trial['f1_score_mean'] + scorings_trial['f1_score_std']\n",
    "\n",
    "    scorings.append(scorings_trial)\n",
    "    \n",
    "    elapsed_time = time.time() - start_time\n",
    "    \n",
    "    print('Trial: %i | Loss: %.4f | Elapsed_time: %.4f seconds' % (counter, loss, elapsed_time))\n",
    "    \n",
    "    return loss\n",
    "\n",
    "# Función para la impresión de resultados.\n",
    "def hyperopt_printer(trials):\n",
    "    print('\\nBest Trial:')\n",
    "    print('Trial ID :', trials.best_trial['tid'])\n",
    "    print('Loss :', trials.best_trial['result']['loss'])\n",
    "    print('Params :', space_eval(search_space, best_params), end = '\\n\\n')\n",
    "\n",
    "# Función para exportación de resultados a formato JSON.\n",
    "def json_export(scorings):\n",
    "    try:\n",
    "        os.mkdir('hyperopt_optimizations')\n",
    "    except:\n",
    "        None\n",
    "\n",
    "    now = datetime.now()\n",
    "    dt_string = now.strftime(\"%Y%m%d_%H%M%S\")\n",
    "    path = os.getcwd() + '\\hyperopt_optimizations\\\\'\n",
    "    filename = 'Opt_' + dt_string + '.json'\n",
    "\n",
    "    f = open(path + filename, 'w')\n",
    "    json.dump(scorings, f)\n",
    "    f.close()\n",
    "    print('Json file: ' + dt_string + '.json', end = '\\n\\n')\n",
    "\n",
    "# Función para la obtención de resultados en formato tabla para visualizar scorings y desvios estándar.\n",
    "def scorings_to_df(scorings):\n",
    "    scorings_df = pd.DataFrame(columns = list(scorings[0].keys()))\n",
    "    for scoring in scorings:\n",
    "        scorings_df = scorings_df.append(scoring, ignore_index = True)\n",
    "\n",
    "    print('Scoring details:', end = '\\n\\n')\n",
    "    with pd.option_context('display.max_rows', None, 'display.max_columns', None, 'display.width', 1000):  # more options can be specified also\n",
    "        print(scorings_df)\n",
    "\n",
    "    return scorings_df"
   ]
  },
  {
   "cell_type": "code",
   "execution_count": 9,
   "id": "94eb252a-2d9d-4987-85c2-996ee09deaea",
   "metadata": {
    "collapsed": true,
    "jupyter": {
     "outputs_hidden": true
    },
    "tags": []
   },
   "outputs": [
    {
     "name": "stdout",
     "output_type": "stream",
     "text": [
      "Trial: 0 | Loss: 0.9504 | Elapsed_time: 13.5497 seconds\n",
      "Trial: 1 | Loss: 0.9202 | Elapsed_time: 13.2490 seconds                          \n",
      "Trial: 2 | Loss: 0.9141 | Elapsed_time: 37.1153 seconds                          \n",
      "Trial: 3 | Loss: 0.9283 | Elapsed_time: 13.2255 seconds                          \n",
      "Trial: 4 | Loss: 0.9520 | Elapsed_time: 94.2063 seconds                          \n",
      "Trial: 5 | Loss: 0.9261 | Elapsed_time: 13.8752 seconds                            \n",
      "Trial: 6 | Loss: 0.8610 | Elapsed_time: 72.4813 seconds                            \n",
      "Trial: 7 | Loss: 0.9614 | Elapsed_time: 18.9507 seconds                            \n",
      "Trial: 8 | Loss: 0.9209 | Elapsed_time: 13.3764 seconds                            \n",
      "Trial: 9 | Loss: 0.9396 | Elapsed_time: 13.2598 seconds                          \n",
      "Trial: 10 | Loss: 0.9485 | Elapsed_time: 21.7013 seconds                          \n",
      "Trial: 11 | Loss: 0.9074 | Elapsed_time: 13.3736 seconds                          \n",
      "Trial: 12 | Loss: 0.9180 | Elapsed_time: 37.4434 seconds                          \n",
      "Trial: 13 | Loss: 0.9574 | Elapsed_time: 19.4218 seconds                          \n",
      "Trial: 14 | Loss: 0.8899 | Elapsed_time: 37.7460 seconds                          \n",
      "Trial: 15 | Loss: 0.9471 | Elapsed_time: 38.9433 seconds                          \n",
      "Trial: 16 | Loss: 0.9547 | Elapsed_time: 38.5891 seconds                          \n",
      "Trial: 17 | Loss: 0.9607 | Elapsed_time: 13.5159 seconds                          \n",
      "Trial: 18 | Loss: 0.9034 | Elapsed_time: 37.8492 seconds                          \n",
      "Trial: 19 | Loss: 0.9497 | Elapsed_time: 63.0345 seconds                          \n",
      "Trial: 20 | Loss: 0.8610 | Elapsed_time: 74.3752 seconds                          \n",
      "Trial: 21 | Loss: 0.9608 | Elapsed_time: 73.6582 seconds                            \n",
      "Trial: 22 | Loss: 0.9471 | Elapsed_time: 73.6559 seconds                            \n",
      "Trial: 23 | Loss: 0.8610 | Elapsed_time: 75.7222 seconds                            \n",
      "Trial: 24 | Loss: 0.8610 | Elapsed_time: 75.3358 seconds                            \n",
      "Trial: 25 | Loss: 0.9701 | Elapsed_time: 75.9147 seconds                            \n",
      "Trial: 26 | Loss: 0.9585 | Elapsed_time: 47.8412 seconds                            \n",
      "Trial: 27 | Loss: 0.8610 | Elapsed_time: 73.3411 seconds                            \n",
      "Trial: 28 | Loss: 0.9643 | Elapsed_time: 67.3973 seconds                            \n",
      "Trial: 29 | Loss: 0.9584 | Elapsed_time: 73.7544 seconds                            \n",
      "Trial: 30 | Loss: 0.9569 | Elapsed_time: 35.9261 seconds                            \n",
      "Trial: 31 | Loss: 0.9629 | Elapsed_time: 67.8035 seconds                            \n",
      "Trial: 32 | Loss: 0.9584 | Elapsed_time: 87.8099 seconds                            \n",
      "Trial: 33 | Loss: 0.9294 | Elapsed_time: 70.0847 seconds                            \n",
      "Trial: 34 | Loss: 0.9460 | Elapsed_time: 48.5459 seconds                            \n",
      "Trial: 35 | Loss: 0.9264 | Elapsed_time: 12.6046 seconds                            \n",
      "Trial: 36 | Loss: 0.8956 | Elapsed_time: 13.1856 seconds                            \n",
      "Trial: 37 | Loss: 0.8723 | Elapsed_time: 19.8007 seconds                          \n",
      "Trial: 38 | Loss: 0.9575 | Elapsed_time: 67.9777 seconds                          \n",
      "Trial: 39 | Loss: 0.9452 | Elapsed_time: 35.5167 seconds                          \n",
      "Trial: 40 | Loss: 0.9631 | Elapsed_time: 12.8512 seconds                          \n",
      "Trial: 41 | Loss: 0.9584 | Elapsed_time: 12.7348 seconds                          \n",
      "Trial: 42 | Loss: 0.9477 | Elapsed_time: 35.1814 seconds                          \n",
      "Trial: 43 | Loss: 0.9472 | Elapsed_time: 18.1697 seconds                          \n",
      "Trial: 44 | Loss: 0.8736 | Elapsed_time: 68.6044 seconds                          \n",
      "Trial: 45 | Loss: 0.9592 | Elapsed_time: 59.1457 seconds                          \n",
      "Trial: 46 | Loss: 0.9489 | Elapsed_time: 12.7766 seconds                          \n",
      "Trial: 47 | Loss: 0.9388 | Elapsed_time: 47.4302 seconds                          \n",
      "Trial: 48 | Loss: 0.9070 | Elapsed_time: 35.2639 seconds                          \n",
      "Trial: 49 | Loss: 0.9640 | Elapsed_time: 18.2174 seconds                          \n",
      "Trial: 50 | Loss: 0.9481 | Elapsed_time: 35.7454 seconds                          \n",
      "Trial: 51 | Loss: 0.9355 | Elapsed_time: 12.4745 seconds                          \n",
      "Trial: 52 | Loss: 0.9718 | Elapsed_time: 28.9749 seconds                          \n",
      "Trial: 53 | Loss: 0.8613 | Elapsed_time: 35.0936 seconds                          \n",
      "Trial: 54 | Loss: 0.9670 | Elapsed_time: 48.5931 seconds                          \n",
      "Trial: 55 | Loss: 0.9401 | Elapsed_time: 123.4449 seconds                         \n",
      "Trial: 56 | Loss: 0.9022 | Elapsed_time: 12.7523 seconds                          \n",
      "Trial: 57 | Loss: 0.9377 | Elapsed_time: 77.7025 seconds                          \n",
      "Trial: 58 | Loss: 0.8895 | Elapsed_time: 38.9760 seconds                          \n",
      "Trial: 59 | Loss: 0.9391 | Elapsed_time: 18.3174 seconds                          \n",
      "Trial: 60 | Loss: 0.9588 | Elapsed_time: 12.5040 seconds                          \n",
      "Trial: 61 | Loss: 0.9551 | Elapsed_time: 69.6518 seconds                          \n",
      "Trial: 62 | Loss: 0.9649 | Elapsed_time: 69.3693 seconds                          \n",
      "Trial: 63 | Loss: 0.8932 | Elapsed_time: 36.1971 seconds                          \n",
      "Trial: 64 | Loss: 0.9683 | Elapsed_time: 77.2106 seconds                          \n",
      "Trial: 65 | Loss: 0.8610 | Elapsed_time: 77.8498 seconds                          \n",
      "Trial: 66 | Loss: 0.8610 | Elapsed_time: 78.8458 seconds                          \n",
      "Trial: 67 | Loss: 0.8610 | Elapsed_time: 73.8279 seconds                          \n",
      "Trial: 68 | Loss: 0.9174 | Elapsed_time: 71.0505 seconds                          \n",
      "Trial: 69 | Loss: 0.9602 | Elapsed_time: 71.9774 seconds                          \n",
      "Trial: 70 | Loss: 0.8369 | Elapsed_time: 71.8077 seconds                          \n",
      "Trial: 71 | Loss: 0.9207 | Elapsed_time: 130.6818 seconds                         \n",
      "Trial: 72 | Loss: 0.8369 | Elapsed_time: 68.3059 seconds                          \n",
      "Trial: 73 | Loss: 0.8369 | Elapsed_time: 67.4185 seconds                          \n",
      "Trial: 74 | Loss: 0.8748 | Elapsed_time: 36.0266 seconds                          \n",
      "Trial: 75 | Loss: 0.9845 | Elapsed_time: 12.8169 seconds                          \n",
      "Trial: 76 | Loss: 0.9691 | Elapsed_time: 12.6301 seconds                          \n",
      "Trial: 77 | Loss: 0.9639 | Elapsed_time: 18.1922 seconds                          \n",
      "Trial: 78 | Loss: 0.9569 | Elapsed_time: 35.6519 seconds                            \n",
      "Trial: 79 | Loss: 0.8369 | Elapsed_time: 69.8611 seconds                            \n",
      "Trial: 80 | Loss: 0.9240 | Elapsed_time: 121.7794 seconds                           \n",
      "Trial: 81 | Loss: 0.9697 | Elapsed_time: 28.5752 seconds                            \n",
      "Trial: 82 | Loss: 0.9355 | Elapsed_time: 35.1004 seconds                            \n",
      "Trial: 83 | Loss: 0.9479 | Elapsed_time: 12.7504 seconds                            \n",
      "Trial: 84 | Loss: 0.9437 | Elapsed_time: 35.6552 seconds                            \n",
      "Trial: 85 | Loss: 0.9652 | Elapsed_time: 35.5048 seconds                            \n",
      "Trial: 86 | Loss: 0.9531 | Elapsed_time: 12.8961 seconds                            \n",
      "Trial: 87 | Loss: 0.9540 | Elapsed_time: 21.7221 seconds                            \n",
      "Trial: 88 | Loss: 0.9639 | Elapsed_time: 67.8858 seconds                            \n",
      "Trial: 89 | Loss: 0.9704 | Elapsed_time: 48.1709 seconds                            \n",
      "Trial: 90 | Loss: 0.9542 | Elapsed_time: 125.8408 seconds                           \n",
      "Trial: 91 | Loss: 0.9040 | Elapsed_time: 39.9798 seconds                            \n",
      "Trial: 92 | Loss: 0.9700 | Elapsed_time: 42.1013 seconds                            \n",
      "Trial: 93 | Loss: 0.8992 | Elapsed_time: 13.7222 seconds                            \n",
      "Trial: 94 | Loss: 0.9487 | Elapsed_time: 38.0148 seconds                            \n",
      "Trial: 95 | Loss: 0.9501 | Elapsed_time: 76.4986 seconds                            \n",
      "Trial: 96 | Loss: 0.9554 | Elapsed_time: 19.4254 seconds                            \n",
      "Trial: 97 | Loss: 0.9715 | Elapsed_time: 13.8685 seconds                            \n",
      "Trial: 98 | Loss: 0.9569 | Elapsed_time: 38.4210 seconds                            \n",
      "Trial: 99 | Loss: 0.9550 | Elapsed_time: 70.9735 seconds                            \n",
      "100%|██████████| 100/100 [1:16:49<00:00, 46.10s/trial, best loss: 0.8368820396833657]\n"
     ]
    }
   ],
   "source": [
    "# Espacio de búsqueda.\n",
    "sss = StratifiedShuffleSplit(n_splits = 1, random_state = 42, train_size = 0.1)\n",
    "for a, b in sss.split(df_training, df_training.iloc[:, -2]):\n",
    "    df_subset = df_training.iloc[a, :]\n",
    "scaler = ['zscore', 'minmax', 'maxabs', 'robust']\n",
    "models = ['cluster', 'iforest', 'histogram', 'knn', 'lof', 'pca', 'mcd'] # abod, svm, cof, sos\n",
    "search_space = {'scaler' : hp.choice('scaler', scaler),\n",
    "                'model' : hp.choice('model', models),\n",
    "                'fraction' : hp.randint('fraction', 1 , 50) / 100\n",
    "               }\n",
    "\n",
    "# Ejecución del optimizador.\n",
    "counter = -1\n",
    "scorings = []\n",
    "rstate = np.random.default_rng(42)\n",
    "trials = Trials() # Para el logging de resultados.\n",
    "best_params = fmin(fn = objective_func, space = search_space, algo = tpe.suggest, max_evals = 100, trials = trials, rstate = rstate)"
   ]
  },
  {
   "cell_type": "code",
   "execution_count": 11,
   "id": "bac72805-ced5-4365-9b89-af1b019f8bff",
   "metadata": {
    "jupyter": {
     "source_hidden": true
    },
    "tags": []
   },
   "outputs": [
    {
     "name": "stdout",
     "output_type": "stream",
     "text": [
      "\n",
      "Best Trial:\n",
      "Trial ID : 70\n",
      "Loss : 0.8368820396833657\n",
      "Params : {'fraction': 0.01, 'model': 'lof', 'scaler': 'maxabs'}\n",
      "\n",
      "Scoring details:\n",
      "\n",
      "   trial                                       search_space accuracy_mean accuracy_std recall_mean recall_std precision_mean precision_std f1_score_mean f1_score_std roc_auc_mean roc_auc_std\n",
      "0      0  {'fraction': 0.32, 'model': 'pca', 'scaler': '...      0.686495     0.002621    0.749484   0.032275       0.026988      0.001306      0.052099      0.00251     0.717623     0.01665\n",
      "1      1  {'fraction': 0.17, 'model': 'histogram', 'scal...      0.836782      0.00338    0.662344   0.035016       0.045636      0.003059      0.085387     0.005637     0.750576    0.018473\n",
      "2      2  {'fraction': 0.15, 'model': 'iforest', 'scaler...      0.853447     0.002608    0.666564   0.056017       0.050988        0.0048      0.094729     0.008848     0.761091    0.028973\n",
      "3      3  {'fraction': 0.07, 'model': 'histogram', 'scal...      0.924618     0.001198    0.268148   0.017444        0.04396       0.00215      0.075533     0.003855     0.600199    0.008133\n",
      "4      4  {'fraction': 0.26, 'model': 'knn', 'scaler': '...      0.739835      0.00296    0.600753   0.026351       0.026311      0.001287      0.050414     0.002454     0.671103     0.01437\n",
      "5      5  {'fraction': 0.19, 'model': 'pca', 'scaler': '...      0.814059     0.002682    0.668322   0.013316       0.040482      0.001334      0.076339     0.002455     0.742037    0.007595\n",
      "6      6  {'fraction': 0.03, 'model': 'lof', 'scaler': '...        0.9635     0.001614    0.290227    0.02702       0.105557      0.011243      0.154754     0.015774     0.630778    0.013834\n",
      "7      7  {'fraction': 0.39, 'model': 'cluster', 'scaler...      0.613252     0.001254     0.72071   0.041046       0.021142      0.001258      0.041079     0.002442     0.666356    0.020773\n",
      "8      8  {'fraction': 0.17, 'model': 'pca', 'scaler': '...      0.833359     0.002524    0.647175   0.012917       0.043767      0.001565      0.081988     0.002846     0.741349    0.007609\n",
      "9      9  {'fraction': 0.24, 'model': 'histogram', 'scal...      0.767312     0.001518    0.690253    0.03598       0.033467      0.001817      0.063838     0.003459      0.72923     0.01812\n",
      "10    10  {'fraction': 0.26, 'model': 'cluster', 'scaler...      0.744064     0.001051    0.677472   0.069979       0.029941      0.003069      0.057347      0.00588     0.711154     0.03492\n",
      "11    11  {'fraction': 0.09, 'model': 'pca', 'scaler': '...       0.90841     0.001512    0.453404    0.04325       0.057555      0.005346       0.10214     0.009492     0.683552    0.021578\n",
      "12    12  {'fraction': 0.17, 'model': 'iforest', 'scaler...      0.834477     0.001853    0.703772   0.052286       0.047537      0.003775      0.089058     0.007042     0.769884    0.026658\n",
      "13    13  {'fraction': 0.32, 'model': 'cluster', 'scaler...      0.683909     0.001007    0.642926   0.029766       0.023136      0.001095      0.044665     0.002112     0.663655    0.014935\n",
      "14    14  {'fraction': 0.01, 'model': 'iforest', 'scaler...      0.981196     0.001277    0.136991    0.02931        0.15286      0.040103       0.14438     0.034277     0.564001    0.015125\n",
      "15    15  {'fraction': 0.21, 'model': 'mcd', 'scaler': '...      0.791318     0.001707    0.560803   0.054638       0.030661      0.002777      0.058142     0.005286       0.6774    0.026681\n",
      "16    16  {'fraction': 0.45, 'model': 'mcd', 'scaler': '...      0.559679     0.002359    0.939034   0.032474       0.023957      0.000718      0.046721     0.001405     0.747151    0.014946\n",
      "17    17  {'fraction': 0.43, 'model': 'histogram', 'scal...        0.5849     0.003477    0.772348   0.025135       0.021073      0.000893      0.041027     0.001727     0.677534    0.014126\n",
      "18    18  {'fraction': 0.1, 'model': 'iforest', 'scaler'...      0.900369     0.002502    0.539599   0.062943       0.061777      0.008053      0.110859     0.014291     0.722081    0.032339\n",
      "19    19  {'fraction': 0.25, 'model': 'knn', 'scaler': '...      0.750452     0.002547    0.581222   0.003856        0.02657      0.000277      0.050818     0.000517     0.666821    0.002485\n",
      "20    20  {'fraction': 0.03, 'model': 'lof', 'scaler': '...        0.9635     0.001614    0.290227    0.02702       0.105557      0.011243      0.154754     0.015774     0.630778    0.013834\n",
      "21    21  {'fraction': 0.33, 'model': 'lof', 'scaler': '...      0.654633     0.002932    0.637876   0.020048       0.021039      0.000823      0.040735     0.001584     0.646352    0.011307\n",
      "22    22  {'fraction': 0.18, 'model': 'lof', 'scaler': '...      0.812698     0.002498    0.494179   0.039024       0.030335      0.002262       0.05716     0.004273     0.655291      0.0194\n",
      "23    23  {'fraction': 0.03, 'model': 'lof', 'scaler': '...        0.9635     0.001614    0.290227    0.02702       0.105557      0.011243      0.154754     0.015774     0.630778    0.013834\n",
      "24    24  {'fraction': 0.03, 'model': 'lof', 'scaler': '...        0.9635     0.001614    0.290227    0.02702       0.105557      0.011243      0.154754     0.015774     0.630778    0.013834\n",
      "25    25  {'fraction': 0.49, 'model': 'lof', 'scaler': '...      0.481779     0.004583    0.725004   0.024164       0.015924      0.000636      0.031163      0.00124     0.601978    0.013683\n",
      "26    26  {'fraction': 0.3, 'model': 'lof', 'scaler': 'm...       0.68666     0.002455    0.604934   0.014244       0.022019      0.000537      0.042491     0.001033     0.646272    0.007428\n",
      "27    27  {'fraction': 0.03, 'model': 'lof', 'scaler': '...        0.9635     0.001614    0.290227    0.02702       0.105557      0.011243      0.154754     0.015774     0.630778    0.013834\n",
      "28    28  {'fraction': 0.38, 'model': 'lof', 'scaler': '...      0.599864     0.002552    0.672548   0.023437       0.019132      0.000785      0.037205      0.00152     0.635783    0.012801\n",
      "29    29  {'fraction': 0.28, 'model': 'lof', 'scaler': '...      0.709033     0.002609    0.579567   0.027412       0.022752      0.001137      0.043785     0.002183     0.645053    0.014421\n",
      "30    30  {'fraction': 0.48, 'model': 'mcd', 'scaler': '...      0.529888     0.002821    0.952559   0.031548       0.022782      0.000726      0.044499     0.001418     0.738766    0.015041\n",
      "31    31  {'fraction': 0.35, 'model': 'lof', 'scaler': '...      0.632795     0.003319    0.646333   0.024875       0.020051      0.000905      0.038895     0.001746     0.639485     0.01361\n",
      "32    32  {'fraction': 0.37, 'model': 'knn', 'scaler': '...      0.632766     0.003607    0.723355   0.028643       0.022326      0.000881      0.043315     0.001708     0.677534    0.014429\n",
      "33    33  {'fraction': 0.11, 'model': 'lof', 'scaler': '...      0.883938     0.002801    0.408723   0.032132       0.041163       0.00222      0.074787     0.004188     0.649093     0.01478\n",
      "34    34  {'fraction': 0.2, 'model': 'knn', 'scaler': 'r...      0.798435     0.001692    0.527838   0.028384       0.029994      0.001459      0.056762     0.002776     0.664709    0.013543\n",
      "35    35  {'fraction': 0.06, 'model': 'histogram', 'scal...      0.934847     0.001421    0.271463   0.043757       0.052066      0.008206      0.087367     0.013806     0.607011    0.021923\n",
      "36    36  {'fraction': 0.05, 'model': 'pca', 'scaler': '...      0.944784     0.001098    0.310441   0.026286       0.070187      0.006266      0.114483     0.010089     0.631299    0.013327\n",
      "37    37  {'fraction': 0.02, 'model': 'cluster', 'scaler...      0.972747      0.00129    0.216481   0.034997        0.12044      0.021913      0.154727     0.026983      0.59901    0.017856\n",
      "38    38  {'fraction': 0.27, 'model': 'lof', 'scaler': '...      0.719135     0.003063     0.57281   0.027409       0.023304      0.001188      0.044786     0.002277     0.646823    0.014472\n",
      "39    39  {'fraction': 0.29, 'model': 'mcd', 'scaler': '...      0.714205       0.0024    0.741049   0.023191        0.02923      0.000766      0.056241     0.001483     0.727471    0.010531\n",
      "40    40  {'fraction': 0.47, 'model': 'pca', 'scaler': '...      0.538639     0.003586    0.813765   0.038473       0.019965      0.001063      0.038973     0.002069     0.674602    0.020146\n",
      "41    41  {'fraction': 0.36, 'model': 'histogram', 'scal...      0.650053     0.007363    0.724066   0.046572       0.023472      0.002004      0.045468      0.00385     0.686628     0.02648\n",
      "42    42  {'fraction': 0.34, 'model': 'iforest', 'scaler...      0.667156     0.005749    0.841697   0.033964       0.028406      0.001385      0.054956      0.00266     0.753411    0.017821\n",
      "43    43  {'fraction': 0.23, 'model': 'cluster', 'scaler...      0.773252     0.003011    0.590447   0.032748       0.029677      0.001992      0.056512     0.003761     0.682912    0.017644\n",
      "44    44  {'fraction': 0.04, 'model': 'lof', 'scaler': '...      0.953913     0.001773    0.324097   0.031722       0.088626       0.00812      0.139142     0.012755     0.642667    0.015778\n",
      "45    45  {'fraction': 0.41, 'model': 'knn', 'scaler': '...      0.595926     0.004205    0.790099    0.04164       0.022105      0.001113      0.043007     0.002167     0.691883    0.019992\n",
      "46    46  {'fraction': 0.31, 'model': 'pca', 'scaler': '...      0.696626     0.002804    0.749484   0.032275       0.027874      0.001385      0.053749     0.002657     0.722747     0.01683\n",
      "47    47  {'fraction': 0.14, 'model': 'lof', 'scaler': '...      0.852961     0.003044    0.438321   0.027879       0.034562      0.001481      0.064069     0.002834     0.648052    0.012574\n",
      "48    48  {'fraction': 0.12, 'model': 'iforest', 'scaler...      0.882081     0.003037    0.592949   0.052221       0.056859      0.005995      0.103765     0.010777     0.739195    0.027284\n",
      "49    49  {'fraction': 0.44, 'model': 'cluster', 'scaler...      0.563646     0.001435    0.748647   0.036682       0.019465      0.001009      0.037944     0.001965     0.655071    0.018706\n",
      "50    50  {'fraction': 0.22, 'model': 'mcd', 'scaler': '...      0.781128      0.00134    0.576023    0.05528       0.029989      0.002691       0.05701     0.005134     0.679767     0.02701\n",
      "51    51  {'fraction': 0.16, 'model': 'histogram', 'scal...      0.841964     0.000677    0.529481   0.054479       0.038317      0.003714      0.071462     0.006955     0.687538    0.026868\n",
      "52    52  {'fraction': 0.46, 'model': 'lof', 'scaler': '...      0.506466     0.004984    0.700536    0.07512       0.016163      0.001735      0.031597      0.00339     0.602373    0.038093\n",
      "53    53  {'fraction': 0.03, 'model': 'iforest', 'scaler...      0.964852     0.001643    0.290113   0.034295       0.110355      0.015274      0.159853     0.021179     0.631404    0.017657\n",
      "54    54  {'fraction': 0.42, 'model': 'lof', 'scaler': '...      0.557618     0.003603    0.691169   0.028618       0.017785      0.000858      0.034678     0.001667     0.623617    0.015834\n",
      "55    55  {'fraction': 0.15, 'model': 'knn', 'scaler': '...      0.847224     0.001893     0.46284   0.035615       0.035024      0.002825      0.065121     0.005235     0.657267    0.018431\n",
      "56    56  {'fraction': 0.07, 'model': 'pca', 'scaler': '...      0.926787     0.001943    0.397546   0.043472       0.064573      0.007878      0.111093      0.01333     0.665242    0.022284\n",
      "57    57  {'fraction': 0.13, 'model': 'lof', 'scaler': '...      0.863228     0.003363    0.427355   0.038757       0.036292      0.002402      0.066898      0.00455     0.647826    0.017852\n",
      "58    58  {'fraction': 0.03, 'model': 'mcd', 'scaler': '...      0.962897     0.000588    0.222493   0.019089       0.083259      0.007459      0.121171     0.010713     0.596999    0.009707\n",
      "59    59  {'fraction': 0.19, 'model': 'cluster', 'scaler...      0.812873     0.003555    0.576051   0.037202       0.035094      0.002824      0.066157     0.005262     0.695838    0.020087\n",
      "60    60  {'fraction': 0.4, 'model': 'histogram', 'scale...      0.610287     0.007729    0.772331   0.030767       0.022437      0.001267      0.043606     0.002442     0.690366    0.018163\n",
      "61    61  {'fraction': 0.24, 'model': 'lof', 'scaler': '...      0.750802     0.002923    0.540675   0.030747       0.024841      0.001383        0.0475     0.002645      0.64696    0.015521\n",
      "62    62  {'fraction': 0.39, 'model': 'lof', 'scaler': '...      0.588653     0.002928     0.67848   0.022634       0.018773      0.000748      0.036536     0.001449     0.633044    0.012589\n",
      "63    63  {'fraction': 0.08, 'model': 'iforest', 'scaler...      0.918405     0.002396    0.486335   0.049456       0.068881      0.008066      0.120664      0.01388     0.704881    0.025443\n",
      "64    64  {'fraction': 0.45, 'model': 'lof', 'scaler': '...      0.524949     0.003988    0.711468   0.028744       0.017043      0.000809      0.033289     0.001575     0.617124    0.016035\n",
      "65    65  {'fraction': 0.03, 'model': 'lof', 'scaler': '...        0.9635     0.001614    0.290227    0.02702       0.105557      0.011243      0.154754     0.015774     0.630778    0.013834\n",
      "66    66  {'fraction': 0.03, 'model': 'lof', 'scaler': '...        0.9635     0.001614    0.290227    0.02702       0.105557      0.011243      0.154754     0.015774     0.630778    0.013834\n",
      "67    67  {'fraction': 0.03, 'model': 'lof', 'scaler': '...        0.9635     0.001614    0.290227    0.02702       0.105557      0.011243      0.154754     0.015774     0.630778    0.013834\n",
      "68    68  {'fraction': 0.09, 'model': 'lof', 'scaler': '...      0.903782     0.002519    0.396011   0.024523       0.048474      0.002017      0.086367     0.003731     0.652849    0.011296\n",
      "69    69  {'fraction': 0.32, 'model': 'lof', 'scaler': '...      0.665095     0.003147    0.626069   0.018997       0.021304      0.000752      0.041205     0.001447     0.645809    0.010442\n",
      "70    70  {'fraction': 0.01, 'model': 'lof', 'scaler': '...      0.982042     0.000347     0.17263   0.017794       0.189983      0.017654      0.180886     0.017768     0.582041    0.008956\n",
      "71    71  {'fraction': 0.01, 'model': 'knn', 'scaler': '...      0.980651     0.000217    0.114236   0.042281       0.122598      0.035055      0.118076      0.03881      0.55248    0.020982\n",
      "72    72  {'fraction': 0.01, 'model': 'lof', 'scaler': '...      0.982042     0.000347     0.17263   0.017794       0.189983      0.017654      0.180886     0.017768     0.582041    0.008956\n",
      "73    73  {'fraction': 0.01, 'model': 'lof', 'scaler': '...      0.982042     0.000347     0.17263   0.017794       0.189983      0.017654      0.180886     0.017768     0.582041    0.008956\n",
      "74    74  {'fraction': 0.01, 'model': 'mcd', 'scaler': '...       0.98175     0.000365    0.134506   0.021274       0.156381      0.017683      0.144447     0.019265     0.563053    0.010492\n",
      "75    75  {'fraction': 0.01, 'model': 'pca', 'scaler': '...      0.978999     0.000491    0.041485   0.027079       0.045068      0.028345      0.043195     0.027705     0.515692    0.013607\n",
      "76    76  {'fraction': 0.01, 'model': 'histogram', 'scal...      0.980019     0.001012    0.052457   0.024626       0.062515      0.027889      0.056879     0.025937      0.52163    0.012406\n",
      "77    77  {'fraction': 0.43, 'model': 'cluster', 'scaler...      0.573486     0.001026    0.738478   0.041267       0.019648      0.001134      0.038277     0.002207     0.655022     0.02075\n",
      "78    78  {'fraction': 0.26, 'model': 'lof', 'scaler': '...      0.726456     0.004604    0.577746   0.031482       0.024142      0.001719      0.046346     0.003267     0.652965    0.017725\n",
      "79    79  {'fraction': 0.01, 'model': 'lof', 'scaler': '...      0.982042     0.000347     0.17263   0.017794       0.189983      0.017654      0.180886     0.017768     0.582041    0.008956\n",
      "80    80  {'fraction': 0.1, 'model': 'knn', 'scaler': 'm...      0.895469     0.001676    0.398513   0.023841        0.04481      0.002506      0.080559      0.00452      0.64988     0.01183\n",
      "81    81  {'fraction': 0.21, 'model': 'lof', 'scaler': '...      0.771687     0.003834    0.378152   0.066396       0.019272      0.003333      0.036674     0.006346     0.577207      0.0334\n",
      "82    82  {'fraction': 0.25, 'model': 'iforest', 'scaler...      0.756305     0.002667    0.770647   0.032463        0.03545      0.001727      0.067782      0.00328     0.763392    0.016853\n",
      "83    83  {'fraction': 0.3, 'model': 'pca', 'scaler': 'm...      0.706485     0.002967    0.745246   0.034667       0.028643      0.001583      0.055165     0.003031      0.72564    0.018362\n",
      "84    84  {'fraction': 0.18, 'model': 'mcd', 'scaler': '...      0.820107     0.001981    0.478822   0.013002       0.030671      0.000688      0.057649     0.001304     0.651448    0.005911\n",
      "85    85  {'fraction': 0.38, 'model': 'lof', 'scaler': '...      0.599135     0.003011    0.669999   0.035773       0.019029      0.001122      0.037007     0.002175     0.634155    0.018896\n",
      "86    86  {'fraction': 0.33, 'model': 'histogram', 'scal...      0.680535     0.007625    0.744393   0.042989       0.026361      0.002122      0.050918     0.004057     0.712092    0.024834\n",
      "87    87  {'fraction': 0.17, 'model': 'cluster', 'scaler...      0.825717     0.001919     0.39754   0.032858       0.026561      0.001999      0.049795     0.003769     0.614117    0.015759\n",
      "88    88  {'fraction': 0.37, 'model': 'lof', 'scaler': '...      0.610938     0.002644     0.66831   0.028762       0.019553      0.000967      0.037994     0.001872      0.63929    0.015538\n",
      "89    89  {'fraction': 0.49, 'model': 'lof', 'scaler': '...      0.481808     0.004645    0.722462   0.028425       0.015871      0.000731       0.03106     0.001426     0.600736    0.015909\n",
      "90    90  {'fraction': 0.28, 'model': 'knn', 'scaler': '...       0.72037     0.003248    0.612595   0.025496       0.024952      0.001138       0.04795     0.002178     0.667109    0.013794\n",
      "91    91  {'fraction': 0.11, 'model': 'iforest', 'scaler...      0.891522     0.002896    0.573469   0.057783       0.059931      0.007025      0.108518     0.012545     0.734343    0.029956\n",
      "92    92  {'fraction': 0.48, 'model': 'lof', 'scaler': '...      0.493573     0.003536    0.726688   0.039406       0.016328      0.000973      0.031939       0.0019     0.608775     0.02099\n",
      "93    93  {'fraction': 0.06, 'model': 'pca', 'scaler': '...      0.935858     0.001566    0.349344    0.02921       0.066249      0.006433      0.111369     0.010545      0.64601    0.015037\n",
      "94    94  {'fraction': 0.35, 'model': 'mcd', 'scaler': '...      0.657696     0.002316    0.833251   0.031777       0.027358      0.000879      0.052977     0.001713     0.744452     0.01457\n",
      "95    95  {'fraction': 0.2, 'model': 'lof', 'scaler': 'm...      0.792338     0.002629    0.505986    0.03057       0.027984      0.001656      0.053034     0.003137     0.650827    0.015427\n",
      "96    96  {'fraction': 0.01, 'model': 'cluster', 'scaler...      0.980583     0.000861    0.103901   0.063291       0.112384      0.063181      0.107892      0.06325     0.547337    0.031717\n",
      "97    97  {'fraction': 0.02, 'model': 'histogram', 'scal...       0.97017     0.001332    0.060084   0.022442       0.034781       0.01188       0.04399     0.015488     0.520417    0.011033\n",
      "98    98  {'fraction': 0.27, 'model': 'lof', 'scaler': '...      0.715897     0.004665    0.592153   0.025422       0.023795      0.001369      0.045752     0.002604     0.654744    0.014411\n",
      "99    99  {'fraction': 0.23, 'model': 'lof', 'scaler': '...      0.761633     0.002666    0.527975   0.036767       0.025392      0.001811      0.048453     0.003451     0.646163    0.018944\n"
     ]
    }
   ],
   "source": [
    "# Impresión de resultados.\n",
    "hyperopt_printer(trials)\n",
    "scorings_df = scorings_to_df(scorings)"
   ]
  },
  {
   "cell_type": "markdown",
   "id": "f2efee6c-ced9-4cb1-af38-471ceca5c6e4",
   "metadata": {
    "tags": []
   },
   "source": [
    "#### 11.3.2. Evaluación sobre el conjunto de validación"
   ]
  },
  {
   "cell_type": "markdown",
   "id": "8ae0d66b-9f7d-4e37-917b-000657016101",
   "metadata": {},
   "source": [
    "Best Trial:\n",
    "Trial ID : 70\n",
    "Loss : 0.8368820396833657\n",
    "Params : {'fraction': 0.01, 'model': 'lof', 'scaler': 'maxabs'}"
   ]
  },
  {
   "cell_type": "code",
   "execution_count": 7,
   "id": "9ae8fb73-b621-4f78-856d-5c9d3f03b811",
   "metadata": {
    "tags": []
   },
   "outputs": [
    {
     "name": "stdout",
     "output_type": "stream",
     "text": [
      "CPU times: total: 1min 54s\n",
      "Wall time: 2min 1s\n"
     ]
    }
   ],
   "source": [
    "%%time\n",
    "# Importación de librerías.\n",
    "from sklearn.metrics import f1_score, recall_score, precision_score, roc_auc_score, accuracy_score\n",
    "from pycaret.anomaly import *\n",
    "\n",
    "# Espacio de búsqueda.\n",
    "search_space = {'fraction' : 0.01, 'model' : 'lof', 'scaler' : 'maxabs'}\n",
    "\n",
    "# Ingeniería de predictores.\n",
    "X_train = df_training\n",
    "y_train = df_training['isFraud']\n",
    "X_test = df_validation\n",
    "y_test = df_validation['isFraud']\n",
    "\n",
    "# Balanceo de datos.\n",
    "indexes = balancing(X_train, y_train, 0.8)\n",
    "X_balanced = X_train.loc[indexes, :]\n",
    "y_balanced = y_train.loc[indexes]\n",
    "\n",
    "# Entrenamiento del modelo.\n",
    "anom = setup(data = X_balanced,\n",
    "             ignore_features = ['isFraud', 'isFlaggedFraud'], \n",
    "             categorical_features = ['Cash_in', 'Cash_out', 'Debit', 'Payment', 'Transfer'],\n",
    "             normalize = True,\n",
    "             normalize_method = search_space['scaler'],\n",
    "             silent = True,\n",
    "             use_gpu = True,\n",
    "             verbose = False,\n",
    "             session_id = 42, \n",
    "            )"
   ]
  },
  {
   "cell_type": "markdown",
   "id": "721a6563-6bf3-46f0-8c8a-527907c27e40",
   "metadata": {},
   "source": [
    "Se utiliza el modelo \"iforest\" en virtud de problemas de rendimiento del modelo LOF."
   ]
  },
  {
   "cell_type": "code",
   "execution_count": 8,
   "id": "587686b0-a8fd-4843-8522-7516633475fe",
   "metadata": {
    "tags": []
   },
   "outputs": [
    {
     "name": "stdout",
     "output_type": "stream",
     "text": [
      "Recall: 0.1223\n",
      "Precision: 0.0183\n",
      "AUC: 0.5569\n",
      "Accuracy: 0.9904\n",
      "F1-Score: 0.0318\n",
      "CPU times: total: 2min 19s\n",
      "Wall time: 2min 18s\n"
     ]
    }
   ],
   "source": [
    "%%time\n",
    "# Desarrollo del modelo.\n",
    "model = create_model(model = 'iforest', fraction = search_space['fraction'], verbose = True)\n",
    "predictions = predict_model(model, data = X_test)\n",
    "y_pred = predictions.loc[:, 'Anomaly']\n",
    "\n",
    "# Obtención de métricas.\n",
    "print('Recall: %.4f' % recall_score(y_true = y_test, y_pred = y_pred))\n",
    "print('Precision: %.4f' % precision_score(y_true = y_test, y_pred = y_pred))\n",
    "print('AUC: %.4f' % roc_auc_score(y_true = y_test, y_score = y_pred))\n",
    "print('Accuracy: %.4f' % accuracy_score(y_true = y_test, y_pred = y_pred))\n",
    "print('F1-Score: %.4f' % f1_score(y_true = y_test, y_pred = y_pred))"
   ]
  },
  {
   "cell_type": "code",
   "execution_count": 33,
   "id": "7a95767c-b06c-4dbe-b388-48fea1531821",
   "metadata": {},
   "outputs": [
    {
     "data": {
      "image/png": "[encoded data removed]",
      "text/plain": [
       "<Figure size 720x432 with 2 Axes>"
      ]
     },
     "metadata": {},
     "output_type": "display_data"
    }
   ],
   "source": [
    "# Matriz de confusión.\n",
    "import matplotlib.pyplot as plt\n",
    "from sklearn.metrics import confusion_matrix, ConfusionMatrixDisplay, plot_confusion_matrix\n",
    "\n",
    "cm = confusion_matrix(y_true = y_test, y_pred = y_pred)\n",
    "disp = ConfusionMatrixDisplay(cm, display_labels = ['No Fraude', 'Fraude'])\n",
    "filename = 'pycaret_balanced'\n",
    "\n",
    "fig = plt.figure(figsize = (10,6))\n",
    "ax = plt.axes()\n",
    "disp.plot(ax = ax, values_format = 'd', cmap = 'Blues')\n",
    "ax.set_xlabel(xlabel = 'Predicciones', fontdict = {'fontsize' : 14, 'family' : 'sans-serif'})\n",
    "ax.set_ylabel(ylabel = 'Observaciones', fontdict = {'fontsize' : 14, 'family' : 'sans-serif'})\n",
    "plt.grid(False)\n",
    "plt.savefig('.//figures//' + filename + '_confusion_matrix.png')"
   ]
  },
  {
   "cell_type": "code",
   "execution_count": 34,
   "id": "633b3b38-1f47-45e9-9c91-3078e9f8aeaa",
   "metadata": {},
   "outputs": [
    {
     "data": {
      "image/png": "[encoded data removed]",
      "text/plain": [
       "<Figure size 720x432 with 1 Axes>"
      ]
     },
     "metadata": {},
     "output_type": "display_data"
    }
   ],
   "source": [
    "# Curva ROC.\n",
    "import matplotlib.pyplot as plt\n",
    "from sklearn.metrics import roc_curve, RocCurveDisplay\n",
    "\n",
    "# Obtención de la curva ROC\n",
    "fpr, tpr, thresholds = roc_curve(y_true = y_test, y_score = y_pred)\n",
    "disp = RocCurveDisplay(fpr = fpr, tpr = tpr)\n",
    "filename = 'pycaret_balanced'\n",
    "\n",
    "fig = plt.figure(figsize = (10,6))\n",
    "ax = plt.axes()\n",
    "disp.plot(ax = ax, c = 'darkblue')\n",
    "ax.set_xlabel(xlabel = 'Tasa de falsos positivos', fontdict = {'fontsize' : 14, 'family' : 'sans-serif'})\n",
    "ax.set_ylabel(ylabel = 'Tasa de verdaderos positivos', fontdict = {'fontsize' : 14, 'family' : 'sans-serif'})\n",
    "plt.grid(False)\n",
    "plt.savefig('.//figures//' + filename + '_roc_curve.png')"
   ]
  },
  {
   "cell_type": "code",
   "execution_count": 35,
   "id": "a55d2ef0-14f2-4009-a961-fd375025b719",
   "metadata": {},
   "outputs": [
    {
     "data": {
      "image/png": "[encoded data removed]",
      "text/plain": [
       "<Figure size 720x432 with 1 Axes>"
      ]
     },
     "metadata": {},
     "output_type": "display_data"
    }
   ],
   "source": [
    "# Curva Precision-Recall.\n",
    "import matplotlib.pyplot as plt\n",
    "from sklearn.metrics import precision_recall_curve, PrecisionRecallDisplay\n",
    "\n",
    "# Obtención de la curva Recall - Precision\n",
    "prec, recall, _ = precision_recall_curve(y_true = y_test, probas_pred = y_pred)\n",
    "disp = PrecisionRecallDisplay(precision = prec, recall = recall)\n",
    "filename = 'pycaret_balanced'\n",
    "\n",
    "fig = plt.figure(figsize = (10,6))\n",
    "ax = plt.axes()\n",
    "disp.plot(ax = ax, c = 'darkblue')\n",
    "ax.set_xlabel(xlabel = 'Recall (Sensibilidad)', fontdict = {'fontsize' : 14, 'family' : 'sans-serif'})\n",
    "ax.set_ylabel(ylabel = 'Precision', fontdict = {'fontsize' : 14, 'family' : 'sans-serif'})\n",
    "plt.grid(False)\n",
    "plt.savefig('.//figures//' + filename + '_precision_recall.png')"
   ]
  },
  {
   "cell_type": "code",
   "execution_count": 41,
   "id": "cf13579a-7301-4136-a722-62f77e0ffc4f",
   "metadata": {},
   "outputs": [],
   "source": [
    "# Exportación a csv.\n",
    "y_test.to_csv('pycaret_ytest_balanced.csv')\n",
    "y_pred.to_csv('pycaret_ypred_balanced.csv')"
   ]
  }
 ],
 "metadata": {
  "kernelspec": {
   "display_name": "Python 3 (ipykernel)",
   "language": "python",
   "name": "python3"
  },
  "language_info": {
   "codemirror_mode": {
    "name": "ipython",
    "version": 3
   },
   "file_extension": ".py",
   "mimetype": "text/x-python",
   "name": "python",
   "nbconvert_exporter": "python",
   "pygments_lexer": "ipython3",
   "version": "3.9.7"
  },
  "toc-autonumbering": false
 },
 "nbformat": 4,
 "nbformat_minor": 5
}
